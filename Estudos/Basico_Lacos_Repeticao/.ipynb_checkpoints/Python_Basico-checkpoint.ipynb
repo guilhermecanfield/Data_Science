{
 "cells": [
  {
   "cell_type": "markdown",
   "id": "3eee5142",
   "metadata": {},
   "source": [
    "# Exercícios\n",
    "\n",
    "## 1. Criando um Registro de Hóspedes\n",
    "\n",
    "Digamos que você está criando o sistema para registrar a chegada de hóspedes em um hotel. No hotel, os hóspedes podem ter quartos com 1, 2, 3 e 4 pessoas. Seu sistema deve conseguir:\n",
    "\n",
    "1. Identificar quantas pessoas o hóspede que acabou de chegar vai ter no quarto (perguntando por meio de input)\n",
    "2. De acordo com a quantidade de pessoas do hóspede, ele deve fazer um for para perguntar o cpf e o nome de cada pessoa, a fim de registrá-la no quarto (2 inputs para cada pessoa, 1 para o cpf e outro para o nome)\n",
    "3. O seu programa então deve gerar uma lista com todas as pessoas que ficarão no quarto em que cada item dessa lista é o nome da pessoa e o cpf da pessoa, assim:"
   ]
  },
  {
   "cell_type": "markdown",
   "id": "d1cdbf69",
   "metadata": {},
   "source": [
    "Exemplo de como deve ficar o output do sistema:\n",
    "    \n",
    "quarto = [\n",
    "    ['João', 'cpf:00000000000'],\n",
    "    ['Julia', 'cpf:11111111111'],\n",
    "    ['Marcus', 'cpf:22222222222'],\n",
    "    ['Maria', 'cpf:33333333333'],\n",
    "]"
   ]
  },
  {
   "cell_type": "code",
   "execution_count": 8,
   "id": "bf51fed6",
   "metadata": {},
   "outputs": [
    {
     "name": "stdout",
     "output_type": "stream",
     "text": [
      "Quantas pessoas terão no quarto? 4\n",
      "Digite o nome do hóspede: João\n",
      "Digite o CPF do hóspede: 00000000000\n",
      "Digite o nome do hóspede: Julia\n",
      "Digite o CPF do hóspede: 11111111111\n",
      "Digite o nome do hóspede: Marcus\n",
      "Digite o CPF do hóspede: 22222222222\n",
      "Digite o nome do hóspede: Maria\n",
      "Digite o CPF do hóspede: 33333333333\n",
      "[['João', 'CPF: 00000000000'], ['Julia', 'CPF: 11111111111'], ['Marcus', 'CPF: 22222222222'], ['Maria', 'CPF: 33333333333']]\n"
     ]
    }
   ],
   "source": [
    "quarto = []\n",
    "qtd = int(input('Quantas pessoas terão no quarto? '))\n",
    "for i in range(qtd):\n",
    "  nome = input('Digite o nome do hóspede: ')\n",
    "  cpf = input('Digite o CPF do hóspede: ')\n",
    "  hospede = [nome, 'CPF: {}'.format(cpf)]\n",
    "  quarto.append(hospede)\n",
    "print(quarto)"
   ]
  },
  {
   "cell_type": "markdown",
   "id": "f2cd9fcc",
   "metadata": {},
   "source": [
    "## 2. Análise de Vendas\n",
    "\n",
    "Nesse exercício vamos fazer uma \"análise simples\" de atingimento de Meta.\n",
    "\n",
    "Temos uma lista com os vendedores e os valores de vendas e queremos identificar (printar) quais os vendedores que bateram a meta e qual foi o valor que eles venderam."
   ]
  },
  {
   "cell_type": "code",
   "execution_count": 9,
   "id": "14b8ee7a",
   "metadata": {},
   "outputs": [
    {
     "name": "stdout",
     "output_type": "stream",
     "text": [
      "O vendedor João vendeu 15000 e BATEU A META!\n",
      "O vendedor Julia vendeu 27000 e BATEU A META!\n",
      "O vendedor Ana vendeu 10300 e BATEU A META!\n"
     ]
    }
   ],
   "source": [
    "meta = 10000\n",
    "vendas = [\n",
    "    ['João', 15000],\n",
    "    ['Julia', 27000],\n",
    "    ['Marcus', 9900],\n",
    "    ['Maria', 3750],\n",
    "    ['Ana', 10300],\n",
    "    ['Alon', 7870],\n",
    "]\n",
    "#seu código aqui\n",
    "for i,v in enumerate(vendas):\n",
    "    if v[1] >= meta:\n",
    "        print(f'O vendedor {v[0]} vendeu {v[1]} e BATEU A META!')"
   ]
  },
  {
   "cell_type": "markdown",
   "id": "01114399",
   "metadata": {},
   "source": [
    "## 3. Comparação com Ano Anterior\n",
    "\n",
    "Digamos que você está analisando as vendas de produtos de um ecommerce e quer identificar quais produtos tiveram no ano de 2020 mais vendas do que no ano de 2019, para reportar isso para a diretoria.\n",
    "\n",
    "Sua resposta pode ser um print de cada produto, qual foi a venda de 2019, a venda de 2020 e o % de crescimento de 2020 para 2019.\n",
    "\n",
    "Lembrando, para calcular o % de crescimento de um produto de um ano para o outro, podemos fazer: (vendas_produto2020/vendas_produto2019 - 1)\n",
    "\n",
    "Dica: lembre do enumerate, ele pode facilitar seu \"for\""
   ]
  },
  {
   "cell_type": "code",
   "execution_count": 10,
   "id": "99d3047a",
   "metadata": {},
   "outputs": [
    {
     "name": "stdout",
     "output_type": "stream",
     "text": [
      "O produto iphone, vendeu R$ 558,147.00 em 2019, vendeu R$ 951,642.00 em 2020 e cresceu 70.50%\n",
      "O produto tv, vendeu R$ 405,252.00 em 2019, vendeu R$ 787,604.00 em 2020 e cresceu 94.35%\n",
      "O produto máquina de café, vendeu R$ 718,654.00 em 2019, vendeu R$ 867,660.00 em 2020 e cresceu 20.73%\n",
      "O produto notebook dell, vendeu R$ 422,760.00 em 2019, vendeu R$ 694,913.00 em 2020 e cresceu 64.38%\n",
      "O produto notebook hp, vendeu R$ 154,753.00 em 2019, vendeu R$ 539,704.00 em 2020 e cresceu 248.75%\n",
      "O produto microsoft surface, vendeu R$ 438,508.00 em 2019, vendeu R$ 667,179.00 em 2020 e cresceu 52.15%\n",
      "O produto webcam, vendeu R$ 237,467.00 em 2019, vendeu R$ 295,633.00 em 2020 e cresceu 24.49%\n",
      "O produto caixa de som, vendeu R$ 489,705.00 em 2019, vendeu R$ 725,316.00 em 2020 e cresceu 48.11%\n",
      "O produto microfone, vendeu R$ 328,311.00 em 2019, vendeu R$ 644,622.00 em 2020 e cresceu 96.34%\n",
      "O produto câmera canon, vendeu R$ 591,120.00 em 2019, vendeu R$ 994,303.00 em 2020 e cresceu 68.21%\n"
     ]
    }
   ],
   "source": [
    "produtos = ['iphone', 'galaxy', 'ipad', 'tv', 'máquina de café', 'kindle', 'geladeira', 'adega', 'notebook dell', 'notebook hp', 'notebook asus', 'microsoft surface', 'webcam', 'caixa de som', 'microfone', 'câmera canon']\n",
    "vendas2019 = [558147,712350,573823,405252,718654,531580,973139,892292,422760,154753,887061,438508,237467,489705,328311,591120]\n",
    "vendas2020 = [951642,244295,26964,787604,867660,78830,710331,646016,694913,539704,324831,667179,295633,725316,644622,994303]\n",
    "#seu código aqui\n",
    "for i, p in enumerate(produtos):\n",
    "  if vendas2020[i] > vendas2019[i]:\n",
    "    print('O produto {}, vendeu R$ {:,.2f} em 2019, vendeu R$ {:,.2f} em 2020 e cresceu {:.2%}'.format(produtos[i], vendas2019[i], vendas2020[i], vendas2020[i] / vendas2019[i] - 1))"
   ]
  },
  {
   "cell_type": "markdown",
   "id": "bf579392",
   "metadata": {},
   "source": [
    "# 4 Criando um looping infinito:\n",
    "\n",
    "Peça para o usuário digitar um número. Valide o que ele digitou, caso não seja um número, peça pra ele digitar de novo."
   ]
  },
  {
   "cell_type": "code",
   "execution_count": 12,
   "id": "2a7cb3a1",
   "metadata": {},
   "outputs": [
    {
     "name": "stdout",
     "output_type": "stream",
     "text": [
      "Digite um número: a\n",
      "Você não digitou um número.\n",
      "Digite um número: b\n",
      "Você não digitou um número.\n",
      "Digite um número: 2a\n",
      "Você não digitou um número.\n",
      "Digite um número: 20\n",
      "Você digitou um número válido.\n",
      "FIM\n"
     ]
    }
   ],
   "source": [
    "while True:\n",
    "  num = input('Digite um número: ')\n",
    "  if num.isnumeric() == True:\n",
    "    print('Você digitou um número válido.')\n",
    "    break\n",
    "  print('Você não digitou um número.')\n",
    "print('FIM')"
   ]
  },
  {
   "cell_type": "markdown",
   "id": "454797b5",
   "metadata": {},
   "source": [
    "# Exercício 5\n",
    "\n",
    "Faça um programa que calcula a média de valores digitados pelo usuário até o usuário pedir para parar de inserir números"
   ]
  },
  {
   "cell_type": "code",
   "execution_count": 13,
   "id": "5bdac024",
   "metadata": {},
   "outputs": [
    {
     "name": "stdout",
     "output_type": "stream",
     "text": [
      "Digite um número: 5\n",
      "Você quer continuar? (s/n)s\n",
      "Digite um número: 5\n",
      "Você quer continuar? (s/n)s\n",
      "Digite um número: 5\n",
      "Você quer continuar? (s/n)n\n",
      "Você digitou 3 números, e a média é de 5.0\n"
     ]
    }
   ],
   "source": [
    "soma = 0\n",
    "i = 0\n",
    "while True:\n",
    "  i += 1\n",
    "  num = float(input('Digite um número: '))\n",
    "  soma += num\n",
    "  continua = input('Você quer continuar? (s/n)')\n",
    "  if continua == 'n':\n",
    "    break\n",
    "media = soma / i\n",
    "print(f'Você digitou {i} números, e a média é de {media}')"
   ]
  },
  {
   "cell_type": "markdown",
   "id": "d5917afa",
   "metadata": {},
   "source": [
    "# Exercício 6\n",
    "\n",
    "Some os números ímpares consecutivos começando em 1 e terminando 9"
   ]
  },
  {
   "cell_type": "code",
   "execution_count": 14,
   "id": "d79d4e8e",
   "metadata": {},
   "outputs": [
    {
     "name": "stdout",
     "output_type": "stream",
     "text": [
      "i = 1, soma = 1\n",
      "i = 3, soma = 4\n",
      "i = 5, soma = 9\n",
      "i = 7, soma = 16\n",
      "i = 9, soma = 25\n",
      "i = 11, soma = 36\n",
      "i = 13, soma = 49\n",
      "i = 15, soma = 64\n",
      "i = 17, soma = 81\n",
      "i = 19, soma = 100\n",
      "i = 21, soma = 121\n",
      "i = 23, soma = 144\n",
      "144\n"
     ]
    }
   ],
   "source": [
    "passo = range(1 , 23 + 1 , 2)\n",
    "soma = 0\n",
    "for i in passo:\n",
    "  soma += i\n",
    "  print(f'i = {i}, soma = {soma}')\n",
    "print(soma)"
   ]
  },
  {
   "cell_type": "markdown",
   "id": "e8726581",
   "metadata": {},
   "source": [
    "# Exercício 7\n",
    "\n",
    "Faça um programa que calcula a tabuada do número digitado pelo usuário."
   ]
  },
  {
   "cell_type": "code",
   "execution_count": 15,
   "id": "2db0286c",
   "metadata": {},
   "outputs": [
    {
     "name": "stdout",
     "output_type": "stream",
     "text": [
      "Digite o número que deseja saber a tabuada: 8\n",
      "8 x 1 = 8\n",
      "8 x 2 = 16\n",
      "8 x 3 = 24\n",
      "8 x 4 = 32\n",
      "8 x 5 = 40\n",
      "8 x 6 = 48\n",
      "8 x 7 = 56\n",
      "8 x 8 = 64\n",
      "8 x 9 = 72\n",
      "8 x 10 = 80\n"
     ]
    }
   ],
   "source": [
    "intervalo = range(1, 10 +1)\n",
    "tabuada = int(input('Digite o número que deseja saber a tabuada: '))\n",
    "\n",
    "for i in intervalo:\n",
    "  print(f'{tabuada} x {i} = {tabuada * i}')"
   ]
  },
  {
   "cell_type": "markdown",
   "id": "f2d15f55",
   "metadata": {},
   "source": [
    "# Exercício 8\n",
    "\n",
    "Faça um programa que o usuário irá digitar 10 números e você irá mostrar:\n",
    "\n",
    "* Qual foi o menor valor\n",
    "* Qual foi o maior valor\n",
    "* Qual a média dos valores"
   ]
  },
  {
   "cell_type": "code",
   "execution_count": 16,
   "id": "77cccd1e",
   "metadata": {},
   "outputs": [
    {
     "name": "stdout",
     "output_type": "stream",
     "text": [
      "Digite um número: 1\n",
      "Digite um número: 2\n",
      "Digite um número: 3\n",
      "Digite um número: 4\n",
      "Digite um número: 5\n",
      "Digite um número: 6\n",
      "Digite um número: 7\n",
      "Digite um número: 8\n",
      "Digite um número: 9\n",
      "Digite um número: 10\n",
      "5.5 10.0 1.0\n"
     ]
    }
   ],
   "source": [
    "i = 0\n",
    "soma = 0\n",
    "while i < 10:\n",
    "  i += 1\n",
    "  num = float(input('Digite um número: '))\n",
    "  soma += num\n",
    "  if i == 1:\n",
    "    max = num\n",
    "    min = num\n",
    "  elif num >= max:\n",
    "    max = num\n",
    "  elif num < min:\n",
    "    min = num\n",
    "media = soma / i\n",
    "print(media, max, min)"
   ]
  },
  {
   "cell_type": "markdown",
   "id": "fdc83b37",
   "metadata": {},
   "source": [
    "# Exercício 9\n",
    "\n",
    "Dada a tupla abaixo:\n",
    "```\n",
    "t1 = ('Doce', 'Churrasco', 'Bala ', 'Tapioca', 'Pizza ', 'Feijão ', \n",
    "      'Arroz ', 'Açaí ', 'Paçoca ', 'Acarajé', 'Pamonha', 'Dobradinha', 'Rapadura')\n",
    "```\n",
    "Faça um programa que:\n",
    "\n",
    "* O usuário digita uma comida e seu programa diz em qual posição do cardápio esse item está\n",
    "* Printe os itens em ordem alfabética para o usuário"
   ]
  },
  {
   "cell_type": "code",
   "execution_count": 21,
   "id": "b306c45d",
   "metadata": {},
   "outputs": [
    {
     "name": "stdout",
     "output_type": "stream",
     "text": [
      "Digite o ítem do cardápio desejado: bala\n",
      "A comida Bala, está na posição 2\n",
      "['Acarajé', 'Arroz', 'Açaí', 'Bala', 'Churrasco', 'Dobradinha', 'Doce', 'Feijão', 'Pamonha', 'Paçoca', 'Pizza', 'Rapadura', 'Tapioca']\n"
     ]
    }
   ],
   "source": [
    "t1 = ('Doce', 'Churrasco', 'Bala', 'Tapioca', 'Pizza', 'Feijão', \n",
    "      'Arroz', 'Açaí', 'Paçoca' , 'Acarajé', 'Pamonha', 'Dobradinha', 'Rapadura')\n",
    "\n",
    "comida = input(str('Digite o ítem do cardápio desejado: '))\n",
    "pos = t1.index(comida.title())\n",
    "print(f'A comida {comida.title()}, está na posição {pos}')\n",
    "\n",
    "\n",
    "print(sorted(t1))"
   ]
  },
  {
   "cell_type": "markdown",
   "id": "892c7d6b",
   "metadata": {},
   "source": [
    "# Exercício 10\n",
    "\n",
    "Dado a tupla abaixo:\n",
    "```\n",
    "t1 = ('Doce', 2.3, 'Bala ', 0.15, 'Pizza ', 28.9, 'Arroz ', 4.5, 'Paçoca ', 0.5, 'Pamonha', 5.4)\n",
    "```\n",
    "Os dados estão organizados de forma que tem o valor do produto e logo após o seu preço. Faça um programa que:\n",
    "\n",
    "* Mostre o cardápio de forma organizada"
   ]
  },
  {
   "cell_type": "code",
   "execution_count": 22,
   "id": "719147a3",
   "metadata": {},
   "outputs": [
    {
     "name": "stdout",
     "output_type": "stream",
     "text": [
      "----------------------------\n",
      "----------Cardápio----------\n",
      "----------------------------\n",
      "Doce................R$ 2.30\n",
      "Bala................R$ 0.15\n",
      "Pizza...............R$ 28.90\n",
      "Arroz...............R$ 4.50\n",
      "Paçoca..............R$ 0.50\n",
      "Pamonha.............R$ 5.40\n",
      "----------------------------\n"
     ]
    }
   ],
   "source": [
    "listagem = ('Doce', 2.3, 'Bala', 0.15, 'Pizza', 28.9, 'Arroz', 4.5, 'Paçoca', 0.5, 'Pamonha', 5.4)\n",
    "print('-'*28)\n",
    "print(f'{\"Cardápio\":-^28}')\n",
    "print('-'*28)\n",
    "for pos in range(0, len(listagem)):\n",
    "  if pos % 2 == 0:\n",
    "    print(f'{listagem[pos]:.<20}', end = '')\n",
    "  else:\n",
    "    print(f'R$ {listagem[pos]:>3.2f}')\n",
    "print('-'*28)"
   ]
  },
  {
   "cell_type": "markdown",
   "id": "16e1bfd2",
   "metadata": {},
   "source": [
    "# Exercício 11\n",
    "\n",
    "Dado a mesma tupla do exercício anterior faça um programa que:\n",
    "\n",
    "* O usuário visualiza o cardápio e digita qual item ele quer comprar. A seguir pergunta se ele quer algo a mais. Caso ele queira vai somando todos os valores do pedido numa variável `soma`. \n",
    "* No final printe para o usuário o valor total da conta dele"
   ]
  },
  {
   "cell_type": "code",
   "execution_count": 33,
   "id": "944fdba4",
   "metadata": {},
   "outputs": [
    {
     "name": "stdout",
     "output_type": "stream",
     "text": [
      "----------------------------\n",
      "----------Cardápio----------\n",
      "----------------------------\n",
      "Doce................R$ 2.30\n",
      "Bala................R$ 0.15\n",
      "Pizza...............R$ 28.90\n",
      "Arroz...............R$ 4.50\n",
      "Paçoca..............R$ 0.50\n",
      "Pamonha.............R$ 5.40\n",
      "----------------------------\n",
      "Faça seu pedido: doce\n",
      "Deseja mais algum ítem? [S / N]s\n",
      "Faça seu pedido: bala\n",
      "Deseja mais algum ítem? [S / N]n\n",
      "Valor do pedido: R$ 2.45\n"
     ]
    }
   ],
   "source": [
    "listagem = ('Doce', 2.3, 'Bala', 0.15, 'Pizza', 28.9, 'Arroz', 4.5, 'Paçoca', 0.5, 'Pamonha', 5.4)\n",
    "print('-'*28)\n",
    "print(f'{\"Cardápio\":-^28}')\n",
    "print('-'*28)\n",
    "for pos in range(0, len(listagem)):\n",
    "  if pos % 2 == 0:\n",
    "    print(f'{listagem[pos]:.<20}', end = '')\n",
    "  else:\n",
    "    print(f'R$ {listagem[pos]:>3.2f}')\n",
    "print('-'*28)\n",
    "\n",
    "\n",
    "valor = 0\n",
    "for pos in range(0, len(listagem)):\n",
    "  pedido = input(str('Faça seu pedido: '))\n",
    "  pos = listagem.index(pedido.title())\n",
    "  valor += listagem[pos + 1]\n",
    "  acre = input(str('Deseja mais algum ítem? [S / N]'))\n",
    "  if acre.upper() == 'N':\n",
    "    print(f'Valor do pedido: R$ {valor:.2f}')\n",
    "    break"
   ]
  },
  {
   "cell_type": "markdown",
   "id": "17369370",
   "metadata": {},
   "source": [
    "# Exercício 12\n",
    "\n",
    "Faça um programa no qual o usuário vai digitar 2 números e também o tipo de operação que ele gostaria que fosse feita:\n",
    "\n",
    "* Soma\n",
    "* Subtração\n",
    "* Divisão\n",
    "* Multiplicação\n",
    "* Potência\n",
    "\n",
    "Imprima o resultado para o usuário da operação:\n",
    "\n",
    "Num1  `Operação`  Num2\n",
    "\n",
    "Caso o usuário não digite uma operação válida, dê uma mensagem de erro!"
   ]
  },
  {
   "cell_type": "code",
   "execution_count": 35,
   "id": "b583b292",
   "metadata": {},
   "outputs": [
    {
     "name": "stdout",
     "output_type": "stream",
     "text": [
      "Digite o primeiro número que deseja utilizar no calculo: 50\n",
      "Digite o operador que deseja utilizar, +, -, /, *: /\n",
      "Digite o segundo número que deseja utilizar no calculo: 5\n",
      "50.0 : 5.0 = 10.0\n"
     ]
    }
   ],
   "source": [
    "numm1 = float(input('Digite o primeiro número que deseja utilizar no calculo: '))\n",
    "operador = input('Digite o operador que deseja utilizar, +, -, /, *: ')\n",
    "numm2 = float(input('Digite o segundo número que deseja utilizar no calculo: '))\n",
    "if operador == '+':\n",
    " print(f'{numm1} + {numm2} = {numm1 + numm2}')\n",
    "elif operador == '-':\n",
    "  print(f'{numm1} - {numm2} = {numm1 - numm2}')\n",
    "elif operador == '*':\n",
    "  print(f'{numm1} x {numm2} = {numm1 * numm2}')\n",
    "else:\n",
    "  print(f'{numm1} : {numm2} = {numm1 / numm2}')"
   ]
  },
  {
   "cell_type": "markdown",
   "id": "cd1c039f",
   "metadata": {},
   "source": [
    "# Exercício 12\n",
    "\n",
    "Considerando os seguintes produtos e preços:\n",
    "\n",
    "* Lanche - 10.90\n",
    "* Refri - 5,40\n",
    "* Batata - 8,30\n",
    "* Bombom - 3,40\n",
    "\n",
    "Peça para o usuário informar a quantidade de cada produto que ele irá comprar para depois mostrar o valor total da conta dele."
   ]
  },
  {
   "cell_type": "code",
   "execution_count": 37,
   "id": "a5bb5bd7",
   "metadata": {},
   "outputs": [
    {
     "name": "stdout",
     "output_type": "stream",
     "text": [
      "Quantos Lanche deseja comprar? 1\n",
      "Quantos Refri deseja comprar? 1\n",
      "Quantos Batata deseja comprar? 1\n",
      "Quantos Bombom deseja comprar? 0\n",
      "24.6\n"
     ]
    }
   ],
   "source": [
    "preco = [10.9, 5.40, 8.30, 3.40]\n",
    "produtos = ['Lanche', 'Refri', 'Batata', 'Bombom']\n",
    "qtd = []\n",
    "valorTotal = 0\n",
    "v3 = 0\n",
    "\n",
    "for i in produtos:\n",
    "  qtd.append(int(input(f'Quantos {i} deseja comprar? ')))\n",
    "\n",
    "for v1, v2 in zip(preco, qtd):\n",
    "  v3 = v1 * v2\n",
    "  valorTotal += v3\n",
    "print(valorTotal)"
   ]
  },
  {
   "cell_type": "markdown",
   "id": "c8966ab3",
   "metadata": {},
   "source": [
    "# Exercício 13\n",
    "\n",
    "Faça um programa que pede para o usuário inserir um produto e salvar este produto numa lista.\n",
    "\n",
    "Caso o produto já esteja na lista informe uma mensagem de erro e não cadastre o produto duplicado."
   ]
  },
  {
   "cell_type": "code",
   "execution_count": 38,
   "id": "055eb54e",
   "metadata": {},
   "outputs": [
    {
     "name": "stdout",
     "output_type": "stream",
     "text": [
      "Adicione um produto: Arroz\n",
      "Deseja adicionar mais um ítem? [s / n]s\n",
      "Adicione um produto: Refrigerante\n",
      "Deseja adicionar mais um ítem? [s / n]n\n",
      "FIM\n",
      "['Arroz', 'Refrigerante']\n"
     ]
    }
   ],
   "source": [
    "lista = []\n",
    "while True:\n",
    "  cadastro = (input(str('Adicione um produto: ')))\n",
    "  if cadastro in lista:\n",
    "    print('Produto já foi adicionado. Tente novamente.')\n",
    "  else:\n",
    "    lista.append(cadastro)\n",
    "  continua = input(str('Deseja adicionar mais um ítem? [s / n]'))\n",
    "  if continua == 'n': \n",
    "    break\n",
    "print('FIM')\n",
    "\n",
    "print(lista)"
   ]
  },
  {
   "cell_type": "markdown",
   "id": "bb44de19",
   "metadata": {},
   "source": [
    "# Exercício 14\n",
    "\n",
    "Usando o método do `append()` e `loops` crie uma lista composta na qual o usuário irá fornecer os termos\n",
    "\n",
    "* A lista externa deve ter 3 itens\n",
    "* A lista interna deve ter 2 itens cada."
   ]
  },
  {
   "cell_type": "code",
   "execution_count": 66,
   "id": "23d8bc71",
   "metadata": {},
   "outputs": [
    {
     "name": "stdout",
     "output_type": "stream",
     "text": [
      "Fale o nome do lanche: Suco\n",
      "Fale o valor do Lanche: 4.90\n",
      "Fale o nome do lanche: Batata\n",
      "Fale o valor do Lanche: 6.50\n",
      "Fale o nome do lanche: Hamburguer\n",
      "Fale o valor do Lanche: 12.99\n",
      "[['Suco', 4.9], ['Batata', 6.5], ['Hamburguer', 12.99]]\n"
     ]
    }
   ],
   "source": [
    "# Declarando as listas vazias\n",
    "cardapio = []\n",
    "comida = []\n",
    "\n",
    "# Pedindo para o usuário fornecer os valores\n",
    "for c in range(0, 3):\n",
    "  comida.append(str(input('Fale o nome do lanche: ')))\n",
    "  comida.append(float(input('Fale o valor do Lanche: ')))\n",
    "  cardapio.append(comida[:])\n",
    "  comida.clear()\n",
    "\n",
    "print(cardapio)"
   ]
  },
  {
   "cell_type": "markdown",
   "id": "3d16dbb2",
   "metadata": {},
   "source": [
    "# Exercício 15\n",
    "\n",
    "Faça um programa que irá mostrar item a item do cardápio para o usuário e irá perguntar quantos daquele item a pessoa quer comprar.\n",
    "\n",
    "No final mostre a quantidade de cada item comprado e também o valor total da compra."
   ]
  },
  {
   "cell_type": "code",
   "execution_count": 67,
   "id": "fe76750a",
   "metadata": {},
   "outputs": [
    {
     "name": "stdout",
     "output_type": "stream",
     "text": [
      "Digite quantos Suco você deseja: 1\n",
      "Você pediu 1 Suco no valor de R$ 4.90 cada, totalizando R$ 4.90\n",
      "----------------------------------------\n",
      "Digite quantos Batata você deseja: 2\n",
      "Você pediu 2 Batata no valor de R$ 6.50 cada, totalizando R$ 13.00\n",
      "----------------------------------------\n",
      "Digite quantos Hamburguer você deseja: 2\n",
      "Você pediu 2 Hamburguer no valor de R$ 12.99 cada, totalizando R$ 25.98\n",
      "----------------------------------------\n",
      "O valor total do pedido foi de R$ 43.88\n"
     ]
    }
   ],
   "source": [
    "valorPedido = 0\n",
    "\n",
    "for i, v in enumerate(cardapio):\n",
    "  a = int(input(f'Digite quantos {v[0]} você deseja: '))\n",
    "  print(f'Você pediu {a} {v[0]} no valor de R$ {v[1]:.2f} cada, totalizando R$ {a * v[1]:.2f}')\n",
    "  valorPedido += (a * v[1])\n",
    "  print('-'*40)\n",
    "\n",
    "print(f'O valor total do pedido foi de R$ {valorPedido:.2f}')"
   ]
  },
  {
   "cell_type": "markdown",
   "id": "ee4a2033",
   "metadata": {},
   "source": [
    "# Exercício 16\n",
    "\n",
    "Faça um programa que o usuário cadastre algumas informações sobre clientes:\n",
    "\n",
    "* nome\n",
    "* email\n",
    "* telefone\n",
    "* idade\n",
    "\n",
    "A seguir faça um sistema de pesquisa no qual o usuário digita o email e o sistema mostra todas as informações deste usuário.\n"
   ]
  },
  {
   "cell_type": "code",
   "execution_count": 88,
   "id": "ad91c51d",
   "metadata": {},
   "outputs": [
    {
     "name": "stdout",
     "output_type": "stream",
     "text": [
      "Deseja fazer um novo cadastro? [s / n]s\n",
      "Digite o nome do cliente: guilherme\n",
      "Digite o email do cliente: guilherme.canfield87@gmail.com\n",
      "Digite o telefone do cliente: 41984805004\n",
      "Digite a idade do cliente: 35\n",
      "Deseja realizar outro cadastro? [s / n]n\n"
     ]
    }
   ],
   "source": [
    "cadastro = []\n",
    "\n",
    "comeco = str(input('Deseja fazer um novo cadastro? [s / n]'))\n",
    "if comeco == 's':\n",
    "  for c in range(0, 5):\n",
    "    cadastro.append(str(input('Digite o nome do cliente: ')))\n",
    "    cadastro.append(str(input('Digite o email do cliente: ')))\n",
    "    cadastro.append(int(input('Digite o telefone do cliente: ')))\n",
    "    cadastro.append(int(input('Digite a idade do cliente: ')))\n",
    "    continua = str(input('Deseja realizar outro cadastro? [s / n]'))\n",
    "    if continua == 'n':\n",
    "      break\n"
   ]
  },
  {
   "cell_type": "code",
   "execution_count": 90,
   "id": "d5861a62",
   "metadata": {},
   "outputs": [
    {
     "name": "stdout",
     "output_type": "stream",
     "text": [
      "Deseja localizar um cadastro? [s / n]s\n",
      "Digite o email cadastrado: guilherme.canfield87@gmail.com\n",
      "Nome: guilherme, email: guilherme.canfield87@gmail.com, telefone: 41984805004, idade: 35\n"
     ]
    }
   ],
   "source": [
    "pesquisa = str(input('Deseja localizar um cadastro? [s / n]'))\n",
    "if pesquisa == 's':\n",
    "  email = str(input('Digite o email cadastrado: '))\n",
    "  for i in range(len(cadastro)):\n",
    "    if email == cadastro[i]:\n",
    "      print(f'Nome: {cadastro[1 - i]}, email: {cadastro[i]}, telefone: {cadastro[1 + i]}, idade: {cadastro[2 + i]}')"
   ]
  }
 ],
 "metadata": {
  "kernelspec": {
   "display_name": "Python 3",
   "language": "python",
   "name": "python3"
  },
  "language_info": {
   "codemirror_mode": {
    "name": "ipython",
    "version": 3
   },
   "file_extension": ".py",
   "mimetype": "text/x-python",
   "name": "python",
   "nbconvert_exporter": "python",
   "pygments_lexer": "ipython3",
   "version": "3.8.8"
  }
 },
 "nbformat": 4,
 "nbformat_minor": 5
}
