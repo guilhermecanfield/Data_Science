{
 "cells": [
  {
   "cell_type": "code",
   "execution_count": 2,
   "id": "7c2be681",
   "metadata": {},
   "outputs": [],
   "source": [
    "import pandas as pd"
   ]
  },
  {
   "cell_type": "markdown",
   "id": "a0df424d",
   "metadata": {},
   "source": [
    "# Create a Series Object from a List"
   ]
  },
  {
   "cell_type": "code",
   "execution_count": 3,
   "id": "97545f97",
   "metadata": {},
   "outputs": [
    {
     "data": {
      "text/plain": [
       "0     Chocolate\n",
       "1        Vanila\n",
       "2    Strawberry\n",
       "3    Rum Raisin\n",
       "dtype: object"
      ]
     },
     "execution_count": 3,
     "metadata": {},
     "output_type": "execute_result"
    }
   ],
   "source": [
    "ice_cream = ['Chocolate', 'Vanila', 'Strawberry', 'Rum Raisin']\n",
    "\n",
    "pd.Series(ice_cream)"
   ]
  },
  {
   "cell_type": "code",
   "execution_count": 4,
   "id": "937c65ba",
   "metadata": {},
   "outputs": [
    {
     "data": {
      "text/plain": [
       "0     4\n",
       "1     8\n",
       "2    15\n",
       "3    16\n",
       "4    23\n",
       "5    42\n",
       "dtype: int64"
      ]
     },
     "execution_count": 4,
     "metadata": {},
     "output_type": "execute_result"
    }
   ],
   "source": [
    "lottery = [4, 8, 15, 16, 23, 42]\n",
    "\n",
    "pd.Series(lottery)"
   ]
  },
  {
   "cell_type": "code",
   "execution_count": 5,
   "id": "4d528c10",
   "metadata": {},
   "outputs": [
    {
     "data": {
      "text/plain": [
       "0     True\n",
       "1    False\n",
       "2    False\n",
       "3    False\n",
       "4     True\n",
       "dtype: bool"
      ]
     },
     "execution_count": 5,
     "metadata": {},
     "output_type": "execute_result"
    }
   ],
   "source": [
    "registration = [True, False, False, False, True]\n",
    "\n",
    "pd.Series(registration)"
   ]
  },
  {
   "cell_type": "markdown",
   "id": "b32e9c86",
   "metadata": {},
   "source": [
    "# Create a Series Object from a Dictionary"
   ]
  },
  {
   "cell_type": "code",
   "execution_count": 6,
   "id": "bb1ca063",
   "metadata": {},
   "outputs": [
    {
     "data": {
      "text/plain": [
       "Salmon    Orange\n",
       "Tuna         Red\n",
       "Eel        Brown\n",
       "dtype: object"
      ]
     },
     "execution_count": 6,
     "metadata": {},
     "output_type": "execute_result"
    }
   ],
   "source": [
    "sushi = {\n",
    "    'Salmon': 'Orange',\n",
    "    'Tuna': 'Red',\n",
    "    'Eel': 'Brown'\n",
    "}\n",
    "\n",
    "pd.Series(sushi)"
   ]
  },
  {
   "cell_type": "markdown",
   "id": "94062450",
   "metadata": {},
   "source": [
    "# Intro to Methods - Comands"
   ]
  },
  {
   "cell_type": "code",
   "execution_count": 7,
   "id": "654448a4",
   "metadata": {},
   "outputs": [
    {
     "data": {
      "text/plain": [
       "0    2.99\n",
       "1    4.45\n",
       "2    1.36\n",
       "dtype: float64"
      ]
     },
     "execution_count": 7,
     "metadata": {},
     "output_type": "execute_result"
    }
   ],
   "source": [
    "prices = pd.Series([2.99, 4.45, 1.36])\n",
    "prices"
   ]
  },
  {
   "cell_type": "code",
   "execution_count": 8,
   "id": "63b7d4bc",
   "metadata": {},
   "outputs": [
    {
     "data": {
      "text/plain": [
       "8.8"
      ]
     },
     "execution_count": 8,
     "metadata": {},
     "output_type": "execute_result"
    }
   ],
   "source": [
    "prices.sum()"
   ]
  },
  {
   "cell_type": "code",
   "execution_count": 9,
   "id": "b5f23994",
   "metadata": {},
   "outputs": [
    {
     "data": {
      "text/plain": [
       "18.095480000000006"
      ]
     },
     "execution_count": 9,
     "metadata": {},
     "output_type": "execute_result"
    }
   ],
   "source": [
    "prices.product()"
   ]
  },
  {
   "cell_type": "code",
   "execution_count": 10,
   "id": "fae763dd",
   "metadata": {},
   "outputs": [
    {
     "data": {
      "text/plain": [
       "2.9333333333333336"
      ]
     },
     "execution_count": 10,
     "metadata": {},
     "output_type": "execute_result"
    }
   ],
   "source": [
    "prices.mean()"
   ]
  },
  {
   "cell_type": "code",
   "execution_count": 11,
   "id": "06c33a0f",
   "metadata": {},
   "outputs": [
    {
     "data": {
      "text/plain": [
       "2.99"
      ]
     },
     "execution_count": 11,
     "metadata": {},
     "output_type": "execute_result"
    }
   ],
   "source": [
    "prices.median()"
   ]
  },
  {
   "cell_type": "markdown",
   "id": "029db618",
   "metadata": {},
   "source": [
    "# Intro to Attributes - Informations"
   ]
  },
  {
   "cell_type": "code",
   "execution_count": 12,
   "id": "f56f9437",
   "metadata": {},
   "outputs": [
    {
     "data": {
      "text/plain": [
       "0        Smart\n",
       "1     Handsome\n",
       "2     Charming\n",
       "3    Brilliant\n",
       "4       Humble\n",
       "dtype: object"
      ]
     },
     "execution_count": 12,
     "metadata": {},
     "output_type": "execute_result"
    }
   ],
   "source": [
    "adjectives = pd.Series(['Smart', 'Handsome', 'Charming', 'Brilliant', 'Humble'])\n",
    "adjectives"
   ]
  },
  {
   "cell_type": "code",
   "execution_count": 13,
   "id": "45bc39c8",
   "metadata": {},
   "outputs": [
    {
     "data": {
      "text/plain": [
       "5"
      ]
     },
     "execution_count": 13,
     "metadata": {},
     "output_type": "execute_result"
    }
   ],
   "source": [
    "adjectives.size"
   ]
  },
  {
   "cell_type": "code",
   "execution_count": 14,
   "id": "89dc3f94",
   "metadata": {},
   "outputs": [
    {
     "data": {
      "text/plain": [
       "True"
      ]
     },
     "execution_count": 14,
     "metadata": {},
     "output_type": "execute_result"
    }
   ],
   "source": [
    "adjectives.is_unique"
   ]
  },
  {
   "cell_type": "code",
   "execution_count": 15,
   "id": "dd6fe8d4",
   "metadata": {},
   "outputs": [
    {
     "data": {
      "text/plain": [
       "array(['Smart', 'Handsome', 'Charming', 'Brilliant', 'Humble'],\n",
       "      dtype=object)"
      ]
     },
     "execution_count": 15,
     "metadata": {},
     "output_type": "execute_result"
    }
   ],
   "source": [
    "adjectives.values"
   ]
  },
  {
   "cell_type": "code",
   "execution_count": 16,
   "id": "a2ff8e47",
   "metadata": {},
   "outputs": [
    {
     "data": {
      "text/plain": [
       "numpy.ndarray"
      ]
     },
     "execution_count": 16,
     "metadata": {},
     "output_type": "execute_result"
    }
   ],
   "source": [
    "type(adjectives.values)"
   ]
  },
  {
   "cell_type": "code",
   "execution_count": 17,
   "id": "5846ac7b",
   "metadata": {},
   "outputs": [
    {
     "data": {
      "text/plain": [
       "RangeIndex(start=0, stop=5, step=1)"
      ]
     },
     "execution_count": 17,
     "metadata": {},
     "output_type": "execute_result"
    }
   ],
   "source": [
    "adjectives.index"
   ]
  },
  {
   "cell_type": "code",
   "execution_count": 18,
   "id": "6dbd9c93",
   "metadata": {},
   "outputs": [
    {
     "data": {
      "text/plain": [
       "pandas.core.indexes.range.RangeIndex"
      ]
     },
     "execution_count": 18,
     "metadata": {},
     "output_type": "execute_result"
    }
   ],
   "source": [
    "type(adjectives.index)"
   ]
  },
  {
   "cell_type": "code",
   "execution_count": 19,
   "id": "cb150760",
   "metadata": {},
   "outputs": [
    {
     "data": {
      "text/plain": [
       "dtype('O')"
      ]
     },
     "execution_count": 19,
     "metadata": {},
     "output_type": "execute_result"
    }
   ],
   "source": [
    "adjectives.dtype"
   ]
  },
  {
   "cell_type": "markdown",
   "id": "1e2ad9f8",
   "metadata": {},
   "source": [
    "# Parameter and Arguments"
   ]
  },
  {
   "cell_type": "code",
   "execution_count": 20,
   "id": "b69d7f5f",
   "metadata": {},
   "outputs": [],
   "source": [
    "# Parameter - the name we give to an expected input\n",
    "# Argument - the concrete value that we provide to a parameter\n",
    "\n",
    "# Difficulty(parameter) - Easy, medium, hard (argument)\n",
    "# Volume(parameter) - 1 through 10 (argument)\n",
    "# Subtitles(parameter) - True or False(arguement)\n",
    "# Set the cursor inside the pharenteses and Press shift+Tab to see all the arguments of a function or method"
   ]
  },
  {
   "cell_type": "code",
   "execution_count": 21,
   "id": "4a1a17d5",
   "metadata": {},
   "outputs": [
    {
     "data": {
      "text/plain": [
       "Monday           Apple\n",
       "Tuesday         Orange\n",
       "Wednesday         Plum\n",
       "Thursday         Grape\n",
       "Friday       Blueberry\n",
       "dtype: object"
      ]
     },
     "execution_count": 21,
     "metadata": {},
     "output_type": "execute_result"
    }
   ],
   "source": [
    "fruits = ['Apple', 'Orange', 'Plum', 'Grape', 'Blueberry']\n",
    "weekdays = ['Monday', 'Tuesday', 'Wednesday', 'Thursday', 'Friday']\n",
    "\n",
    "pd.Series(fruits, weekdays)\n",
    "pd.Series(data = fruits, index = weekdays)"
   ]
  },
  {
   "cell_type": "markdown",
   "id": "f4572059",
   "metadata": {},
   "source": [
    "# Import Series with the pd.read_csv Function"
   ]
  },
  {
   "cell_type": "code",
   "execution_count": 22,
   "id": "2c56bb33",
   "metadata": {},
   "outputs": [
    {
     "data": {
      "text/html": [
       "<div>\n",
       "<style scoped>\n",
       "    .dataframe tbody tr th:only-of-type {\n",
       "        vertical-align: middle;\n",
       "    }\n",
       "\n",
       "    .dataframe tbody tr th {\n",
       "        vertical-align: top;\n",
       "    }\n",
       "\n",
       "    .dataframe thead th {\n",
       "        text-align: right;\n",
       "    }\n",
       "</style>\n",
       "<table border=\"1\" class=\"dataframe\">\n",
       "  <thead>\n",
       "    <tr style=\"text-align: right;\">\n",
       "      <th></th>\n",
       "      <th>Pokemon</th>\n",
       "      <th>Type</th>\n",
       "    </tr>\n",
       "  </thead>\n",
       "  <tbody>\n",
       "    <tr>\n",
       "      <th>0</th>\n",
       "      <td>Bulbasaur</td>\n",
       "      <td>Grass</td>\n",
       "    </tr>\n",
       "    <tr>\n",
       "      <th>1</th>\n",
       "      <td>Ivysaur</td>\n",
       "      <td>Grass</td>\n",
       "    </tr>\n",
       "    <tr>\n",
       "      <th>2</th>\n",
       "      <td>Venusaur</td>\n",
       "      <td>Grass</td>\n",
       "    </tr>\n",
       "    <tr>\n",
       "      <th>3</th>\n",
       "      <td>Charmander</td>\n",
       "      <td>Fire</td>\n",
       "    </tr>\n",
       "    <tr>\n",
       "      <th>4</th>\n",
       "      <td>Charmeleon</td>\n",
       "      <td>Fire</td>\n",
       "    </tr>\n",
       "    <tr>\n",
       "      <th>...</th>\n",
       "      <td>...</td>\n",
       "      <td>...</td>\n",
       "    </tr>\n",
       "    <tr>\n",
       "      <th>716</th>\n",
       "      <td>Yveltal</td>\n",
       "      <td>Dark</td>\n",
       "    </tr>\n",
       "    <tr>\n",
       "      <th>717</th>\n",
       "      <td>Zygarde</td>\n",
       "      <td>Dragon</td>\n",
       "    </tr>\n",
       "    <tr>\n",
       "      <th>718</th>\n",
       "      <td>Diancie</td>\n",
       "      <td>Rock</td>\n",
       "    </tr>\n",
       "    <tr>\n",
       "      <th>719</th>\n",
       "      <td>Hoopa</td>\n",
       "      <td>Psychic</td>\n",
       "    </tr>\n",
       "    <tr>\n",
       "      <th>720</th>\n",
       "      <td>Volcanion</td>\n",
       "      <td>Fire</td>\n",
       "    </tr>\n",
       "  </tbody>\n",
       "</table>\n",
       "<p>721 rows × 2 columns</p>\n",
       "</div>"
      ],
      "text/plain": [
       "        Pokemon     Type\n",
       "0     Bulbasaur    Grass\n",
       "1       Ivysaur    Grass\n",
       "2      Venusaur    Grass\n",
       "3    Charmander     Fire\n",
       "4    Charmeleon     Fire\n",
       "..          ...      ...\n",
       "716     Yveltal     Dark\n",
       "717     Zygarde   Dragon\n",
       "718     Diancie     Rock\n",
       "719       Hoopa  Psychic\n",
       "720   Volcanion     Fire\n",
       "\n",
       "[721 rows x 2 columns]"
      ]
     },
     "execution_count": 22,
     "metadata": {},
     "output_type": "execute_result"
    }
   ],
   "source": [
    "pd.read_csv('pokemon.csv')"
   ]
  },
  {
   "cell_type": "code",
   "execution_count": 23,
   "id": "d52713ae",
   "metadata": {},
   "outputs": [
    {
     "data": {
      "text/html": [
       "<div>\n",
       "<style scoped>\n",
       "    .dataframe tbody tr th:only-of-type {\n",
       "        vertical-align: middle;\n",
       "    }\n",
       "\n",
       "    .dataframe tbody tr th {\n",
       "        vertical-align: top;\n",
       "    }\n",
       "\n",
       "    .dataframe thead th {\n",
       "        text-align: right;\n",
       "    }\n",
       "</style>\n",
       "<table border=\"1\" class=\"dataframe\">\n",
       "  <thead>\n",
       "    <tr style=\"text-align: right;\">\n",
       "      <th></th>\n",
       "      <th>Pokemon</th>\n",
       "    </tr>\n",
       "  </thead>\n",
       "  <tbody>\n",
       "    <tr>\n",
       "      <th>0</th>\n",
       "      <td>Bulbasaur</td>\n",
       "    </tr>\n",
       "    <tr>\n",
       "      <th>1</th>\n",
       "      <td>Ivysaur</td>\n",
       "    </tr>\n",
       "    <tr>\n",
       "      <th>2</th>\n",
       "      <td>Venusaur</td>\n",
       "    </tr>\n",
       "    <tr>\n",
       "      <th>3</th>\n",
       "      <td>Charmander</td>\n",
       "    </tr>\n",
       "    <tr>\n",
       "      <th>4</th>\n",
       "      <td>Charmeleon</td>\n",
       "    </tr>\n",
       "    <tr>\n",
       "      <th>...</th>\n",
       "      <td>...</td>\n",
       "    </tr>\n",
       "    <tr>\n",
       "      <th>716</th>\n",
       "      <td>Yveltal</td>\n",
       "    </tr>\n",
       "    <tr>\n",
       "      <th>717</th>\n",
       "      <td>Zygarde</td>\n",
       "    </tr>\n",
       "    <tr>\n",
       "      <th>718</th>\n",
       "      <td>Diancie</td>\n",
       "    </tr>\n",
       "    <tr>\n",
       "      <th>719</th>\n",
       "      <td>Hoopa</td>\n",
       "    </tr>\n",
       "    <tr>\n",
       "      <th>720</th>\n",
       "      <td>Volcanion</td>\n",
       "    </tr>\n",
       "  </tbody>\n",
       "</table>\n",
       "<p>721 rows × 1 columns</p>\n",
       "</div>"
      ],
      "text/plain": [
       "        Pokemon\n",
       "0     Bulbasaur\n",
       "1       Ivysaur\n",
       "2      Venusaur\n",
       "3    Charmander\n",
       "4    Charmeleon\n",
       "..          ...\n",
       "716     Yveltal\n",
       "717     Zygarde\n",
       "718     Diancie\n",
       "719       Hoopa\n",
       "720   Volcanion\n",
       "\n",
       "[721 rows x 1 columns]"
      ]
     },
     "execution_count": 23,
     "metadata": {},
     "output_type": "execute_result"
    }
   ],
   "source": [
    "pd.read_csv('pokemon.csv', usecols = ['Pokemon'])"
   ]
  },
  {
   "cell_type": "code",
   "execution_count": 24,
   "id": "ca7f82b4",
   "metadata": {},
   "outputs": [
    {
     "data": {
      "text/plain": [
       "0       Bulbasaur\n",
       "1         Ivysaur\n",
       "2        Venusaur\n",
       "3      Charmander\n",
       "4      Charmeleon\n",
       "          ...    \n",
       "716       Yveltal\n",
       "717       Zygarde\n",
       "718       Diancie\n",
       "719         Hoopa\n",
       "720     Volcanion\n",
       "Name: Pokemon, Length: 721, dtype: object"
      ]
     },
     "execution_count": 24,
     "metadata": {},
     "output_type": "execute_result"
    }
   ],
   "source": [
    "pd.read_csv('pokemon.csv', usecols = ['Pokemon']).squeeze()"
   ]
  },
  {
   "cell_type": "code",
   "execution_count": 25,
   "id": "73ae83d9",
   "metadata": {},
   "outputs": [],
   "source": [
    "pokemon = pd.read_csv('pokemon.csv', usecols = ['Pokemon']).squeeze()"
   ]
  },
  {
   "cell_type": "code",
   "execution_count": 26,
   "id": "748ea33f",
   "metadata": {},
   "outputs": [
    {
     "data": {
      "text/plain": [
       "0        50.12\n",
       "1        54.10\n",
       "2        54.65\n",
       "3        52.38\n",
       "4        52.95\n",
       "         ...  \n",
       "3007    772.88\n",
       "3008    771.07\n",
       "3009    773.18\n",
       "3010    771.61\n",
       "3011    782.22\n",
       "Name: Stock Price, Length: 3012, dtype: float64"
      ]
     },
     "execution_count": 26,
     "metadata": {},
     "output_type": "execute_result"
    }
   ],
   "source": [
    "google = pd.read_csv('google_stock_price.csv', usecols = ['Stock Price']).squeeze('columns')\n",
    "google"
   ]
  },
  {
   "cell_type": "markdown",
   "id": "119d0263",
   "metadata": {},
   "source": [
    "# The Head and Tail Method on a Series"
   ]
  },
  {
   "cell_type": "code",
   "execution_count": 27,
   "id": "b970d0d6",
   "metadata": {},
   "outputs": [
    {
     "data": {
      "text/plain": [
       "0     Bulbasaur\n",
       "1       Ivysaur\n",
       "2      Venusaur\n",
       "3    Charmander\n",
       "4    Charmeleon\n",
       "Name: Pokemon, dtype: object"
      ]
     },
     "execution_count": 27,
     "metadata": {},
     "output_type": "execute_result"
    }
   ],
   "source": [
    "pokemon.head()\n",
    "pokemon.head(5)\n",
    "pokemon.head(n = 5)"
   ]
  },
  {
   "cell_type": "code",
   "execution_count": 28,
   "id": "a2d4b718",
   "metadata": {},
   "outputs": [
    {
     "data": {
      "text/plain": [
       "3007    772.88\n",
       "3008    771.07\n",
       "3009    773.18\n",
       "3010    771.61\n",
       "3011    782.22\n",
       "Name: Stock Price, dtype: float64"
      ]
     },
     "execution_count": 28,
     "metadata": {},
     "output_type": "execute_result"
    }
   ],
   "source": [
    "google.tail()\n",
    "google.tail(5)\n",
    "google.tail(n = 5)"
   ]
  },
  {
   "cell_type": "markdown",
   "id": "5213e25a",
   "metadata": {},
   "source": [
    "# Passing Series to Python's Built-in Functions"
   ]
  },
  {
   "cell_type": "code",
   "execution_count": 29,
   "id": "0bf5811a",
   "metadata": {},
   "outputs": [
    {
     "data": {
      "text/plain": [
       "721"
      ]
     },
     "execution_count": 29,
     "metadata": {},
     "output_type": "execute_result"
    }
   ],
   "source": [
    "len(pokemon)"
   ]
  },
  {
   "cell_type": "code",
   "execution_count": 30,
   "id": "44db1f5d",
   "metadata": {},
   "outputs": [
    {
     "data": {
      "text/plain": [
       "pandas.core.series.Series"
      ]
     },
     "execution_count": 30,
     "metadata": {},
     "output_type": "execute_result"
    }
   ],
   "source": [
    "type(pokemon)"
   ]
  },
  {
   "cell_type": "code",
   "execution_count": 31,
   "id": "0c1f0a20",
   "metadata": {},
   "outputs": [
    {
     "data": {
      "text/plain": [
       "['T',\n",
       " '_AXIS_LEN',\n",
       " '_AXIS_ORDERS',\n",
       " '_AXIS_REVERSED',\n",
       " '_AXIS_TO_AXIS_NUMBER',\n",
       " '_HANDLED_TYPES',\n",
       " '__abs__',\n",
       " '__add__',\n",
       " '__and__',\n",
       " '__annotations__',\n",
       " '__array__',\n",
       " '__array_priority__',\n",
       " '__array_ufunc__',\n",
       " '__array_wrap__',\n",
       " '__bool__',\n",
       " '__class__',\n",
       " '__contains__',\n",
       " '__copy__',\n",
       " '__deepcopy__',\n",
       " '__delattr__',\n",
       " '__delitem__',\n",
       " '__dict__',\n",
       " '__dir__',\n",
       " '__divmod__',\n",
       " '__doc__',\n",
       " '__eq__',\n",
       " '__finalize__',\n",
       " '__float__',\n",
       " '__floordiv__',\n",
       " '__format__',\n",
       " '__ge__',\n",
       " '__getattr__',\n",
       " '__getattribute__',\n",
       " '__getitem__',\n",
       " '__getstate__',\n",
       " '__gt__',\n",
       " '__hash__',\n",
       " '__iadd__',\n",
       " '__iand__',\n",
       " '__ifloordiv__',\n",
       " '__imod__',\n",
       " '__imul__',\n",
       " '__init__',\n",
       " '__init_subclass__',\n",
       " '__int__',\n",
       " '__invert__',\n",
       " '__ior__',\n",
       " '__ipow__',\n",
       " '__isub__',\n",
       " '__iter__',\n",
       " '__itruediv__',\n",
       " '__ixor__',\n",
       " '__le__',\n",
       " '__len__',\n",
       " '__long__',\n",
       " '__lt__',\n",
       " '__matmul__',\n",
       " '__mod__',\n",
       " '__module__',\n",
       " '__mul__',\n",
       " '__ne__',\n",
       " '__neg__',\n",
       " '__new__',\n",
       " '__nonzero__',\n",
       " '__or__',\n",
       " '__pos__',\n",
       " '__pow__',\n",
       " '__radd__',\n",
       " '__rand__',\n",
       " '__rdivmod__',\n",
       " '__reduce__',\n",
       " '__reduce_ex__',\n",
       " '__repr__',\n",
       " '__rfloordiv__',\n",
       " '__rmatmul__',\n",
       " '__rmod__',\n",
       " '__rmul__',\n",
       " '__ror__',\n",
       " '__round__',\n",
       " '__rpow__',\n",
       " '__rsub__',\n",
       " '__rtruediv__',\n",
       " '__rxor__',\n",
       " '__setattr__',\n",
       " '__setitem__',\n",
       " '__setstate__',\n",
       " '__sizeof__',\n",
       " '__str__',\n",
       " '__sub__',\n",
       " '__subclasshook__',\n",
       " '__truediv__',\n",
       " '__weakref__',\n",
       " '__xor__',\n",
       " '_accessors',\n",
       " '_accum_func',\n",
       " '_add_numeric_operations',\n",
       " '_agg_by_level',\n",
       " '_agg_examples_doc',\n",
       " '_agg_see_also_doc',\n",
       " '_align_frame',\n",
       " '_align_series',\n",
       " '_arith_method',\n",
       " '_attrs',\n",
       " '_binop',\n",
       " '_builtin_table',\n",
       " '_cacher',\n",
       " '_can_hold_na',\n",
       " '_check_inplace_and_allows_duplicate_labels',\n",
       " '_check_inplace_setting',\n",
       " '_check_is_chained_assignment_possible',\n",
       " '_check_label_or_level_ambiguity',\n",
       " '_check_setitem_copy',\n",
       " '_clear_item_cache',\n",
       " '_clip_with_one_bound',\n",
       " '_clip_with_scalar',\n",
       " '_cmp_method',\n",
       " '_consolidate',\n",
       " '_consolidate_inplace',\n",
       " '_construct_axes_dict',\n",
       " '_construct_axes_from_arguments',\n",
       " '_construct_result',\n",
       " '_constructor',\n",
       " '_constructor_expanddim',\n",
       " '_constructor_sliced',\n",
       " '_convert',\n",
       " '_convert_dtypes',\n",
       " '_cython_table',\n",
       " '_data',\n",
       " '_dir_additions',\n",
       " '_dir_deletions',\n",
       " '_drop_axis',\n",
       " '_drop_labels_or_levels',\n",
       " '_find_valid_index',\n",
       " '_flags',\n",
       " '_get_axis',\n",
       " '_get_axis_name',\n",
       " '_get_axis_number',\n",
       " '_get_axis_resolvers',\n",
       " '_get_block_manager_axis',\n",
       " '_get_bool_data',\n",
       " '_get_cacher',\n",
       " '_get_cleaned_column_resolvers',\n",
       " '_get_cython_func',\n",
       " '_get_index_resolvers',\n",
       " '_get_item_cache',\n",
       " '_get_label_or_level_values',\n",
       " '_get_numeric_data',\n",
       " '_get_value',\n",
       " '_get_values',\n",
       " '_get_values_tuple',\n",
       " '_get_with',\n",
       " '_gotitem',\n",
       " '_hidden_attrs',\n",
       " '_index',\n",
       " '_indexed_same',\n",
       " '_info_axis',\n",
       " '_info_axis_name',\n",
       " '_info_axis_number',\n",
       " '_init_dict',\n",
       " '_init_mgr',\n",
       " '_inplace_method',\n",
       " '_internal_names',\n",
       " '_internal_names_set',\n",
       " '_is_builtin_func',\n",
       " '_is_cached',\n",
       " '_is_copy',\n",
       " '_is_label_or_level_reference',\n",
       " '_is_label_reference',\n",
       " '_is_level_reference',\n",
       " '_is_mixed_type',\n",
       " '_is_view',\n",
       " '_iset_item',\n",
       " '_item_cache',\n",
       " '_ix',\n",
       " '_ixs',\n",
       " '_logical_func',\n",
       " '_logical_method',\n",
       " '_map_values',\n",
       " '_maybe_cache_changed',\n",
       " '_maybe_update_cacher',\n",
       " '_metadata',\n",
       " '_mgr',\n",
       " '_min_count_stat_function',\n",
       " '_name',\n",
       " '_needs_reindex_multi',\n",
       " '_obj_with_exclusions',\n",
       " '_protect_consolidate',\n",
       " '_reduce',\n",
       " '_reindex_axes',\n",
       " '_reindex_indexer',\n",
       " '_reindex_multi',\n",
       " '_reindex_with_indexers',\n",
       " '_replace_single',\n",
       " '_repr_data_resource_',\n",
       " '_repr_latex_',\n",
       " '_reset_cache',\n",
       " '_reset_cacher',\n",
       " '_selected_obj',\n",
       " '_selection',\n",
       " '_selection_list',\n",
       " '_selection_name',\n",
       " '_set_as_cached',\n",
       " '_set_axis',\n",
       " '_set_axis_name',\n",
       " '_set_axis_nocheck',\n",
       " '_set_is_copy',\n",
       " '_set_item',\n",
       " '_set_labels',\n",
       " '_set_name',\n",
       " '_set_value',\n",
       " '_set_values',\n",
       " '_set_with',\n",
       " '_set_with_engine',\n",
       " '_slice',\n",
       " '_stat_axis',\n",
       " '_stat_axis_name',\n",
       " '_stat_axis_number',\n",
       " '_stat_function',\n",
       " '_stat_function_ddof',\n",
       " '_take_with_is_copy',\n",
       " '_to_dict_of_blocks',\n",
       " '_try_aggregate_string_function',\n",
       " '_typ',\n",
       " '_update_inplace',\n",
       " '_validate_dtype',\n",
       " '_values',\n",
       " '_where',\n",
       " 'abs',\n",
       " 'add',\n",
       " 'add_prefix',\n",
       " 'add_suffix',\n",
       " 'agg',\n",
       " 'aggregate',\n",
       " 'align',\n",
       " 'all',\n",
       " 'any',\n",
       " 'append',\n",
       " 'apply',\n",
       " 'argmax',\n",
       " 'argmin',\n",
       " 'argsort',\n",
       " 'array',\n",
       " 'asfreq',\n",
       " 'asof',\n",
       " 'astype',\n",
       " 'at',\n",
       " 'at_time',\n",
       " 'attrs',\n",
       " 'autocorr',\n",
       " 'axes',\n",
       " 'backfill',\n",
       " 'between',\n",
       " 'between_time',\n",
       " 'bfill',\n",
       " 'bool',\n",
       " 'clip',\n",
       " 'combine',\n",
       " 'combine_first',\n",
       " 'compare',\n",
       " 'convert_dtypes',\n",
       " 'copy',\n",
       " 'corr',\n",
       " 'count',\n",
       " 'cov',\n",
       " 'cummax',\n",
       " 'cummin',\n",
       " 'cumprod',\n",
       " 'cumsum',\n",
       " 'describe',\n",
       " 'diff',\n",
       " 'div',\n",
       " 'divide',\n",
       " 'divmod',\n",
       " 'dot',\n",
       " 'drop',\n",
       " 'drop_duplicates',\n",
       " 'droplevel',\n",
       " 'dropna',\n",
       " 'dtype',\n",
       " 'dtypes',\n",
       " 'duplicated',\n",
       " 'empty',\n",
       " 'eq',\n",
       " 'equals',\n",
       " 'ewm',\n",
       " 'expanding',\n",
       " 'explode',\n",
       " 'factorize',\n",
       " 'ffill',\n",
       " 'fillna',\n",
       " 'filter',\n",
       " 'first',\n",
       " 'first_valid_index',\n",
       " 'flags',\n",
       " 'floordiv',\n",
       " 'ge',\n",
       " 'get',\n",
       " 'groupby',\n",
       " 'gt',\n",
       " 'hasnans',\n",
       " 'head',\n",
       " 'hist',\n",
       " 'iat',\n",
       " 'idxmax',\n",
       " 'idxmin',\n",
       " 'iloc',\n",
       " 'index',\n",
       " 'infer_objects',\n",
       " 'interpolate',\n",
       " 'is_monotonic',\n",
       " 'is_monotonic_decreasing',\n",
       " 'is_monotonic_increasing',\n",
       " 'is_unique',\n",
       " 'isin',\n",
       " 'isna',\n",
       " 'isnull',\n",
       " 'item',\n",
       " 'items',\n",
       " 'iteritems',\n",
       " 'keys',\n",
       " 'kurt',\n",
       " 'kurtosis',\n",
       " 'last',\n",
       " 'last_valid_index',\n",
       " 'le',\n",
       " 'loc',\n",
       " 'lt',\n",
       " 'mad',\n",
       " 'map',\n",
       " 'mask',\n",
       " 'max',\n",
       " 'mean',\n",
       " 'median',\n",
       " 'memory_usage',\n",
       " 'min',\n",
       " 'mod',\n",
       " 'mode',\n",
       " 'mul',\n",
       " 'multiply',\n",
       " 'name',\n",
       " 'nbytes',\n",
       " 'ndim',\n",
       " 'ne',\n",
       " 'nlargest',\n",
       " 'notna',\n",
       " 'notnull',\n",
       " 'nsmallest',\n",
       " 'nunique',\n",
       " 'pad',\n",
       " 'pct_change',\n",
       " 'pipe',\n",
       " 'plot',\n",
       " 'pop',\n",
       " 'pow',\n",
       " 'prod',\n",
       " 'product',\n",
       " 'quantile',\n",
       " 'radd',\n",
       " 'rank',\n",
       " 'ravel',\n",
       " 'rdiv',\n",
       " 'rdivmod',\n",
       " 'reindex',\n",
       " 'reindex_like',\n",
       " 'rename',\n",
       " 'rename_axis',\n",
       " 'reorder_levels',\n",
       " 'repeat',\n",
       " 'replace',\n",
       " 'resample',\n",
       " 'reset_index',\n",
       " 'rfloordiv',\n",
       " 'rmod',\n",
       " 'rmul',\n",
       " 'rolling',\n",
       " 'round',\n",
       " 'rpow',\n",
       " 'rsub',\n",
       " 'rtruediv',\n",
       " 'sample',\n",
       " 'searchsorted',\n",
       " 'sem',\n",
       " 'set_axis',\n",
       " 'set_flags',\n",
       " 'shape',\n",
       " 'shift',\n",
       " 'size',\n",
       " 'skew',\n",
       " 'slice_shift',\n",
       " 'sort_index',\n",
       " 'sort_values',\n",
       " 'squeeze',\n",
       " 'std',\n",
       " 'str',\n",
       " 'sub',\n",
       " 'subtract',\n",
       " 'sum',\n",
       " 'swapaxes',\n",
       " 'swaplevel',\n",
       " 'tail',\n",
       " 'take',\n",
       " 'to_clipboard',\n",
       " 'to_csv',\n",
       " 'to_dict',\n",
       " 'to_excel',\n",
       " 'to_frame',\n",
       " 'to_hdf',\n",
       " 'to_json',\n",
       " 'to_latex',\n",
       " 'to_list',\n",
       " 'to_markdown',\n",
       " 'to_numpy',\n",
       " 'to_period',\n",
       " 'to_pickle',\n",
       " 'to_sql',\n",
       " 'to_string',\n",
       " 'to_timestamp',\n",
       " 'to_xarray',\n",
       " 'transform',\n",
       " 'transpose',\n",
       " 'truediv',\n",
       " 'truncate',\n",
       " 'tz_convert',\n",
       " 'tz_localize',\n",
       " 'unique',\n",
       " 'unstack',\n",
       " 'update',\n",
       " 'value_counts',\n",
       " 'values',\n",
       " 'var',\n",
       " 'view',\n",
       " 'where',\n",
       " 'xs']"
      ]
     },
     "execution_count": 31,
     "metadata": {},
     "output_type": "execute_result"
    }
   ],
   "source": [
    "dir(pokemon)"
   ]
  },
  {
   "cell_type": "code",
   "execution_count": 32,
   "id": "0b89166c",
   "metadata": {},
   "outputs": [
    {
     "data": {
      "text/plain": [
       "['Abomasnow',\n",
       " 'Abra',\n",
       " 'Absol',\n",
       " 'Accelgor',\n",
       " 'Aegislash',\n",
       " 'Aerodactyl',\n",
       " 'Aggron',\n",
       " 'Aipom',\n",
       " 'Alakazam',\n",
       " 'Alomomola',\n",
       " 'Altaria',\n",
       " 'Amaura',\n",
       " 'Ambipom',\n",
       " 'Amoonguss',\n",
       " 'Ampharos',\n",
       " 'Anorith',\n",
       " 'Arbok',\n",
       " 'Arcanine',\n",
       " 'Arceus',\n",
       " 'Archen',\n",
       " 'Archeops',\n",
       " 'Ariados',\n",
       " 'Armaldo',\n",
       " 'Aromatisse',\n",
       " 'Aron',\n",
       " 'Articuno',\n",
       " 'Audino',\n",
       " 'Aurorus',\n",
       " 'Avalugg',\n",
       " 'Axew',\n",
       " 'Azelf',\n",
       " 'Azumarill',\n",
       " 'Azurill',\n",
       " 'Bagon',\n",
       " 'Baltoy',\n",
       " 'Banette',\n",
       " 'Barbaracle',\n",
       " 'Barboach',\n",
       " 'Basculin',\n",
       " 'Bastiodon',\n",
       " 'Bayleef',\n",
       " 'Beartic',\n",
       " 'Beautifly',\n",
       " 'Beedrill',\n",
       " 'Beheeyem',\n",
       " 'Beldum',\n",
       " 'Bellossom',\n",
       " 'Bellsprout',\n",
       " 'Bergmite',\n",
       " 'Bibarel',\n",
       " 'Bidoof',\n",
       " 'Binacle',\n",
       " 'Bisharp',\n",
       " 'Blastoise',\n",
       " 'Blaziken',\n",
       " 'Blissey',\n",
       " 'Blitzle',\n",
       " 'Boldore',\n",
       " 'Bonsly',\n",
       " 'Bouffalant',\n",
       " 'Braixen',\n",
       " 'Braviary',\n",
       " 'Breloom',\n",
       " 'Bronzong',\n",
       " 'Bronzor',\n",
       " 'Budew',\n",
       " 'Buizel',\n",
       " 'Bulbasaur',\n",
       " 'Buneary',\n",
       " 'Bunnelby',\n",
       " 'Burmy',\n",
       " 'Butterfree',\n",
       " 'Cacnea',\n",
       " 'Cacturne',\n",
       " 'Camerupt',\n",
       " 'Carbink',\n",
       " 'Carnivine',\n",
       " 'Carracosta',\n",
       " 'Carvanha',\n",
       " 'Cascoon',\n",
       " 'Castform',\n",
       " 'Caterpie',\n",
       " 'Celebi',\n",
       " 'Chandelure',\n",
       " 'Chansey',\n",
       " 'Charizard',\n",
       " 'Charmander',\n",
       " 'Charmeleon',\n",
       " 'Chatot',\n",
       " 'Cherrim',\n",
       " 'Cherubi',\n",
       " 'Chesnaught',\n",
       " 'Chespin',\n",
       " 'Chikorita',\n",
       " 'Chimchar',\n",
       " 'Chimecho',\n",
       " 'Chinchou',\n",
       " 'Chingling',\n",
       " 'Cinccino',\n",
       " 'Clamperl',\n",
       " 'Clauncher',\n",
       " 'Clawitzer',\n",
       " 'Claydol',\n",
       " 'Clefable',\n",
       " 'Clefairy',\n",
       " 'Cleffa',\n",
       " 'Cloyster',\n",
       " 'Cobalion',\n",
       " 'Cofagrigus',\n",
       " 'Combee',\n",
       " 'Combusken',\n",
       " 'Conkeldurr',\n",
       " 'Corphish',\n",
       " 'Corsola',\n",
       " 'Cottonee',\n",
       " 'Cradily',\n",
       " 'Cranidos',\n",
       " 'Crawdaunt',\n",
       " 'Cresselia',\n",
       " 'Croagunk',\n",
       " 'Crobat',\n",
       " 'Croconaw',\n",
       " 'Crustle',\n",
       " 'Cryogonal',\n",
       " 'Cubchoo',\n",
       " 'Cubone',\n",
       " 'Cyndaquil',\n",
       " 'Darkrai',\n",
       " 'Darmanitan',\n",
       " 'Darumaka',\n",
       " 'Dedenne',\n",
       " 'Deerling',\n",
       " 'Deino',\n",
       " 'Delcatty',\n",
       " 'Delibird',\n",
       " 'Delphox',\n",
       " 'Deoxys',\n",
       " 'Dewgong',\n",
       " 'Dewott',\n",
       " 'Dialga',\n",
       " 'Diancie',\n",
       " 'Diggersby',\n",
       " 'Diglett',\n",
       " 'Ditto',\n",
       " 'Dodrio',\n",
       " 'Doduo',\n",
       " 'Donphan',\n",
       " 'Doublade',\n",
       " 'Dragalge',\n",
       " 'Dragonair',\n",
       " 'Dragonite',\n",
       " 'Drapion',\n",
       " 'Dratini',\n",
       " 'Drifblim',\n",
       " 'Drifloon',\n",
       " 'Drilbur',\n",
       " 'Drowzee',\n",
       " 'Druddigon',\n",
       " 'Ducklett',\n",
       " 'Dugtrio',\n",
       " 'Dunsparce',\n",
       " 'Duosion',\n",
       " 'Durant',\n",
       " 'Dusclops',\n",
       " 'Dusknoir',\n",
       " 'Duskull',\n",
       " 'Dustox',\n",
       " 'Dwebble',\n",
       " 'Eelektrik',\n",
       " 'Eelektross',\n",
       " 'Eevee',\n",
       " 'Ekans',\n",
       " 'Electabuzz',\n",
       " 'Electivire',\n",
       " 'Electrike',\n",
       " 'Electrode',\n",
       " 'Elekid',\n",
       " 'Elgyem',\n",
       " 'Emboar',\n",
       " 'Emolga',\n",
       " 'Empoleon',\n",
       " 'Entei',\n",
       " 'Escavalier',\n",
       " 'Espeon',\n",
       " 'Espurr',\n",
       " 'Excadrill',\n",
       " 'Exeggcute',\n",
       " 'Exeggutor',\n",
       " 'Exploud',\n",
       " \"Farfetch'd\",\n",
       " 'Fearow',\n",
       " 'Feebas',\n",
       " 'Fennekin',\n",
       " 'Feraligatr',\n",
       " 'Ferroseed',\n",
       " 'Ferrothorn',\n",
       " 'Finneon',\n",
       " 'Flaaffy',\n",
       " 'Flabébé',\n",
       " 'Flareon',\n",
       " 'Fletchinder',\n",
       " 'Fletchling',\n",
       " 'Floatzel',\n",
       " 'Floette',\n",
       " 'Florges',\n",
       " 'Flygon',\n",
       " 'Foongus',\n",
       " 'Forretress',\n",
       " 'Fraxure',\n",
       " 'Frillish',\n",
       " 'Froakie',\n",
       " 'Frogadier',\n",
       " 'Froslass',\n",
       " 'Furfrou',\n",
       " 'Furret',\n",
       " 'Gabite',\n",
       " 'Gallade',\n",
       " 'Galvantula',\n",
       " 'Garbodor',\n",
       " 'Garchomp',\n",
       " 'Gardevoir',\n",
       " 'Gastly',\n",
       " 'Gastrodon',\n",
       " 'Genesect',\n",
       " 'Gengar',\n",
       " 'Geodude',\n",
       " 'Gible',\n",
       " 'Gigalith',\n",
       " 'Girafarig',\n",
       " 'Giratina',\n",
       " 'Glaceon',\n",
       " 'Glalie',\n",
       " 'Glameow',\n",
       " 'Gligar',\n",
       " 'Gliscor',\n",
       " 'Gloom',\n",
       " 'Gogoat',\n",
       " 'Golbat',\n",
       " 'Goldeen',\n",
       " 'Golduck',\n",
       " 'Golem',\n",
       " 'Golett',\n",
       " 'Golurk',\n",
       " 'Goodra',\n",
       " 'Goomy',\n",
       " 'Gorebyss',\n",
       " 'Gothita',\n",
       " 'Gothitelle',\n",
       " 'Gothorita',\n",
       " 'Gourgeist',\n",
       " 'Granbull',\n",
       " 'Graveler',\n",
       " 'Greninja',\n",
       " 'Grimer',\n",
       " 'Grotle',\n",
       " 'Groudon',\n",
       " 'Grovyle',\n",
       " 'Growlithe',\n",
       " 'Grumpig',\n",
       " 'Gulpin',\n",
       " 'Gurdurr',\n",
       " 'Gyarados',\n",
       " 'Happiny',\n",
       " 'Hariyama',\n",
       " 'Haunter',\n",
       " 'Hawlucha',\n",
       " 'Haxorus',\n",
       " 'Heatmor',\n",
       " 'Heatran',\n",
       " 'Heliolisk',\n",
       " 'Helioptile',\n",
       " 'Heracross',\n",
       " 'Herdier',\n",
       " 'Hippopotas',\n",
       " 'Hippowdon',\n",
       " 'Hitmonchan',\n",
       " 'Hitmonlee',\n",
       " 'Hitmontop',\n",
       " 'Ho-oh',\n",
       " 'Honchkrow',\n",
       " 'Honedge',\n",
       " 'Hoopa',\n",
       " 'Hoothoot',\n",
       " 'Hoppip',\n",
       " 'Horsea',\n",
       " 'Houndoom',\n",
       " 'Houndour',\n",
       " 'Huntail',\n",
       " 'Hydreigon',\n",
       " 'Hypno',\n",
       " 'Igglybuff',\n",
       " 'Illumise',\n",
       " 'Infernape',\n",
       " 'Inkay',\n",
       " 'Ivysaur',\n",
       " 'Jellicent',\n",
       " 'Jigglypuff',\n",
       " 'Jirachi',\n",
       " 'Jolteon',\n",
       " 'Joltik',\n",
       " 'Jumpluff',\n",
       " 'Jynx',\n",
       " 'Kabuto',\n",
       " 'Kabutops',\n",
       " 'Kadabra',\n",
       " 'Kakuna',\n",
       " 'Kangaskhan',\n",
       " 'Karrablast',\n",
       " 'Kecleon',\n",
       " 'Keldeo',\n",
       " 'Kingdra',\n",
       " 'Kingler',\n",
       " 'Kirlia',\n",
       " 'Klang',\n",
       " 'Klefki',\n",
       " 'Klink',\n",
       " 'Klinklang',\n",
       " 'Koffing',\n",
       " 'Krabby',\n",
       " 'Kricketot',\n",
       " 'Kricketune',\n",
       " 'Krokorok',\n",
       " 'Krookodile',\n",
       " 'Kyogre',\n",
       " 'Kyurem',\n",
       " 'Lairon',\n",
       " 'Lampent',\n",
       " 'Landorus',\n",
       " 'Lanturn',\n",
       " 'Lapras',\n",
       " 'Larvesta',\n",
       " 'Larvitar',\n",
       " 'Latias',\n",
       " 'Latios',\n",
       " 'Leafeon',\n",
       " 'Leavanny',\n",
       " 'Ledian',\n",
       " 'Ledyba',\n",
       " 'Lickilicky',\n",
       " 'Lickitung',\n",
       " 'Liepard',\n",
       " 'Lileep',\n",
       " 'Lilligant',\n",
       " 'Lillipup',\n",
       " 'Linoone',\n",
       " 'Litleo',\n",
       " 'Litwick',\n",
       " 'Lombre',\n",
       " 'Lopunny',\n",
       " 'Lotad',\n",
       " 'Loudred',\n",
       " 'Lucario',\n",
       " 'Ludicolo',\n",
       " 'Lugia',\n",
       " 'Lumineon',\n",
       " 'Lunatone',\n",
       " 'Luvdisc',\n",
       " 'Luxio',\n",
       " 'Luxray',\n",
       " 'Machamp',\n",
       " 'Machoke',\n",
       " 'Machop',\n",
       " 'Magby',\n",
       " 'Magcargo',\n",
       " 'Magikarp',\n",
       " 'Magmar',\n",
       " 'Magmortar',\n",
       " 'Magnemite',\n",
       " 'Magneton',\n",
       " 'Magnezone',\n",
       " 'Makuhita',\n",
       " 'Malamar',\n",
       " 'Mamoswine',\n",
       " 'Manaphy',\n",
       " 'Mandibuzz',\n",
       " 'Manectric',\n",
       " 'Mankey',\n",
       " 'Mantine',\n",
       " 'Mantyke',\n",
       " 'Maractus',\n",
       " 'Mareep',\n",
       " 'Marill',\n",
       " 'Marowak',\n",
       " 'Marshtomp',\n",
       " 'Masquerain',\n",
       " 'Mawile',\n",
       " 'Medicham',\n",
       " 'Meditite',\n",
       " 'Meganium',\n",
       " 'Meloetta',\n",
       " 'Meowstic',\n",
       " 'Meowth',\n",
       " 'Mesprit',\n",
       " 'Metagross',\n",
       " 'Metang',\n",
       " 'Metapod',\n",
       " 'Mew',\n",
       " 'Mewtwo',\n",
       " 'Mienfoo',\n",
       " 'Mienshao',\n",
       " 'Mightyena',\n",
       " 'Milotic',\n",
       " 'Miltank',\n",
       " 'Mime Jr.',\n",
       " 'Minccino',\n",
       " 'Minun',\n",
       " 'Misdreavus',\n",
       " 'Mismagius',\n",
       " 'Moltres',\n",
       " 'Monferno',\n",
       " 'Mothim',\n",
       " 'Mr. Mime',\n",
       " 'Mudkip',\n",
       " 'Muk',\n",
       " 'Munchlax',\n",
       " 'Munna',\n",
       " 'Murkrow',\n",
       " 'Musharna',\n",
       " 'Natu',\n",
       " 'Nidoking',\n",
       " 'Nidoqueen',\n",
       " 'Nidoran',\n",
       " 'Nidoran♂',\n",
       " 'Nidorina',\n",
       " 'Nidorino',\n",
       " 'Nincada',\n",
       " 'Ninetales',\n",
       " 'Ninjask',\n",
       " 'Noctowl',\n",
       " 'Noibat',\n",
       " 'Noivern',\n",
       " 'Nosepass',\n",
       " 'Numel',\n",
       " 'Nuzleaf',\n",
       " 'Octillery',\n",
       " 'Oddish',\n",
       " 'Omanyte',\n",
       " 'Omastar',\n",
       " 'Onix',\n",
       " 'Oshawott',\n",
       " 'Pachirisu',\n",
       " 'Palkia',\n",
       " 'Palpitoad',\n",
       " 'Pancham',\n",
       " 'Pangoro',\n",
       " 'Panpour',\n",
       " 'Pansage',\n",
       " 'Pansear',\n",
       " 'Paras',\n",
       " 'Parasect',\n",
       " 'Patrat',\n",
       " 'Pawniard',\n",
       " 'Pelipper',\n",
       " 'Persian',\n",
       " 'Petilil',\n",
       " 'Phanpy',\n",
       " 'Phantump',\n",
       " 'Phione',\n",
       " 'Pichu',\n",
       " 'Pidgeot',\n",
       " 'Pidgeotto',\n",
       " 'Pidgey',\n",
       " 'Pidove',\n",
       " 'Pignite',\n",
       " 'Pikachu',\n",
       " 'Piloswine',\n",
       " 'Pineco',\n",
       " 'Pinsir',\n",
       " 'Piplup',\n",
       " 'Plusle',\n",
       " 'Politoed',\n",
       " 'Poliwag',\n",
       " 'Poliwhirl',\n",
       " 'Poliwrath',\n",
       " 'Ponyta',\n",
       " 'Poochyena',\n",
       " 'Porygon',\n",
       " 'Porygon-Z',\n",
       " 'Porygon2',\n",
       " 'Primeape',\n",
       " 'Prinplup',\n",
       " 'Probopass',\n",
       " 'Psyduck',\n",
       " 'Pumpkaboo',\n",
       " 'Pupitar',\n",
       " 'Purrloin',\n",
       " 'Purugly',\n",
       " 'Pyroar',\n",
       " 'Quagsire',\n",
       " 'Quilava',\n",
       " 'Quilladin',\n",
       " 'Qwilfish',\n",
       " 'Raichu',\n",
       " 'Raikou',\n",
       " 'Ralts',\n",
       " 'Rampardos',\n",
       " 'Rapidash',\n",
       " 'Raticate',\n",
       " 'Rattata',\n",
       " 'Rayquaza',\n",
       " 'Regice',\n",
       " 'Regigigas',\n",
       " 'Regirock',\n",
       " 'Registeel',\n",
       " 'Relicanth',\n",
       " 'Remoraid',\n",
       " 'Reshiram',\n",
       " 'Reuniclus',\n",
       " 'Rhydon',\n",
       " 'Rhyhorn',\n",
       " 'Rhyperior',\n",
       " 'Riolu',\n",
       " 'Roggenrola',\n",
       " 'Roselia',\n",
       " 'Roserade',\n",
       " 'Rotom',\n",
       " 'Rufflet',\n",
       " 'Sableye',\n",
       " 'Salamence',\n",
       " 'Samurott',\n",
       " 'Sandile',\n",
       " 'Sandshrew',\n",
       " 'Sandslash',\n",
       " 'Sawk',\n",
       " 'Sawsbuck',\n",
       " 'Scatterbug',\n",
       " 'Sceptile',\n",
       " 'Scizor',\n",
       " 'Scolipede',\n",
       " 'Scrafty',\n",
       " 'Scraggy',\n",
       " 'Scyther',\n",
       " 'Seadra',\n",
       " 'Seaking',\n",
       " 'Sealeo',\n",
       " 'Seedot',\n",
       " 'Seel',\n",
       " 'Seismitoad',\n",
       " 'Sentret',\n",
       " 'Serperior',\n",
       " 'Servine',\n",
       " 'Seviper',\n",
       " 'Sewaddle',\n",
       " 'Sharpedo',\n",
       " 'Shaymin',\n",
       " 'Shedinja',\n",
       " 'Shelgon',\n",
       " 'Shellder',\n",
       " 'Shellos',\n",
       " 'Shelmet',\n",
       " 'Shieldon',\n",
       " 'Shiftry',\n",
       " 'Shinx',\n",
       " 'Shroomish',\n",
       " 'Shuckle',\n",
       " 'Shuppet',\n",
       " 'Sigilyph',\n",
       " 'Silcoon',\n",
       " 'Simipour',\n",
       " 'Simisage',\n",
       " 'Simisear',\n",
       " 'Skarmory',\n",
       " 'Skiddo',\n",
       " 'Skiploom',\n",
       " 'Skitty',\n",
       " 'Skorupi',\n",
       " 'Skrelp',\n",
       " 'Skuntank',\n",
       " 'Slaking',\n",
       " 'Slakoth',\n",
       " 'Sliggoo',\n",
       " 'Slowbro',\n",
       " 'Slowking',\n",
       " 'Slowpoke',\n",
       " 'Slugma',\n",
       " 'Slurpuff',\n",
       " 'Smeargle',\n",
       " 'Smoochum',\n",
       " 'Sneasel',\n",
       " 'Snivy',\n",
       " 'Snorlax',\n",
       " 'Snorunt',\n",
       " 'Snover',\n",
       " 'Snubbull',\n",
       " 'Solosis',\n",
       " 'Solrock',\n",
       " 'Spearow',\n",
       " 'Spewpa',\n",
       " 'Spheal',\n",
       " 'Spinarak',\n",
       " 'Spinda',\n",
       " 'Spiritomb',\n",
       " 'Spoink',\n",
       " 'Spritzee',\n",
       " 'Squirtle',\n",
       " 'Stantler',\n",
       " 'Staraptor',\n",
       " 'Staravia',\n",
       " 'Starly',\n",
       " 'Starmie',\n",
       " 'Staryu',\n",
       " 'Steelix',\n",
       " 'Stoutland',\n",
       " 'Stunfisk',\n",
       " 'Stunky',\n",
       " 'Sudowoodo',\n",
       " 'Suicune',\n",
       " 'Sunflora',\n",
       " 'Sunkern',\n",
       " 'Surskit',\n",
       " 'Swablu',\n",
       " 'Swadloon',\n",
       " 'Swalot',\n",
       " 'Swampert',\n",
       " 'Swanna',\n",
       " 'Swellow',\n",
       " 'Swinub',\n",
       " 'Swirlix',\n",
       " 'Swoobat',\n",
       " 'Sylveon',\n",
       " 'Taillow',\n",
       " 'Talonflame',\n",
       " 'Tangela',\n",
       " 'Tangrowth',\n",
       " 'Tauros',\n",
       " 'Teddiursa',\n",
       " 'Tentacool',\n",
       " 'Tentacruel',\n",
       " 'Tepig',\n",
       " 'Terrakion',\n",
       " 'Throh',\n",
       " 'Thundurus',\n",
       " 'Timburr',\n",
       " 'Tirtouga',\n",
       " 'Togekiss',\n",
       " 'Togepi',\n",
       " 'Togetic',\n",
       " 'Torchic',\n",
       " 'Torkoal',\n",
       " 'Tornadus',\n",
       " 'Torterra',\n",
       " 'Totodile',\n",
       " 'Toxicroak',\n",
       " 'Tranquill',\n",
       " 'Trapinch',\n",
       " 'Treecko',\n",
       " 'Trevenant',\n",
       " 'Tropius',\n",
       " 'Trubbish',\n",
       " 'Turtwig',\n",
       " 'Tympole',\n",
       " 'Tynamo',\n",
       " 'Typhlosion',\n",
       " 'Tyranitar',\n",
       " 'Tyrantrum',\n",
       " 'Tyrogue',\n",
       " 'Tyrunt',\n",
       " 'Umbreon',\n",
       " 'Unfezant',\n",
       " 'Unown',\n",
       " 'Ursaring',\n",
       " 'Uxie',\n",
       " 'Vanillish',\n",
       " 'Vanillite',\n",
       " 'Vanilluxe',\n",
       " 'Vaporeon',\n",
       " 'Venipede',\n",
       " 'Venomoth',\n",
       " 'Venonat',\n",
       " 'Venusaur',\n",
       " 'Vespiquen',\n",
       " 'Vibrava',\n",
       " 'Victini',\n",
       " 'Victreebel',\n",
       " 'Vigoroth',\n",
       " 'Vileplume',\n",
       " 'Virizion',\n",
       " 'Vivillon',\n",
       " 'Volbeat',\n",
       " 'Volcanion',\n",
       " 'Volcarona',\n",
       " 'Voltorb',\n",
       " 'Vullaby',\n",
       " 'Vulpix',\n",
       " 'Wailmer',\n",
       " 'Wailord',\n",
       " 'Walrein',\n",
       " 'Wartortle',\n",
       " 'Watchog',\n",
       " 'Weavile',\n",
       " 'Weedle',\n",
       " 'Weepinbell',\n",
       " 'Weezing',\n",
       " 'Whimsicott',\n",
       " 'Whirlipede',\n",
       " 'Whiscash',\n",
       " 'Whismur',\n",
       " 'Wigglytuff',\n",
       " 'Wingull',\n",
       " 'Wobbuffet',\n",
       " 'Woobat',\n",
       " 'Wooper',\n",
       " 'Wormadam',\n",
       " 'Wurmple',\n",
       " 'Wynaut',\n",
       " 'Xatu',\n",
       " 'Xerneas',\n",
       " 'Yamask',\n",
       " 'Yanma',\n",
       " 'Yanmega',\n",
       " 'Yveltal',\n",
       " 'Zangoose',\n",
       " 'Zapdos',\n",
       " 'Zebstrika',\n",
       " 'Zekrom',\n",
       " 'Zigzagoon',\n",
       " 'Zoroark',\n",
       " 'Zorua',\n",
       " 'Zubat',\n",
       " 'Zweilous',\n",
       " 'Zygarde']"
      ]
     },
     "execution_count": 32,
     "metadata": {},
     "output_type": "execute_result"
    }
   ],
   "source": [
    "sorted(pokemon)"
   ]
  },
  {
   "cell_type": "code",
   "execution_count": 33,
   "id": "bf312fdf",
   "metadata": {},
   "outputs": [
    {
     "data": {
      "text/plain": [
       "list"
      ]
     },
     "execution_count": 33,
     "metadata": {},
     "output_type": "execute_result"
    }
   ],
   "source": [
    "type(sorted(pokemon))"
   ]
  },
  {
   "cell_type": "code",
   "execution_count": 34,
   "id": "2a88aae7",
   "metadata": {},
   "outputs": [
    {
     "data": {
      "text/plain": [
       "['Bulbasaur',\n",
       " 'Ivysaur',\n",
       " 'Venusaur',\n",
       " 'Charmander',\n",
       " 'Charmeleon',\n",
       " 'Charizard',\n",
       " 'Squirtle',\n",
       " 'Wartortle',\n",
       " 'Blastoise',\n",
       " 'Caterpie',\n",
       " 'Metapod',\n",
       " 'Butterfree',\n",
       " 'Weedle',\n",
       " 'Kakuna',\n",
       " 'Beedrill',\n",
       " 'Pidgey',\n",
       " 'Pidgeotto',\n",
       " 'Pidgeot',\n",
       " 'Rattata',\n",
       " 'Raticate',\n",
       " 'Spearow',\n",
       " 'Fearow',\n",
       " 'Ekans',\n",
       " 'Arbok',\n",
       " 'Pikachu',\n",
       " 'Raichu',\n",
       " 'Sandshrew',\n",
       " 'Sandslash',\n",
       " 'Nidoran',\n",
       " 'Nidorina',\n",
       " 'Nidoqueen',\n",
       " 'Nidoran♂',\n",
       " 'Nidorino',\n",
       " 'Nidoking',\n",
       " 'Clefairy',\n",
       " 'Clefable',\n",
       " 'Vulpix',\n",
       " 'Ninetales',\n",
       " 'Jigglypuff',\n",
       " 'Wigglytuff',\n",
       " 'Zubat',\n",
       " 'Golbat',\n",
       " 'Oddish',\n",
       " 'Gloom',\n",
       " 'Vileplume',\n",
       " 'Paras',\n",
       " 'Parasect',\n",
       " 'Venonat',\n",
       " 'Venomoth',\n",
       " 'Diglett',\n",
       " 'Dugtrio',\n",
       " 'Meowth',\n",
       " 'Persian',\n",
       " 'Psyduck',\n",
       " 'Golduck',\n",
       " 'Mankey',\n",
       " 'Primeape',\n",
       " 'Growlithe',\n",
       " 'Arcanine',\n",
       " 'Poliwag',\n",
       " 'Poliwhirl',\n",
       " 'Poliwrath',\n",
       " 'Abra',\n",
       " 'Kadabra',\n",
       " 'Alakazam',\n",
       " 'Machop',\n",
       " 'Machoke',\n",
       " 'Machamp',\n",
       " 'Bellsprout',\n",
       " 'Weepinbell',\n",
       " 'Victreebel',\n",
       " 'Tentacool',\n",
       " 'Tentacruel',\n",
       " 'Geodude',\n",
       " 'Graveler',\n",
       " 'Golem',\n",
       " 'Ponyta',\n",
       " 'Rapidash',\n",
       " 'Slowpoke',\n",
       " 'Slowbro',\n",
       " 'Magnemite',\n",
       " 'Magneton',\n",
       " \"Farfetch'd\",\n",
       " 'Doduo',\n",
       " 'Dodrio',\n",
       " 'Seel',\n",
       " 'Dewgong',\n",
       " 'Grimer',\n",
       " 'Muk',\n",
       " 'Shellder',\n",
       " 'Cloyster',\n",
       " 'Gastly',\n",
       " 'Haunter',\n",
       " 'Gengar',\n",
       " 'Onix',\n",
       " 'Drowzee',\n",
       " 'Hypno',\n",
       " 'Krabby',\n",
       " 'Kingler',\n",
       " 'Voltorb',\n",
       " 'Electrode',\n",
       " 'Exeggcute',\n",
       " 'Exeggutor',\n",
       " 'Cubone',\n",
       " 'Marowak',\n",
       " 'Hitmonlee',\n",
       " 'Hitmonchan',\n",
       " 'Lickitung',\n",
       " 'Koffing',\n",
       " 'Weezing',\n",
       " 'Rhyhorn',\n",
       " 'Rhydon',\n",
       " 'Chansey',\n",
       " 'Tangela',\n",
       " 'Kangaskhan',\n",
       " 'Horsea',\n",
       " 'Seadra',\n",
       " 'Goldeen',\n",
       " 'Seaking',\n",
       " 'Staryu',\n",
       " 'Starmie',\n",
       " 'Mr. Mime',\n",
       " 'Scyther',\n",
       " 'Jynx',\n",
       " 'Electabuzz',\n",
       " 'Magmar',\n",
       " 'Pinsir',\n",
       " 'Tauros',\n",
       " 'Magikarp',\n",
       " 'Gyarados',\n",
       " 'Lapras',\n",
       " 'Ditto',\n",
       " 'Eevee',\n",
       " 'Vaporeon',\n",
       " 'Jolteon',\n",
       " 'Flareon',\n",
       " 'Porygon',\n",
       " 'Omanyte',\n",
       " 'Omastar',\n",
       " 'Kabuto',\n",
       " 'Kabutops',\n",
       " 'Aerodactyl',\n",
       " 'Snorlax',\n",
       " 'Articuno',\n",
       " 'Zapdos',\n",
       " 'Moltres',\n",
       " 'Dratini',\n",
       " 'Dragonair',\n",
       " 'Dragonite',\n",
       " 'Mewtwo',\n",
       " 'Mew',\n",
       " 'Chikorita',\n",
       " 'Bayleef',\n",
       " 'Meganium',\n",
       " 'Cyndaquil',\n",
       " 'Quilava',\n",
       " 'Typhlosion',\n",
       " 'Totodile',\n",
       " 'Croconaw',\n",
       " 'Feraligatr',\n",
       " 'Sentret',\n",
       " 'Furret',\n",
       " 'Hoothoot',\n",
       " 'Noctowl',\n",
       " 'Ledyba',\n",
       " 'Ledian',\n",
       " 'Spinarak',\n",
       " 'Ariados',\n",
       " 'Crobat',\n",
       " 'Chinchou',\n",
       " 'Lanturn',\n",
       " 'Pichu',\n",
       " 'Cleffa',\n",
       " 'Igglybuff',\n",
       " 'Togepi',\n",
       " 'Togetic',\n",
       " 'Natu',\n",
       " 'Xatu',\n",
       " 'Mareep',\n",
       " 'Flaaffy',\n",
       " 'Ampharos',\n",
       " 'Bellossom',\n",
       " 'Marill',\n",
       " 'Azumarill',\n",
       " 'Sudowoodo',\n",
       " 'Politoed',\n",
       " 'Hoppip',\n",
       " 'Skiploom',\n",
       " 'Jumpluff',\n",
       " 'Aipom',\n",
       " 'Sunkern',\n",
       " 'Sunflora',\n",
       " 'Yanma',\n",
       " 'Wooper',\n",
       " 'Quagsire',\n",
       " 'Espeon',\n",
       " 'Umbreon',\n",
       " 'Murkrow',\n",
       " 'Slowking',\n",
       " 'Misdreavus',\n",
       " 'Unown',\n",
       " 'Wobbuffet',\n",
       " 'Girafarig',\n",
       " 'Pineco',\n",
       " 'Forretress',\n",
       " 'Dunsparce',\n",
       " 'Gligar',\n",
       " 'Steelix',\n",
       " 'Snubbull',\n",
       " 'Granbull',\n",
       " 'Qwilfish',\n",
       " 'Scizor',\n",
       " 'Shuckle',\n",
       " 'Heracross',\n",
       " 'Sneasel',\n",
       " 'Teddiursa',\n",
       " 'Ursaring',\n",
       " 'Slugma',\n",
       " 'Magcargo',\n",
       " 'Swinub',\n",
       " 'Piloswine',\n",
       " 'Corsola',\n",
       " 'Remoraid',\n",
       " 'Octillery',\n",
       " 'Delibird',\n",
       " 'Mantine',\n",
       " 'Skarmory',\n",
       " 'Houndour',\n",
       " 'Houndoom',\n",
       " 'Kingdra',\n",
       " 'Phanpy',\n",
       " 'Donphan',\n",
       " 'Porygon2',\n",
       " 'Stantler',\n",
       " 'Smeargle',\n",
       " 'Tyrogue',\n",
       " 'Hitmontop',\n",
       " 'Smoochum',\n",
       " 'Elekid',\n",
       " 'Magby',\n",
       " 'Miltank',\n",
       " 'Blissey',\n",
       " 'Raikou',\n",
       " 'Entei',\n",
       " 'Suicune',\n",
       " 'Larvitar',\n",
       " 'Pupitar',\n",
       " 'Tyranitar',\n",
       " 'Lugia',\n",
       " 'Ho-oh',\n",
       " 'Celebi',\n",
       " 'Treecko',\n",
       " 'Grovyle',\n",
       " 'Sceptile',\n",
       " 'Torchic',\n",
       " 'Combusken',\n",
       " 'Blaziken',\n",
       " 'Mudkip',\n",
       " 'Marshtomp',\n",
       " 'Swampert',\n",
       " 'Poochyena',\n",
       " 'Mightyena',\n",
       " 'Zigzagoon',\n",
       " 'Linoone',\n",
       " 'Wurmple',\n",
       " 'Silcoon',\n",
       " 'Beautifly',\n",
       " 'Cascoon',\n",
       " 'Dustox',\n",
       " 'Lotad',\n",
       " 'Lombre',\n",
       " 'Ludicolo',\n",
       " 'Seedot',\n",
       " 'Nuzleaf',\n",
       " 'Shiftry',\n",
       " 'Taillow',\n",
       " 'Swellow',\n",
       " 'Wingull',\n",
       " 'Pelipper',\n",
       " 'Ralts',\n",
       " 'Kirlia',\n",
       " 'Gardevoir',\n",
       " 'Surskit',\n",
       " 'Masquerain',\n",
       " 'Shroomish',\n",
       " 'Breloom',\n",
       " 'Slakoth',\n",
       " 'Vigoroth',\n",
       " 'Slaking',\n",
       " 'Nincada',\n",
       " 'Ninjask',\n",
       " 'Shedinja',\n",
       " 'Whismur',\n",
       " 'Loudred',\n",
       " 'Exploud',\n",
       " 'Makuhita',\n",
       " 'Hariyama',\n",
       " 'Azurill',\n",
       " 'Nosepass',\n",
       " 'Skitty',\n",
       " 'Delcatty',\n",
       " 'Sableye',\n",
       " 'Mawile',\n",
       " 'Aron',\n",
       " 'Lairon',\n",
       " 'Aggron',\n",
       " 'Meditite',\n",
       " 'Medicham',\n",
       " 'Electrike',\n",
       " 'Manectric',\n",
       " 'Plusle',\n",
       " 'Minun',\n",
       " 'Volbeat',\n",
       " 'Illumise',\n",
       " 'Roselia',\n",
       " 'Gulpin',\n",
       " 'Swalot',\n",
       " 'Carvanha',\n",
       " 'Sharpedo',\n",
       " 'Wailmer',\n",
       " 'Wailord',\n",
       " 'Numel',\n",
       " 'Camerupt',\n",
       " 'Torkoal',\n",
       " 'Spoink',\n",
       " 'Grumpig',\n",
       " 'Spinda',\n",
       " 'Trapinch',\n",
       " 'Vibrava',\n",
       " 'Flygon',\n",
       " 'Cacnea',\n",
       " 'Cacturne',\n",
       " 'Swablu',\n",
       " 'Altaria',\n",
       " 'Zangoose',\n",
       " 'Seviper',\n",
       " 'Lunatone',\n",
       " 'Solrock',\n",
       " 'Barboach',\n",
       " 'Whiscash',\n",
       " 'Corphish',\n",
       " 'Crawdaunt',\n",
       " 'Baltoy',\n",
       " 'Claydol',\n",
       " 'Lileep',\n",
       " 'Cradily',\n",
       " 'Anorith',\n",
       " 'Armaldo',\n",
       " 'Feebas',\n",
       " 'Milotic',\n",
       " 'Castform',\n",
       " 'Kecleon',\n",
       " 'Shuppet',\n",
       " 'Banette',\n",
       " 'Duskull',\n",
       " 'Dusclops',\n",
       " 'Tropius',\n",
       " 'Chimecho',\n",
       " 'Absol',\n",
       " 'Wynaut',\n",
       " 'Snorunt',\n",
       " 'Glalie',\n",
       " 'Spheal',\n",
       " 'Sealeo',\n",
       " 'Walrein',\n",
       " 'Clamperl',\n",
       " 'Huntail',\n",
       " 'Gorebyss',\n",
       " 'Relicanth',\n",
       " 'Luvdisc',\n",
       " 'Bagon',\n",
       " 'Shelgon',\n",
       " 'Salamence',\n",
       " 'Beldum',\n",
       " 'Metang',\n",
       " 'Metagross',\n",
       " 'Regirock',\n",
       " 'Regice',\n",
       " 'Registeel',\n",
       " 'Latias',\n",
       " 'Latios',\n",
       " 'Kyogre',\n",
       " 'Groudon',\n",
       " 'Rayquaza',\n",
       " 'Jirachi',\n",
       " 'Deoxys',\n",
       " 'Turtwig',\n",
       " 'Grotle',\n",
       " 'Torterra',\n",
       " 'Chimchar',\n",
       " 'Monferno',\n",
       " 'Infernape',\n",
       " 'Piplup',\n",
       " 'Prinplup',\n",
       " 'Empoleon',\n",
       " 'Starly',\n",
       " 'Staravia',\n",
       " 'Staraptor',\n",
       " 'Bidoof',\n",
       " 'Bibarel',\n",
       " 'Kricketot',\n",
       " 'Kricketune',\n",
       " 'Shinx',\n",
       " 'Luxio',\n",
       " 'Luxray',\n",
       " 'Budew',\n",
       " 'Roserade',\n",
       " 'Cranidos',\n",
       " 'Rampardos',\n",
       " 'Shieldon',\n",
       " 'Bastiodon',\n",
       " 'Burmy',\n",
       " 'Wormadam',\n",
       " 'Mothim',\n",
       " 'Combee',\n",
       " 'Vespiquen',\n",
       " 'Pachirisu',\n",
       " 'Buizel',\n",
       " 'Floatzel',\n",
       " 'Cherubi',\n",
       " 'Cherrim',\n",
       " 'Shellos',\n",
       " 'Gastrodon',\n",
       " 'Ambipom',\n",
       " 'Drifloon',\n",
       " 'Drifblim',\n",
       " 'Buneary',\n",
       " 'Lopunny',\n",
       " 'Mismagius',\n",
       " 'Honchkrow',\n",
       " 'Glameow',\n",
       " 'Purugly',\n",
       " 'Chingling',\n",
       " 'Stunky',\n",
       " 'Skuntank',\n",
       " 'Bronzor',\n",
       " 'Bronzong',\n",
       " 'Bonsly',\n",
       " 'Mime Jr.',\n",
       " 'Happiny',\n",
       " 'Chatot',\n",
       " 'Spiritomb',\n",
       " 'Gible',\n",
       " 'Gabite',\n",
       " 'Garchomp',\n",
       " 'Munchlax',\n",
       " 'Riolu',\n",
       " 'Lucario',\n",
       " 'Hippopotas',\n",
       " 'Hippowdon',\n",
       " 'Skorupi',\n",
       " 'Drapion',\n",
       " 'Croagunk',\n",
       " 'Toxicroak',\n",
       " 'Carnivine',\n",
       " 'Finneon',\n",
       " 'Lumineon',\n",
       " 'Mantyke',\n",
       " 'Snover',\n",
       " 'Abomasnow',\n",
       " 'Weavile',\n",
       " 'Magnezone',\n",
       " 'Lickilicky',\n",
       " 'Rhyperior',\n",
       " 'Tangrowth',\n",
       " 'Electivire',\n",
       " 'Magmortar',\n",
       " 'Togekiss',\n",
       " 'Yanmega',\n",
       " 'Leafeon',\n",
       " 'Glaceon',\n",
       " 'Gliscor',\n",
       " 'Mamoswine',\n",
       " 'Porygon-Z',\n",
       " 'Gallade',\n",
       " 'Probopass',\n",
       " 'Dusknoir',\n",
       " 'Froslass',\n",
       " 'Rotom',\n",
       " 'Uxie',\n",
       " 'Mesprit',\n",
       " 'Azelf',\n",
       " 'Dialga',\n",
       " 'Palkia',\n",
       " 'Heatran',\n",
       " 'Regigigas',\n",
       " 'Giratina',\n",
       " 'Cresselia',\n",
       " 'Phione',\n",
       " 'Manaphy',\n",
       " 'Darkrai',\n",
       " 'Shaymin',\n",
       " 'Arceus',\n",
       " 'Victini',\n",
       " 'Snivy',\n",
       " 'Servine',\n",
       " 'Serperior',\n",
       " 'Tepig',\n",
       " 'Pignite',\n",
       " 'Emboar',\n",
       " 'Oshawott',\n",
       " 'Dewott',\n",
       " 'Samurott',\n",
       " 'Patrat',\n",
       " 'Watchog',\n",
       " 'Lillipup',\n",
       " 'Herdier',\n",
       " 'Stoutland',\n",
       " 'Purrloin',\n",
       " 'Liepard',\n",
       " 'Pansage',\n",
       " 'Simisage',\n",
       " 'Pansear',\n",
       " 'Simisear',\n",
       " 'Panpour',\n",
       " 'Simipour',\n",
       " 'Munna',\n",
       " 'Musharna',\n",
       " 'Pidove',\n",
       " 'Tranquill',\n",
       " 'Unfezant',\n",
       " 'Blitzle',\n",
       " 'Zebstrika',\n",
       " 'Roggenrola',\n",
       " 'Boldore',\n",
       " 'Gigalith',\n",
       " 'Woobat',\n",
       " 'Swoobat',\n",
       " 'Drilbur',\n",
       " 'Excadrill',\n",
       " 'Audino',\n",
       " 'Timburr',\n",
       " 'Gurdurr',\n",
       " 'Conkeldurr',\n",
       " 'Tympole',\n",
       " 'Palpitoad',\n",
       " 'Seismitoad',\n",
       " 'Throh',\n",
       " 'Sawk',\n",
       " 'Sewaddle',\n",
       " 'Swadloon',\n",
       " 'Leavanny',\n",
       " 'Venipede',\n",
       " 'Whirlipede',\n",
       " 'Scolipede',\n",
       " 'Cottonee',\n",
       " 'Whimsicott',\n",
       " 'Petilil',\n",
       " 'Lilligant',\n",
       " 'Basculin',\n",
       " 'Sandile',\n",
       " 'Krokorok',\n",
       " 'Krookodile',\n",
       " 'Darumaka',\n",
       " 'Darmanitan',\n",
       " 'Maractus',\n",
       " 'Dwebble',\n",
       " 'Crustle',\n",
       " 'Scraggy',\n",
       " 'Scrafty',\n",
       " 'Sigilyph',\n",
       " 'Yamask',\n",
       " 'Cofagrigus',\n",
       " 'Tirtouga',\n",
       " 'Carracosta',\n",
       " 'Archen',\n",
       " 'Archeops',\n",
       " 'Trubbish',\n",
       " 'Garbodor',\n",
       " 'Zorua',\n",
       " 'Zoroark',\n",
       " 'Minccino',\n",
       " 'Cinccino',\n",
       " 'Gothita',\n",
       " 'Gothorita',\n",
       " 'Gothitelle',\n",
       " 'Solosis',\n",
       " 'Duosion',\n",
       " 'Reuniclus',\n",
       " 'Ducklett',\n",
       " 'Swanna',\n",
       " 'Vanillite',\n",
       " 'Vanillish',\n",
       " 'Vanilluxe',\n",
       " 'Deerling',\n",
       " 'Sawsbuck',\n",
       " 'Emolga',\n",
       " 'Karrablast',\n",
       " 'Escavalier',\n",
       " 'Foongus',\n",
       " 'Amoonguss',\n",
       " 'Frillish',\n",
       " 'Jellicent',\n",
       " 'Alomomola',\n",
       " 'Joltik',\n",
       " 'Galvantula',\n",
       " 'Ferroseed',\n",
       " 'Ferrothorn',\n",
       " 'Klink',\n",
       " 'Klang',\n",
       " 'Klinklang',\n",
       " 'Tynamo',\n",
       " 'Eelektrik',\n",
       " 'Eelektross',\n",
       " 'Elgyem',\n",
       " 'Beheeyem',\n",
       " 'Litwick',\n",
       " 'Lampent',\n",
       " 'Chandelure',\n",
       " 'Axew',\n",
       " 'Fraxure',\n",
       " 'Haxorus',\n",
       " 'Cubchoo',\n",
       " 'Beartic',\n",
       " 'Cryogonal',\n",
       " 'Shelmet',\n",
       " 'Accelgor',\n",
       " 'Stunfisk',\n",
       " 'Mienfoo',\n",
       " 'Mienshao',\n",
       " 'Druddigon',\n",
       " 'Golett',\n",
       " 'Golurk',\n",
       " 'Pawniard',\n",
       " 'Bisharp',\n",
       " 'Bouffalant',\n",
       " 'Rufflet',\n",
       " 'Braviary',\n",
       " 'Vullaby',\n",
       " 'Mandibuzz',\n",
       " 'Heatmor',\n",
       " 'Durant',\n",
       " 'Deino',\n",
       " 'Zweilous',\n",
       " 'Hydreigon',\n",
       " 'Larvesta',\n",
       " 'Volcarona',\n",
       " 'Cobalion',\n",
       " 'Terrakion',\n",
       " 'Virizion',\n",
       " 'Tornadus',\n",
       " 'Thundurus',\n",
       " 'Reshiram',\n",
       " 'Zekrom',\n",
       " 'Landorus',\n",
       " 'Kyurem',\n",
       " 'Keldeo',\n",
       " 'Meloetta',\n",
       " 'Genesect',\n",
       " 'Chespin',\n",
       " 'Quilladin',\n",
       " 'Chesnaught',\n",
       " 'Fennekin',\n",
       " 'Braixen',\n",
       " 'Delphox',\n",
       " 'Froakie',\n",
       " 'Frogadier',\n",
       " 'Greninja',\n",
       " 'Bunnelby',\n",
       " 'Diggersby',\n",
       " 'Fletchling',\n",
       " 'Fletchinder',\n",
       " 'Talonflame',\n",
       " 'Scatterbug',\n",
       " 'Spewpa',\n",
       " 'Vivillon',\n",
       " 'Litleo',\n",
       " 'Pyroar',\n",
       " 'Flabébé',\n",
       " 'Floette',\n",
       " 'Florges',\n",
       " 'Skiddo',\n",
       " 'Gogoat',\n",
       " 'Pancham',\n",
       " 'Pangoro',\n",
       " 'Furfrou',\n",
       " 'Espurr',\n",
       " 'Meowstic',\n",
       " 'Honedge',\n",
       " 'Doublade',\n",
       " 'Aegislash',\n",
       " 'Spritzee',\n",
       " 'Aromatisse',\n",
       " 'Swirlix',\n",
       " 'Slurpuff',\n",
       " 'Inkay',\n",
       " 'Malamar',\n",
       " 'Binacle',\n",
       " 'Barbaracle',\n",
       " 'Skrelp',\n",
       " 'Dragalge',\n",
       " 'Clauncher',\n",
       " 'Clawitzer',\n",
       " 'Helioptile',\n",
       " 'Heliolisk',\n",
       " 'Tyrunt',\n",
       " 'Tyrantrum',\n",
       " 'Amaura',\n",
       " 'Aurorus',\n",
       " 'Sylveon',\n",
       " 'Hawlucha',\n",
       " 'Dedenne',\n",
       " 'Carbink',\n",
       " 'Goomy',\n",
       " 'Sliggoo',\n",
       " 'Goodra',\n",
       " 'Klefki',\n",
       " 'Phantump',\n",
       " 'Trevenant',\n",
       " 'Pumpkaboo',\n",
       " 'Gourgeist',\n",
       " 'Bergmite',\n",
       " 'Avalugg',\n",
       " 'Noibat',\n",
       " 'Noivern',\n",
       " 'Xerneas',\n",
       " 'Yveltal',\n",
       " 'Zygarde',\n",
       " 'Diancie',\n",
       " 'Hoopa',\n",
       " 'Volcanion']"
      ]
     },
     "execution_count": 34,
     "metadata": {},
     "output_type": "execute_result"
    }
   ],
   "source": [
    "list(pokemon)"
   ]
  },
  {
   "cell_type": "code",
   "execution_count": 35,
   "id": "8edc88ea",
   "metadata": {},
   "outputs": [
    {
     "data": {
      "text/plain": [
       "('Bulbasaur',\n",
       " 'Ivysaur',\n",
       " 'Venusaur',\n",
       " 'Charmander',\n",
       " 'Charmeleon',\n",
       " 'Charizard',\n",
       " 'Squirtle',\n",
       " 'Wartortle',\n",
       " 'Blastoise',\n",
       " 'Caterpie',\n",
       " 'Metapod',\n",
       " 'Butterfree',\n",
       " 'Weedle',\n",
       " 'Kakuna',\n",
       " 'Beedrill',\n",
       " 'Pidgey',\n",
       " 'Pidgeotto',\n",
       " 'Pidgeot',\n",
       " 'Rattata',\n",
       " 'Raticate',\n",
       " 'Spearow',\n",
       " 'Fearow',\n",
       " 'Ekans',\n",
       " 'Arbok',\n",
       " 'Pikachu',\n",
       " 'Raichu',\n",
       " 'Sandshrew',\n",
       " 'Sandslash',\n",
       " 'Nidoran',\n",
       " 'Nidorina',\n",
       " 'Nidoqueen',\n",
       " 'Nidoran♂',\n",
       " 'Nidorino',\n",
       " 'Nidoking',\n",
       " 'Clefairy',\n",
       " 'Clefable',\n",
       " 'Vulpix',\n",
       " 'Ninetales',\n",
       " 'Jigglypuff',\n",
       " 'Wigglytuff',\n",
       " 'Zubat',\n",
       " 'Golbat',\n",
       " 'Oddish',\n",
       " 'Gloom',\n",
       " 'Vileplume',\n",
       " 'Paras',\n",
       " 'Parasect',\n",
       " 'Venonat',\n",
       " 'Venomoth',\n",
       " 'Diglett',\n",
       " 'Dugtrio',\n",
       " 'Meowth',\n",
       " 'Persian',\n",
       " 'Psyduck',\n",
       " 'Golduck',\n",
       " 'Mankey',\n",
       " 'Primeape',\n",
       " 'Growlithe',\n",
       " 'Arcanine',\n",
       " 'Poliwag',\n",
       " 'Poliwhirl',\n",
       " 'Poliwrath',\n",
       " 'Abra',\n",
       " 'Kadabra',\n",
       " 'Alakazam',\n",
       " 'Machop',\n",
       " 'Machoke',\n",
       " 'Machamp',\n",
       " 'Bellsprout',\n",
       " 'Weepinbell',\n",
       " 'Victreebel',\n",
       " 'Tentacool',\n",
       " 'Tentacruel',\n",
       " 'Geodude',\n",
       " 'Graveler',\n",
       " 'Golem',\n",
       " 'Ponyta',\n",
       " 'Rapidash',\n",
       " 'Slowpoke',\n",
       " 'Slowbro',\n",
       " 'Magnemite',\n",
       " 'Magneton',\n",
       " \"Farfetch'd\",\n",
       " 'Doduo',\n",
       " 'Dodrio',\n",
       " 'Seel',\n",
       " 'Dewgong',\n",
       " 'Grimer',\n",
       " 'Muk',\n",
       " 'Shellder',\n",
       " 'Cloyster',\n",
       " 'Gastly',\n",
       " 'Haunter',\n",
       " 'Gengar',\n",
       " 'Onix',\n",
       " 'Drowzee',\n",
       " 'Hypno',\n",
       " 'Krabby',\n",
       " 'Kingler',\n",
       " 'Voltorb',\n",
       " 'Electrode',\n",
       " 'Exeggcute',\n",
       " 'Exeggutor',\n",
       " 'Cubone',\n",
       " 'Marowak',\n",
       " 'Hitmonlee',\n",
       " 'Hitmonchan',\n",
       " 'Lickitung',\n",
       " 'Koffing',\n",
       " 'Weezing',\n",
       " 'Rhyhorn',\n",
       " 'Rhydon',\n",
       " 'Chansey',\n",
       " 'Tangela',\n",
       " 'Kangaskhan',\n",
       " 'Horsea',\n",
       " 'Seadra',\n",
       " 'Goldeen',\n",
       " 'Seaking',\n",
       " 'Staryu',\n",
       " 'Starmie',\n",
       " 'Mr. Mime',\n",
       " 'Scyther',\n",
       " 'Jynx',\n",
       " 'Electabuzz',\n",
       " 'Magmar',\n",
       " 'Pinsir',\n",
       " 'Tauros',\n",
       " 'Magikarp',\n",
       " 'Gyarados',\n",
       " 'Lapras',\n",
       " 'Ditto',\n",
       " 'Eevee',\n",
       " 'Vaporeon',\n",
       " 'Jolteon',\n",
       " 'Flareon',\n",
       " 'Porygon',\n",
       " 'Omanyte',\n",
       " 'Omastar',\n",
       " 'Kabuto',\n",
       " 'Kabutops',\n",
       " 'Aerodactyl',\n",
       " 'Snorlax',\n",
       " 'Articuno',\n",
       " 'Zapdos',\n",
       " 'Moltres',\n",
       " 'Dratini',\n",
       " 'Dragonair',\n",
       " 'Dragonite',\n",
       " 'Mewtwo',\n",
       " 'Mew',\n",
       " 'Chikorita',\n",
       " 'Bayleef',\n",
       " 'Meganium',\n",
       " 'Cyndaquil',\n",
       " 'Quilava',\n",
       " 'Typhlosion',\n",
       " 'Totodile',\n",
       " 'Croconaw',\n",
       " 'Feraligatr',\n",
       " 'Sentret',\n",
       " 'Furret',\n",
       " 'Hoothoot',\n",
       " 'Noctowl',\n",
       " 'Ledyba',\n",
       " 'Ledian',\n",
       " 'Spinarak',\n",
       " 'Ariados',\n",
       " 'Crobat',\n",
       " 'Chinchou',\n",
       " 'Lanturn',\n",
       " 'Pichu',\n",
       " 'Cleffa',\n",
       " 'Igglybuff',\n",
       " 'Togepi',\n",
       " 'Togetic',\n",
       " 'Natu',\n",
       " 'Xatu',\n",
       " 'Mareep',\n",
       " 'Flaaffy',\n",
       " 'Ampharos',\n",
       " 'Bellossom',\n",
       " 'Marill',\n",
       " 'Azumarill',\n",
       " 'Sudowoodo',\n",
       " 'Politoed',\n",
       " 'Hoppip',\n",
       " 'Skiploom',\n",
       " 'Jumpluff',\n",
       " 'Aipom',\n",
       " 'Sunkern',\n",
       " 'Sunflora',\n",
       " 'Yanma',\n",
       " 'Wooper',\n",
       " 'Quagsire',\n",
       " 'Espeon',\n",
       " 'Umbreon',\n",
       " 'Murkrow',\n",
       " 'Slowking',\n",
       " 'Misdreavus',\n",
       " 'Unown',\n",
       " 'Wobbuffet',\n",
       " 'Girafarig',\n",
       " 'Pineco',\n",
       " 'Forretress',\n",
       " 'Dunsparce',\n",
       " 'Gligar',\n",
       " 'Steelix',\n",
       " 'Snubbull',\n",
       " 'Granbull',\n",
       " 'Qwilfish',\n",
       " 'Scizor',\n",
       " 'Shuckle',\n",
       " 'Heracross',\n",
       " 'Sneasel',\n",
       " 'Teddiursa',\n",
       " 'Ursaring',\n",
       " 'Slugma',\n",
       " 'Magcargo',\n",
       " 'Swinub',\n",
       " 'Piloswine',\n",
       " 'Corsola',\n",
       " 'Remoraid',\n",
       " 'Octillery',\n",
       " 'Delibird',\n",
       " 'Mantine',\n",
       " 'Skarmory',\n",
       " 'Houndour',\n",
       " 'Houndoom',\n",
       " 'Kingdra',\n",
       " 'Phanpy',\n",
       " 'Donphan',\n",
       " 'Porygon2',\n",
       " 'Stantler',\n",
       " 'Smeargle',\n",
       " 'Tyrogue',\n",
       " 'Hitmontop',\n",
       " 'Smoochum',\n",
       " 'Elekid',\n",
       " 'Magby',\n",
       " 'Miltank',\n",
       " 'Blissey',\n",
       " 'Raikou',\n",
       " 'Entei',\n",
       " 'Suicune',\n",
       " 'Larvitar',\n",
       " 'Pupitar',\n",
       " 'Tyranitar',\n",
       " 'Lugia',\n",
       " 'Ho-oh',\n",
       " 'Celebi',\n",
       " 'Treecko',\n",
       " 'Grovyle',\n",
       " 'Sceptile',\n",
       " 'Torchic',\n",
       " 'Combusken',\n",
       " 'Blaziken',\n",
       " 'Mudkip',\n",
       " 'Marshtomp',\n",
       " 'Swampert',\n",
       " 'Poochyena',\n",
       " 'Mightyena',\n",
       " 'Zigzagoon',\n",
       " 'Linoone',\n",
       " 'Wurmple',\n",
       " 'Silcoon',\n",
       " 'Beautifly',\n",
       " 'Cascoon',\n",
       " 'Dustox',\n",
       " 'Lotad',\n",
       " 'Lombre',\n",
       " 'Ludicolo',\n",
       " 'Seedot',\n",
       " 'Nuzleaf',\n",
       " 'Shiftry',\n",
       " 'Taillow',\n",
       " 'Swellow',\n",
       " 'Wingull',\n",
       " 'Pelipper',\n",
       " 'Ralts',\n",
       " 'Kirlia',\n",
       " 'Gardevoir',\n",
       " 'Surskit',\n",
       " 'Masquerain',\n",
       " 'Shroomish',\n",
       " 'Breloom',\n",
       " 'Slakoth',\n",
       " 'Vigoroth',\n",
       " 'Slaking',\n",
       " 'Nincada',\n",
       " 'Ninjask',\n",
       " 'Shedinja',\n",
       " 'Whismur',\n",
       " 'Loudred',\n",
       " 'Exploud',\n",
       " 'Makuhita',\n",
       " 'Hariyama',\n",
       " 'Azurill',\n",
       " 'Nosepass',\n",
       " 'Skitty',\n",
       " 'Delcatty',\n",
       " 'Sableye',\n",
       " 'Mawile',\n",
       " 'Aron',\n",
       " 'Lairon',\n",
       " 'Aggron',\n",
       " 'Meditite',\n",
       " 'Medicham',\n",
       " 'Electrike',\n",
       " 'Manectric',\n",
       " 'Plusle',\n",
       " 'Minun',\n",
       " 'Volbeat',\n",
       " 'Illumise',\n",
       " 'Roselia',\n",
       " 'Gulpin',\n",
       " 'Swalot',\n",
       " 'Carvanha',\n",
       " 'Sharpedo',\n",
       " 'Wailmer',\n",
       " 'Wailord',\n",
       " 'Numel',\n",
       " 'Camerupt',\n",
       " 'Torkoal',\n",
       " 'Spoink',\n",
       " 'Grumpig',\n",
       " 'Spinda',\n",
       " 'Trapinch',\n",
       " 'Vibrava',\n",
       " 'Flygon',\n",
       " 'Cacnea',\n",
       " 'Cacturne',\n",
       " 'Swablu',\n",
       " 'Altaria',\n",
       " 'Zangoose',\n",
       " 'Seviper',\n",
       " 'Lunatone',\n",
       " 'Solrock',\n",
       " 'Barboach',\n",
       " 'Whiscash',\n",
       " 'Corphish',\n",
       " 'Crawdaunt',\n",
       " 'Baltoy',\n",
       " 'Claydol',\n",
       " 'Lileep',\n",
       " 'Cradily',\n",
       " 'Anorith',\n",
       " 'Armaldo',\n",
       " 'Feebas',\n",
       " 'Milotic',\n",
       " 'Castform',\n",
       " 'Kecleon',\n",
       " 'Shuppet',\n",
       " 'Banette',\n",
       " 'Duskull',\n",
       " 'Dusclops',\n",
       " 'Tropius',\n",
       " 'Chimecho',\n",
       " 'Absol',\n",
       " 'Wynaut',\n",
       " 'Snorunt',\n",
       " 'Glalie',\n",
       " 'Spheal',\n",
       " 'Sealeo',\n",
       " 'Walrein',\n",
       " 'Clamperl',\n",
       " 'Huntail',\n",
       " 'Gorebyss',\n",
       " 'Relicanth',\n",
       " 'Luvdisc',\n",
       " 'Bagon',\n",
       " 'Shelgon',\n",
       " 'Salamence',\n",
       " 'Beldum',\n",
       " 'Metang',\n",
       " 'Metagross',\n",
       " 'Regirock',\n",
       " 'Regice',\n",
       " 'Registeel',\n",
       " 'Latias',\n",
       " 'Latios',\n",
       " 'Kyogre',\n",
       " 'Groudon',\n",
       " 'Rayquaza',\n",
       " 'Jirachi',\n",
       " 'Deoxys',\n",
       " 'Turtwig',\n",
       " 'Grotle',\n",
       " 'Torterra',\n",
       " 'Chimchar',\n",
       " 'Monferno',\n",
       " 'Infernape',\n",
       " 'Piplup',\n",
       " 'Prinplup',\n",
       " 'Empoleon',\n",
       " 'Starly',\n",
       " 'Staravia',\n",
       " 'Staraptor',\n",
       " 'Bidoof',\n",
       " 'Bibarel',\n",
       " 'Kricketot',\n",
       " 'Kricketune',\n",
       " 'Shinx',\n",
       " 'Luxio',\n",
       " 'Luxray',\n",
       " 'Budew',\n",
       " 'Roserade',\n",
       " 'Cranidos',\n",
       " 'Rampardos',\n",
       " 'Shieldon',\n",
       " 'Bastiodon',\n",
       " 'Burmy',\n",
       " 'Wormadam',\n",
       " 'Mothim',\n",
       " 'Combee',\n",
       " 'Vespiquen',\n",
       " 'Pachirisu',\n",
       " 'Buizel',\n",
       " 'Floatzel',\n",
       " 'Cherubi',\n",
       " 'Cherrim',\n",
       " 'Shellos',\n",
       " 'Gastrodon',\n",
       " 'Ambipom',\n",
       " 'Drifloon',\n",
       " 'Drifblim',\n",
       " 'Buneary',\n",
       " 'Lopunny',\n",
       " 'Mismagius',\n",
       " 'Honchkrow',\n",
       " 'Glameow',\n",
       " 'Purugly',\n",
       " 'Chingling',\n",
       " 'Stunky',\n",
       " 'Skuntank',\n",
       " 'Bronzor',\n",
       " 'Bronzong',\n",
       " 'Bonsly',\n",
       " 'Mime Jr.',\n",
       " 'Happiny',\n",
       " 'Chatot',\n",
       " 'Spiritomb',\n",
       " 'Gible',\n",
       " 'Gabite',\n",
       " 'Garchomp',\n",
       " 'Munchlax',\n",
       " 'Riolu',\n",
       " 'Lucario',\n",
       " 'Hippopotas',\n",
       " 'Hippowdon',\n",
       " 'Skorupi',\n",
       " 'Drapion',\n",
       " 'Croagunk',\n",
       " 'Toxicroak',\n",
       " 'Carnivine',\n",
       " 'Finneon',\n",
       " 'Lumineon',\n",
       " 'Mantyke',\n",
       " 'Snover',\n",
       " 'Abomasnow',\n",
       " 'Weavile',\n",
       " 'Magnezone',\n",
       " 'Lickilicky',\n",
       " 'Rhyperior',\n",
       " 'Tangrowth',\n",
       " 'Electivire',\n",
       " 'Magmortar',\n",
       " 'Togekiss',\n",
       " 'Yanmega',\n",
       " 'Leafeon',\n",
       " 'Glaceon',\n",
       " 'Gliscor',\n",
       " 'Mamoswine',\n",
       " 'Porygon-Z',\n",
       " 'Gallade',\n",
       " 'Probopass',\n",
       " 'Dusknoir',\n",
       " 'Froslass',\n",
       " 'Rotom',\n",
       " 'Uxie',\n",
       " 'Mesprit',\n",
       " 'Azelf',\n",
       " 'Dialga',\n",
       " 'Palkia',\n",
       " 'Heatran',\n",
       " 'Regigigas',\n",
       " 'Giratina',\n",
       " 'Cresselia',\n",
       " 'Phione',\n",
       " 'Manaphy',\n",
       " 'Darkrai',\n",
       " 'Shaymin',\n",
       " 'Arceus',\n",
       " 'Victini',\n",
       " 'Snivy',\n",
       " 'Servine',\n",
       " 'Serperior',\n",
       " 'Tepig',\n",
       " 'Pignite',\n",
       " 'Emboar',\n",
       " 'Oshawott',\n",
       " 'Dewott',\n",
       " 'Samurott',\n",
       " 'Patrat',\n",
       " 'Watchog',\n",
       " 'Lillipup',\n",
       " 'Herdier',\n",
       " 'Stoutland',\n",
       " 'Purrloin',\n",
       " 'Liepard',\n",
       " 'Pansage',\n",
       " 'Simisage',\n",
       " 'Pansear',\n",
       " 'Simisear',\n",
       " 'Panpour',\n",
       " 'Simipour',\n",
       " 'Munna',\n",
       " 'Musharna',\n",
       " 'Pidove',\n",
       " 'Tranquill',\n",
       " 'Unfezant',\n",
       " 'Blitzle',\n",
       " 'Zebstrika',\n",
       " 'Roggenrola',\n",
       " 'Boldore',\n",
       " 'Gigalith',\n",
       " 'Woobat',\n",
       " 'Swoobat',\n",
       " 'Drilbur',\n",
       " 'Excadrill',\n",
       " 'Audino',\n",
       " 'Timburr',\n",
       " 'Gurdurr',\n",
       " 'Conkeldurr',\n",
       " 'Tympole',\n",
       " 'Palpitoad',\n",
       " 'Seismitoad',\n",
       " 'Throh',\n",
       " 'Sawk',\n",
       " 'Sewaddle',\n",
       " 'Swadloon',\n",
       " 'Leavanny',\n",
       " 'Venipede',\n",
       " 'Whirlipede',\n",
       " 'Scolipede',\n",
       " 'Cottonee',\n",
       " 'Whimsicott',\n",
       " 'Petilil',\n",
       " 'Lilligant',\n",
       " 'Basculin',\n",
       " 'Sandile',\n",
       " 'Krokorok',\n",
       " 'Krookodile',\n",
       " 'Darumaka',\n",
       " 'Darmanitan',\n",
       " 'Maractus',\n",
       " 'Dwebble',\n",
       " 'Crustle',\n",
       " 'Scraggy',\n",
       " 'Scrafty',\n",
       " 'Sigilyph',\n",
       " 'Yamask',\n",
       " 'Cofagrigus',\n",
       " 'Tirtouga',\n",
       " 'Carracosta',\n",
       " 'Archen',\n",
       " 'Archeops',\n",
       " 'Trubbish',\n",
       " 'Garbodor',\n",
       " 'Zorua',\n",
       " 'Zoroark',\n",
       " 'Minccino',\n",
       " 'Cinccino',\n",
       " 'Gothita',\n",
       " 'Gothorita',\n",
       " 'Gothitelle',\n",
       " 'Solosis',\n",
       " 'Duosion',\n",
       " 'Reuniclus',\n",
       " 'Ducklett',\n",
       " 'Swanna',\n",
       " 'Vanillite',\n",
       " 'Vanillish',\n",
       " 'Vanilluxe',\n",
       " 'Deerling',\n",
       " 'Sawsbuck',\n",
       " 'Emolga',\n",
       " 'Karrablast',\n",
       " 'Escavalier',\n",
       " 'Foongus',\n",
       " 'Amoonguss',\n",
       " 'Frillish',\n",
       " 'Jellicent',\n",
       " 'Alomomola',\n",
       " 'Joltik',\n",
       " 'Galvantula',\n",
       " 'Ferroseed',\n",
       " 'Ferrothorn',\n",
       " 'Klink',\n",
       " 'Klang',\n",
       " 'Klinklang',\n",
       " 'Tynamo',\n",
       " 'Eelektrik',\n",
       " 'Eelektross',\n",
       " 'Elgyem',\n",
       " 'Beheeyem',\n",
       " 'Litwick',\n",
       " 'Lampent',\n",
       " 'Chandelure',\n",
       " 'Axew',\n",
       " 'Fraxure',\n",
       " 'Haxorus',\n",
       " 'Cubchoo',\n",
       " 'Beartic',\n",
       " 'Cryogonal',\n",
       " 'Shelmet',\n",
       " 'Accelgor',\n",
       " 'Stunfisk',\n",
       " 'Mienfoo',\n",
       " 'Mienshao',\n",
       " 'Druddigon',\n",
       " 'Golett',\n",
       " 'Golurk',\n",
       " 'Pawniard',\n",
       " 'Bisharp',\n",
       " 'Bouffalant',\n",
       " 'Rufflet',\n",
       " 'Braviary',\n",
       " 'Vullaby',\n",
       " 'Mandibuzz',\n",
       " 'Heatmor',\n",
       " 'Durant',\n",
       " 'Deino',\n",
       " 'Zweilous',\n",
       " 'Hydreigon',\n",
       " 'Larvesta',\n",
       " 'Volcarona',\n",
       " 'Cobalion',\n",
       " 'Terrakion',\n",
       " 'Virizion',\n",
       " 'Tornadus',\n",
       " 'Thundurus',\n",
       " 'Reshiram',\n",
       " 'Zekrom',\n",
       " 'Landorus',\n",
       " 'Kyurem',\n",
       " 'Keldeo',\n",
       " 'Meloetta',\n",
       " 'Genesect',\n",
       " 'Chespin',\n",
       " 'Quilladin',\n",
       " 'Chesnaught',\n",
       " 'Fennekin',\n",
       " 'Braixen',\n",
       " 'Delphox',\n",
       " 'Froakie',\n",
       " 'Frogadier',\n",
       " 'Greninja',\n",
       " 'Bunnelby',\n",
       " 'Diggersby',\n",
       " 'Fletchling',\n",
       " 'Fletchinder',\n",
       " 'Talonflame',\n",
       " 'Scatterbug',\n",
       " 'Spewpa',\n",
       " 'Vivillon',\n",
       " 'Litleo',\n",
       " 'Pyroar',\n",
       " 'Flabébé',\n",
       " 'Floette',\n",
       " 'Florges',\n",
       " 'Skiddo',\n",
       " 'Gogoat',\n",
       " 'Pancham',\n",
       " 'Pangoro',\n",
       " 'Furfrou',\n",
       " 'Espurr',\n",
       " 'Meowstic',\n",
       " 'Honedge',\n",
       " 'Doublade',\n",
       " 'Aegislash',\n",
       " 'Spritzee',\n",
       " 'Aromatisse',\n",
       " 'Swirlix',\n",
       " 'Slurpuff',\n",
       " 'Inkay',\n",
       " 'Malamar',\n",
       " 'Binacle',\n",
       " 'Barbaracle',\n",
       " 'Skrelp',\n",
       " 'Dragalge',\n",
       " 'Clauncher',\n",
       " 'Clawitzer',\n",
       " 'Helioptile',\n",
       " 'Heliolisk',\n",
       " 'Tyrunt',\n",
       " 'Tyrantrum',\n",
       " 'Amaura',\n",
       " 'Aurorus',\n",
       " 'Sylveon',\n",
       " 'Hawlucha',\n",
       " 'Dedenne',\n",
       " 'Carbink',\n",
       " 'Goomy',\n",
       " 'Sliggoo',\n",
       " 'Goodra',\n",
       " 'Klefki',\n",
       " 'Phantump',\n",
       " 'Trevenant',\n",
       " 'Pumpkaboo',\n",
       " 'Gourgeist',\n",
       " 'Bergmite',\n",
       " 'Avalugg',\n",
       " 'Noibat',\n",
       " 'Noivern',\n",
       " 'Xerneas',\n",
       " 'Yveltal',\n",
       " 'Zygarde',\n",
       " 'Diancie',\n",
       " 'Hoopa',\n",
       " 'Volcanion')"
      ]
     },
     "execution_count": 35,
     "metadata": {},
     "output_type": "execute_result"
    }
   ],
   "source": [
    "tuple(pokemon)"
   ]
  },
  {
   "cell_type": "code",
   "execution_count": 36,
   "id": "d9f8cde4",
   "metadata": {},
   "outputs": [
    {
     "data": {
      "text/plain": [
       "'Zygarde'"
      ]
     },
     "execution_count": 36,
     "metadata": {},
     "output_type": "execute_result"
    }
   ],
   "source": [
    "max(pokemon)"
   ]
  },
  {
   "cell_type": "code",
   "execution_count": 37,
   "id": "4befa659",
   "metadata": {},
   "outputs": [
    {
     "data": {
      "text/plain": [
       "'Abomasnow'"
      ]
     },
     "execution_count": 37,
     "metadata": {},
     "output_type": "execute_result"
    }
   ],
   "source": [
    "min(pokemon)"
   ]
  },
  {
   "cell_type": "code",
   "execution_count": 38,
   "id": "ef7f7eb1",
   "metadata": {},
   "outputs": [
    {
     "data": {
      "text/plain": [
       "782.22"
      ]
     },
     "execution_count": 38,
     "metadata": {},
     "output_type": "execute_result"
    }
   ],
   "source": [
    "max(google)"
   ]
  },
  {
   "cell_type": "code",
   "execution_count": 39,
   "id": "f419452f",
   "metadata": {},
   "outputs": [
    {
     "data": {
      "text/plain": [
       "49.95"
      ]
     },
     "execution_count": 39,
     "metadata": {},
     "output_type": "execute_result"
    }
   ],
   "source": [
    "min(google)"
   ]
  },
  {
   "cell_type": "markdown",
   "id": "139a83d7",
   "metadata": {},
   "source": [
    "# The sort_values Method"
   ]
  },
  {
   "cell_type": "code",
   "execution_count": 40,
   "id": "8d18a6ce",
   "metadata": {},
   "outputs": [
    {
     "data": {
      "text/plain": [
       "459    Abomasnow\n",
       "62          Abra\n",
       "358        Absol\n",
       "616     Accelgor\n",
       "680    Aegislash\n",
       "         ...    \n",
       "570      Zoroark\n",
       "569        Zorua\n",
       "40         Zubat\n",
       "633     Zweilous\n",
       "717      Zygarde\n",
       "Name: Pokemon, Length: 721, dtype: object"
      ]
     },
     "execution_count": 40,
     "metadata": {},
     "output_type": "execute_result"
    }
   ],
   "source": [
    "pokemon.sort_values()"
   ]
  },
  {
   "cell_type": "code",
   "execution_count": 41,
   "id": "8c060c0c",
   "metadata": {},
   "outputs": [
    {
     "data": {
      "text/plain": [
       "459    Abomasnow\n",
       "62          Abra\n",
       "358        Absol\n",
       "616     Accelgor\n",
       "680    Aegislash\n",
       "Name: Pokemon, dtype: object"
      ]
     },
     "execution_count": 41,
     "metadata": {},
     "output_type": "execute_result"
    }
   ],
   "source": [
    "pokemon.sort_values().head()"
   ]
  },
  {
   "cell_type": "code",
   "execution_count": 42,
   "id": "26a9252a",
   "metadata": {},
   "outputs": [
    {
     "data": {
      "text/plain": [
       "717      Zygarde\n",
       "633     Zweilous\n",
       "40         Zubat\n",
       "569        Zorua\n",
       "570      Zoroark\n",
       "         ...    \n",
       "680    Aegislash\n",
       "616     Accelgor\n",
       "358        Absol\n",
       "62          Abra\n",
       "459    Abomasnow\n",
       "Name: Pokemon, Length: 721, dtype: object"
      ]
     },
     "execution_count": 42,
     "metadata": {},
     "output_type": "execute_result"
    }
   ],
   "source": [
    "pokemon.sort_values(ascending=False)"
   ]
  },
  {
   "cell_type": "code",
   "execution_count": 43,
   "id": "076ec10a",
   "metadata": {},
   "outputs": [
    {
     "data": {
      "text/plain": [
       "717     Zygarde\n",
       "633    Zweilous\n",
       "40        Zubat\n",
       "569       Zorua\n",
       "570     Zoroark\n",
       "Name: Pokemon, dtype: object"
      ]
     },
     "execution_count": 43,
     "metadata": {},
     "output_type": "execute_result"
    }
   ],
   "source": [
    "pokemon.sort_values(ascending = False).head()"
   ]
  },
  {
   "cell_type": "code",
   "execution_count": 44,
   "id": "4f94d89b",
   "metadata": {},
   "outputs": [
    {
     "data": {
      "text/plain": [
       "11       49.95\n",
       "9        50.07\n",
       "0        50.12\n",
       "10       50.70\n",
       "12       50.74\n",
       "         ...  \n",
       "3010    771.61\n",
       "3007    772.88\n",
       "3009    773.18\n",
       "2859    776.60\n",
       "3011    782.22\n",
       "Name: Stock Price, Length: 3012, dtype: float64"
      ]
     },
     "execution_count": 44,
     "metadata": {},
     "output_type": "execute_result"
    }
   ],
   "source": [
    "google.sort_values()"
   ]
  },
  {
   "cell_type": "code",
   "execution_count": 45,
   "id": "e81d29b2",
   "metadata": {},
   "outputs": [
    {
     "data": {
      "text/plain": [
       "3011    782.22\n",
       "2859    776.60\n",
       "3009    773.18\n",
       "3007    772.88\n",
       "3010    771.61\n",
       "         ...  \n",
       "12       50.74\n",
       "10       50.70\n",
       "0        50.12\n",
       "9        50.07\n",
       "11       49.95\n",
       "Name: Stock Price, Length: 3012, dtype: float64"
      ]
     },
     "execution_count": 45,
     "metadata": {},
     "output_type": "execute_result"
    }
   ],
   "source": [
    "google.sort_values(ascending = False)"
   ]
  },
  {
   "cell_type": "code",
   "execution_count": 46,
   "id": "00f825b1",
   "metadata": {},
   "outputs": [
    {
     "data": {
      "text/html": [
       "<div>\n",
       "<style scoped>\n",
       "    .dataframe tbody tr th:only-of-type {\n",
       "        vertical-align: middle;\n",
       "    }\n",
       "\n",
       "    .dataframe tbody tr th {\n",
       "        vertical-align: top;\n",
       "    }\n",
       "\n",
       "    .dataframe thead th {\n",
       "        text-align: right;\n",
       "    }\n",
       "</style>\n",
       "<table border=\"1\" class=\"dataframe\">\n",
       "  <thead>\n",
       "    <tr style=\"text-align: right;\">\n",
       "      <th></th>\n",
       "      <th>Name</th>\n",
       "      <th>Team</th>\n",
       "      <th>Number</th>\n",
       "      <th>Position</th>\n",
       "      <th>Age</th>\n",
       "      <th>Height</th>\n",
       "      <th>Weight</th>\n",
       "      <th>College</th>\n",
       "      <th>Salary</th>\n",
       "    </tr>\n",
       "  </thead>\n",
       "  <tbody>\n",
       "    <tr>\n",
       "      <th>0</th>\n",
       "      <td>Avery Bradley</td>\n",
       "      <td>Boston Celtics</td>\n",
       "      <td>0.0</td>\n",
       "      <td>PG</td>\n",
       "      <td>25.0</td>\n",
       "      <td>6-2</td>\n",
       "      <td>180.0</td>\n",
       "      <td>Texas</td>\n",
       "      <td>7730337.0</td>\n",
       "    </tr>\n",
       "    <tr>\n",
       "      <th>1</th>\n",
       "      <td>Jae Crowder</td>\n",
       "      <td>Boston Celtics</td>\n",
       "      <td>99.0</td>\n",
       "      <td>SF</td>\n",
       "      <td>25.0</td>\n",
       "      <td>6-6</td>\n",
       "      <td>235.0</td>\n",
       "      <td>Marquette</td>\n",
       "      <td>6796117.0</td>\n",
       "    </tr>\n",
       "    <tr>\n",
       "      <th>2</th>\n",
       "      <td>John Holland</td>\n",
       "      <td>Boston Celtics</td>\n",
       "      <td>30.0</td>\n",
       "      <td>SG</td>\n",
       "      <td>27.0</td>\n",
       "      <td>6-5</td>\n",
       "      <td>205.0</td>\n",
       "      <td>Boston University</td>\n",
       "      <td>NaN</td>\n",
       "    </tr>\n",
       "    <tr>\n",
       "      <th>3</th>\n",
       "      <td>R.J. Hunter</td>\n",
       "      <td>Boston Celtics</td>\n",
       "      <td>28.0</td>\n",
       "      <td>SG</td>\n",
       "      <td>22.0</td>\n",
       "      <td>6-5</td>\n",
       "      <td>185.0</td>\n",
       "      <td>Georgia State</td>\n",
       "      <td>1148640.0</td>\n",
       "    </tr>\n",
       "    <tr>\n",
       "      <th>4</th>\n",
       "      <td>Jonas Jerebko</td>\n",
       "      <td>Boston Celtics</td>\n",
       "      <td>8.0</td>\n",
       "      <td>PF</td>\n",
       "      <td>29.0</td>\n",
       "      <td>6-10</td>\n",
       "      <td>231.0</td>\n",
       "      <td>NaN</td>\n",
       "      <td>5000000.0</td>\n",
       "    </tr>\n",
       "    <tr>\n",
       "      <th>...</th>\n",
       "      <td>...</td>\n",
       "      <td>...</td>\n",
       "      <td>...</td>\n",
       "      <td>...</td>\n",
       "      <td>...</td>\n",
       "      <td>...</td>\n",
       "      <td>...</td>\n",
       "      <td>...</td>\n",
       "      <td>...</td>\n",
       "    </tr>\n",
       "    <tr>\n",
       "      <th>453</th>\n",
       "      <td>Shelvin Mack</td>\n",
       "      <td>Utah Jazz</td>\n",
       "      <td>8.0</td>\n",
       "      <td>PG</td>\n",
       "      <td>26.0</td>\n",
       "      <td>6-3</td>\n",
       "      <td>203.0</td>\n",
       "      <td>Butler</td>\n",
       "      <td>2433333.0</td>\n",
       "    </tr>\n",
       "    <tr>\n",
       "      <th>454</th>\n",
       "      <td>Raul Neto</td>\n",
       "      <td>Utah Jazz</td>\n",
       "      <td>25.0</td>\n",
       "      <td>PG</td>\n",
       "      <td>24.0</td>\n",
       "      <td>6-1</td>\n",
       "      <td>179.0</td>\n",
       "      <td>NaN</td>\n",
       "      <td>900000.0</td>\n",
       "    </tr>\n",
       "    <tr>\n",
       "      <th>455</th>\n",
       "      <td>Tibor Pleiss</td>\n",
       "      <td>Utah Jazz</td>\n",
       "      <td>21.0</td>\n",
       "      <td>C</td>\n",
       "      <td>26.0</td>\n",
       "      <td>7-3</td>\n",
       "      <td>256.0</td>\n",
       "      <td>NaN</td>\n",
       "      <td>2900000.0</td>\n",
       "    </tr>\n",
       "    <tr>\n",
       "      <th>456</th>\n",
       "      <td>Jeff Withey</td>\n",
       "      <td>Utah Jazz</td>\n",
       "      <td>24.0</td>\n",
       "      <td>C</td>\n",
       "      <td>26.0</td>\n",
       "      <td>7-0</td>\n",
       "      <td>231.0</td>\n",
       "      <td>Kansas</td>\n",
       "      <td>947276.0</td>\n",
       "    </tr>\n",
       "    <tr>\n",
       "      <th>457</th>\n",
       "      <td>NaN</td>\n",
       "      <td>NaN</td>\n",
       "      <td>NaN</td>\n",
       "      <td>NaN</td>\n",
       "      <td>NaN</td>\n",
       "      <td>NaN</td>\n",
       "      <td>NaN</td>\n",
       "      <td>NaN</td>\n",
       "      <td>NaN</td>\n",
       "    </tr>\n",
       "  </tbody>\n",
       "</table>\n",
       "<p>458 rows × 9 columns</p>\n",
       "</div>"
      ],
      "text/plain": [
       "              Name            Team  Number Position   Age Height  Weight  \\\n",
       "0    Avery Bradley  Boston Celtics     0.0       PG  25.0    6-2   180.0   \n",
       "1      Jae Crowder  Boston Celtics    99.0       SF  25.0    6-6   235.0   \n",
       "2     John Holland  Boston Celtics    30.0       SG  27.0    6-5   205.0   \n",
       "3      R.J. Hunter  Boston Celtics    28.0       SG  22.0    6-5   185.0   \n",
       "4    Jonas Jerebko  Boston Celtics     8.0       PF  29.0   6-10   231.0   \n",
       "..             ...             ...     ...      ...   ...    ...     ...   \n",
       "453   Shelvin Mack       Utah Jazz     8.0       PG  26.0    6-3   203.0   \n",
       "454      Raul Neto       Utah Jazz    25.0       PG  24.0    6-1   179.0   \n",
       "455   Tibor Pleiss       Utah Jazz    21.0        C  26.0    7-3   256.0   \n",
       "456    Jeff Withey       Utah Jazz    24.0        C  26.0    7-0   231.0   \n",
       "457            NaN             NaN     NaN      NaN   NaN    NaN     NaN   \n",
       "\n",
       "               College     Salary  \n",
       "0                Texas  7730337.0  \n",
       "1            Marquette  6796117.0  \n",
       "2    Boston University        NaN  \n",
       "3        Georgia State  1148640.0  \n",
       "4                  NaN  5000000.0  \n",
       "..                 ...        ...  \n",
       "453             Butler  2433333.0  \n",
       "454                NaN   900000.0  \n",
       "455                NaN  2900000.0  \n",
       "456             Kansas   947276.0  \n",
       "457                NaN        NaN  \n",
       "\n",
       "[458 rows x 9 columns]"
      ]
     },
     "execution_count": 46,
     "metadata": {},
     "output_type": "execute_result"
    }
   ],
   "source": [
    "nba = pd.read_csv('nba.csv')\n",
    "nba"
   ]
  },
  {
   "cell_type": "code",
   "execution_count": 47,
   "id": "0da4697f",
   "metadata": {},
   "outputs": [
    {
     "data": {
      "text/html": [
       "<div>\n",
       "<style scoped>\n",
       "    .dataframe tbody tr th:only-of-type {\n",
       "        vertical-align: middle;\n",
       "    }\n",
       "\n",
       "    .dataframe tbody tr th {\n",
       "        vertical-align: top;\n",
       "    }\n",
       "\n",
       "    .dataframe thead th {\n",
       "        text-align: right;\n",
       "    }\n",
       "</style>\n",
       "<table border=\"1\" class=\"dataframe\">\n",
       "  <thead>\n",
       "    <tr style=\"text-align: right;\">\n",
       "      <th></th>\n",
       "      <th>Name</th>\n",
       "      <th>Team</th>\n",
       "      <th>Number</th>\n",
       "      <th>Position</th>\n",
       "      <th>Age</th>\n",
       "      <th>Height</th>\n",
       "      <th>Weight</th>\n",
       "      <th>College</th>\n",
       "      <th>Salary</th>\n",
       "    </tr>\n",
       "  </thead>\n",
       "  <tbody>\n",
       "    <tr>\n",
       "      <th>122</th>\n",
       "      <td>Devin Booker</td>\n",
       "      <td>Phoenix Suns</td>\n",
       "      <td>1.0</td>\n",
       "      <td>SG</td>\n",
       "      <td>19.0</td>\n",
       "      <td>6-6</td>\n",
       "      <td>206.0</td>\n",
       "      <td>Kentucky</td>\n",
       "      <td>2127840.0</td>\n",
       "    </tr>\n",
       "    <tr>\n",
       "      <th>226</th>\n",
       "      <td>Rashad Vaughn</td>\n",
       "      <td>Milwaukee Bucks</td>\n",
       "      <td>20.0</td>\n",
       "      <td>SG</td>\n",
       "      <td>19.0</td>\n",
       "      <td>6-6</td>\n",
       "      <td>202.0</td>\n",
       "      <td>UNLV</td>\n",
       "      <td>1733040.0</td>\n",
       "    </tr>\n",
       "    <tr>\n",
       "      <th>56</th>\n",
       "      <td>Jahlil Okafor</td>\n",
       "      <td>Philadelphia 76ers</td>\n",
       "      <td>8.0</td>\n",
       "      <td>C</td>\n",
       "      <td>20.0</td>\n",
       "      <td>6-11</td>\n",
       "      <td>275.0</td>\n",
       "      <td>Duke</td>\n",
       "      <td>4582680.0</td>\n",
       "    </tr>\n",
       "    <tr>\n",
       "      <th>192</th>\n",
       "      <td>Stanley Johnson</td>\n",
       "      <td>Detroit Pistons</td>\n",
       "      <td>3.0</td>\n",
       "      <td>SF</td>\n",
       "      <td>20.0</td>\n",
       "      <td>6-7</td>\n",
       "      <td>245.0</td>\n",
       "      <td>Arizona</td>\n",
       "      <td>2841960.0</td>\n",
       "    </tr>\n",
       "    <tr>\n",
       "      <th>410</th>\n",
       "      <td>Karl-Anthony Towns</td>\n",
       "      <td>Minnesota Timberwolves</td>\n",
       "      <td>32.0</td>\n",
       "      <td>C</td>\n",
       "      <td>20.0</td>\n",
       "      <td>7-0</td>\n",
       "      <td>244.0</td>\n",
       "      <td>Kentucky</td>\n",
       "      <td>5703600.0</td>\n",
       "    </tr>\n",
       "    <tr>\n",
       "      <th>...</th>\n",
       "      <td>...</td>\n",
       "      <td>...</td>\n",
       "      <td>...</td>\n",
       "      <td>...</td>\n",
       "      <td>...</td>\n",
       "      <td>...</td>\n",
       "      <td>...</td>\n",
       "      <td>...</td>\n",
       "      <td>...</td>\n",
       "    </tr>\n",
       "    <tr>\n",
       "      <th>102</th>\n",
       "      <td>Pablo Prigioni</td>\n",
       "      <td>Los Angeles Clippers</td>\n",
       "      <td>9.0</td>\n",
       "      <td>PG</td>\n",
       "      <td>39.0</td>\n",
       "      <td>6-3</td>\n",
       "      <td>185.0</td>\n",
       "      <td>NaN</td>\n",
       "      <td>947726.0</td>\n",
       "    </tr>\n",
       "    <tr>\n",
       "      <th>298</th>\n",
       "      <td>Tim Duncan</td>\n",
       "      <td>San Antonio Spurs</td>\n",
       "      <td>21.0</td>\n",
       "      <td>C</td>\n",
       "      <td>40.0</td>\n",
       "      <td>6-11</td>\n",
       "      <td>250.0</td>\n",
       "      <td>Wake Forest</td>\n",
       "      <td>5250000.0</td>\n",
       "    </tr>\n",
       "    <tr>\n",
       "      <th>400</th>\n",
       "      <td>Kevin Garnett</td>\n",
       "      <td>Minnesota Timberwolves</td>\n",
       "      <td>21.0</td>\n",
       "      <td>PF</td>\n",
       "      <td>40.0</td>\n",
       "      <td>6-11</td>\n",
       "      <td>240.0</td>\n",
       "      <td>NaN</td>\n",
       "      <td>8500000.0</td>\n",
       "    </tr>\n",
       "    <tr>\n",
       "      <th>304</th>\n",
       "      <td>Andre Miller</td>\n",
       "      <td>San Antonio Spurs</td>\n",
       "      <td>24.0</td>\n",
       "      <td>PG</td>\n",
       "      <td>40.0</td>\n",
       "      <td>6-3</td>\n",
       "      <td>200.0</td>\n",
       "      <td>Utah</td>\n",
       "      <td>250750.0</td>\n",
       "    </tr>\n",
       "    <tr>\n",
       "      <th>457</th>\n",
       "      <td>NaN</td>\n",
       "      <td>NaN</td>\n",
       "      <td>NaN</td>\n",
       "      <td>NaN</td>\n",
       "      <td>NaN</td>\n",
       "      <td>NaN</td>\n",
       "      <td>NaN</td>\n",
       "      <td>NaN</td>\n",
       "      <td>NaN</td>\n",
       "    </tr>\n",
       "  </tbody>\n",
       "</table>\n",
       "<p>458 rows × 9 columns</p>\n",
       "</div>"
      ],
      "text/plain": [
       "                   Name                    Team  Number Position   Age Height  \\\n",
       "122        Devin Booker            Phoenix Suns     1.0       SG  19.0    6-6   \n",
       "226       Rashad Vaughn         Milwaukee Bucks    20.0       SG  19.0    6-6   \n",
       "56        Jahlil Okafor      Philadelphia 76ers     8.0        C  20.0   6-11   \n",
       "192     Stanley Johnson         Detroit Pistons     3.0       SF  20.0    6-7   \n",
       "410  Karl-Anthony Towns  Minnesota Timberwolves    32.0        C  20.0    7-0   \n",
       "..                  ...                     ...     ...      ...   ...    ...   \n",
       "102      Pablo Prigioni    Los Angeles Clippers     9.0       PG  39.0    6-3   \n",
       "298          Tim Duncan       San Antonio Spurs    21.0        C  40.0   6-11   \n",
       "400       Kevin Garnett  Minnesota Timberwolves    21.0       PF  40.0   6-11   \n",
       "304        Andre Miller       San Antonio Spurs    24.0       PG  40.0    6-3   \n",
       "457                 NaN                     NaN     NaN      NaN   NaN    NaN   \n",
       "\n",
       "     Weight      College     Salary  \n",
       "122   206.0     Kentucky  2127840.0  \n",
       "226   202.0         UNLV  1733040.0  \n",
       "56    275.0         Duke  4582680.0  \n",
       "192   245.0      Arizona  2841960.0  \n",
       "410   244.0     Kentucky  5703600.0  \n",
       "..      ...          ...        ...  \n",
       "102   185.0          NaN   947726.0  \n",
       "298   250.0  Wake Forest  5250000.0  \n",
       "400   240.0          NaN  8500000.0  \n",
       "304   200.0         Utah   250750.0  \n",
       "457     NaN          NaN        NaN  \n",
       "\n",
       "[458 rows x 9 columns]"
      ]
     },
     "execution_count": 47,
     "metadata": {},
     "output_type": "execute_result"
    }
   ],
   "source": [
    "nba.sort_values(['Age', 'Weight'], ascending = [True, False])"
   ]
  },
  {
   "cell_type": "markdown",
   "id": "75f7e1b0",
   "metadata": {},
   "source": [
    "# The sort_index Method"
   ]
  },
  {
   "cell_type": "code",
   "execution_count": 48,
   "id": "22de65f5",
   "metadata": {},
   "outputs": [
    {
     "data": {
      "text/plain": [
       "Pokemon\n",
       "Bulbasaur     Grass\n",
       "Ivysaur       Grass\n",
       "Venusaur      Grass\n",
       "Charmander     Fire\n",
       "Charmeleon     Fire\n",
       "Name: Type, dtype: object"
      ]
     },
     "execution_count": 48,
     "metadata": {},
     "output_type": "execute_result"
    }
   ],
   "source": [
    "pokemoni = pd.read_csv('pokemon.csv', index_col = 'Pokemon').squeeze('columns')\n",
    "pokemoni.head()"
   ]
  },
  {
   "cell_type": "code",
   "execution_count": 49,
   "id": "5d51f170",
   "metadata": {},
   "outputs": [
    {
     "data": {
      "text/plain": [
       "Pokemon\n",
       "Abomasnow      Grass\n",
       "Abra         Psychic\n",
       "Absol           Dark\n",
       "Accelgor         Bug\n",
       "Aegislash      Steel\n",
       "              ...   \n",
       "Zoroark         Dark\n",
       "Zorua           Dark\n",
       "Zubat         Poison\n",
       "Zweilous        Dark\n",
       "Zygarde       Dragon\n",
       "Name: Type, Length: 721, dtype: object"
      ]
     },
     "execution_count": 49,
     "metadata": {},
     "output_type": "execute_result"
    }
   ],
   "source": [
    "pokemoni.sort_index()"
   ]
  },
  {
   "cell_type": "code",
   "execution_count": 50,
   "id": "b7599603",
   "metadata": {},
   "outputs": [
    {
     "data": {
      "text/plain": [
       "Pokemon\n",
       "Zygarde       Dragon\n",
       "Zweilous        Dark\n",
       "Zubat         Poison\n",
       "Zorua           Dark\n",
       "Zoroark         Dark\n",
       "              ...   \n",
       "Aegislash      Steel\n",
       "Accelgor         Bug\n",
       "Absol           Dark\n",
       "Abra         Psychic\n",
       "Abomasnow      Grass\n",
       "Name: Type, Length: 721, dtype: object"
      ]
     },
     "execution_count": 50,
     "metadata": {},
     "output_type": "execute_result"
    }
   ],
   "source": [
    "pokemoni.sort_index(ascending = False)"
   ]
  },
  {
   "cell_type": "code",
   "execution_count": 51,
   "id": "f0d5d1ec",
   "metadata": {},
   "outputs": [
    {
     "data": {
      "text/plain": [
       "Pokemon\n",
       "Leavanny        Bug\n",
       "Burmy           Bug\n",
       "Scolipede       Bug\n",
       "Genesect        Bug\n",
       "Kricketune      Bug\n",
       "              ...  \n",
       "Panpour       Water\n",
       "Seel          Water\n",
       "Dewgong       Water\n",
       "Politoed      Water\n",
       "Chinchou      Water\n",
       "Name: Type, Length: 721, dtype: object"
      ]
     },
     "execution_count": 51,
     "metadata": {},
     "output_type": "execute_result"
    }
   ],
   "source": [
    "pokemoni.sort_values()"
   ]
  },
  {
   "cell_type": "code",
   "execution_count": 52,
   "id": "c4e7f760",
   "metadata": {},
   "outputs": [
    {
     "data": {
      "text/plain": [
       "Pokemon\n",
       "Floatzel      Water\n",
       "Frillish      Water\n",
       "Croconaw      Water\n",
       "Feraligatr    Water\n",
       "Kyogre        Water\n",
       "              ...  \n",
       "Scolipede       Bug\n",
       "Volbeat         Bug\n",
       "Illumise        Bug\n",
       "Yanmega         Bug\n",
       "Karrablast      Bug\n",
       "Name: Type, Length: 721, dtype: object"
      ]
     },
     "execution_count": 52,
     "metadata": {},
     "output_type": "execute_result"
    }
   ],
   "source": [
    "pokemoni.sort_values(ascending = False)"
   ]
  },
  {
   "cell_type": "markdown",
   "id": "e79f3743",
   "metadata": {},
   "source": [
    "# Check for Inclusion with Python's in Keyword"
   ]
  },
  {
   "cell_type": "code",
   "execution_count": 53,
   "id": "419abee7",
   "metadata": {},
   "outputs": [
    {
     "data": {
      "text/plain": [
       "False"
      ]
     },
     "execution_count": 53,
     "metadata": {},
     "output_type": "execute_result"
    }
   ],
   "source": [
    "'Bulbasaur' in pokemon"
   ]
  },
  {
   "cell_type": "code",
   "execution_count": 54,
   "id": "c6bd800f",
   "metadata": {},
   "outputs": [
    {
     "data": {
      "text/plain": [
       "True"
      ]
     },
     "execution_count": 54,
     "metadata": {},
     "output_type": "execute_result"
    }
   ],
   "source": [
    "100 in pokemon"
   ]
  },
  {
   "cell_type": "code",
   "execution_count": 55,
   "id": "23e579e9",
   "metadata": {},
   "outputs": [
    {
     "data": {
      "text/plain": [
       "True"
      ]
     },
     "execution_count": 55,
     "metadata": {},
     "output_type": "execute_result"
    }
   ],
   "source": [
    "100 in pokemon.index"
   ]
  },
  {
   "cell_type": "code",
   "execution_count": 56,
   "id": "178d4c64",
   "metadata": {},
   "outputs": [
    {
     "data": {
      "text/plain": [
       "True"
      ]
     },
     "execution_count": 56,
     "metadata": {},
     "output_type": "execute_result"
    }
   ],
   "source": [
    "'Bulbasaur' in pokemon.values"
   ]
  },
  {
   "cell_type": "code",
   "execution_count": 57,
   "id": "169b58ee",
   "metadata": {},
   "outputs": [
    {
     "data": {
      "text/plain": [
       "'Grass'"
      ]
     },
     "execution_count": 57,
     "metadata": {},
     "output_type": "execute_result"
    }
   ],
   "source": [
    "pokemoni[0]"
   ]
  },
  {
   "cell_type": "code",
   "execution_count": 58,
   "id": "dad221c9",
   "metadata": {},
   "outputs": [
    {
     "data": {
      "text/plain": [
       "'Grass'"
      ]
     },
     "execution_count": 58,
     "metadata": {},
     "output_type": "execute_result"
    }
   ],
   "source": [
    "pokemoni['Bulbasaur']"
   ]
  },
  {
   "cell_type": "code",
   "execution_count": 59,
   "id": "3a658ccb",
   "metadata": {},
   "outputs": [
    {
     "ename": "KeyError",
     "evalue": "'Meotwo'",
     "output_type": "error",
     "traceback": [
      "\u001b[1;31m---------------------------------------------------------------------------\u001b[0m",
      "\u001b[1;31mKeyError\u001b[0m                                  Traceback (most recent call last)",
      "\u001b[1;32m~\\anaconda3\\lib\\site-packages\\pandas\\core\\indexes\\base.py\u001b[0m in \u001b[0;36mget_loc\u001b[1;34m(self, key, method, tolerance)\u001b[0m\n\u001b[0;32m   3079\u001b[0m             \u001b[1;32mtry\u001b[0m\u001b[1;33m:\u001b[0m\u001b[1;33m\u001b[0m\u001b[1;33m\u001b[0m\u001b[0m\n\u001b[1;32m-> 3080\u001b[1;33m                 \u001b[1;32mreturn\u001b[0m \u001b[0mself\u001b[0m\u001b[1;33m.\u001b[0m\u001b[0m_engine\u001b[0m\u001b[1;33m.\u001b[0m\u001b[0mget_loc\u001b[0m\u001b[1;33m(\u001b[0m\u001b[0mcasted_key\u001b[0m\u001b[1;33m)\u001b[0m\u001b[1;33m\u001b[0m\u001b[1;33m\u001b[0m\u001b[0m\n\u001b[0m\u001b[0;32m   3081\u001b[0m             \u001b[1;32mexcept\u001b[0m \u001b[0mKeyError\u001b[0m \u001b[1;32mas\u001b[0m \u001b[0merr\u001b[0m\u001b[1;33m:\u001b[0m\u001b[1;33m\u001b[0m\u001b[1;33m\u001b[0m\u001b[0m\n",
      "\u001b[1;32mpandas\\_libs\\index.pyx\u001b[0m in \u001b[0;36mpandas._libs.index.IndexEngine.get_loc\u001b[1;34m()\u001b[0m\n",
      "\u001b[1;32mpandas\\_libs\\index.pyx\u001b[0m in \u001b[0;36mpandas._libs.index.IndexEngine.get_loc\u001b[1;34m()\u001b[0m\n",
      "\u001b[1;32mpandas\\_libs\\hashtable_class_helper.pxi\u001b[0m in \u001b[0;36mpandas._libs.hashtable.PyObjectHashTable.get_item\u001b[1;34m()\u001b[0m\n",
      "\u001b[1;32mpandas\\_libs\\hashtable_class_helper.pxi\u001b[0m in \u001b[0;36mpandas._libs.hashtable.PyObjectHashTable.get_item\u001b[1;34m()\u001b[0m\n",
      "\u001b[1;31mKeyError\u001b[0m: 'Meotwo'",
      "\nThe above exception was the direct cause of the following exception:\n",
      "\u001b[1;31mKeyError\u001b[0m                                  Traceback (most recent call last)",
      "\u001b[1;32m<ipython-input-59-f5f7357d3162>\u001b[0m in \u001b[0;36m<module>\u001b[1;34m\u001b[0m\n\u001b[1;32m----> 1\u001b[1;33m \u001b[0mpokemoni\u001b[0m\u001b[1;33m[\u001b[0m\u001b[1;34m'Meotwo'\u001b[0m\u001b[1;33m]\u001b[0m\u001b[1;33m\u001b[0m\u001b[1;33m\u001b[0m\u001b[0m\n\u001b[0m",
      "\u001b[1;32m~\\anaconda3\\lib\\site-packages\\pandas\\core\\series.py\u001b[0m in \u001b[0;36m__getitem__\u001b[1;34m(self, key)\u001b[0m\n\u001b[0;32m    851\u001b[0m \u001b[1;33m\u001b[0m\u001b[0m\n\u001b[0;32m    852\u001b[0m         \u001b[1;32melif\u001b[0m \u001b[0mkey_is_scalar\u001b[0m\u001b[1;33m:\u001b[0m\u001b[1;33m\u001b[0m\u001b[1;33m\u001b[0m\u001b[0m\n\u001b[1;32m--> 853\u001b[1;33m             \u001b[1;32mreturn\u001b[0m \u001b[0mself\u001b[0m\u001b[1;33m.\u001b[0m\u001b[0m_get_value\u001b[0m\u001b[1;33m(\u001b[0m\u001b[0mkey\u001b[0m\u001b[1;33m)\u001b[0m\u001b[1;33m\u001b[0m\u001b[1;33m\u001b[0m\u001b[0m\n\u001b[0m\u001b[0;32m    854\u001b[0m \u001b[1;33m\u001b[0m\u001b[0m\n\u001b[0;32m    855\u001b[0m         \u001b[1;32mif\u001b[0m \u001b[0mis_hashable\u001b[0m\u001b[1;33m(\u001b[0m\u001b[0mkey\u001b[0m\u001b[1;33m)\u001b[0m\u001b[1;33m:\u001b[0m\u001b[1;33m\u001b[0m\u001b[1;33m\u001b[0m\u001b[0m\n",
      "\u001b[1;32m~\\anaconda3\\lib\\site-packages\\pandas\\core\\series.py\u001b[0m in \u001b[0;36m_get_value\u001b[1;34m(self, label, takeable)\u001b[0m\n\u001b[0;32m    959\u001b[0m \u001b[1;33m\u001b[0m\u001b[0m\n\u001b[0;32m    960\u001b[0m         \u001b[1;31m# Similar to Index.get_value, but we do not fall back to positional\u001b[0m\u001b[1;33m\u001b[0m\u001b[1;33m\u001b[0m\u001b[1;33m\u001b[0m\u001b[0m\n\u001b[1;32m--> 961\u001b[1;33m         \u001b[0mloc\u001b[0m \u001b[1;33m=\u001b[0m \u001b[0mself\u001b[0m\u001b[1;33m.\u001b[0m\u001b[0mindex\u001b[0m\u001b[1;33m.\u001b[0m\u001b[0mget_loc\u001b[0m\u001b[1;33m(\u001b[0m\u001b[0mlabel\u001b[0m\u001b[1;33m)\u001b[0m\u001b[1;33m\u001b[0m\u001b[1;33m\u001b[0m\u001b[0m\n\u001b[0m\u001b[0;32m    962\u001b[0m         \u001b[1;32mreturn\u001b[0m \u001b[0mself\u001b[0m\u001b[1;33m.\u001b[0m\u001b[0mindex\u001b[0m\u001b[1;33m.\u001b[0m\u001b[0m_get_values_for_loc\u001b[0m\u001b[1;33m(\u001b[0m\u001b[0mself\u001b[0m\u001b[1;33m,\u001b[0m \u001b[0mloc\u001b[0m\u001b[1;33m,\u001b[0m \u001b[0mlabel\u001b[0m\u001b[1;33m)\u001b[0m\u001b[1;33m\u001b[0m\u001b[1;33m\u001b[0m\u001b[0m\n\u001b[0;32m    963\u001b[0m \u001b[1;33m\u001b[0m\u001b[0m\n",
      "\u001b[1;32m~\\anaconda3\\lib\\site-packages\\pandas\\core\\indexes\\base.py\u001b[0m in \u001b[0;36mget_loc\u001b[1;34m(self, key, method, tolerance)\u001b[0m\n\u001b[0;32m   3080\u001b[0m                 \u001b[1;32mreturn\u001b[0m \u001b[0mself\u001b[0m\u001b[1;33m.\u001b[0m\u001b[0m_engine\u001b[0m\u001b[1;33m.\u001b[0m\u001b[0mget_loc\u001b[0m\u001b[1;33m(\u001b[0m\u001b[0mcasted_key\u001b[0m\u001b[1;33m)\u001b[0m\u001b[1;33m\u001b[0m\u001b[1;33m\u001b[0m\u001b[0m\n\u001b[0;32m   3081\u001b[0m             \u001b[1;32mexcept\u001b[0m \u001b[0mKeyError\u001b[0m \u001b[1;32mas\u001b[0m \u001b[0merr\u001b[0m\u001b[1;33m:\u001b[0m\u001b[1;33m\u001b[0m\u001b[1;33m\u001b[0m\u001b[0m\n\u001b[1;32m-> 3082\u001b[1;33m                 \u001b[1;32mraise\u001b[0m \u001b[0mKeyError\u001b[0m\u001b[1;33m(\u001b[0m\u001b[0mkey\u001b[0m\u001b[1;33m)\u001b[0m \u001b[1;32mfrom\u001b[0m \u001b[0merr\u001b[0m\u001b[1;33m\u001b[0m\u001b[1;33m\u001b[0m\u001b[0m\n\u001b[0m\u001b[0;32m   3083\u001b[0m \u001b[1;33m\u001b[0m\u001b[0m\n\u001b[0;32m   3084\u001b[0m         \u001b[1;32mif\u001b[0m \u001b[0mtolerance\u001b[0m \u001b[1;32mis\u001b[0m \u001b[1;32mnot\u001b[0m \u001b[1;32mNone\u001b[0m\u001b[1;33m:\u001b[0m\u001b[1;33m\u001b[0m\u001b[1;33m\u001b[0m\u001b[0m\n",
      "\u001b[1;31mKeyError\u001b[0m: 'Meotwo'"
     ]
    }
   ],
   "source": [
    "pokemoni['Meotwo']"
   ]
  },
  {
   "cell_type": "code",
   "execution_count": 60,
   "id": "7897e9bd",
   "metadata": {},
   "outputs": [
    {
     "data": {
      "text/plain": [
       "'Psychic'"
      ]
     },
     "execution_count": 60,
     "metadata": {},
     "output_type": "execute_result"
    }
   ],
   "source": [
    "pokemoni['Mewtwo']"
   ]
  },
  {
   "cell_type": "code",
   "execution_count": 63,
   "id": "ccf920d7",
   "metadata": {},
   "outputs": [
    {
     "data": {
      "text/plain": [
       "Pokemon\n",
       "Charizard        Fire\n",
       "Jolteon      Electric\n",
       "Name: Type, dtype: object"
      ]
     },
     "execution_count": 63,
     "metadata": {},
     "output_type": "execute_result"
    }
   ],
   "source": [
    "pokemoni[['Charizard', 'Jolteon']]"
   ]
  },
  {
   "cell_type": "code",
   "execution_count": 64,
   "id": "0e02ec7e",
   "metadata": {},
   "outputs": [
    {
     "ename": "KeyError",
     "evalue": "\"Passing list-likes to .loc or [] with any missing labels is no longer supported. The following labels were missing: Index(['Chuím'], dtype='object', name='Pokemon'). See https://pandas.pydata.org/pandas-docs/stable/user_guide/indexing.html#deprecate-loc-reindex-listlike\"",
     "output_type": "error",
     "traceback": [
      "\u001b[1;31m---------------------------------------------------------------------------\u001b[0m",
      "\u001b[1;31mKeyError\u001b[0m                                  Traceback (most recent call last)",
      "\u001b[1;32m<ipython-input-64-5b34648d6274>\u001b[0m in \u001b[0;36m<module>\u001b[1;34m\u001b[0m\n\u001b[1;32m----> 1\u001b[1;33m \u001b[0mpokemoni\u001b[0m\u001b[1;33m[\u001b[0m\u001b[1;33m[\u001b[0m\u001b[1;34m'Charizard'\u001b[0m\u001b[1;33m,\u001b[0m \u001b[1;34m'Chuím'\u001b[0m\u001b[1;33m]\u001b[0m\u001b[1;33m]\u001b[0m\u001b[1;33m\u001b[0m\u001b[1;33m\u001b[0m\u001b[0m\n\u001b[0m",
      "\u001b[1;32m~\\anaconda3\\lib\\site-packages\\pandas\\core\\series.py\u001b[0m in \u001b[0;36m__getitem__\u001b[1;34m(self, key)\u001b[0m\n\u001b[0;32m    875\u001b[0m             \u001b[1;32mreturn\u001b[0m \u001b[0mself\u001b[0m\u001b[1;33m.\u001b[0m\u001b[0m_get_values\u001b[0m\u001b[1;33m(\u001b[0m\u001b[0mkey\u001b[0m\u001b[1;33m)\u001b[0m\u001b[1;33m\u001b[0m\u001b[1;33m\u001b[0m\u001b[0m\n\u001b[0;32m    876\u001b[0m \u001b[1;33m\u001b[0m\u001b[0m\n\u001b[1;32m--> 877\u001b[1;33m         \u001b[1;32mreturn\u001b[0m \u001b[0mself\u001b[0m\u001b[1;33m.\u001b[0m\u001b[0m_get_with\u001b[0m\u001b[1;33m(\u001b[0m\u001b[0mkey\u001b[0m\u001b[1;33m)\u001b[0m\u001b[1;33m\u001b[0m\u001b[1;33m\u001b[0m\u001b[0m\n\u001b[0m\u001b[0;32m    878\u001b[0m \u001b[1;33m\u001b[0m\u001b[0m\n\u001b[0;32m    879\u001b[0m     \u001b[1;32mdef\u001b[0m \u001b[0m_get_with\u001b[0m\u001b[1;33m(\u001b[0m\u001b[0mself\u001b[0m\u001b[1;33m,\u001b[0m \u001b[0mkey\u001b[0m\u001b[1;33m)\u001b[0m\u001b[1;33m:\u001b[0m\u001b[1;33m\u001b[0m\u001b[1;33m\u001b[0m\u001b[0m\n",
      "\u001b[1;32m~\\anaconda3\\lib\\site-packages\\pandas\\core\\series.py\u001b[0m in \u001b[0;36m_get_with\u001b[1;34m(self, key)\u001b[0m\n\u001b[0;32m    915\u001b[0m \u001b[1;33m\u001b[0m\u001b[0m\n\u001b[0;32m    916\u001b[0m         \u001b[1;31m# handle the dup indexing case GH#4246\u001b[0m\u001b[1;33m\u001b[0m\u001b[1;33m\u001b[0m\u001b[1;33m\u001b[0m\u001b[0m\n\u001b[1;32m--> 917\u001b[1;33m         \u001b[1;32mreturn\u001b[0m \u001b[0mself\u001b[0m\u001b[1;33m.\u001b[0m\u001b[0mloc\u001b[0m\u001b[1;33m[\u001b[0m\u001b[0mkey\u001b[0m\u001b[1;33m]\u001b[0m\u001b[1;33m\u001b[0m\u001b[1;33m\u001b[0m\u001b[0m\n\u001b[0m\u001b[0;32m    918\u001b[0m \u001b[1;33m\u001b[0m\u001b[0m\n\u001b[0;32m    919\u001b[0m     \u001b[1;32mdef\u001b[0m \u001b[0m_get_values_tuple\u001b[0m\u001b[1;33m(\u001b[0m\u001b[0mself\u001b[0m\u001b[1;33m,\u001b[0m \u001b[0mkey\u001b[0m\u001b[1;33m)\u001b[0m\u001b[1;33m:\u001b[0m\u001b[1;33m\u001b[0m\u001b[1;33m\u001b[0m\u001b[0m\n",
      "\u001b[1;32m~\\anaconda3\\lib\\site-packages\\pandas\\core\\indexing.py\u001b[0m in \u001b[0;36m__getitem__\u001b[1;34m(self, key)\u001b[0m\n\u001b[0;32m    893\u001b[0m \u001b[1;33m\u001b[0m\u001b[0m\n\u001b[0;32m    894\u001b[0m             \u001b[0mmaybe_callable\u001b[0m \u001b[1;33m=\u001b[0m \u001b[0mcom\u001b[0m\u001b[1;33m.\u001b[0m\u001b[0mapply_if_callable\u001b[0m\u001b[1;33m(\u001b[0m\u001b[0mkey\u001b[0m\u001b[1;33m,\u001b[0m \u001b[0mself\u001b[0m\u001b[1;33m.\u001b[0m\u001b[0mobj\u001b[0m\u001b[1;33m)\u001b[0m\u001b[1;33m\u001b[0m\u001b[1;33m\u001b[0m\u001b[0m\n\u001b[1;32m--> 895\u001b[1;33m             \u001b[1;32mreturn\u001b[0m \u001b[0mself\u001b[0m\u001b[1;33m.\u001b[0m\u001b[0m_getitem_axis\u001b[0m\u001b[1;33m(\u001b[0m\u001b[0mmaybe_callable\u001b[0m\u001b[1;33m,\u001b[0m \u001b[0maxis\u001b[0m\u001b[1;33m=\u001b[0m\u001b[0maxis\u001b[0m\u001b[1;33m)\u001b[0m\u001b[1;33m\u001b[0m\u001b[1;33m\u001b[0m\u001b[0m\n\u001b[0m\u001b[0;32m    896\u001b[0m \u001b[1;33m\u001b[0m\u001b[0m\n\u001b[0;32m    897\u001b[0m     \u001b[1;32mdef\u001b[0m \u001b[0m_is_scalar_access\u001b[0m\u001b[1;33m(\u001b[0m\u001b[0mself\u001b[0m\u001b[1;33m,\u001b[0m \u001b[0mkey\u001b[0m\u001b[1;33m:\u001b[0m \u001b[0mTuple\u001b[0m\u001b[1;33m)\u001b[0m\u001b[1;33m:\u001b[0m\u001b[1;33m\u001b[0m\u001b[1;33m\u001b[0m\u001b[0m\n",
      "\u001b[1;32m~\\anaconda3\\lib\\site-packages\\pandas\\core\\indexing.py\u001b[0m in \u001b[0;36m_getitem_axis\u001b[1;34m(self, key, axis)\u001b[0m\n\u001b[0;32m   1111\u001b[0m                     \u001b[1;32mraise\u001b[0m \u001b[0mValueError\u001b[0m\u001b[1;33m(\u001b[0m\u001b[1;34m\"Cannot index with multidimensional key\"\u001b[0m\u001b[1;33m)\u001b[0m\u001b[1;33m\u001b[0m\u001b[1;33m\u001b[0m\u001b[0m\n\u001b[0;32m   1112\u001b[0m \u001b[1;33m\u001b[0m\u001b[0m\n\u001b[1;32m-> 1113\u001b[1;33m                 \u001b[1;32mreturn\u001b[0m \u001b[0mself\u001b[0m\u001b[1;33m.\u001b[0m\u001b[0m_getitem_iterable\u001b[0m\u001b[1;33m(\u001b[0m\u001b[0mkey\u001b[0m\u001b[1;33m,\u001b[0m \u001b[0maxis\u001b[0m\u001b[1;33m=\u001b[0m\u001b[0maxis\u001b[0m\u001b[1;33m)\u001b[0m\u001b[1;33m\u001b[0m\u001b[1;33m\u001b[0m\u001b[0m\n\u001b[0m\u001b[0;32m   1114\u001b[0m \u001b[1;33m\u001b[0m\u001b[0m\n\u001b[0;32m   1115\u001b[0m             \u001b[1;31m# nested tuple slicing\u001b[0m\u001b[1;33m\u001b[0m\u001b[1;33m\u001b[0m\u001b[1;33m\u001b[0m\u001b[0m\n",
      "\u001b[1;32m~\\anaconda3\\lib\\site-packages\\pandas\\core\\indexing.py\u001b[0m in \u001b[0;36m_getitem_iterable\u001b[1;34m(self, key, axis)\u001b[0m\n\u001b[0;32m   1051\u001b[0m \u001b[1;33m\u001b[0m\u001b[0m\n\u001b[0;32m   1052\u001b[0m         \u001b[1;31m# A collection of keys\u001b[0m\u001b[1;33m\u001b[0m\u001b[1;33m\u001b[0m\u001b[1;33m\u001b[0m\u001b[0m\n\u001b[1;32m-> 1053\u001b[1;33m         \u001b[0mkeyarr\u001b[0m\u001b[1;33m,\u001b[0m \u001b[0mindexer\u001b[0m \u001b[1;33m=\u001b[0m \u001b[0mself\u001b[0m\u001b[1;33m.\u001b[0m\u001b[0m_get_listlike_indexer\u001b[0m\u001b[1;33m(\u001b[0m\u001b[0mkey\u001b[0m\u001b[1;33m,\u001b[0m \u001b[0maxis\u001b[0m\u001b[1;33m,\u001b[0m \u001b[0mraise_missing\u001b[0m\u001b[1;33m=\u001b[0m\u001b[1;32mFalse\u001b[0m\u001b[1;33m)\u001b[0m\u001b[1;33m\u001b[0m\u001b[1;33m\u001b[0m\u001b[0m\n\u001b[0m\u001b[0;32m   1054\u001b[0m         return self.obj._reindex_with_indexers(\n\u001b[0;32m   1055\u001b[0m             \u001b[1;33m{\u001b[0m\u001b[0maxis\u001b[0m\u001b[1;33m:\u001b[0m \u001b[1;33m[\u001b[0m\u001b[0mkeyarr\u001b[0m\u001b[1;33m,\u001b[0m \u001b[0mindexer\u001b[0m\u001b[1;33m]\u001b[0m\u001b[1;33m}\u001b[0m\u001b[1;33m,\u001b[0m \u001b[0mcopy\u001b[0m\u001b[1;33m=\u001b[0m\u001b[1;32mTrue\u001b[0m\u001b[1;33m,\u001b[0m \u001b[0mallow_dups\u001b[0m\u001b[1;33m=\u001b[0m\u001b[1;32mTrue\u001b[0m\u001b[1;33m\u001b[0m\u001b[1;33m\u001b[0m\u001b[0m\n",
      "\u001b[1;32m~\\anaconda3\\lib\\site-packages\\pandas\\core\\indexing.py\u001b[0m in \u001b[0;36m_get_listlike_indexer\u001b[1;34m(self, key, axis, raise_missing)\u001b[0m\n\u001b[0;32m   1264\u001b[0m             \u001b[0mkeyarr\u001b[0m\u001b[1;33m,\u001b[0m \u001b[0mindexer\u001b[0m\u001b[1;33m,\u001b[0m \u001b[0mnew_indexer\u001b[0m \u001b[1;33m=\u001b[0m \u001b[0max\u001b[0m\u001b[1;33m.\u001b[0m\u001b[0m_reindex_non_unique\u001b[0m\u001b[1;33m(\u001b[0m\u001b[0mkeyarr\u001b[0m\u001b[1;33m)\u001b[0m\u001b[1;33m\u001b[0m\u001b[1;33m\u001b[0m\u001b[0m\n\u001b[0;32m   1265\u001b[0m \u001b[1;33m\u001b[0m\u001b[0m\n\u001b[1;32m-> 1266\u001b[1;33m         \u001b[0mself\u001b[0m\u001b[1;33m.\u001b[0m\u001b[0m_validate_read_indexer\u001b[0m\u001b[1;33m(\u001b[0m\u001b[0mkeyarr\u001b[0m\u001b[1;33m,\u001b[0m \u001b[0mindexer\u001b[0m\u001b[1;33m,\u001b[0m \u001b[0maxis\u001b[0m\u001b[1;33m,\u001b[0m \u001b[0mraise_missing\u001b[0m\u001b[1;33m=\u001b[0m\u001b[0mraise_missing\u001b[0m\u001b[1;33m)\u001b[0m\u001b[1;33m\u001b[0m\u001b[1;33m\u001b[0m\u001b[0m\n\u001b[0m\u001b[0;32m   1267\u001b[0m         \u001b[1;32mreturn\u001b[0m \u001b[0mkeyarr\u001b[0m\u001b[1;33m,\u001b[0m \u001b[0mindexer\u001b[0m\u001b[1;33m\u001b[0m\u001b[1;33m\u001b[0m\u001b[0m\n\u001b[0;32m   1268\u001b[0m \u001b[1;33m\u001b[0m\u001b[0m\n",
      "\u001b[1;32m~\\anaconda3\\lib\\site-packages\\pandas\\core\\indexing.py\u001b[0m in \u001b[0;36m_validate_read_indexer\u001b[1;34m(self, key, indexer, axis, raise_missing)\u001b[0m\n\u001b[0;32m   1319\u001b[0m \u001b[1;33m\u001b[0m\u001b[0m\n\u001b[0;32m   1320\u001b[0m             \u001b[1;32mwith\u001b[0m \u001b[0moption_context\u001b[0m\u001b[1;33m(\u001b[0m\u001b[1;34m\"display.max_seq_items\"\u001b[0m\u001b[1;33m,\u001b[0m \u001b[1;36m10\u001b[0m\u001b[1;33m,\u001b[0m \u001b[1;34m\"display.width\"\u001b[0m\u001b[1;33m,\u001b[0m \u001b[1;36m80\u001b[0m\u001b[1;33m)\u001b[0m\u001b[1;33m:\u001b[0m\u001b[1;33m\u001b[0m\u001b[1;33m\u001b[0m\u001b[0m\n\u001b[1;32m-> 1321\u001b[1;33m                 raise KeyError(\n\u001b[0m\u001b[0;32m   1322\u001b[0m                     \u001b[1;34m\"Passing list-likes to .loc or [] with any missing labels \"\u001b[0m\u001b[1;33m\u001b[0m\u001b[1;33m\u001b[0m\u001b[0m\n\u001b[0;32m   1323\u001b[0m                     \u001b[1;34m\"is no longer supported. \"\u001b[0m\u001b[1;33m\u001b[0m\u001b[1;33m\u001b[0m\u001b[0m\n",
      "\u001b[1;31mKeyError\u001b[0m: \"Passing list-likes to .loc or [] with any missing labels is no longer supported. The following labels were missing: Index(['Chuím'], dtype='object', name='Pokemon'). See https://pandas.pydata.org/pandas-docs/stable/user_guide/indexing.html#deprecate-loc-reindex-listlike\""
     ]
    }
   ],
   "source": [
    "pokemoni[['Charizard', 'Chuím']]\n",
    "# If a element of a list dosen't exsists will show an error"
   ]
  },
  {
   "cell_type": "markdown",
   "id": "f9da957d",
   "metadata": {},
   "source": [
    "# The get Method on a Series"
   ]
  },
  {
   "cell_type": "code",
   "execution_count": 65,
   "id": "6105f1de",
   "metadata": {},
   "outputs": [
    {
     "data": {
      "text/plain": [
       "Pokemon\n",
       "Bulbasaur     Grass\n",
       "Ivysaur       Grass\n",
       "Venusaur      Grass\n",
       "Charmander     Fire\n",
       "Charmeleon     Fire\n",
       "Name: Type, dtype: object"
      ]
     },
     "execution_count": 65,
     "metadata": {},
     "output_type": "execute_result"
    }
   ],
   "source": [
    "pokemoni.head()"
   ]
  },
  {
   "cell_type": "code",
   "execution_count": 66,
   "id": "62507c58",
   "metadata": {},
   "outputs": [
    {
     "data": {
      "text/plain": [
       "'Grass'"
      ]
     },
     "execution_count": 66,
     "metadata": {},
     "output_type": "execute_result"
    }
   ],
   "source": [
    "pokemoni[0]"
   ]
  },
  {
   "cell_type": "code",
   "execution_count": 67,
   "id": "bff35a9c",
   "metadata": {},
   "outputs": [
    {
     "data": {
      "text/plain": [
       "'Grass'"
      ]
     },
     "execution_count": 67,
     "metadata": {},
     "output_type": "execute_result"
    }
   ],
   "source": [
    "pokemoni.get(0)"
   ]
  },
  {
   "cell_type": "code",
   "execution_count": 68,
   "id": "5de5faa1",
   "metadata": {},
   "outputs": [
    {
     "data": {
      "text/plain": [
       "'Grass'"
      ]
     },
     "execution_count": 68,
     "metadata": {},
     "output_type": "execute_result"
    }
   ],
   "source": [
    "pokemoni.get('Bulbasaur')"
   ]
  },
  {
   "cell_type": "code",
   "execution_count": 69,
   "id": "c666ee3b",
   "metadata": {},
   "outputs": [],
   "source": [
    "pokemoni.get('Chaí')"
   ]
  },
  {
   "cell_type": "code",
   "execution_count": 73,
   "id": "1c1ec520",
   "metadata": {},
   "outputs": [
    {
     "data": {
      "text/plain": [
       "'nonexistent'"
      ]
     },
     "execution_count": 73,
     "metadata": {},
     "output_type": "execute_result"
    }
   ],
   "source": [
    "pokemoni.get('Chaí', 'nonexistent')"
   ]
  },
  {
   "cell_type": "code",
   "execution_count": 74,
   "id": "3c3e608b",
   "metadata": {},
   "outputs": [
    {
     "data": {
      "text/plain": [
       "'Nonexistent'"
      ]
     },
     "execution_count": 74,
     "metadata": {},
     "output_type": "execute_result"
    }
   ],
   "source": [
    "pokemon.get(['Chaú', 'Bulbasaur'], 'Nonexistent')"
   ]
  },
  {
   "cell_type": "markdown",
   "id": "ef690571",
   "metadata": {},
   "source": [
    "# Overwrite a Series value"
   ]
  },
  {
   "cell_type": "code",
   "execution_count": 86,
   "id": "928c51c9",
   "metadata": {},
   "outputs": [
    {
     "data": {
      "text/plain": [
       "0     Bulbasaur\n",
       "1       Ivysaur\n",
       "2      Venusaur\n",
       "3    Charmander\n",
       "4    Charmeleon\n",
       "Name: Pokemon, dtype: object"
      ]
     },
     "execution_count": 86,
     "metadata": {},
     "output_type": "execute_result"
    }
   ],
   "source": [
    "pokemon = pd.read_csv('pokemon.csv',usecols = ['Pokemon'] ).squeeze('columns')\n",
    "pokemon.head()"
   ]
  },
  {
   "cell_type": "code",
   "execution_count": 88,
   "id": "32315d80",
   "metadata": {},
   "outputs": [
    {
     "data": {
      "text/plain": [
       "0      Borisaur\n",
       "1       Ivysaur\n",
       "2      Venusaur\n",
       "3    Charmander\n",
       "4    Charmeleon\n",
       "Name: Pokemon, dtype: object"
      ]
     },
     "execution_count": 88,
     "metadata": {},
     "output_type": "execute_result"
    }
   ],
   "source": [
    "pokemon[0] = 'Borisaur'\n",
    "pokemon.head()"
   ]
  },
  {
   "cell_type": "code",
   "execution_count": 90,
   "id": "7788f4f5",
   "metadata": {},
   "outputs": [
    {
     "data": {
      "text/plain": [
       "0         Borisaur\n",
       "1          Ivysaur\n",
       "2         Venusaur\n",
       "3       Charmander\n",
       "4       Charmeleon\n",
       "           ...    \n",
       "717        Zygarde\n",
       "718        Diancie\n",
       "719          Hoopa\n",
       "720      Volcanion\n",
       "1500         Hello\n",
       "Name: Pokemon, Length: 722, dtype: object"
      ]
     },
     "execution_count": 90,
     "metadata": {},
     "output_type": "execute_result"
    }
   ],
   "source": [
    "pokemon[1500] = 'Hello'\n",
    "pokemon"
   ]
  },
  {
   "cell_type": "code",
   "execution_count": 91,
   "id": "91cd11f9",
   "metadata": {},
   "outputs": [
    {
     "data": {
      "text/plain": [
       "1       Ivysaur\n",
       "2      Venusaur\n",
       "4    Charmeleon\n",
       "Name: Pokemon, dtype: object"
      ]
     },
     "execution_count": 91,
     "metadata": {},
     "output_type": "execute_result"
    }
   ],
   "source": [
    "pokemon[[1, 2, 4]]"
   ]
  },
  {
   "cell_type": "code",
   "execution_count": 93,
   "id": "5b1f73e9",
   "metadata": {},
   "outputs": [
    {
     "data": {
      "text/plain": [
       "0      Borisaur\n",
       "1       Firemon\n",
       "2      Flamemon\n",
       "3    Charmander\n",
       "4      Blazemon\n",
       "Name: Pokemon, dtype: object"
      ]
     },
     "execution_count": 93,
     "metadata": {},
     "output_type": "execute_result"
    }
   ],
   "source": [
    "pokemon[[1, 2, 4]] = ['Firemon', 'Flamemon', 'Blazemon']\n",
    "pokemon.head()"
   ]
  },
  {
   "cell_type": "code",
   "execution_count": 94,
   "id": "f206d603",
   "metadata": {},
   "outputs": [
    {
     "data": {
      "text/plain": [
       "Pokemon\n",
       "Bulbasaur     Grass\n",
       "Ivysaur       Grass\n",
       "Venusaur      Grass\n",
       "Charmander     Fire\n",
       "Charmeleon     Fire\n",
       "Name: Type, dtype: object"
      ]
     },
     "execution_count": 94,
     "metadata": {},
     "output_type": "execute_result"
    }
   ],
   "source": [
    "pokemon = pd.read_csv('pokemon.csv',index_col = ['Pokemon'] ).squeeze('columns')\n",
    "pokemon.head()"
   ]
  },
  {
   "cell_type": "code",
   "execution_count": 95,
   "id": "db7e5e21",
   "metadata": {},
   "outputs": [],
   "source": [
    "pokemon['Bulbasaur'] = 'Awesomemon'"
   ]
  },
  {
   "cell_type": "code",
   "execution_count": 96,
   "id": "971cf672",
   "metadata": {},
   "outputs": [],
   "source": [
    "pokemon[1] = 'Grassmon'"
   ]
  },
  {
   "cell_type": "code",
   "execution_count": 97,
   "id": "288ade2e",
   "metadata": {},
   "outputs": [
    {
     "data": {
      "text/plain": [
       "Pokemon\n",
       "Bulbasaur     Awesomemon\n",
       "Ivysaur         Grassmon\n",
       "Venusaur           Grass\n",
       "Charmander          Fire\n",
       "Charmeleon          Fire\n",
       "                 ...    \n",
       "Yveltal             Dark\n",
       "Zygarde           Dragon\n",
       "Diancie             Rock\n",
       "Hoopa            Psychic\n",
       "Volcanion           Fire\n",
       "Name: Type, Length: 721, dtype: object"
      ]
     },
     "execution_count": 97,
     "metadata": {},
     "output_type": "execute_result"
    }
   ],
   "source": [
    "pokemon"
   ]
  },
  {
   "cell_type": "markdown",
   "id": "ca217b76",
   "metadata": {},
   "source": [
    "# The copy Method"
   ]
  },
  {
   "cell_type": "code",
   "execution_count": 100,
   "id": "2b280b15",
   "metadata": {},
   "outputs": [],
   "source": [
    "pokemon_df = pd.read_csv('pokemon.csv', usecols = ['Pokemon'])\n",
    "pokemon_series = pokemon_df.squeeze('columns') #esta variável não é um elemento separado, \n",
    "                                               #representa apenas uma visão de uma parte do DataFrame pandas_df"
   ]
  },
  {
   "cell_type": "code",
   "execution_count": 103,
   "id": "e5dd6a7a",
   "metadata": {},
   "outputs": [],
   "source": [
    "pokemon_series[0] = 'Whatever'"
   ]
  },
  {
   "cell_type": "code",
   "execution_count": 104,
   "id": "e891fab3",
   "metadata": {},
   "outputs": [
    {
     "data": {
      "text/plain": [
       "0    Whatever\n",
       "Name: Pokemon, dtype: object"
      ]
     },
     "execution_count": 104,
     "metadata": {},
     "output_type": "execute_result"
    }
   ],
   "source": [
    "pokemon_series.head(1)"
   ]
  },
  {
   "cell_type": "code",
   "execution_count": 105,
   "id": "d06dbe1e",
   "metadata": {},
   "outputs": [
    {
     "data": {
      "text/html": [
       "<div>\n",
       "<style scoped>\n",
       "    .dataframe tbody tr th:only-of-type {\n",
       "        vertical-align: middle;\n",
       "    }\n",
       "\n",
       "    .dataframe tbody tr th {\n",
       "        vertical-align: top;\n",
       "    }\n",
       "\n",
       "    .dataframe thead th {\n",
       "        text-align: right;\n",
       "    }\n",
       "</style>\n",
       "<table border=\"1\" class=\"dataframe\">\n",
       "  <thead>\n",
       "    <tr style=\"text-align: right;\">\n",
       "      <th></th>\n",
       "      <th>Pokemon</th>\n",
       "    </tr>\n",
       "  </thead>\n",
       "  <tbody>\n",
       "    <tr>\n",
       "      <th>0</th>\n",
       "      <td>Whatever</td>\n",
       "    </tr>\n",
       "    <tr>\n",
       "      <th>1</th>\n",
       "      <td>Ivysaur</td>\n",
       "    </tr>\n",
       "    <tr>\n",
       "      <th>2</th>\n",
       "      <td>Venusaur</td>\n",
       "    </tr>\n",
       "    <tr>\n",
       "      <th>3</th>\n",
       "      <td>Charmander</td>\n",
       "    </tr>\n",
       "    <tr>\n",
       "      <th>4</th>\n",
       "      <td>Charmeleon</td>\n",
       "    </tr>\n",
       "    <tr>\n",
       "      <th>...</th>\n",
       "      <td>...</td>\n",
       "    </tr>\n",
       "    <tr>\n",
       "      <th>716</th>\n",
       "      <td>Yveltal</td>\n",
       "    </tr>\n",
       "    <tr>\n",
       "      <th>717</th>\n",
       "      <td>Zygarde</td>\n",
       "    </tr>\n",
       "    <tr>\n",
       "      <th>718</th>\n",
       "      <td>Diancie</td>\n",
       "    </tr>\n",
       "    <tr>\n",
       "      <th>719</th>\n",
       "      <td>Hoopa</td>\n",
       "    </tr>\n",
       "    <tr>\n",
       "      <th>720</th>\n",
       "      <td>Volcanion</td>\n",
       "    </tr>\n",
       "  </tbody>\n",
       "</table>\n",
       "<p>721 rows × 1 columns</p>\n",
       "</div>"
      ],
      "text/plain": [
       "        Pokemon\n",
       "0      Whatever\n",
       "1       Ivysaur\n",
       "2      Venusaur\n",
       "3    Charmander\n",
       "4    Charmeleon\n",
       "..          ...\n",
       "716     Yveltal\n",
       "717     Zygarde\n",
       "718     Diancie\n",
       "719       Hoopa\n",
       "720   Volcanion\n",
       "\n",
       "[721 rows x 1 columns]"
      ]
     },
     "execution_count": 105,
     "metadata": {},
     "output_type": "execute_result"
    }
   ],
   "source": [
    "pokemon_df"
   ]
  },
  {
   "cell_type": "code",
   "execution_count": null,
   "id": "6bbccbc4",
   "metadata": {},
   "outputs": [],
   "source": [
    "# House (DataFrame)\n",
    "# Door (Series)                      Door (Series) - Copy\n",
    "# If I paint the door I'll affect the house"
   ]
  },
  {
   "cell_type": "code",
   "execution_count": 106,
   "id": "6ef7f0ca",
   "metadata": {},
   "outputs": [],
   "source": [
    "pokemon_df = pd.read_csv('pokemon.csv', usecols = ['Pokemon'])\n",
    "pokemon_series = pokemon_df.squeeze('columns').copy()"
   ]
  },
  {
   "cell_type": "code",
   "execution_count": 107,
   "id": "e10a7cf2",
   "metadata": {},
   "outputs": [],
   "source": [
    "pokemon_series[0] = 'Whatever'"
   ]
  },
  {
   "cell_type": "code",
   "execution_count": 108,
   "id": "03a2acb0",
   "metadata": {},
   "outputs": [
    {
     "data": {
      "text/plain": [
       "Pokemon\n",
       "Bulbasaur    Awesomemon\n",
       "Name: Type, dtype: object"
      ]
     },
     "execution_count": 108,
     "metadata": {},
     "output_type": "execute_result"
    }
   ],
   "source": [
    "pokemon.head(1)"
   ]
  },
  {
   "cell_type": "code",
   "execution_count": 109,
   "id": "d45abaf3",
   "metadata": {},
   "outputs": [
    {
     "data": {
      "text/html": [
       "<div>\n",
       "<style scoped>\n",
       "    .dataframe tbody tr th:only-of-type {\n",
       "        vertical-align: middle;\n",
       "    }\n",
       "\n",
       "    .dataframe tbody tr th {\n",
       "        vertical-align: top;\n",
       "    }\n",
       "\n",
       "    .dataframe thead th {\n",
       "        text-align: right;\n",
       "    }\n",
       "</style>\n",
       "<table border=\"1\" class=\"dataframe\">\n",
       "  <thead>\n",
       "    <tr style=\"text-align: right;\">\n",
       "      <th></th>\n",
       "      <th>Pokemon</th>\n",
       "    </tr>\n",
       "  </thead>\n",
       "  <tbody>\n",
       "    <tr>\n",
       "      <th>0</th>\n",
       "      <td>Bulbasaur</td>\n",
       "    </tr>\n",
       "    <tr>\n",
       "      <th>1</th>\n",
       "      <td>Ivysaur</td>\n",
       "    </tr>\n",
       "    <tr>\n",
       "      <th>2</th>\n",
       "      <td>Venusaur</td>\n",
       "    </tr>\n",
       "    <tr>\n",
       "      <th>3</th>\n",
       "      <td>Charmander</td>\n",
       "    </tr>\n",
       "    <tr>\n",
       "      <th>4</th>\n",
       "      <td>Charmeleon</td>\n",
       "    </tr>\n",
       "    <tr>\n",
       "      <th>...</th>\n",
       "      <td>...</td>\n",
       "    </tr>\n",
       "    <tr>\n",
       "      <th>716</th>\n",
       "      <td>Yveltal</td>\n",
       "    </tr>\n",
       "    <tr>\n",
       "      <th>717</th>\n",
       "      <td>Zygarde</td>\n",
       "    </tr>\n",
       "    <tr>\n",
       "      <th>718</th>\n",
       "      <td>Diancie</td>\n",
       "    </tr>\n",
       "    <tr>\n",
       "      <th>719</th>\n",
       "      <td>Hoopa</td>\n",
       "    </tr>\n",
       "    <tr>\n",
       "      <th>720</th>\n",
       "      <td>Volcanion</td>\n",
       "    </tr>\n",
       "  </tbody>\n",
       "</table>\n",
       "<p>721 rows × 1 columns</p>\n",
       "</div>"
      ],
      "text/plain": [
       "        Pokemon\n",
       "0     Bulbasaur\n",
       "1       Ivysaur\n",
       "2      Venusaur\n",
       "3    Charmander\n",
       "4    Charmeleon\n",
       "..          ...\n",
       "716     Yveltal\n",
       "717     Zygarde\n",
       "718     Diancie\n",
       "719       Hoopa\n",
       "720   Volcanion\n",
       "\n",
       "[721 rows x 1 columns]"
      ]
     },
     "execution_count": 109,
     "metadata": {},
     "output_type": "execute_result"
    }
   ],
   "source": [
    "pokemon_df"
   ]
  },
  {
   "cell_type": "markdown",
   "id": "2c263236",
   "metadata": {},
   "source": [
    "# The inplace Parameter"
   ]
  },
  {
   "cell_type": "code",
   "execution_count": 115,
   "id": "86ab06de",
   "metadata": {},
   "outputs": [
    {
     "data": {
      "text/plain": [
       "0        50.12\n",
       "1        54.10\n",
       "2        54.65\n",
       "3        52.38\n",
       "4        52.95\n",
       "         ...  \n",
       "3007    772.88\n",
       "3008    771.07\n",
       "3009    773.18\n",
       "3010    771.61\n",
       "3011    782.22\n",
       "Name: Stock Price, Length: 3012, dtype: float64"
      ]
     },
     "execution_count": 115,
     "metadata": {},
     "output_type": "execute_result"
    }
   ],
   "source": [
    "google = (\n",
    "    pd.read_csv('google_stock_price.csv', usecols = ['Stock Price'])\n",
    "    .squeeze('columns')\n",
    "    .copy()\n",
    ") # Apenas quebra de linha para tornar a leitura do código mais fácil\n",
    "google"
   ]
  },
  {
   "cell_type": "code",
   "execution_count": 114,
   "id": "7592ce4d",
   "metadata": {},
   "outputs": [
    {
     "data": {
      "text/plain": [
       "11    49.95\n",
       "9     50.07\n",
       "0     50.12\n",
       "10    50.70\n",
       "12    50.74\n",
       "Name: Stock Price, dtype: float64"
      ]
     },
     "execution_count": 114,
     "metadata": {},
     "output_type": "execute_result"
    }
   ],
   "source": [
    "google = google.sort_values()\n",
    "google.head()"
   ]
  },
  {
   "cell_type": "code",
   "execution_count": 116,
   "id": "9420eb7b",
   "metadata": {},
   "outputs": [
    {
     "data": {
      "text/plain": [
       "11    49.95\n",
       "9     50.07\n",
       "0     50.12\n",
       "10    50.70\n",
       "12    50.74\n",
       "Name: Stock Price, dtype: float64"
      ]
     },
     "execution_count": 116,
     "metadata": {},
     "output_type": "execute_result"
    }
   ],
   "source": [
    "google.sort_values(inplace = True)\n",
    "google.head()"
   ]
  },
  {
   "cell_type": "code",
   "execution_count": 117,
   "id": "e041cbd1",
   "metadata": {},
   "outputs": [
    {
     "data": {
      "text/plain": [
       "0    50.12\n",
       "1    54.10\n",
       "2    54.65\n",
       "3    52.38\n",
       "4    52.95\n",
       "Name: Stock Price, dtype: float64"
      ]
     },
     "execution_count": 117,
     "metadata": {},
     "output_type": "execute_result"
    }
   ],
   "source": [
    "google.sort_index(inplace = True)\n",
    "google.head()"
   ]
  },
  {
   "cell_type": "markdown",
   "id": "95ba39b7",
   "metadata": {},
   "source": [
    "# Math Methods on Series Objects"
   ]
  },
  {
   "cell_type": "code",
   "execution_count": 121,
   "id": "344be823",
   "metadata": {},
   "outputs": [
    {
     "data": {
      "text/plain": [
       "0        50.12\n",
       "1        54.10\n",
       "2        54.65\n",
       "3        52.38\n",
       "4        52.95\n",
       "         ...  \n",
       "3007    772.88\n",
       "3008    771.07\n",
       "3009    773.18\n",
       "3010    771.61\n",
       "3011    782.22\n",
       "Name: Stock Price, Length: 3012, dtype: float64"
      ]
     },
     "execution_count": 121,
     "metadata": {},
     "output_type": "execute_result"
    }
   ],
   "source": [
    "google = pd.read_csv('google_stock_price.csv', usecols = ['Stock Price']).squeeze('columns')\n",
    "google"
   ]
  },
  {
   "cell_type": "code",
   "execution_count": 120,
   "id": "21739d11",
   "metadata": {},
   "outputs": [
    {
     "data": {
      "text/plain": [
       "3012"
      ]
     },
     "execution_count": 120,
     "metadata": {},
     "output_type": "execute_result"
    }
   ],
   "source": [
    "google.count()"
   ]
  },
  {
   "cell_type": "code",
   "execution_count": 122,
   "id": "3288f1c3",
   "metadata": {},
   "outputs": [
    {
     "data": {
      "text/plain": [
       "1006942.0"
      ]
     },
     "execution_count": 122,
     "metadata": {},
     "output_type": "execute_result"
    }
   ],
   "source": [
    "google.sum()"
   ]
  },
  {
   "cell_type": "code",
   "execution_count": 123,
   "id": "76816595",
   "metadata": {},
   "outputs": [
    {
     "data": {
      "text/plain": [
       "334.31009296148744"
      ]
     },
     "execution_count": 123,
     "metadata": {},
     "output_type": "execute_result"
    }
   ],
   "source": [
    "google.mean()"
   ]
  },
  {
   "cell_type": "code",
   "execution_count": 127,
   "id": "697acbb4",
   "metadata": {},
   "outputs": [
    {
     "data": {
      "text/plain": [
       "283.315"
      ]
     },
     "execution_count": 127,
     "metadata": {},
     "output_type": "execute_result"
    }
   ],
   "source": [
    "google.median()"
   ]
  },
  {
   "cell_type": "code",
   "execution_count": 130,
   "id": "9bf1be8d",
   "metadata": {},
   "outputs": [
    {
     "data": {
      "text/plain": [
       "0    291.21\n",
       "dtype: float64"
      ]
     },
     "execution_count": 130,
     "metadata": {},
     "output_type": "execute_result"
    }
   ],
   "source": [
    "google.mode()"
   ]
  },
  {
   "cell_type": "code",
   "execution_count": 131,
   "id": "72e93bb4",
   "metadata": {},
   "outputs": [
    {
     "data": {
      "text/plain": [
       "173.18720477113106"
      ]
     },
     "execution_count": 131,
     "metadata": {},
     "output_type": "execute_result"
    }
   ],
   "source": [
    "google.std() #Standard Deviation = Desvio Padrão"
   ]
  },
  {
   "cell_type": "code",
   "execution_count": 129,
   "id": "dd5a17b7",
   "metadata": {},
   "outputs": [
    {
     "data": {
      "text/plain": [
       "inf"
      ]
     },
     "execution_count": 129,
     "metadata": {},
     "output_type": "execute_result"
    }
   ],
   "source": [
    "google.product() #O número é tão alto que foi dado com infinito. Multiplicação de todos os números do df um pelo outro"
   ]
  },
  {
   "cell_type": "code",
   "execution_count": 132,
   "id": "dbdf9e43",
   "metadata": {},
   "outputs": [
    {
     "data": {
      "text/plain": [
       "49.95"
      ]
     },
     "execution_count": 132,
     "metadata": {},
     "output_type": "execute_result"
    }
   ],
   "source": [
    "google.min()"
   ]
  },
  {
   "cell_type": "code",
   "execution_count": 133,
   "id": "dacdd573",
   "metadata": {},
   "outputs": [
    {
     "data": {
      "text/plain": [
       "782.22"
      ]
     },
     "execution_count": 133,
     "metadata": {},
     "output_type": "execute_result"
    }
   ],
   "source": [
    "google.max()"
   ]
  },
  {
   "cell_type": "code",
   "execution_count": 135,
   "id": "8f5349c9",
   "metadata": {},
   "outputs": [
    {
     "data": {
      "text/plain": [
       "count    3012.000000\n",
       "mean      334.310093\n",
       "std       173.187205\n",
       "min        49.950000\n",
       "25%       218.045000\n",
       "50%       283.315000\n",
       "75%       443.000000\n",
       "max       782.220000\n",
       "Name: Stock Price, dtype: float64"
      ]
     },
     "execution_count": 135,
     "metadata": {},
     "output_type": "execute_result"
    }
   ],
   "source": [
    "google.describe()"
   ]
  },
  {
   "cell_type": "markdown",
   "id": "2f286207",
   "metadata": {},
   "source": [
    "# Broadcasting"
   ]
  },
  {
   "cell_type": "code",
   "execution_count": 136,
   "id": "bd2bd7a5",
   "metadata": {},
   "outputs": [
    {
     "data": {
      "text/plain": [
       "0        50.12\n",
       "1        54.10\n",
       "2        54.65\n",
       "3        52.38\n",
       "4        52.95\n",
       "         ...  \n",
       "3007    772.88\n",
       "3008    771.07\n",
       "3009    773.18\n",
       "3010    771.61\n",
       "3011    782.22\n",
       "Name: Stock Price, Length: 3012, dtype: float64"
      ]
     },
     "execution_count": 136,
     "metadata": {},
     "output_type": "execute_result"
    }
   ],
   "source": [
    "google"
   ]
  },
  {
   "cell_type": "code",
   "execution_count": 137,
   "id": "e96a1ec4",
   "metadata": {},
   "outputs": [
    {
     "data": {
      "text/plain": [
       "0        60.12\n",
       "1        64.10\n",
       "2        64.65\n",
       "3        62.38\n",
       "4        62.95\n",
       "         ...  \n",
       "3007    782.88\n",
       "3008    781.07\n",
       "3009    783.18\n",
       "3010    781.61\n",
       "3011    792.22\n",
       "Name: Stock Price, Length: 3012, dtype: float64"
      ]
     },
     "execution_count": 137,
     "metadata": {},
     "output_type": "execute_result"
    }
   ],
   "source": [
    "google + 10"
   ]
  },
  {
   "cell_type": "code",
   "execution_count": 138,
   "id": "265bfa15",
   "metadata": {},
   "outputs": [
    {
     "data": {
      "text/plain": [
       "0        20.12\n",
       "1        24.10\n",
       "2        24.65\n",
       "3        22.38\n",
       "4        22.95\n",
       "         ...  \n",
       "3007    742.88\n",
       "3008    741.07\n",
       "3009    743.18\n",
       "3010    741.61\n",
       "3011    752.22\n",
       "Name: Stock Price, Length: 3012, dtype: float64"
      ]
     },
     "execution_count": 138,
     "metadata": {},
     "output_type": "execute_result"
    }
   ],
   "source": [
    "google - 30"
   ]
  },
  {
   "cell_type": "code",
   "execution_count": 139,
   "id": "e2b4b83f",
   "metadata": {},
   "outputs": [
    {
     "data": {
      "text/plain": [
       "0        55.132\n",
       "1        59.510\n",
       "2        60.115\n",
       "3        57.618\n",
       "4        58.245\n",
       "         ...   \n",
       "3007    850.168\n",
       "3008    848.177\n",
       "3009    850.498\n",
       "3010    848.771\n",
       "3011    860.442\n",
       "Name: Stock Price, Length: 3012, dtype: float64"
      ]
     },
     "execution_count": 139,
     "metadata": {},
     "output_type": "execute_result"
    }
   ],
   "source": [
    "google * 1.1"
   ]
  },
  {
   "cell_type": "code",
   "execution_count": 140,
   "id": "bb93ffa4",
   "metadata": {},
   "outputs": [
    {
     "data": {
      "text/plain": [
       "0        60.12\n",
       "1        64.10\n",
       "2        64.65\n",
       "3        62.38\n",
       "4        62.95\n",
       "         ...  \n",
       "3007    782.88\n",
       "3008    781.07\n",
       "3009    783.18\n",
       "3010    781.61\n",
       "3011    792.22\n",
       "Name: Stock Price, Length: 3012, dtype: float64"
      ]
     },
     "execution_count": 140,
     "metadata": {},
     "output_type": "execute_result"
    }
   ],
   "source": [
    "google.add(10)"
   ]
  },
  {
   "cell_type": "markdown",
   "id": "84de4844",
   "metadata": {},
   "source": [
    "# The value_counts Method"
   ]
  },
  {
   "cell_type": "code",
   "execution_count": 143,
   "id": "bbafa631",
   "metadata": {},
   "outputs": [
    {
     "data": {
      "text/plain": [
       "Pokemon\n",
       "Bulbasaur     Grass\n",
       "Ivysaur       Grass\n",
       "Venusaur      Grass\n",
       "Charmander     Fire\n",
       "Charmeleon     Fire\n",
       "Name: Type, dtype: object"
      ]
     },
     "execution_count": 143,
     "metadata": {},
     "output_type": "execute_result"
    }
   ],
   "source": [
    "pokemon = pd.read_csv('pokemon.csv', index_col = 'Pokemon').squeeze('columns')\n",
    "pokemon.head()"
   ]
  },
  {
   "cell_type": "code",
   "execution_count": 145,
   "id": "c9086e93",
   "metadata": {},
   "outputs": [
    {
     "data": {
      "text/plain": [
       "Water       105\n",
       "Normal       93\n",
       "Grass        66\n",
       "Bug          63\n",
       "Fire         47\n",
       "Psychic      47\n",
       "Rock         41\n",
       "Electric     36\n",
       "Ground       30\n",
       "Dark         28\n",
       "Poison       28\n",
       "Fighting     25\n",
       "Dragon       24\n",
       "Ghost        23\n",
       "Ice          23\n",
       "Steel        22\n",
       "Fairy        17\n",
       "Flying        3\n",
       "Name: Type, dtype: int64"
      ]
     },
     "execution_count": 145,
     "metadata": {},
     "output_type": "execute_result"
    }
   ],
   "source": [
    "pokemon.value_counts()"
   ]
  },
  {
   "cell_type": "code",
   "execution_count": 147,
   "id": "67e9a894",
   "metadata": {},
   "outputs": [
    {
     "data": {
      "text/plain": [
       "Flying        3\n",
       "Fairy        17\n",
       "Steel        22\n",
       "Ice          23\n",
       "Ghost        23\n",
       "Dragon       24\n",
       "Fighting     25\n",
       "Dark         28\n",
       "Poison       28\n",
       "Ground       30\n",
       "Electric     36\n",
       "Rock         41\n",
       "Psychic      47\n",
       "Fire         47\n",
       "Bug          63\n",
       "Grass        66\n",
       "Normal       93\n",
       "Water       105\n",
       "Name: Type, dtype: int64"
      ]
     },
     "execution_count": 147,
     "metadata": {},
     "output_type": "execute_result"
    }
   ],
   "source": [
    "pokemon.value_counts(ascending = True)"
   ]
  },
  {
   "cell_type": "code",
   "execution_count": 152,
   "id": "e1344b95",
   "metadata": {},
   "outputs": [
    {
     "data": {
      "text/plain": [
       "Dragon       24\n",
       "Rock         41\n",
       "Water       105\n",
       "Fighting     25\n",
       "Ghost        23\n",
       "Psychic      47\n",
       "Electric     36\n",
       "Flying        3\n",
       "Fairy        17\n",
       "Ground       30\n",
       "Normal       93\n",
       "Bug          63\n",
       "Ice          23\n",
       "Dark         28\n",
       "Grass        66\n",
       "Poison       28\n",
       "Steel        22\n",
       "Fire         47\n",
       "Name: Type, dtype: int64"
      ]
     },
     "execution_count": 152,
     "metadata": {},
     "output_type": "execute_result"
    }
   ],
   "source": [
    "pokemon.value_counts(sort = False) #Ordena os valores na ordem em que aparecem no df"
   ]
  },
  {
   "cell_type": "code",
   "execution_count": 149,
   "id": "694c6352",
   "metadata": {},
   "outputs": [
    {
     "data": {
      "text/plain": [
       "Water       0.145631\n",
       "Normal      0.128988\n",
       "Grass       0.091540\n",
       "Bug         0.087379\n",
       "Fire        0.065187\n",
       "Psychic     0.065187\n",
       "Rock        0.056865\n",
       "Electric    0.049931\n",
       "Ground      0.041609\n",
       "Dark        0.038835\n",
       "Poison      0.038835\n",
       "Fighting    0.034674\n",
       "Dragon      0.033287\n",
       "Ghost       0.031900\n",
       "Ice         0.031900\n",
       "Steel       0.030513\n",
       "Fairy       0.023578\n",
       "Flying      0.004161\n",
       "Name: Type, dtype: float64"
      ]
     },
     "execution_count": 149,
     "metadata": {},
     "output_type": "execute_result"
    }
   ],
   "source": [
    "pokemon.value_counts(normalize = True)"
   ]
  },
  {
   "cell_type": "code",
   "execution_count": 150,
   "id": "6a1d382d",
   "metadata": {},
   "outputs": [
    {
     "data": {
      "text/plain": [
       "Water       14.563107\n",
       "Normal      12.898752\n",
       "Grass        9.153953\n",
       "Bug          8.737864\n",
       "Fire         6.518724\n",
       "Psychic      6.518724\n",
       "Rock         5.686546\n",
       "Electric     4.993065\n",
       "Ground       4.160888\n",
       "Dark         3.883495\n",
       "Poison       3.883495\n",
       "Fighting     3.467406\n",
       "Dragon       3.328710\n",
       "Ghost        3.190014\n",
       "Ice          3.190014\n",
       "Steel        3.051318\n",
       "Fairy        2.357836\n",
       "Flying       0.416089\n",
       "Name: Type, dtype: float64"
      ]
     },
     "execution_count": 150,
     "metadata": {},
     "output_type": "execute_result"
    }
   ],
   "source": [
    "pokemon.value_counts(normalize = True) * 100"
   ]
  },
  {
   "cell_type": "code",
   "execution_count": 153,
   "id": "b9e95491",
   "metadata": {},
   "outputs": [
    {
     "data": {
      "text/plain": [
       "Pokemon\n",
       "Bulbasaur       Grass\n",
       "Ivysaur         Grass\n",
       "Venusaur        Grass\n",
       "Charmander       Fire\n",
       "Charmeleon       Fire\n",
       "               ...   \n",
       "Yveltal          Dark\n",
       "Zygarde        Dragon\n",
       "Diancie          Rock\n",
       "Hoopa         Psychic\n",
       "Volcanion        Fire\n",
       "Name: Type, Length: 721, dtype: object"
      ]
     },
     "execution_count": 153,
     "metadata": {},
     "output_type": "execute_result"
    }
   ],
   "source": [
    "pokemon"
   ]
  },
  {
   "cell_type": "markdown",
   "id": "4ee2146d",
   "metadata": {},
   "source": [
    "# The apply Methods"
   ]
  },
  {
   "cell_type": "code",
   "execution_count": 154,
   "id": "af9fb443",
   "metadata": {},
   "outputs": [
    {
     "data": {
      "text/plain": [
       "Pokemon\n",
       "Bulbasaur     5\n",
       "Ivysaur       5\n",
       "Venusaur      5\n",
       "Charmander    4\n",
       "Charmeleon    4\n",
       "             ..\n",
       "Yveltal       4\n",
       "Zygarde       6\n",
       "Diancie       4\n",
       "Hoopa         7\n",
       "Volcanion     4\n",
       "Name: Type, Length: 721, dtype: int64"
      ]
     },
     "execution_count": 154,
     "metadata": {},
     "output_type": "execute_result"
    }
   ],
   "source": [
    "pokemon.apply(len)"
   ]
  },
  {
   "cell_type": "code",
   "execution_count": 155,
   "id": "4df2affa",
   "metadata": {},
   "outputs": [],
   "source": [
    "def rank_pokemon(pokemon_type):\n",
    "    if pokemon_type in ['Grass', 'Fire', 'Water']:\n",
    "        return 'Classic'\n",
    "    elif pokemon_type == 'Normal':\n",
    "        return 'Boring'\n",
    "    else:\n",
    "        return 'TBD'"
   ]
  },
  {
   "cell_type": "code",
   "execution_count": 156,
   "id": "4047874a",
   "metadata": {},
   "outputs": [
    {
     "data": {
      "text/plain": [
       "Pokemon\n",
       "Bulbasaur     Classic\n",
       "Ivysaur       Classic\n",
       "Venusaur      Classic\n",
       "Charmander    Classic\n",
       "Charmeleon    Classic\n",
       "               ...   \n",
       "Yveltal           TBD\n",
       "Zygarde           TBD\n",
       "Diancie           TBD\n",
       "Hoopa             TBD\n",
       "Volcanion     Classic\n",
       "Name: Type, Length: 721, dtype: object"
      ]
     },
     "execution_count": 156,
     "metadata": {},
     "output_type": "execute_result"
    }
   ],
   "source": [
    "pokemon.apply(rank_pokemon)"
   ]
  },
  {
   "cell_type": "markdown",
   "id": "7be3a569",
   "metadata": {},
   "source": [
    "# The map Method"
   ]
  },
  {
   "cell_type": "code",
   "execution_count": 160,
   "id": "0d16e683",
   "metadata": {},
   "outputs": [],
   "source": [
    "mappings = {\n",
    "    'Grass': 'Classic',\n",
    "    'Fire': 'Classic',\n",
    "    'Water': 'Classic',\n",
    "    'Normal': 'Boring'\n",
    "}"
   ]
  },
  {
   "cell_type": "code",
   "execution_count": 161,
   "id": "626a3d17",
   "metadata": {},
   "outputs": [
    {
     "data": {
      "text/plain": [
       "Pokemon\n",
       "Bulbasaur     Classic\n",
       "Ivysaur       Classic\n",
       "Venusaur      Classic\n",
       "Charmander    Classic\n",
       "Charmeleon    Classic\n",
       "               ...   \n",
       "Yveltal           NaN\n",
       "Zygarde           NaN\n",
       "Diancie           NaN\n",
       "Hoopa             NaN\n",
       "Volcanion     Classic\n",
       "Name: Type, Length: 721, dtype: object"
      ]
     },
     "execution_count": 161,
     "metadata": {},
     "output_type": "execute_result"
    }
   ],
   "source": [
    "pokemon.map(mappings)"
   ]
  },
  {
   "cell_type": "code",
   "execution_count": 163,
   "id": "88190b5c",
   "metadata": {},
   "outputs": [
    {
     "data": {
      "text/plain": [
       "Grass     Classic\n",
       "Fire      Classic\n",
       "Water     Classic\n",
       "Normal     Boring\n",
       "dtype: object"
      ]
     },
     "execution_count": 163,
     "metadata": {},
     "output_type": "execute_result"
    }
   ],
   "source": [
    "mappings_series = pd.Series(mappings)\n",
    "mappings_series"
   ]
  },
  {
   "cell_type": "code",
   "execution_count": 164,
   "id": "fba76088",
   "metadata": {},
   "outputs": [
    {
     "data": {
      "text/plain": [
       "Pokemon\n",
       "Bulbasaur     Classic\n",
       "Ivysaur       Classic\n",
       "Venusaur      Classic\n",
       "Charmander    Classic\n",
       "Charmeleon    Classic\n",
       "               ...   \n",
       "Yveltal           NaN\n",
       "Zygarde           NaN\n",
       "Diancie           NaN\n",
       "Hoopa             NaN\n",
       "Volcanion     Classic\n",
       "Name: Type, Length: 721, dtype: object"
      ]
     },
     "execution_count": 164,
     "metadata": {},
     "output_type": "execute_result"
    }
   ],
   "source": [
    "pokemon.map(mappings_series)"
   ]
  }
 ],
 "metadata": {
  "kernelspec": {
   "display_name": "Python 3",
   "language": "python",
   "name": "python3"
  },
  "language_info": {
   "codemirror_mode": {
    "name": "ipython",
    "version": 3
   },
   "file_extension": ".py",
   "mimetype": "text/x-python",
   "name": "python",
   "nbconvert_exporter": "python",
   "pygments_lexer": "ipython3",
   "version": "3.8.8"
  }
 },
 "nbformat": 4,
 "nbformat_minor": 5
}
