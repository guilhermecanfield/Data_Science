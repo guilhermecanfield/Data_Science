{
 "cells": [
  {
   "cell_type": "markdown",
   "metadata": {
    "id": "qt2hT1FIy6gr"
   },
   "source": [
    "# 0 CARREGAMENTO DAS BIBLIOTECAS"
   ]
  },
  {
   "cell_type": "code",
   "execution_count": 2,
   "metadata": {
    "id": "R9MyPEjzzAzg"
   },
   "outputs": [],
   "source": [
    "import numpy as np\n",
    "import pandas as pd\n",
    "import matplotlib.pyplot as plt\n",
    "import seaborn as sns\n",
    "import scipy as sp\n",
    "import statsmodels.api as sm\n",
    "import patsy as pt\n",
    "from sklearn import metrics\n",
    "from sklearn.model_selection import train_test_split\n",
    "from statsmodels.stats.outliers_influence import variance_inflation_factor\n",
    "from sklearn.linear_model import Ridge"
   ]
  },
  {
   "cell_type": "markdown",
   "metadata": {
    "id": "eeCBAH34zsot"
   },
   "source": [
    "# 1 CARREGAMENTO DOS DADOS"
   ]
  },
  {
   "cell_type": "markdown",
   "metadata": {
    "id": "1wO569RK0RHy"
   },
   "source": [
    "## 1.1 Montar o Google Drive"
   ]
  },
  {
   "cell_type": "code",
   "execution_count": null,
   "metadata": {
    "colab": {
     "base_uri": "https://localhost:8080/"
    },
    "id": "w1Z-8rpbzebp",
    "outputId": "b41cce08-a6cc-42d1-8e4c-f335c061816d"
   },
   "outputs": [
    {
     "name": "stdout",
     "output_type": "stream",
     "text": [
      "Mounted at /content/gdrive\n"
     ]
    }
   ],
   "source": [
    "drive.mount('/content/gdrive', force_remount=True)"
   ]
  },
  {
   "cell_type": "markdown",
   "metadata": {
    "id": "9vVu1fNOAaT_"
   },
   "source": [
    "# Nova seção"
   ]
  },
  {
   "cell_type": "markdown",
   "metadata": {
    "id": "Z8Az9HRS0U8p"
   },
   "source": [
    "## 1.2 Ler o arquivo"
   ]
  },
  {
   "cell_type": "code",
   "execution_count": 3,
   "metadata": {
    "id": "W0WxO2Gr0Z-p"
   },
   "outputs": [],
   "source": [
    "df = pd.read_csv('50_Startups.csv')"
   ]
  },
  {
   "cell_type": "code",
   "execution_count": 4,
   "metadata": {
    "colab": {
     "base_uri": "https://localhost:8080/",
     "height": 206
    },
    "id": "Uwyk10w91BhV",
    "outputId": "ec9fe2aa-886a-4531-eb37-5478098582ef"
   },
   "outputs": [
    {
     "data": {
      "text/html": [
       "<div>\n",
       "<style scoped>\n",
       "    .dataframe tbody tr th:only-of-type {\n",
       "        vertical-align: middle;\n",
       "    }\n",
       "\n",
       "    .dataframe tbody tr th {\n",
       "        vertical-align: top;\n",
       "    }\n",
       "\n",
       "    .dataframe thead th {\n",
       "        text-align: right;\n",
       "    }\n",
       "</style>\n",
       "<table border=\"1\" class=\"dataframe\">\n",
       "  <thead>\n",
       "    <tr style=\"text-align: right;\">\n",
       "      <th></th>\n",
       "      <th>R&amp;D Spend</th>\n",
       "      <th>Administration</th>\n",
       "      <th>Marketing Spend</th>\n",
       "      <th>State</th>\n",
       "      <th>Profit</th>\n",
       "    </tr>\n",
       "  </thead>\n",
       "  <tbody>\n",
       "    <tr>\n",
       "      <th>0</th>\n",
       "      <td>165349.20</td>\n",
       "      <td>136897.80</td>\n",
       "      <td>471784.10</td>\n",
       "      <td>New York</td>\n",
       "      <td>192261.83</td>\n",
       "    </tr>\n",
       "    <tr>\n",
       "      <th>1</th>\n",
       "      <td>162597.70</td>\n",
       "      <td>151377.59</td>\n",
       "      <td>443898.53</td>\n",
       "      <td>California</td>\n",
       "      <td>191792.06</td>\n",
       "    </tr>\n",
       "    <tr>\n",
       "      <th>2</th>\n",
       "      <td>153441.51</td>\n",
       "      <td>101145.55</td>\n",
       "      <td>407934.54</td>\n",
       "      <td>Florida</td>\n",
       "      <td>191050.39</td>\n",
       "    </tr>\n",
       "    <tr>\n",
       "      <th>3</th>\n",
       "      <td>144372.41</td>\n",
       "      <td>118671.85</td>\n",
       "      <td>383199.62</td>\n",
       "      <td>New York</td>\n",
       "      <td>182901.99</td>\n",
       "    </tr>\n",
       "    <tr>\n",
       "      <th>4</th>\n",
       "      <td>142107.34</td>\n",
       "      <td>91391.77</td>\n",
       "      <td>366168.42</td>\n",
       "      <td>Florida</td>\n",
       "      <td>166187.94</td>\n",
       "    </tr>\n",
       "  </tbody>\n",
       "</table>\n",
       "</div>"
      ],
      "text/plain": [
       "   R&D Spend  Administration  Marketing Spend       State     Profit\n",
       "0  165349.20       136897.80        471784.10    New York  192261.83\n",
       "1  162597.70       151377.59        443898.53  California  191792.06\n",
       "2  153441.51       101145.55        407934.54     Florida  191050.39\n",
       "3  144372.41       118671.85        383199.62    New York  182901.99\n",
       "4  142107.34        91391.77        366168.42     Florida  166187.94"
      ]
     },
     "execution_count": 4,
     "metadata": {},
     "output_type": "execute_result"
    }
   ],
   "source": [
    "df.head()"
   ]
  },
  {
   "cell_type": "markdown",
   "metadata": {
    "id": "-CWKmVAo1O77"
   },
   "source": [
    "# 2 EDA"
   ]
  },
  {
   "cell_type": "markdown",
   "metadata": {
    "id": "oQAFS22j1UPo"
   },
   "source": [
    "## 2.1 Estatísticas descritivas"
   ]
  },
  {
   "cell_type": "code",
   "execution_count": 5,
   "metadata": {
    "colab": {
     "base_uri": "https://localhost:8080/",
     "height": 300
    },
    "id": "5WFTO5ON1RRx",
    "outputId": "c163da26-72da-4143-9bb0-30062a0d0854"
   },
   "outputs": [
    {
     "data": {
      "text/html": [
       "<div>\n",
       "<style scoped>\n",
       "    .dataframe tbody tr th:only-of-type {\n",
       "        vertical-align: middle;\n",
       "    }\n",
       "\n",
       "    .dataframe tbody tr th {\n",
       "        vertical-align: top;\n",
       "    }\n",
       "\n",
       "    .dataframe thead th {\n",
       "        text-align: right;\n",
       "    }\n",
       "</style>\n",
       "<table border=\"1\" class=\"dataframe\">\n",
       "  <thead>\n",
       "    <tr style=\"text-align: right;\">\n",
       "      <th></th>\n",
       "      <th>R&amp;D Spend</th>\n",
       "      <th>Administration</th>\n",
       "      <th>Marketing Spend</th>\n",
       "      <th>Profit</th>\n",
       "    </tr>\n",
       "  </thead>\n",
       "  <tbody>\n",
       "    <tr>\n",
       "      <th>count</th>\n",
       "      <td>50.000000</td>\n",
       "      <td>50.000000</td>\n",
       "      <td>50.000000</td>\n",
       "      <td>50.000000</td>\n",
       "    </tr>\n",
       "    <tr>\n",
       "      <th>mean</th>\n",
       "      <td>73721.615600</td>\n",
       "      <td>121344.639600</td>\n",
       "      <td>211025.097800</td>\n",
       "      <td>112012.639200</td>\n",
       "    </tr>\n",
       "    <tr>\n",
       "      <th>std</th>\n",
       "      <td>45902.256482</td>\n",
       "      <td>28017.802755</td>\n",
       "      <td>122290.310726</td>\n",
       "      <td>40306.180338</td>\n",
       "    </tr>\n",
       "    <tr>\n",
       "      <th>min</th>\n",
       "      <td>0.000000</td>\n",
       "      <td>51283.140000</td>\n",
       "      <td>0.000000</td>\n",
       "      <td>14681.400000</td>\n",
       "    </tr>\n",
       "    <tr>\n",
       "      <th>25%</th>\n",
       "      <td>39936.370000</td>\n",
       "      <td>103730.875000</td>\n",
       "      <td>129300.132500</td>\n",
       "      <td>90138.902500</td>\n",
       "    </tr>\n",
       "    <tr>\n",
       "      <th>50%</th>\n",
       "      <td>73051.080000</td>\n",
       "      <td>122699.795000</td>\n",
       "      <td>212716.240000</td>\n",
       "      <td>107978.190000</td>\n",
       "    </tr>\n",
       "    <tr>\n",
       "      <th>75%</th>\n",
       "      <td>101602.800000</td>\n",
       "      <td>144842.180000</td>\n",
       "      <td>299469.085000</td>\n",
       "      <td>139765.977500</td>\n",
       "    </tr>\n",
       "    <tr>\n",
       "      <th>max</th>\n",
       "      <td>165349.200000</td>\n",
       "      <td>182645.560000</td>\n",
       "      <td>471784.100000</td>\n",
       "      <td>192261.830000</td>\n",
       "    </tr>\n",
       "  </tbody>\n",
       "</table>\n",
       "</div>"
      ],
      "text/plain": [
       "           R&D Spend  Administration  Marketing Spend         Profit\n",
       "count      50.000000       50.000000        50.000000      50.000000\n",
       "mean    73721.615600   121344.639600    211025.097800  112012.639200\n",
       "std     45902.256482    28017.802755    122290.310726   40306.180338\n",
       "min         0.000000    51283.140000         0.000000   14681.400000\n",
       "25%     39936.370000   103730.875000    129300.132500   90138.902500\n",
       "50%     73051.080000   122699.795000    212716.240000  107978.190000\n",
       "75%    101602.800000   144842.180000    299469.085000  139765.977500\n",
       "max    165349.200000   182645.560000    471784.100000  192261.830000"
      ]
     },
     "execution_count": 5,
     "metadata": {},
     "output_type": "execute_result"
    }
   ],
   "source": [
    "df.describe()"
   ]
  },
  {
   "cell_type": "markdown",
   "metadata": {
    "id": "D4Q2Na_81sR9"
   },
   "source": [
    "## 2.2 Análise gráfica"
   ]
  },
  {
   "cell_type": "markdown",
   "metadata": {
    "id": "Rg7Cags62weD"
   },
   "source": [
    "### 2.2.1 Nome das colunas"
   ]
  },
  {
   "cell_type": "code",
   "execution_count": 6,
   "metadata": {
    "id": "B7yGBppi1wkg"
   },
   "outputs": [],
   "source": [
    "contColNames = list(df.select_dtypes(include='number').columns)"
   ]
  },
  {
   "cell_type": "markdown",
   "metadata": {
    "id": "l3WeEarr21zI"
   },
   "source": [
    "### 2.2.2 Cofigurarar tamanho do subplot"
   ]
  },
  {
   "cell_type": "code",
   "execution_count": 7,
   "metadata": {
    "id": "ew3A--yz2YoP"
   },
   "outputs": [],
   "source": [
    "ncols = 3"
   ]
  },
  {
   "cell_type": "code",
   "execution_count": 8,
   "metadata": {
    "id": "HSxNRthV3JpN"
   },
   "outputs": [],
   "source": [
    "nrows = int(np.ceil(len(contColNames)/(1.0 * ncols)))"
   ]
  },
  {
   "cell_type": "markdown",
   "metadata": {
    "id": "_YeLd4V2-HXk"
   },
   "source": [
    "### 2.2.3 Plotar os histogramas"
   ]
  },
  {
   "cell_type": "code",
   "execution_count": 9,
   "metadata": {
    "colab": {
     "base_uri": "https://localhost:8080/",
     "height": 606
    },
    "id": "LRC5eiBP4aeU",
    "outputId": "662f3285-be87-4b41-fd1b-e6719dbe8691"
   },
   "outputs": [
    {
     "data": {
      "image/png": "[encoded data removed]",
      "text/plain": [
       "<Figure size 1440x720 with 6 Axes>"
      ]
     },
     "metadata": {
      "needs_background": "light"
     },
     "output_type": "display_data"
    }
   ],
   "source": [
    "fig, axes = plt.subplots(nrows=nrows, ncols=ncols, figsize=(20,10))\n",
    "\n",
    "counter = 0 \n",
    "\n",
    "for i in range(nrows):\n",
    "  for j in range(ncols):\n",
    "\n",
    "    ax = axes[i][j]\n",
    "\n",
    "    # Plotar somente quando houver dados\n",
    "    if counter < len(contColNames):\n",
    "\n",
    "      ax.hist(df.select_dtypes(include='number')[contColNames[counter]], bins=10)\n",
    "      ax.set_xlabel(contColNames[counter])\n",
    "      ax.set_ylabel('Frequência')\n",
    "\n",
    "    else:\n",
    "      ax.set_axis_off()\n",
    "\n",
    "    counter += 1\n",
    "\n",
    "plt.show()"
   ]
  },
  {
   "cell_type": "markdown",
   "metadata": {
    "id": "rkvqVz7s7qKN"
   },
   "source": [
    "### 2.2.4 Plotar o gráfico de barras"
   ]
  },
  {
   "cell_type": "code",
   "execution_count": 10,
   "metadata": {
    "colab": {
     "base_uri": "https://localhost:8080/",
     "height": 300
    },
    "id": "1QeykO_Z76zO",
    "outputId": "aba595e9-35f9-4fac-aa4c-6f51fd1b4a66"
   },
   "outputs": [
    {
     "data": {
      "text/plain": [
       "Text(0.0, 1.0, 'Distribuição dos estados')"
      ]
     },
     "execution_count": 10,
     "metadata": {},
     "output_type": "execute_result"
    },
    {
     "data": {
      "image/png": "[encoded data removed]",
      "text/plain": [
       "<Figure size 432x288 with 1 Axes>"
      ]
     },
     "metadata": {
      "needs_background": "light"
     },
     "output_type": "display_data"
    }
   ],
   "source": [
    "fig = plt.figure()\n",
    "\n",
    "plt.bar(df['State'].unique(), df['State'].value_counts())\n",
    "\n",
    "plt.title('Distribuição dos estados', loc='left')"
   ]
  },
  {
   "cell_type": "markdown",
   "metadata": {
    "id": "cKh5FdD-97WO"
   },
   "source": [
    "### 2.2.5 Plotar gráfico de correlação"
   ]
  },
  {
   "cell_type": "code",
   "execution_count": 11,
   "metadata": {
    "colab": {
     "base_uri": "https://localhost:8080/",
     "height": 745
    },
    "id": "oArGZtFW79O0",
    "outputId": "4c58c048-0c12-426e-fde8-3ad9fa22ef89"
   },
   "outputs": [
    {
     "data": {
      "text/plain": [
       "<seaborn.axisgrid.PairGrid at 0x1e8e28e8430>"
      ]
     },
     "execution_count": 11,
     "metadata": {},
     "output_type": "execute_result"
    },
    {
     "data": {
      "image/png": "[encoded data removed]",
      "text/plain": [
       "<Figure size 720x720 with 20 Axes>"
      ]
     },
     "metadata": {
      "needs_background": "light"
     },
     "output_type": "display_data"
    }
   ],
   "source": [
    "sns.pairplot(df)"
   ]
  },
  {
   "cell_type": "markdown",
   "metadata": {
    "id": "BjekOMSo-xZ2"
   },
   "source": [
    "### 2.2.6 Plotar o box-plot"
   ]
  },
  {
   "cell_type": "code",
   "execution_count": 12,
   "metadata": {
    "colab": {
     "base_uri": "https://localhost:8080/",
     "height": 318
    },
    "id": "tqcabK7m-ac7",
    "outputId": "474683bb-c470-4511-f591-77d23cfe6ad2"
   },
   "outputs": [
    {
     "data": {
      "text/plain": [
       "Text(0, 0.5, '')"
      ]
     },
     "execution_count": 12,
     "metadata": {},
     "output_type": "execute_result"
    },
    {
     "data": {
      "image/png": "[encoded data removed]",
      "text/plain": [
       "<Figure size 432x288 with 1 Axes>"
      ]
     },
     "metadata": {
      "needs_background": "light"
     },
     "output_type": "display_data"
    }
   ],
   "source": [
    "fig = plt.figure()\n",
    "\n",
    "sns.boxplot(x = df['State'], y = df['Profit'])\n",
    "\n",
    "plt.title('Lucro (USD$) das Startups', fontsize = 18, fontweight = 18, loc = 'left')\n",
    "\n",
    "plt.ylabel('')"
   ]
  },
  {
   "cell_type": "markdown",
   "metadata": {
    "id": "sJPtl0k8AYgH"
   },
   "source": [
    "# 3 PRÉ-PROCESSAMENTO DOS DADOS"
   ]
  },
  {
   "cell_type": "markdown",
   "metadata": {
    "id": "0NQAdlQZAkN8"
   },
   "source": [
    "## 3.1 Separar as variáveis"
   ]
  },
  {
   "cell_type": "markdown",
   "metadata": {
    "id": "WXbV_DnPAoOu"
   },
   "source": [
    "### 3.1.1 Variáveis contínuas"
   ]
  },
  {
   "cell_type": "code",
   "execution_count": 13,
   "metadata": {
    "id": "6T6nWp5O_MAe"
   },
   "outputs": [],
   "source": [
    "dfNum = df.select_dtypes(include='number').drop(['Profit'], axis = 1)\n"
   ]
  },
  {
   "cell_type": "code",
   "execution_count": 14,
   "metadata": {
    "colab": {
     "base_uri": "https://localhost:8080/",
     "height": 206
    },
    "id": "Yhrjt4G2Ay_S",
    "outputId": "45bb381a-5aea-409d-b7e8-45cd994ca5a6"
   },
   "outputs": [
    {
     "data": {
      "text/html": [
       "<div>\n",
       "<style scoped>\n",
       "    .dataframe tbody tr th:only-of-type {\n",
       "        vertical-align: middle;\n",
       "    }\n",
       "\n",
       "    .dataframe tbody tr th {\n",
       "        vertical-align: top;\n",
       "    }\n",
       "\n",
       "    .dataframe thead th {\n",
       "        text-align: right;\n",
       "    }\n",
       "</style>\n",
       "<table border=\"1\" class=\"dataframe\">\n",
       "  <thead>\n",
       "    <tr style=\"text-align: right;\">\n",
       "      <th></th>\n",
       "      <th>R&amp;D Spend</th>\n",
       "      <th>Administration</th>\n",
       "      <th>Marketing Spend</th>\n",
       "    </tr>\n",
       "  </thead>\n",
       "  <tbody>\n",
       "    <tr>\n",
       "      <th>0</th>\n",
       "      <td>165349.20</td>\n",
       "      <td>136897.80</td>\n",
       "      <td>471784.10</td>\n",
       "    </tr>\n",
       "    <tr>\n",
       "      <th>1</th>\n",
       "      <td>162597.70</td>\n",
       "      <td>151377.59</td>\n",
       "      <td>443898.53</td>\n",
       "    </tr>\n",
       "    <tr>\n",
       "      <th>2</th>\n",
       "      <td>153441.51</td>\n",
       "      <td>101145.55</td>\n",
       "      <td>407934.54</td>\n",
       "    </tr>\n",
       "    <tr>\n",
       "      <th>3</th>\n",
       "      <td>144372.41</td>\n",
       "      <td>118671.85</td>\n",
       "      <td>383199.62</td>\n",
       "    </tr>\n",
       "    <tr>\n",
       "      <th>4</th>\n",
       "      <td>142107.34</td>\n",
       "      <td>91391.77</td>\n",
       "      <td>366168.42</td>\n",
       "    </tr>\n",
       "  </tbody>\n",
       "</table>\n",
       "</div>"
      ],
      "text/plain": [
       "   R&D Spend  Administration  Marketing Spend\n",
       "0  165349.20       136897.80        471784.10\n",
       "1  162597.70       151377.59        443898.53\n",
       "2  153441.51       101145.55        407934.54\n",
       "3  144372.41       118671.85        383199.62\n",
       "4  142107.34        91391.77        366168.42"
      ]
     },
     "execution_count": 14,
     "metadata": {},
     "output_type": "execute_result"
    }
   ],
   "source": [
    "dfNum.head()"
   ]
  },
  {
   "cell_type": "markdown",
   "metadata": {
    "id": "ITVR4-pNBSlu"
   },
   "source": [
    "### 3.1.2 Variáveis categoricas"
   ]
  },
  {
   "cell_type": "code",
   "execution_count": 15,
   "metadata": {
    "id": "FMoYMgxaA0yD"
   },
   "outputs": [],
   "source": [
    "# Mudar o tipo de variável para 'categórico'\n",
    "df['State'] = df['State'].astype('category')\n",
    "\n",
    "# Selecionar somente as variáveis categóricas\n",
    "dfCat = df.select_dtypes(include='category')"
   ]
  },
  {
   "cell_type": "code",
   "execution_count": 16,
   "metadata": {
    "colab": {
     "base_uri": "https://localhost:8080/",
     "height": 206
    },
    "id": "AQbe-o3WBcWJ",
    "outputId": "8b90a992-35a0-4e1f-bba2-99223b6fbd69"
   },
   "outputs": [
    {
     "data": {
      "text/html": [
       "<div>\n",
       "<style scoped>\n",
       "    .dataframe tbody tr th:only-of-type {\n",
       "        vertical-align: middle;\n",
       "    }\n",
       "\n",
       "    .dataframe tbody tr th {\n",
       "        vertical-align: top;\n",
       "    }\n",
       "\n",
       "    .dataframe thead th {\n",
       "        text-align: right;\n",
       "    }\n",
       "</style>\n",
       "<table border=\"1\" class=\"dataframe\">\n",
       "  <thead>\n",
       "    <tr style=\"text-align: right;\">\n",
       "      <th></th>\n",
       "      <th>State</th>\n",
       "    </tr>\n",
       "  </thead>\n",
       "  <tbody>\n",
       "    <tr>\n",
       "      <th>0</th>\n",
       "      <td>New York</td>\n",
       "    </tr>\n",
       "    <tr>\n",
       "      <th>1</th>\n",
       "      <td>California</td>\n",
       "    </tr>\n",
       "    <tr>\n",
       "      <th>2</th>\n",
       "      <td>Florida</td>\n",
       "    </tr>\n",
       "    <tr>\n",
       "      <th>3</th>\n",
       "      <td>New York</td>\n",
       "    </tr>\n",
       "    <tr>\n",
       "      <th>4</th>\n",
       "      <td>Florida</td>\n",
       "    </tr>\n",
       "  </tbody>\n",
       "</table>\n",
       "</div>"
      ],
      "text/plain": [
       "        State\n",
       "0    New York\n",
       "1  California\n",
       "2     Florida\n",
       "3    New York\n",
       "4     Florida"
      ]
     },
     "execution_count": 16,
     "metadata": {},
     "output_type": "execute_result"
    }
   ],
   "source": [
    "dfCat.head()"
   ]
  },
  {
   "cell_type": "markdown",
   "metadata": {
    "id": "7ueViob3CoX7"
   },
   "source": [
    "### 3.1.3 Resposta"
   ]
  },
  {
   "cell_type": "code",
   "execution_count": 17,
   "metadata": {
    "id": "ELoexg6aBdyc"
   },
   "outputs": [],
   "source": [
    "y = df['Profit']"
   ]
  },
  {
   "cell_type": "markdown",
   "metadata": {
    "id": "0I9NWOXCC6VV"
   },
   "source": [
    "## 3.2 Pré-tratamento da resposta\n"
   ]
  },
  {
   "cell_type": "markdown",
   "metadata": {
    "id": "uTAfge6SD70o"
   },
   "source": [
    "### 3.2.1 Teste resposta original"
   ]
  },
  {
   "cell_type": "code",
   "execution_count": 18,
   "metadata": {
    "id": "ENgkt94aCvLw"
   },
   "outputs": [],
   "source": [
    "kStat, kPvalue = sp.stats.kstest(rvs=y, cdf='norm')"
   ]
  },
  {
   "cell_type": "code",
   "execution_count": 19,
   "metadata": {
    "colab": {
     "base_uri": "https://localhost:8080/"
    },
    "id": "FXQ-7kmYDteQ",
    "outputId": "d8d5089c-cb0a-4b95-a61d-c59de5f3db51"
   },
   "outputs": [
    {
     "data": {
      "text/plain": [
       "1.0"
      ]
     },
     "execution_count": 19,
     "metadata": {},
     "output_type": "execute_result"
    }
   ],
   "source": [
    "kStat"
   ]
  },
  {
   "cell_type": "code",
   "execution_count": 20,
   "metadata": {
    "colab": {
     "base_uri": "https://localhost:8080/"
    },
    "id": "kknnpiwsDvBu",
    "outputId": "95f4b065-b92b-4e3f-92e2-d01bf114c4ac"
   },
   "outputs": [
    {
     "data": {
      "text/plain": [
       "0.0"
      ]
     },
     "execution_count": 20,
     "metadata": {},
     "output_type": "execute_result"
    }
   ],
   "source": [
    "kPvalue"
   ]
  },
  {
   "cell_type": "markdown",
   "metadata": {
    "id": "EGDiPwaVEBRN"
   },
   "source": [
    "### 3.2.3 Teste log da resposta"
   ]
  },
  {
   "cell_type": "code",
   "execution_count": 21,
   "metadata": {
    "id": "l582wI_DEETK"
   },
   "outputs": [],
   "source": [
    "kStat, kPvalue = sp.stats.kstest(rvs=np.log(y), cdf='norm')"
   ]
  },
  {
   "cell_type": "code",
   "execution_count": 22,
   "metadata": {
    "colab": {
     "base_uri": "https://localhost:8080/"
    },
    "id": "ZAtYzsXrELLJ",
    "outputId": "1e9ef369-5adb-4106-a8e4-c17c9e303b6a"
   },
   "outputs": [
    {
     "data": {
      "text/plain": [
       "1.0"
      ]
     },
     "execution_count": 22,
     "metadata": {},
     "output_type": "execute_result"
    }
   ],
   "source": [
    "kStat"
   ]
  },
  {
   "cell_type": "code",
   "execution_count": 23,
   "metadata": {
    "colab": {
     "base_uri": "https://localhost:8080/"
    },
    "id": "xDY2S6y2EMs0",
    "outputId": "d894221c-6d77-4214-c796-3c8dc614dd6f"
   },
   "outputs": [
    {
     "data": {
      "text/plain": [
       "0.0"
      ]
     },
     "execution_count": 23,
     "metadata": {},
     "output_type": "execute_result"
    }
   ],
   "source": [
    "kPvalue"
   ]
  },
  {
   "cell_type": "code",
   "execution_count": 24,
   "metadata": {
    "colab": {
     "base_uri": "https://localhost:8080/",
     "height": 359
    },
    "id": "H1-UD05JEOSp",
    "outputId": "d0b1f6bd-12a1-4478-f7e4-3d793862c961"
   },
   "outputs": [
    {
     "data": {
      "text/plain": [
       "(array([ 1.,  0.,  0.,  1.,  2.,  2.,  6., 17., 11., 10.]),\n",
       " array([ 9.59433667,  9.85156434, 10.10879202, 10.36601969, 10.62324737,\n",
       "        10.88047504, 11.13770272, 11.39493039, 11.65215807, 11.90938574,\n",
       "        12.16661342]),\n",
       " <BarContainer object of 10 artists>)"
      ]
     },
     "execution_count": 24,
     "metadata": {},
     "output_type": "execute_result"
    },
    {
     "data": {
      "image/png": "[encoded data removed]",
      "text/plain": [
       "<Figure size 432x288 with 1 Axes>"
      ]
     },
     "metadata": {
      "needs_background": "light"
     },
     "output_type": "display_data"
    }
   ],
   "source": [
    "fig = plt.figure()\n",
    "plt.hist(np.log(y))"
   ]
  },
  {
   "cell_type": "markdown",
   "metadata": {
    "id": "Op7sDrl4EtJf"
   },
   "source": [
    "## 3.3 Pré-tratamento das vaiáveis contínuas"
   ]
  },
  {
   "cell_type": "code",
   "execution_count": 25,
   "metadata": {
    "id": "RIzMPQsREzj6"
   },
   "outputs": [],
   "source": [
    "# Criar a função para o escalonamento dos dados\n",
    "def feat_scale(X):\n",
    "\n",
    "  # Calcular a média de todas as variáveis\n",
    "  mu = np.mean(X, axis = 0)\n",
    "\n",
    "  # Calcular o devio padrão de todas as variáveis\n",
    "  sigma = np.std(X, axis=0, ddof=1)\n",
    "\n",
    "  # Fazer os escalonamento das variáveis\n",
    "  xNorm = (X - mu)/sigma\n",
    "\n",
    "  return xNorm"
   ]
  },
  {
   "cell_type": "code",
   "execution_count": 26,
   "metadata": {
    "id": "hdrKmUBGGpf_"
   },
   "outputs": [],
   "source": [
    "dfNorm = feat_scale(dfNum)"
   ]
  },
  {
   "cell_type": "code",
   "execution_count": 27,
   "metadata": {
    "colab": {
     "base_uri": "https://localhost:8080/",
     "height": 206
    },
    "id": "ejCCa2HuGupM",
    "outputId": "61aecb44-8153-4261-ed56-3842e157d470"
   },
   "outputs": [
    {
     "data": {
      "text/html": [
       "<div>\n",
       "<style scoped>\n",
       "    .dataframe tbody tr th:only-of-type {\n",
       "        vertical-align: middle;\n",
       "    }\n",
       "\n",
       "    .dataframe tbody tr th {\n",
       "        vertical-align: top;\n",
       "    }\n",
       "\n",
       "    .dataframe thead th {\n",
       "        text-align: right;\n",
       "    }\n",
       "</style>\n",
       "<table border=\"1\" class=\"dataframe\">\n",
       "  <thead>\n",
       "    <tr style=\"text-align: right;\">\n",
       "      <th></th>\n",
       "      <th>R&amp;D Spend</th>\n",
       "      <th>Administration</th>\n",
       "      <th>Marketing Spend</th>\n",
       "    </tr>\n",
       "  </thead>\n",
       "  <tbody>\n",
       "    <tr>\n",
       "      <th>0</th>\n",
       "      <td>1.996146</td>\n",
       "      <td>0.555117</td>\n",
       "      <td>2.132295</td>\n",
       "    </tr>\n",
       "    <tr>\n",
       "      <th>1</th>\n",
       "      <td>1.936203</td>\n",
       "      <td>1.071924</td>\n",
       "      <td>1.904267</td>\n",
       "    </tr>\n",
       "    <tr>\n",
       "      <th>2</th>\n",
       "      <td>1.736731</td>\n",
       "      <td>-0.720938</td>\n",
       "      <td>1.610180</td>\n",
       "    </tr>\n",
       "    <tr>\n",
       "      <th>3</th>\n",
       "      <td>1.539157</td>\n",
       "      <td>-0.095396</td>\n",
       "      <td>1.407916</td>\n",
       "    </tr>\n",
       "    <tr>\n",
       "      <th>4</th>\n",
       "      <td>1.489812</td>\n",
       "      <td>-1.069066</td>\n",
       "      <td>1.268648</td>\n",
       "    </tr>\n",
       "  </tbody>\n",
       "</table>\n",
       "</div>"
      ],
      "text/plain": [
       "   R&D Spend  Administration  Marketing Spend\n",
       "0   1.996146        0.555117         2.132295\n",
       "1   1.936203        1.071924         1.904267\n",
       "2   1.736731       -0.720938         1.610180\n",
       "3   1.539157       -0.095396         1.407916\n",
       "4   1.489812       -1.069066         1.268648"
      ]
     },
     "execution_count": 27,
     "metadata": {},
     "output_type": "execute_result"
    }
   ],
   "source": [
    "dfNorm.head()"
   ]
  },
  {
   "cell_type": "markdown",
   "metadata": {
    "id": "tTA_3Y41HMVu"
   },
   "source": [
    "## 3.4 Pré-tratamento das variáveis categóricas"
   ]
  },
  {
   "cell_type": "code",
   "execution_count": 28,
   "metadata": {
    "id": "tsz245nUHSgN"
   },
   "outputs": [],
   "source": [
    "dfDum = pd.get_dummies(dfCat)"
   ]
  },
  {
   "cell_type": "code",
   "execution_count": 29,
   "metadata": {
    "colab": {
     "base_uri": "https://localhost:8080/",
     "height": 206
    },
    "id": "RsbDehAYHhKB",
    "outputId": "8f35f970-75a0-4502-d81d-dfd3cb487720"
   },
   "outputs": [
    {
     "data": {
      "text/html": [
       "<div>\n",
       "<style scoped>\n",
       "    .dataframe tbody tr th:only-of-type {\n",
       "        vertical-align: middle;\n",
       "    }\n",
       "\n",
       "    .dataframe tbody tr th {\n",
       "        vertical-align: top;\n",
       "    }\n",
       "\n",
       "    .dataframe thead th {\n",
       "        text-align: right;\n",
       "    }\n",
       "</style>\n",
       "<table border=\"1\" class=\"dataframe\">\n",
       "  <thead>\n",
       "    <tr style=\"text-align: right;\">\n",
       "      <th></th>\n",
       "      <th>State_California</th>\n",
       "      <th>State_Florida</th>\n",
       "      <th>State_New York</th>\n",
       "    </tr>\n",
       "  </thead>\n",
       "  <tbody>\n",
       "    <tr>\n",
       "      <th>0</th>\n",
       "      <td>0</td>\n",
       "      <td>0</td>\n",
       "      <td>1</td>\n",
       "    </tr>\n",
       "    <tr>\n",
       "      <th>1</th>\n",
       "      <td>1</td>\n",
       "      <td>0</td>\n",
       "      <td>0</td>\n",
       "    </tr>\n",
       "    <tr>\n",
       "      <th>2</th>\n",
       "      <td>0</td>\n",
       "      <td>1</td>\n",
       "      <td>0</td>\n",
       "    </tr>\n",
       "    <tr>\n",
       "      <th>3</th>\n",
       "      <td>0</td>\n",
       "      <td>0</td>\n",
       "      <td>1</td>\n",
       "    </tr>\n",
       "    <tr>\n",
       "      <th>4</th>\n",
       "      <td>0</td>\n",
       "      <td>1</td>\n",
       "      <td>0</td>\n",
       "    </tr>\n",
       "  </tbody>\n",
       "</table>\n",
       "</div>"
      ],
      "text/plain": [
       "   State_California  State_Florida  State_New York\n",
       "0                 0              0               1\n",
       "1                 1              0               0\n",
       "2                 0              1               0\n",
       "3                 0              0               1\n",
       "4                 0              1               0"
      ]
     },
     "execution_count": 29,
     "metadata": {},
     "output_type": "execute_result"
    }
   ],
   "source": [
    "dfDum.head()"
   ]
  },
  {
   "cell_type": "code",
   "execution_count": 30,
   "metadata": {
    "id": "2TTZcbiDHjV1"
   },
   "outputs": [],
   "source": [
    "dfFinal = pd.concat([dfNorm.reset_index(drop=True), dfDum], axis=1)"
   ]
  },
  {
   "cell_type": "code",
   "execution_count": 31,
   "metadata": {
    "colab": {
     "base_uri": "https://localhost:8080/",
     "height": 206
    },
    "id": "P03i4PUMH9TG",
    "outputId": "7aea4b6e-32e9-4aca-fbdd-e7c161ea8639"
   },
   "outputs": [
    {
     "data": {
      "text/html": [
       "<div>\n",
       "<style scoped>\n",
       "    .dataframe tbody tr th:only-of-type {\n",
       "        vertical-align: middle;\n",
       "    }\n",
       "\n",
       "    .dataframe tbody tr th {\n",
       "        vertical-align: top;\n",
       "    }\n",
       "\n",
       "    .dataframe thead th {\n",
       "        text-align: right;\n",
       "    }\n",
       "</style>\n",
       "<table border=\"1\" class=\"dataframe\">\n",
       "  <thead>\n",
       "    <tr style=\"text-align: right;\">\n",
       "      <th></th>\n",
       "      <th>R&amp;D Spend</th>\n",
       "      <th>Administration</th>\n",
       "      <th>Marketing Spend</th>\n",
       "      <th>State_California</th>\n",
       "      <th>State_Florida</th>\n",
       "      <th>State_New York</th>\n",
       "    </tr>\n",
       "  </thead>\n",
       "  <tbody>\n",
       "    <tr>\n",
       "      <th>0</th>\n",
       "      <td>1.996146</td>\n",
       "      <td>0.555117</td>\n",
       "      <td>2.132295</td>\n",
       "      <td>0</td>\n",
       "      <td>0</td>\n",
       "      <td>1</td>\n",
       "    </tr>\n",
       "    <tr>\n",
       "      <th>1</th>\n",
       "      <td>1.936203</td>\n",
       "      <td>1.071924</td>\n",
       "      <td>1.904267</td>\n",
       "      <td>1</td>\n",
       "      <td>0</td>\n",
       "      <td>0</td>\n",
       "    </tr>\n",
       "    <tr>\n",
       "      <th>2</th>\n",
       "      <td>1.736731</td>\n",
       "      <td>-0.720938</td>\n",
       "      <td>1.610180</td>\n",
       "      <td>0</td>\n",
       "      <td>1</td>\n",
       "      <td>0</td>\n",
       "    </tr>\n",
       "    <tr>\n",
       "      <th>3</th>\n",
       "      <td>1.539157</td>\n",
       "      <td>-0.095396</td>\n",
       "      <td>1.407916</td>\n",
       "      <td>0</td>\n",
       "      <td>0</td>\n",
       "      <td>1</td>\n",
       "    </tr>\n",
       "    <tr>\n",
       "      <th>4</th>\n",
       "      <td>1.489812</td>\n",
       "      <td>-1.069066</td>\n",
       "      <td>1.268648</td>\n",
       "      <td>0</td>\n",
       "      <td>1</td>\n",
       "      <td>0</td>\n",
       "    </tr>\n",
       "  </tbody>\n",
       "</table>\n",
       "</div>"
      ],
      "text/plain": [
       "   R&D Spend  Administration  Marketing Spend  State_California  \\\n",
       "0   1.996146        0.555117         2.132295                 0   \n",
       "1   1.936203        1.071924         1.904267                 1   \n",
       "2   1.736731       -0.720938         1.610180                 0   \n",
       "3   1.539157       -0.095396         1.407916                 0   \n",
       "4   1.489812       -1.069066         1.268648                 0   \n",
       "\n",
       "   State_Florida  State_New York  \n",
       "0              0               1  \n",
       "1              0               0  \n",
       "2              1               0  \n",
       "3              0               1  \n",
       "4              1               0  "
      ]
     },
     "execution_count": 31,
     "metadata": {},
     "output_type": "execute_result"
    }
   ],
   "source": [
    "dfFinal.head()"
   ]
  },
  {
   "cell_type": "markdown",
   "metadata": {
    "id": "AN495oVN2ZN-"
   },
   "source": [
    "# 4 AJUSTE DO MODELO DE REGRESSÃO"
   ]
  },
  {
   "cell_type": "markdown",
   "metadata": {
    "id": "jZZ7bpNb2dDi"
   },
   "source": [
    "## 4.1 Método dos mínimos quadrados"
   ]
  },
  {
   "cell_type": "markdown",
   "metadata": {
    "id": "8buG_KKf4HlT"
   },
   "source": [
    "### 4.1.1 Adição da resposta e alteração dos nomes das colunas"
   ]
  },
  {
   "cell_type": "code",
   "execution_count": 32,
   "metadata": {
    "id": "lgXd_qZM4S58"
   },
   "outputs": [],
   "source": [
    "# Adição das respostas\n",
    "dfFull = pd.concat([y, dfFinal], axis = 1)"
   ]
  },
  {
   "cell_type": "code",
   "execution_count": 33,
   "metadata": {
    "id": "k8xZT8G74lJJ"
   },
   "outputs": [],
   "source": [
    "# Alterar nome das colunas\n",
    "dfFull.rename(columns={'R&D Spend':'rd',\n",
    "                       'Administration':'adm',\n",
    "                       'Marketing Spend':'mkt',\n",
    "                       'State_California':'ca',\n",
    "                       'State_Florida':'fl',\n",
    "                       'State_New York':'ny'},\n",
    "              inplace = True\n",
    ")"
   ]
  },
  {
   "cell_type": "markdown",
   "metadata": {
    "id": "CWhPsd8T5sx5"
   },
   "source": [
    "### 4.1.2 Função para escrever a fórmula\n"
   ]
  },
  {
   "cell_type": "code",
   "execution_count": 34,
   "metadata": {
    "id": "_jJ6sQ2f5ymf"
   },
   "outputs": [],
   "source": [
    "def ols_formula(df, dependent_var, *excluded_rows):\n",
    "\n",
    "  # Listar o nome das colunas do dataframe\n",
    "  dfCols = list(df.columns.values)\n",
    "\n",
    "  # Remover a variável dependente\n",
    "  dfCols.remove(dependent_var)\n",
    "\n",
    "  # Remover as variáveis excluídas\n",
    "  for col in excluded_rows:\n",
    "    dfCols.remove(col)\n",
    "\n",
    "  # Retornar a fórmula\n",
    "  return dependent_var + ' ~ ' + ' + '.join(dfCols)"
   ]
  },
  {
   "cell_type": "code",
   "execution_count": 38,
   "metadata": {},
   "outputs": [
    {
     "data": {
      "text/plain": [
       "'Profit ~ rd + adm + mkt + ca + fl + ny'"
      ]
     },
     "execution_count": 38,
     "metadata": {},
     "output_type": "execute_result"
    }
   ],
   "source": [
    "ols_formula(dfFull, 'Profit')"
   ]
  },
  {
   "cell_type": "markdown",
   "metadata": {
    "id": "8FCEFwNN7ZJq"
   },
   "source": [
    "### 4.1.3 Matrix do modelo"
   ]
  },
  {
   "cell_type": "code",
   "execution_count": 35,
   "metadata": {
    "id": "6C0tcD_z3Y1K"
   },
   "outputs": [],
   "source": [
    "y, X = pt.dmatrices(ols_formula(dfFull, 'Profit'), data = dfFull , return_type='dataframe')"
   ]
  },
  {
   "cell_type": "markdown",
   "metadata": {
    "id": "kwg7Vy_N70oT"
   },
   "source": [
    "### 4.1.3 Ajuste do modelo"
   ]
  },
  {
   "cell_type": "code",
   "execution_count": 36,
   "metadata": {
    "id": "KvhIwQWd2cFm"
   },
   "outputs": [],
   "source": [
    "# Especificação do modelo\n",
    "reg1 = sm.OLS(y, X)\n",
    "\n",
    "# Executa o método dos mínimos quadrados\n",
    "reg1fit = reg1.fit()"
   ]
  },
  {
   "cell_type": "code",
   "execution_count": 37,
   "metadata": {
    "colab": {
     "base_uri": "https://localhost:8080/"
    },
    "id": "fd3s5_-l8JNc",
    "outputId": "e3bb9c13-e8a2-4102-e982-3a8ad1b435e6"
   },
   "outputs": [
    {
     "name": "stdout",
     "output_type": "stream",
     "text": [
      "                            OLS Regression Results                            \n",
      "==============================================================================\n",
      "Dep. Variable:                 Profit   R-squared:                       0.951\n",
      "Model:                            OLS   Adj. R-squared:                  0.945\n",
      "Method:                 Least Squares   F-statistic:                     169.9\n",
      "Date:                Tue, 19 Jul 2022   Prob (F-statistic):           1.34e-27\n",
      "Time:                        11:51:20   Log-Likelihood:                -525.38\n",
      "No. Observations:                  50   AIC:                             1063.\n",
      "Df Residuals:                      44   BIC:                             1074.\n",
      "Df Model:                           5                                         \n",
      "Covariance Type:            nonrobust                                         \n",
      "==============================================================================\n",
      "                 coef    std err          t      P>|t|      [0.025      0.975]\n",
      "------------------------------------------------------------------------------\n",
      "Intercept   8.401e+04   1001.609     83.877      0.000     8.2e+04     8.6e+04\n",
      "rd            3.7e+04   2130.184     17.369      0.000    3.27e+04    4.13e+04\n",
      "adm         -756.6017   1463.413     -0.517      0.608   -3705.917    2192.714\n",
      "mkt         3299.3756   2096.320      1.574      0.123    -925.479    7524.231\n",
      "ca          2.795e+04   1932.496     14.464      0.000    2.41e+04    3.18e+04\n",
      "fl          2.815e+04   1993.572     14.121      0.000    2.41e+04    3.22e+04\n",
      "ny          2.791e+04   1913.989     14.582      0.000    2.41e+04    3.18e+04\n",
      "==============================================================================\n",
      "Omnibus:                       14.782   Durbin-Watson:                   1.283\n",
      "Prob(Omnibus):                  0.001   Jarque-Bera (JB):               21.266\n",
      "Skew:                          -0.948   Prob(JB):                     2.41e-05\n",
      "Kurtosis:                       5.572   Cond. No.                     1.86e+16\n",
      "==============================================================================\n",
      "\n",
      "Notes:\n",
      "[1] Standard Errors assume that the covariance matrix of the errors is correctly specified.\n",
      "[2] The smallest eigenvalue is 2.51e-31. This might indicate that there are\n",
      "strong multicollinearity problems or that the design matrix is singular.\n"
     ]
    }
   ],
   "source": [
    "print(reg1fit.summary())"
   ]
  },
  {
   "cell_type": "markdown",
   "metadata": {
    "id": "byXEmTIXnWnm"
   },
   "source": [
    "## 4.2 Método do Gradiente descendente"
   ]
  },
  {
   "cell_type": "markdown",
   "metadata": {
    "id": "9bnJwpR0nfCq"
   },
   "source": [
    "### 4.2.1 Função perda"
   ]
  },
  {
   "cell_type": "code",
   "execution_count": null,
   "metadata": {
    "id": "eqSDMb21nZjg"
   },
   "outputs": [],
   "source": [
    "def funcao_perda(X, y, beta):\n",
    "\n",
    "  \"\"\"\n",
    "  X é a matriz com os regressores (m x n).\n",
    "  y é a série com a resposta (1, m).\n",
    "  beta é a série dos parâmetros (1 x n).\n",
    "  \"\"\"\n",
    "\n",
    "  # Previsão da resposta\n",
    "  pred = X.dot(beta)\n",
    "\n",
    "  # Calcular os erros de previsão\n",
    "  res = np.subtract(pred, y.squeeze())\n",
    "\n",
    "  # Calcular o quadrado dos erros\n",
    "  sqrRes = np.square(res)\n",
    "\n",
    "  # Calcular a perda\n",
    "  perda = 1/(2*m) * np.sum(sqrRes)\n",
    "\n",
    "  return perda"
   ]
  },
  {
   "cell_type": "markdown",
   "metadata": {
    "id": "E-2mftd7qawX"
   },
   "source": [
    "### 4.2.2 Função gradiente descendente"
   ]
  },
  {
   "cell_type": "code",
   "execution_count": null,
   "metadata": {
    "id": "QcRGSxjEqVCd"
   },
   "outputs": [],
   "source": [
    "def grad_des(X, y, beta, alpha, itera):\n",
    "\n",
    "  \"\"\"\n",
    "  X é a matriz dos regressores (m x n).\n",
    "  y é a série da resposta (1 x m).\n",
    "  beta é a série dos valores iniciais dos parâmetros (1 x n).\n",
    "  alpha é a taxa de aprendizagem (escalar).\n",
    "  itera é o número de iterações do algoritmo.\n",
    "\n",
    "  __________________________________________\n",
    "  Resultados\n",
    "\n",
    "  beta é a série com os valores finais dos parâmetros.\n",
    "  hperda é a série histórica das perdas.\n",
    "\n",
    "  \"\"\"\n",
    "\n",
    "  # Inicializa a série do histórico de perdas\n",
    "  hPerda = np.zeros(itera)\n",
    "\n",
    "  for i in range(itera):\n",
    "\n",
    "    # Calcula as previsões com os valores atuais dos parâmetros\n",
    "    pred = X.dot(beta)\n",
    "\n",
    "    # Calcula os resíduos da previsão\n",
    "    res = np.subtract(pred, y.squeeze())\n",
    "\n",
    "    # Calcula o incremento / decremento valor dos betas - derivada parcial da função perda\n",
    "    sumDelta = (alpha / m) * X.transpose().dot(res)\n",
    "\n",
    "    # Atualizar o varlos dos betas do modelo\n",
    "    beta = beta - sumDelta\n",
    "\n",
    "    #Calcula a nova perda com os novos valores dos betas\n",
    "    hPerda[i] = funcao_perda(X, y, beta)\n",
    "\n",
    "  return beta, hPerda\n"
   ]
  },
  {
   "cell_type": "markdown",
   "metadata": {
    "id": "OF7qLBAavPLy"
   },
   "source": [
    "### 4.2.3 Aplicação do algoritmo de gradiente descendente"
   ]
  },
  {
   "cell_type": "markdown",
   "metadata": {
    "id": "XF4VgjY_wi8Z"
   },
   "source": [
    "#### Configuração do algoritmo"
   ]
  },
  {
   "cell_type": "code",
   "execution_count": null,
   "metadata": {
    "id": "y4kHTFB9u_LU"
   },
   "outputs": [],
   "source": [
    "# Salvar o tamanho do df com os regressores (incluindo o intercept)\n",
    "m, n = X.shape\n",
    "\n",
    "# Inicializa a série de betas\n",
    "beta = np.zeros(n)\n",
    "\n",
    "# Iterações\n",
    "itera = 1000\n",
    "\n",
    "# Taxa de aprendizagem\n",
    "alpha = 0.3"
   ]
  },
  {
   "cell_type": "markdown",
   "metadata": {
    "id": "WYvJWz_pwnb5"
   },
   "source": [
    "#### Aplicação do algoritmo"
   ]
  },
  {
   "cell_type": "code",
   "execution_count": null,
   "metadata": {
    "id": "f8XGNKN8wpr5"
   },
   "outputs": [],
   "source": [
    "beta, hPerda = grad_des(X = X, y = y, beta = beta, alpha = alpha, itera = itera)"
   ]
  },
  {
   "cell_type": "code",
   "execution_count": null,
   "metadata": {
    "colab": {
     "base_uri": "https://localhost:8080/"
    },
    "id": "vOcxYuB7x0iI",
    "outputId": "9226d363-71ed-415c-a0ea-8c97348bbb2b"
   },
   "outputs": [
    {
     "data": {
      "text/plain": [
       "Intercept    84011.676723\n",
       "rd           36998.279697\n",
       "adm           -756.601699\n",
       "mkt           3299.375589\n",
       "ca           27951.591650\n",
       "fl           28150.380443\n",
       "ny           27909.704631\n",
       "dtype: float64"
      ]
     },
     "execution_count": 42,
     "metadata": {
      "tags": []
     },
     "output_type": "execute_result"
    }
   ],
   "source": [
    "beta"
   ]
  },
  {
   "cell_type": "code",
   "execution_count": null,
   "metadata": {
    "colab": {
     "base_uri": "https://localhost:8080/",
     "height": 314
    },
    "id": "6CGZVDdDx-cA",
    "outputId": "b7e364ee-c8e8-43d3-9867-9301a31802e0"
   },
   "outputs": [
    {
     "data": {
      "text/plain": [
       "Text(0.0, 1.0, 'Histórico de perdas')"
      ]
     },
     "execution_count": 43,
     "metadata": {
      "tags": []
     },
     "output_type": "execute_result"
    },
    {
     "data": {
      "image/png": "[encoded data removed]",
      "text/plain": [
       "<Figure size 432x288 with 1 Axes>"
      ]
     },
     "metadata": {
      "needs_background": "light",
      "tags": []
     },
     "output_type": "display_data"
    }
   ],
   "source": [
    "# Estudo de convergência\n",
    "\n",
    "fig = plt.figure()\n",
    "\n",
    "plt.plot(range(1, itera + 1), hPerda, color = 'blue')\n",
    "\n",
    "plt.xlabel('Iterações')\n",
    "\n",
    "plt.ylabel('Erro quadrado médio')\n",
    "\n",
    "plt.title('Histórico de perdas', loc = 'left')"
   ]
  },
  {
   "cell_type": "markdown",
   "metadata": {
    "id": "n1z3McQuAd27"
   },
   "source": [
    "# 5 SIGNIFICÂNCIA ESTATÍSTICA"
   ]
  },
  {
   "cell_type": "markdown",
   "metadata": {
    "id": "8C3Sk3fyDCzh"
   },
   "source": [
    "## 5.1 Recap sumário do modelo"
   ]
  },
  {
   "cell_type": "code",
   "execution_count": null,
   "metadata": {
    "colab": {
     "base_uri": "https://localhost:8080/"
    },
    "id": "6g3RRlB1BU54",
    "outputId": "afab9ec8-acda-4bf5-9b56-931964e4dba5"
   },
   "outputs": [
    {
     "name": "stdout",
     "output_type": "stream",
     "text": [
      "                            OLS Regression Results                            \n",
      "==============================================================================\n",
      "Dep. Variable:                 Profit   R-squared:                       0.951\n",
      "Model:                            OLS   Adj. R-squared:                  0.945\n",
      "Method:                 Least Squares   F-statistic:                     169.9\n",
      "Date:                Tue, 03 Aug 2021   Prob (F-statistic):           1.34e-27\n",
      "Time:                        21:18:36   Log-Likelihood:                -525.38\n",
      "No. Observations:                  50   AIC:                             1063.\n",
      "Df Residuals:                      44   BIC:                             1074.\n",
      "Df Model:                           5                                         \n",
      "Covariance Type:            nonrobust                                         \n",
      "==============================================================================\n",
      "                 coef    std err          t      P>|t|      [0.025      0.975]\n",
      "------------------------------------------------------------------------------\n",
      "Intercept   8.401e+04   1001.609     83.877      0.000     8.2e+04     8.6e+04\n",
      "rd            3.7e+04   2130.184     17.369      0.000    3.27e+04    4.13e+04\n",
      "adm         -756.6017   1463.413     -0.517      0.608   -3705.917    2192.714\n",
      "mkt         3299.3756   2096.320      1.574      0.123    -925.479    7524.231\n",
      "ca          2.795e+04   1932.496     14.464      0.000    2.41e+04    3.18e+04\n",
      "fl          2.815e+04   1993.572     14.121      0.000    2.41e+04    3.22e+04\n",
      "ny          2.791e+04   1913.989     14.582      0.000    2.41e+04    3.18e+04\n",
      "==============================================================================\n",
      "Omnibus:                       14.782   Durbin-Watson:                   1.283\n",
      "Prob(Omnibus):                  0.001   Jarque-Bera (JB):               21.266\n",
      "Skew:                          -0.948   Prob(JB):                     2.41e-05\n",
      "Kurtosis:                       5.572   Cond. No.                     1.50e+16\n",
      "==============================================================================\n",
      "\n",
      "Warnings:\n",
      "[1] Standard Errors assume that the covariance matrix of the errors is correctly specified.\n",
      "[2] The smallest eigenvalue is 3.83e-31. This might indicate that there are\n",
      "strong multicollinearity problems or that the design matrix is singular.\n"
     ]
    }
   ],
   "source": [
    "print(reg1fit.summary())"
   ]
  },
  {
   "cell_type": "markdown",
   "metadata": {
    "id": "fCPwlBGSJjyS"
   },
   "source": [
    "## 5.2 Reajuste do modelo (modelo reduzido)"
   ]
  },
  {
   "cell_type": "markdown",
   "metadata": {
    "id": "DiRghdSyJqAy"
   },
   "source": [
    "### 5.2.1 Nova matrix do modelo"
   ]
  },
  {
   "cell_type": "code",
   "execution_count": 39,
   "metadata": {
    "colab": {
     "base_uri": "https://localhost:8080/",
     "height": 36
    },
    "id": "sXS3UAOeJ2e-",
    "outputId": "95db6824-25e6-48f1-b106-b2dafeee874c"
   },
   "outputs": [
    {
     "data": {
      "text/plain": [
       "'Profit ~ rd + mkt + ca + fl + ny'"
      ]
     },
     "execution_count": 39,
     "metadata": {},
     "output_type": "execute_result"
    }
   ],
   "source": [
    "ols_formula(dfFull, 'Profit', 'adm')"
   ]
  },
  {
   "cell_type": "code",
   "execution_count": null,
   "metadata": {
    "id": "RvPvip-sDLJz"
   },
   "outputs": [],
   "source": [
    "y, Xred = pt.dmatrices(ols_formula(dfFull, 'Profit', 'adm'), data = dfFull , return_type='dataframe')"
   ]
  },
  {
   "cell_type": "code",
   "execution_count": null,
   "metadata": {
    "id": "t_ETzrdjvoDR"
   },
   "outputs": [],
   "source": []
  },
  {
   "cell_type": "code",
   "execution_count": null,
   "metadata": {
    "id": "uzLP5r8VKUHd"
   },
   "outputs": [],
   "source": [
    "# Especificação do modelo\n",
    "reg2 = sm.OLS(y, Xred)\n",
    "\n",
    "# Executa o método dos mínimos quadrados\n",
    "reg2fit = reg2.fit()"
   ]
  },
  {
   "cell_type": "code",
   "execution_count": null,
   "metadata": {
    "colab": {
     "base_uri": "https://localhost:8080/"
    },
    "id": "bK9AibMiKh-y",
    "outputId": "0342a0a4-5514-41a1-c7c1-4734595a4fa0"
   },
   "outputs": [
    {
     "name": "stdout",
     "output_type": "stream",
     "text": [
      "                            OLS Regression Results                            \n",
      "==============================================================================\n",
      "Dep. Variable:                 Profit   R-squared:                       0.950\n",
      "Model:                            OLS   Adj. R-squared:                  0.946\n",
      "Method:                 Least Squares   F-statistic:                     215.8\n",
      "Date:                Tue, 03 Aug 2021   Prob (F-statistic):           9.72e-29\n",
      "Time:                        21:18:36   Log-Likelihood:                -525.53\n",
      "No. Observations:                  50   AIC:                             1061.\n",
      "Df Residuals:                      45   BIC:                             1071.\n",
      "Df Model:                           4                                         \n",
      "Covariance Type:            nonrobust                                         \n",
      "==============================================================================\n",
      "                 coef    std err          t      P>|t|      [0.025      0.975]\n",
      "------------------------------------------------------------------------------\n",
      "Intercept   8.401e+04    993.420     84.567      0.000     8.2e+04     8.6e+04\n",
      "rd          3.657e+04   1948.322     18.771      0.000    3.26e+04    4.05e+04\n",
      "mkt         3638.2094   1974.965      1.842      0.072    -339.575    7615.993\n",
      "ca          2.796e+04   1916.569     14.590      0.000    2.41e+04    3.18e+04\n",
      "fl           2.81e+04   1975.275     14.228      0.000    2.41e+04    3.21e+04\n",
      "ny          2.794e+04   1897.221     14.729      0.000    2.41e+04    3.18e+04\n",
      "==============================================================================\n",
      "Omnibus:                       14.640   Durbin-Watson:                   1.257\n",
      "Prob(Omnibus):                  0.001   Jarque-Bera (JB):               21.037\n",
      "Skew:                          -0.938   Prob(JB):                     2.70e-05\n",
      "Kurtosis:                       5.565   Cond. No.                     2.54e+16\n",
      "==============================================================================\n",
      "\n",
      "Warnings:\n",
      "[1] Standard Errors assume that the covariance matrix of the errors is correctly specified.\n",
      "[2] The smallest eigenvalue is 1.32e-31. This might indicate that there are\n",
      "strong multicollinearity problems or that the design matrix is singular.\n"
     ]
    }
   ],
   "source": [
    "print(reg2fit.summary())"
   ]
  },
  {
   "cell_type": "markdown",
   "metadata": {
    "id": "JsOkITsgsEbK"
   },
   "source": [
    "# 6 QUALIDADE DE AJUSTE"
   ]
  },
  {
   "cell_type": "markdown",
   "metadata": {
    "id": "VDQ0vnCksJhX"
   },
   "source": [
    "## 6.1 Separar os datasets"
   ]
  },
  {
   "cell_type": "code",
   "execution_count": null,
   "metadata": {
    "id": "sLsyMEAxsIKy"
   },
   "outputs": [],
   "source": [
    "xTrain, xTest, yTrain, yTest = train_test_split(X, y, test_size = 0.1, random_state = 0)"
   ]
  },
  {
   "cell_type": "code",
   "execution_count": null,
   "metadata": {
    "id": "sDNQSkBDtn9N"
   },
   "outputs": [],
   "source": [
    "xTrain.reset_index(drop=True, inplace=True)\n",
    "xTest.reset_index(drop=True, inplace=True)\n",
    "yTrain.reset_index(drop=True, inplace=True)\n",
    "yTest.reset_index(drop=True, inplace=True)"
   ]
  },
  {
   "cell_type": "markdown",
   "metadata": {
    "id": "vBDRlOhwuSlM"
   },
   "source": [
    "## 6.2 Ajuste do modelo - mínimos quadrados"
   ]
  },
  {
   "cell_type": "markdown",
   "metadata": {
    "id": "CFxkmpMyvR15"
   },
   "source": [
    "### 6.2.1 Modelo 'full'"
   ]
  },
  {
   "cell_type": "code",
   "execution_count": null,
   "metadata": {
    "id": "nYTBuQ_BudU9"
   },
   "outputs": [],
   "source": [
    "reg3 = sm.OLS(yTrain, xTrain)\n",
    "reg3fit = reg3.fit()"
   ]
  },
  {
   "cell_type": "code",
   "execution_count": null,
   "metadata": {
    "colab": {
     "base_uri": "https://localhost:8080/"
    },
    "id": "zKaRDOMEu9AG",
    "outputId": "3755dbaf-7671-46c7-f9cb-617b1c91ad32"
   },
   "outputs": [
    {
     "name": "stdout",
     "output_type": "stream",
     "text": [
      "                            OLS Regression Results                            \n",
      "==============================================================================\n",
      "Dep. Variable:                 Profit   R-squared:                       0.949\n",
      "Model:                            OLS   Adj. R-squared:                  0.942\n",
      "Method:                 Least Squares   F-statistic:                     145.1\n",
      "Date:                Tue, 03 Aug 2021   Prob (F-statistic):           4.15e-24\n",
      "Time:                        22:26:01   Log-Likelihood:                -473.01\n",
      "No. Observations:                  45   AIC:                             958.0\n",
      "Df Residuals:                      39   BIC:                             968.9\n",
      "Df Model:                           5                                         \n",
      "Covariance Type:            nonrobust                                         \n",
      "==============================================================================\n",
      "                 coef    std err          t      P>|t|      [0.025      0.975]\n",
      "------------------------------------------------------------------------------\n",
      "Intercept   8.333e+04   1082.962     76.948      0.000    8.11e+04    8.55e+04\n",
      "rd          3.573e+04   2265.524     15.771      0.000    3.11e+04    4.03e+04\n",
      "adm          159.8963   1647.088      0.097      0.923   -3171.653    3491.446\n",
      "mkt         3929.7297   2154.964      1.824      0.076    -429.097    8288.556\n",
      "ca           2.79e+04   2045.226     13.643      0.000    2.38e+04     3.2e+04\n",
      "fl          2.675e+04   2295.676     11.652      0.000    2.21e+04    3.14e+04\n",
      "ny          2.868e+04   1981.012     14.478      0.000    2.47e+04    3.27e+04\n",
      "==============================================================================\n",
      "Omnibus:                       16.046   Durbin-Watson:                   2.488\n",
      "Prob(Omnibus):                  0.000   Jarque-Bera (JB):               25.322\n",
      "Skew:                          -1.020   Prob(JB):                     3.17e-06\n",
      "Kurtosis:                       6.057   Cond. No.                     9.65e+15\n",
      "==============================================================================\n",
      "\n",
      "Warnings:\n",
      "[1] Standard Errors assume that the covariance matrix of the errors is correctly specified.\n",
      "[2] The smallest eigenvalue is 8.63e-31. This might indicate that there are\n",
      "strong multicollinearity problems or that the design matrix is singular.\n"
     ]
    }
   ],
   "source": [
    "print(reg3fit.summary())"
   ]
  },
  {
   "cell_type": "markdown",
   "metadata": {
    "id": "SiCEfJu_Asgw"
   },
   "source": []
  },
  {
   "cell_type": "markdown",
   "metadata": {
    "id": "RNE86OjFvXJC"
   },
   "source": [
    "### 6.2.2 Modelo 'reduzido' "
   ]
  },
  {
   "cell_type": "code",
   "execution_count": null,
   "metadata": {
    "id": "_TrOHOshvpUb"
   },
   "outputs": [],
   "source": [
    "xTrainRed = xTrain.drop(['adm'], axis = 1)"
   ]
  },
  {
   "cell_type": "code",
   "execution_count": null,
   "metadata": {
    "id": "2Ljvt0eKv1lV"
   },
   "outputs": [],
   "source": [
    "reg4 = sm.OLS(yTrain, xTrainRed.drop(['ca'], axis=1))\n",
    "reg4fit = reg4.fit()"
   ]
  },
  {
   "cell_type": "code",
   "execution_count": null,
   "metadata": {
    "colab": {
     "base_uri": "https://localhost:8080/"
    },
    "id": "4VCgDyJlv7Pj",
    "outputId": "a2b77dfa-24d8-4d52-98cf-cf7d756fc5e8"
   },
   "outputs": [
    {
     "name": "stdout",
     "output_type": "stream",
     "text": [
      "                            OLS Regression Results                            \n",
      "==============================================================================\n",
      "Dep. Variable:                 Profit   R-squared:                       0.949\n",
      "Model:                            OLS   Adj. R-squared:                  0.944\n",
      "Method:                 Least Squares   F-statistic:                     186.0\n",
      "Date:                Tue, 03 Aug 2021   Prob (F-statistic):           2.85e-25\n",
      "Time:                        22:41:21   Log-Likelihood:                -473.01\n",
      "No. Observations:                  45   AIC:                             956.0\n",
      "Df Residuals:                      40   BIC:                             965.1\n",
      "Df Model:                           4                                         \n",
      "Covariance Type:            nonrobust                                         \n",
      "==============================================================================\n",
      "                 coef    std err          t      P>|t|      [0.025      0.975]\n",
      "------------------------------------------------------------------------------\n",
      "Intercept   1.112e+05   2390.740     46.533      0.000    1.06e+05    1.16e+05\n",
      "rd          3.582e+04   2033.946     17.612      0.000    3.17e+04    3.99e+04\n",
      "mkt         3869.1207   2036.843      1.900      0.065    -247.493    7985.734\n",
      "fl         -1149.0097   3709.723     -0.310      0.758   -8646.640    6348.621\n",
      "ny           758.7406   3311.882      0.229      0.820   -5934.823    7452.304\n",
      "==============================================================================\n",
      "Omnibus:                       15.966   Durbin-Watson:                   2.492\n",
      "Prob(Omnibus):                  0.000   Jarque-Bera (JB):               25.142\n",
      "Skew:                          -1.016   Prob(JB):                     3.47e-06\n",
      "Kurtosis:                       6.047   Cond. No.                         4.41\n",
      "==============================================================================\n",
      "\n",
      "Warnings:\n",
      "[1] Standard Errors assume that the covariance matrix of the errors is correctly specified.\n"
     ]
    }
   ],
   "source": [
    "print(reg4fit.summary())"
   ]
  },
  {
   "cell_type": "markdown",
   "metadata": {
    "id": "D8NWvPowwhPs"
   },
   "source": [
    "## 6.3 Avaliação de multicolinearidade"
   ]
  },
  {
   "cell_type": "code",
   "execution_count": null,
   "metadata": {
    "colab": {
     "base_uri": "https://localhost:8080/",
     "height": 244
    },
    "id": "VdLMeX5Cwf02",
    "outputId": "973dbb4f-7cba-4c03-e5f4-6f21761216a6"
   },
   "outputs": [
    {
     "name": "stderr",
     "output_type": "stream",
     "text": [
      "/usr/local/lib/python3.7/dist-packages/statsmodels/stats/outliers_influence.py:185: RuntimeWarning: divide by zero encountered in double_scalars\n",
      "  vif = 1. / (1. - r_squared_i)\n"
     ]
    },
    {
     "data": {
      "text/html": [
       "<div>\n",
       "<style scoped>\n",
       "    .dataframe tbody tr th:only-of-type {\n",
       "        vertical-align: middle;\n",
       "    }\n",
       "\n",
       "    .dataframe tbody tr th {\n",
       "        vertical-align: top;\n",
       "    }\n",
       "\n",
       "    .dataframe thead th {\n",
       "        text-align: right;\n",
       "    }\n",
       "</style>\n",
       "<table border=\"1\" class=\"dataframe\">\n",
       "  <thead>\n",
       "    <tr style=\"text-align: right;\">\n",
       "      <th></th>\n",
       "      <th>Variaveis</th>\n",
       "      <th>VIF</th>\n",
       "    </tr>\n",
       "  </thead>\n",
       "  <tbody>\n",
       "    <tr>\n",
       "      <th>0</th>\n",
       "      <td>rd</td>\n",
       "      <td>2.055984</td>\n",
       "    </tr>\n",
       "    <tr>\n",
       "      <th>1</th>\n",
       "      <td>mkt</td>\n",
       "      <td>2.126109</td>\n",
       "    </tr>\n",
       "    <tr>\n",
       "      <th>2</th>\n",
       "      <td>ca</td>\n",
       "      <td>inf</td>\n",
       "    </tr>\n",
       "    <tr>\n",
       "      <th>3</th>\n",
       "      <td>fl</td>\n",
       "      <td>inf</td>\n",
       "    </tr>\n",
       "    <tr>\n",
       "      <th>4</th>\n",
       "      <td>ny</td>\n",
       "      <td>inf</td>\n",
       "    </tr>\n",
       "  </tbody>\n",
       "</table>\n",
       "</div>"
      ],
      "text/plain": [
       "  Variaveis       VIF\n",
       "0        rd  2.055984\n",
       "1       mkt  2.126109\n",
       "2        ca       inf\n",
       "3        fl       inf\n",
       "4        ny       inf"
      ]
     },
     "execution_count": 156,
     "metadata": {
      "tags": []
     },
     "output_type": "execute_result"
    }
   ],
   "source": [
    "pd.DataFrame({'Variaveis': xTrainRed.columns[1:],\n",
    "              'VIF': [variance_inflation_factor(xTrainRed.values, i+1) for i in range(len(xTrainRed.columns[1:]))]})"
   ]
  },
  {
   "cell_type": "markdown",
   "metadata": {
    "id": "wiZLl2Eey9qa"
   },
   "source": [
    "## 6.4 Qualidade de ajuste (Mínimos Quadrados)"
   ]
  },
  {
   "cell_type": "code",
   "execution_count": null,
   "metadata": {
    "id": "E8Unvplyy8Mc"
   },
   "outputs": [],
   "source": [
    "predY = pd.concat([yTest, reg4fit.predict(xTest.drop('adm', axis = 1))], axis = 1)"
   ]
  },
  {
   "cell_type": "code",
   "execution_count": null,
   "metadata": {
    "colab": {
     "base_uri": "https://localhost:8080/",
     "height": 206
    },
    "id": "oN__Ft_Dzjki",
    "outputId": "16bc5af5-959c-4a09-a3fb-93d172283219"
   },
   "outputs": [
    {
     "data": {
      "text/html": [
       "<div>\n",
       "<style scoped>\n",
       "    .dataframe tbody tr th:only-of-type {\n",
       "        vertical-align: middle;\n",
       "    }\n",
       "\n",
       "    .dataframe tbody tr th {\n",
       "        vertical-align: top;\n",
       "    }\n",
       "\n",
       "    .dataframe thead th {\n",
       "        text-align: right;\n",
       "    }\n",
       "</style>\n",
       "<table border=\"1\" class=\"dataframe\">\n",
       "  <thead>\n",
       "    <tr style=\"text-align: right;\">\n",
       "      <th></th>\n",
       "      <th>profReal</th>\n",
       "      <th>profPred</th>\n",
       "    </tr>\n",
       "  </thead>\n",
       "  <tbody>\n",
       "    <tr>\n",
       "      <th>0</th>\n",
       "      <td>103282.38</td>\n",
       "      <td>101173.929112</td>\n",
       "    </tr>\n",
       "    <tr>\n",
       "      <th>1</th>\n",
       "      <td>144259.40</td>\n",
       "      <td>133503.979045</td>\n",
       "    </tr>\n",
       "    <tr>\n",
       "      <th>2</th>\n",
       "      <td>146121.95</td>\n",
       "      <td>132672.287753</td>\n",
       "    </tr>\n",
       "    <tr>\n",
       "      <th>3</th>\n",
       "      <td>77798.83</td>\n",
       "      <td>72860.882041</td>\n",
       "    </tr>\n",
       "    <tr>\n",
       "      <th>4</th>\n",
       "      <td>191050.39</td>\n",
       "      <td>178540.806994</td>\n",
       "    </tr>\n",
       "  </tbody>\n",
       "</table>\n",
       "</div>"
      ],
      "text/plain": [
       "    profReal       profPred\n",
       "0  103282.38  101173.929112\n",
       "1  144259.40  133503.979045\n",
       "2  146121.95  132672.287753\n",
       "3   77798.83   72860.882041\n",
       "4  191050.39  178540.806994"
      ]
     },
     "execution_count": 58,
     "metadata": {
      "tags": []
     },
     "output_type": "execute_result"
    }
   ],
   "source": [
    "predY.columns = ['profReal', 'profPred']\n",
    "predY"
   ]
  },
  {
   "cell_type": "code",
   "execution_count": null,
   "metadata": {
    "colab": {
     "base_uri": "https://localhost:8080/"
    },
    "id": "7UPz4lXZ0Pst",
    "outputId": "81691035-e94a-4a2a-8d26-95d7b1c71422"
   },
   "outputs": [
    {
     "name": "stdout",
     "output_type": "stream",
     "text": [
      "Rquadrado 0.9365755604263571\n"
     ]
    }
   ],
   "source": [
    "print('Rquadrado', metrics.r2_score(predY['profReal'], predY['profPred']))"
   ]
  },
  {
   "cell_type": "code",
   "execution_count": null,
   "metadata": {
    "colab": {
     "base_uri": "https://localhost:8080/"
    },
    "id": "zk7_W0Oh1F_q",
    "outputId": "009a3245-0370-40dd-db04-9c2752957380"
   },
   "outputs": [
    {
     "name": "stdout",
     "output_type": "stream",
     "text": [
      "Raiz do erro quadrado médio 9817.24051507419\n"
     ]
    }
   ],
   "source": [
    "print('Raiz do erro quadrado médio', \n",
    "      np.sqrt(metrics.mean_squared_error(predY['profReal'], predY['profPred'])))"
   ]
  },
  {
   "cell_type": "markdown",
   "metadata": {
    "id": "BnsWEDrP2H-n"
   },
   "source": [
    "## 6.5 Qualidade de ajuste (Gradiente descendente)"
   ]
  },
  {
   "cell_type": "markdown",
   "metadata": {
    "id": "gB7I37AG5r_B"
   },
   "source": []
  },
  {
   "cell_type": "markdown",
   "metadata": {
    "id": "EbY5SH7v4LgJ"
   },
   "source": [
    "### 6.5.1 Ajuste do modelo reduzido"
   ]
  },
  {
   "cell_type": "code",
   "execution_count": null,
   "metadata": {
    "id": "KP-SPjRK33Tx"
   },
   "outputs": [],
   "source": [
    "# Salvar o tamanho do df com os regressores (incluindo o intercept)\n",
    "m, n = xTrainRed.shape\n",
    "\n",
    "# Inicializa a série de betas\n",
    "beta = np.zeros(n)"
   ]
  },
  {
   "cell_type": "code",
   "execution_count": null,
   "metadata": {
    "id": "xNSlTvwa2RH8"
   },
   "outputs": [],
   "source": [
    "beta, hPerda = grad_des(X = xTrainRed , y = yTrain, beta = beta, alpha = alpha, itera = itera)"
   ]
  },
  {
   "cell_type": "markdown",
   "metadata": {
    "id": "w692_vhj4THL"
   },
   "source": [
    "### 6.5.2 Criar matrix com previões"
   ]
  },
  {
   "cell_type": "code",
   "execution_count": null,
   "metadata": {
    "id": "YSWsavAe4YRw"
   },
   "outputs": [],
   "source": [
    "predGradY = pd.concat([yTest, xTest.drop('adm', axis=1).dot(beta)], axis = 1)"
   ]
  },
  {
   "cell_type": "code",
   "execution_count": null,
   "metadata": {
    "colab": {
     "base_uri": "https://localhost:8080/",
     "height": 206
    },
    "id": "6bb0UmBi4zgN",
    "outputId": "c9773967-b482-4614-c97c-953805704dde"
   },
   "outputs": [
    {
     "data": {
      "text/html": [
       "<div>\n",
       "<style scoped>\n",
       "    .dataframe tbody tr th:only-of-type {\n",
       "        vertical-align: middle;\n",
       "    }\n",
       "\n",
       "    .dataframe tbody tr th {\n",
       "        vertical-align: top;\n",
       "    }\n",
       "\n",
       "    .dataframe thead th {\n",
       "        text-align: right;\n",
       "    }\n",
       "</style>\n",
       "<table border=\"1\" class=\"dataframe\">\n",
       "  <thead>\n",
       "    <tr style=\"text-align: right;\">\n",
       "      <th></th>\n",
       "      <th>Profit</th>\n",
       "      <th>0</th>\n",
       "    </tr>\n",
       "  </thead>\n",
       "  <tbody>\n",
       "    <tr>\n",
       "      <th>0</th>\n",
       "      <td>103282.38</td>\n",
       "      <td>101173.929112</td>\n",
       "    </tr>\n",
       "    <tr>\n",
       "      <th>1</th>\n",
       "      <td>144259.40</td>\n",
       "      <td>133503.979045</td>\n",
       "    </tr>\n",
       "    <tr>\n",
       "      <th>2</th>\n",
       "      <td>146121.95</td>\n",
       "      <td>132672.287753</td>\n",
       "    </tr>\n",
       "    <tr>\n",
       "      <th>3</th>\n",
       "      <td>77798.83</td>\n",
       "      <td>72860.882041</td>\n",
       "    </tr>\n",
       "    <tr>\n",
       "      <th>4</th>\n",
       "      <td>191050.39</td>\n",
       "      <td>178540.806994</td>\n",
       "    </tr>\n",
       "  </tbody>\n",
       "</table>\n",
       "</div>"
      ],
      "text/plain": [
       "      Profit              0\n",
       "0  103282.38  101173.929112\n",
       "1  144259.40  133503.979045\n",
       "2  146121.95  132672.287753\n",
       "3   77798.83   72860.882041\n",
       "4  191050.39  178540.806994"
      ]
     },
     "execution_count": 64,
     "metadata": {
      "tags": []
     },
     "output_type": "execute_result"
    }
   ],
   "source": [
    "predGradY"
   ]
  },
  {
   "cell_type": "code",
   "execution_count": null,
   "metadata": {
    "id": "IeR_E2Ml5cfg"
   },
   "outputs": [],
   "source": [
    "predGradY.columns = ['profReal', 'profPred']"
   ]
  },
  {
   "cell_type": "markdown",
   "metadata": {
    "id": "pqVpL3oS5NHi"
   },
   "source": [
    "### 6.5.3 Métricas de qualidade"
   ]
  },
  {
   "cell_type": "code",
   "execution_count": null,
   "metadata": {
    "colab": {
     "base_uri": "https://localhost:8080/"
    },
    "id": "HvEkVcft5R6Y",
    "outputId": "d47179c3-9872-41ab-868e-6490da27e834"
   },
   "outputs": [
    {
     "name": "stdout",
     "output_type": "stream",
     "text": [
      "Rquadrado 0.9365755604263568\n",
      "Raiz do erro quadrado médio 9817.24051507422\n"
     ]
    }
   ],
   "source": [
    "print('Rquadrado', metrics.r2_score(predGradY['profReal'], predGradY['profPred']))\n",
    "print('Raiz do erro quadrado médio', \n",
    "      np.sqrt(metrics.mean_squared_error(predGradY['profReal'], predGradY['profPred'])))"
   ]
  },
  {
   "cell_type": "markdown",
   "metadata": {
    "id": "S4BNF3ReWglK"
   },
   "source": [
    "# 7 ANÁLISE DE RESÍDUOS"
   ]
  },
  {
   "cell_type": "markdown",
   "metadata": {
    "id": "6DzNBQSLWueh"
   },
   "source": [
    "## 7.1 Calculo dos Resíduos"
   ]
  },
  {
   "cell_type": "code",
   "execution_count": null,
   "metadata": {
    "id": "g6idGbO1Wj_A"
   },
   "outputs": [],
   "source": [
    "# Gerar previsões\n",
    "predY = pd.concat([yTrain, reg4fit.predict(xTrainRed)], axis = 1)"
   ]
  },
  {
   "cell_type": "code",
   "execution_count": null,
   "metadata": {
    "id": "e6woy9N1XOFR"
   },
   "outputs": [],
   "source": [
    "predY.columns = ['profReal', 'profPred']"
   ]
  },
  {
   "cell_type": "code",
   "execution_count": null,
   "metadata": {
    "id": "y9mpa-HUXQlh"
   },
   "outputs": [],
   "source": [
    "predY['Res'] = predY['profReal'] - predY['profPred']"
   ]
  },
  {
   "cell_type": "code",
   "execution_count": null,
   "metadata": {
    "colab": {
     "base_uri": "https://localhost:8080/",
     "height": 206
    },
    "id": "9Lyicl3MXiSw",
    "outputId": "c2f2e199-4981-44bd-bc0c-98788a4c9d0b"
   },
   "outputs": [
    {
     "data": {
      "text/html": [
       "<div>\n",
       "<style scoped>\n",
       "    .dataframe tbody tr th:only-of-type {\n",
       "        vertical-align: middle;\n",
       "    }\n",
       "\n",
       "    .dataframe tbody tr th {\n",
       "        vertical-align: top;\n",
       "    }\n",
       "\n",
       "    .dataframe thead th {\n",
       "        text-align: right;\n",
       "    }\n",
       "</style>\n",
       "<table border=\"1\" class=\"dataframe\">\n",
       "  <thead>\n",
       "    <tr style=\"text-align: right;\">\n",
       "      <th></th>\n",
       "      <th>profReal</th>\n",
       "      <th>profPred</th>\n",
       "      <th>Res</th>\n",
       "    </tr>\n",
       "  </thead>\n",
       "  <tbody>\n",
       "    <tr>\n",
       "      <th>0</th>\n",
       "      <td>105008.31</td>\n",
       "      <td>115244.039573</td>\n",
       "      <td>-10235.729573</td>\n",
       "    </tr>\n",
       "    <tr>\n",
       "      <th>1</th>\n",
       "      <td>81229.06</td>\n",
       "      <td>69446.146726</td>\n",
       "      <td>11782.913274</td>\n",
       "    </tr>\n",
       "    <tr>\n",
       "      <th>2</th>\n",
       "      <td>97483.56</td>\n",
       "      <td>98298.998430</td>\n",
       "      <td>-815.438430</td>\n",
       "    </tr>\n",
       "    <tr>\n",
       "      <th>3</th>\n",
       "      <td>110352.25</td>\n",
       "      <td>113231.200990</td>\n",
       "      <td>-2878.950990</td>\n",
       "    </tr>\n",
       "    <tr>\n",
       "      <th>4</th>\n",
       "      <td>166187.94</td>\n",
       "      <td>168374.289616</td>\n",
       "      <td>-2186.349616</td>\n",
       "    </tr>\n",
       "  </tbody>\n",
       "</table>\n",
       "</div>"
      ],
      "text/plain": [
       "    profReal       profPred           Res\n",
       "0  105008.31  115244.039573 -10235.729573\n",
       "1   81229.06   69446.146726  11782.913274\n",
       "2   97483.56   98298.998430   -815.438430\n",
       "3  110352.25  113231.200990  -2878.950990\n",
       "4  166187.94  168374.289616  -2186.349616"
      ]
     },
     "execution_count": 70,
     "metadata": {
      "tags": []
     },
     "output_type": "execute_result"
    }
   ],
   "source": [
    "predY.head()"
   ]
  },
  {
   "cell_type": "markdown",
   "metadata": {
    "id": "cpeL7u8uXtk7"
   },
   "source": [
    "## 7.2 Distribuição dos resíduos"
   ]
  },
  {
   "cell_type": "code",
   "execution_count": null,
   "metadata": {
    "colab": {
     "base_uri": "https://localhost:8080/",
     "height": 359
    },
    "id": "MJBSWzycXkrK",
    "outputId": "1f83a714-d78c-4ec3-b9d3-84db4da1fb6f"
   },
   "outputs": [
    {
     "data": {
      "text/plain": [
       "(array([ 1.,  0.,  0.,  2.,  2.,  6., 16.,  8.,  6.,  4.]),\n",
       " array([-33786.66537421, -28779.23009423, -23771.79481424, -18764.35953425,\n",
       "        -13756.92425427,  -8749.48897428,  -3742.05369429,   1265.3815857 ,\n",
       "          6272.81686568,  11280.25214567,  16287.68742566]),\n",
       " <a list of 10 Patch objects>)"
      ]
     },
     "execution_count": 71,
     "metadata": {
      "tags": []
     },
     "output_type": "execute_result"
    },
    {
     "data": {
      "image/png": "[encoded data removed]",
      "text/plain": [
       "<Figure size 432x288 with 1 Axes>"
      ]
     },
     "metadata": {
      "needs_background": "light",
      "tags": []
     },
     "output_type": "display_data"
    }
   ],
   "source": [
    "fig = plt.figure()\n",
    "plt.hist(predY['Res'])"
   ]
  },
  {
   "cell_type": "code",
   "execution_count": null,
   "metadata": {
    "id": "jb8HMxNAX0IJ"
   },
   "outputs": [],
   "source": [
    "kStat, kPvalue = sp.stats.kstest(predY['Res'], 'norm')"
   ]
  },
  {
   "cell_type": "code",
   "execution_count": null,
   "metadata": {
    "colab": {
     "base_uri": "https://localhost:8080/"
    },
    "id": "7c6Fyz_iYeGR",
    "outputId": "e055241f-af11-4061-c073-dfa213763f07"
   },
   "outputs": [
    {
     "data": {
      "text/plain": [
       "0.5111111111111111"
      ]
     },
     "execution_count": 73,
     "metadata": {
      "tags": []
     },
     "output_type": "execute_result"
    }
   ],
   "source": [
    "kStat"
   ]
  },
  {
   "cell_type": "code",
   "execution_count": null,
   "metadata": {
    "colab": {
     "base_uri": "https://localhost:8080/"
    },
    "id": "5EhEBymqYfrE",
    "outputId": "4985470f-cb05-4153-e10b-205498921342"
   },
   "outputs": [
    {
     "data": {
      "text/plain": [
       "1.9730177301725436e-11"
      ]
     },
     "execution_count": 74,
     "metadata": {
      "tags": []
     },
     "output_type": "execute_result"
    }
   ],
   "source": [
    "kPvalue"
   ]
  },
  {
   "cell_type": "code",
   "execution_count": null,
   "metadata": {
    "id": "MKXwsJJwYiVW"
   },
   "outputs": [],
   "source": [
    "# Ajuste do modelo com Log da resposta\n",
    "reg5 = sm.OLS(np.log(yTrain), xTrainRed)\n",
    "reg5fit = reg5.fit()"
   ]
  },
  {
   "cell_type": "code",
   "execution_count": null,
   "metadata": {
    "id": "ymILQwnCZDTg"
   },
   "outputs": [],
   "source": [
    "# Cálculo dos resíduos\n",
    "predLogY = pd.concat([np.log(yTrain), reg5fit.predict(xTrainRed)], axis = 1)\n",
    "\n",
    "predLogY.columns = ['profLogReal', 'profLogPred']\n",
    "\n",
    "predLogY['LogRes'] = predLogY['profLogReal'] - predLogY['profLogPred']"
   ]
  },
  {
   "cell_type": "code",
   "execution_count": null,
   "metadata": {
    "colab": {
     "base_uri": "https://localhost:8080/",
     "height": 359
    },
    "id": "rEKrf1TJZf6N",
    "outputId": "06bc5807-9f86-4f99-9ef1-30c9ef1c8996"
   },
   "outputs": [
    {
     "data": {
      "text/plain": [
       "(array([ 1.,  0.,  0.,  0.,  0.,  1.,  0.,  9., 16., 18.]),\n",
       " array([-1.25037585, -1.10267465, -0.95497345, -0.80727225, -0.65957105,\n",
       "        -0.51186985, -0.36416865, -0.21646744, -0.06876624,  0.07893496,\n",
       "         0.22663616]),\n",
       " <a list of 10 Patch objects>)"
      ]
     },
     "execution_count": 77,
     "metadata": {
      "tags": []
     },
     "output_type": "execute_result"
    },
    {
     "data": {
      "image/png": "[encoded data removed]",
      "text/plain": [
       "<Figure size 432x288 with 1 Axes>"
      ]
     },
     "metadata": {
      "needs_background": "light",
      "tags": []
     },
     "output_type": "display_data"
    }
   ],
   "source": [
    "fig = plt.figure()\n",
    "plt.hist(predLogY['LogRes'])"
   ]
  },
  {
   "cell_type": "code",
   "execution_count": null,
   "metadata": {
    "id": "amTLbIQTZjMm"
   },
   "outputs": [],
   "source": [
    "kStat, kPvalue = sp.stats.kstest(predLogY['LogRes'], 'norm')"
   ]
  },
  {
   "cell_type": "code",
   "execution_count": null,
   "metadata": {
    "colab": {
     "base_uri": "https://localhost:8080/"
    },
    "id": "vczluSqHZ1LE",
    "outputId": "685318c0-751d-487b-90f2-307053dfdb85"
   },
   "outputs": [
    {
     "data": {
      "text/plain": [
       "0.4103533362594217"
      ]
     },
     "execution_count": 79,
     "metadata": {
      "tags": []
     },
     "output_type": "execute_result"
    }
   ],
   "source": [
    "kStat"
   ]
  },
  {
   "cell_type": "code",
   "execution_count": null,
   "metadata": {
    "colab": {
     "base_uri": "https://localhost:8080/"
    },
    "id": "EZGw6P9fZ2X6",
    "outputId": "caceee28-2148-47e0-888f-e986f832839f"
   },
   "outputs": [
    {
     "data": {
      "text/plain": [
       "2.285315188032897e-07"
      ]
     },
     "execution_count": 80,
     "metadata": {
      "tags": []
     },
     "output_type": "execute_result"
    }
   ],
   "source": [
    "kPvalue"
   ]
  },
  {
   "cell_type": "markdown",
   "metadata": {
    "id": "N7orAJRKaLpj"
   },
   "source": [
    "## 7.3 Homocedasticidade"
   ]
  },
  {
   "cell_type": "code",
   "execution_count": null,
   "metadata": {
    "colab": {
     "base_uri": "https://localhost:8080/",
     "height": 284
    },
    "id": "yl8R79KQZ4oQ",
    "outputId": "23b3329b-bac4-4709-92ff-79774a46a223"
   },
   "outputs": [
    {
     "data": {
      "text/plain": [
       "<matplotlib.collections.PathCollection at 0x7fca90852890>"
      ]
     },
     "execution_count": 81,
     "metadata": {
      "tags": []
     },
     "output_type": "execute_result"
    },
    {
     "data": {
      "image/png": "[encoded data removed]",
      "text/plain": [
       "<Figure size 432x288 with 1 Axes>"
      ]
     },
     "metadata": {
      "needs_background": "light",
      "tags": []
     },
     "output_type": "display_data"
    }
   ],
   "source": [
    "fig = plt.figure()\n",
    "plt.scatter(predY['profPred'], predY['Res'])"
   ]
  },
  {
   "cell_type": "markdown",
   "metadata": {
    "id": "fNj0lkqIHCaj"
   },
   "source": [
    "# 8 REGRESSÃO REGULARIZADA"
   ]
  },
  {
   "cell_type": "code",
   "execution_count": null,
   "metadata": {
    "id": "kQQmEoL_HFwI"
   },
   "outputs": [],
   "source": [
    "# Especificar o modelo\n",
    "regRidge = Ridge(alpha=0.1)"
   ]
  },
  {
   "cell_type": "code",
   "execution_count": null,
   "metadata": {
    "colab": {
     "base_uri": "https://localhost:8080/"
    },
    "id": "B70IIBo0HfAH",
    "outputId": "643183ef-3b00-4587-86ea-6787831d58e1"
   },
   "outputs": [
    {
     "data": {
      "text/plain": [
       "Ridge(alpha=0.1, copy_X=True, fit_intercept=True, max_iter=None,\n",
       "      normalize=False, random_state=None, solver='auto', tol=0.001)"
      ]
     },
     "execution_count": 236,
     "metadata": {
      "tags": []
     },
     "output_type": "execute_result"
    }
   ],
   "source": [
    "regRidge.fit(xTrain.drop(['Intercept', 'ca'], axis=1), yTrain)"
   ]
  },
  {
   "cell_type": "code",
   "execution_count": null,
   "metadata": {
    "colab": {
     "base_uri": "https://localhost:8080/"
    },
    "id": "fQxbsHoPHmPU",
    "outputId": "48b7e9a2-a5a2-47c0-a2c5-17bd18f0b84a"
   },
   "outputs": [
    {
     "name": "stdout",
     "output_type": "stream",
     "text": [
      "[[35547.43545277   214.93479161  4047.11894302 -1148.90169109\n",
      "    806.98268321]]\n"
     ]
    }
   ],
   "source": [
    "print(regRidge.coef_)"
   ]
  },
  {
   "cell_type": "code",
   "execution_count": null,
   "metadata": {
    "colab": {
     "base_uri": "https://localhost:8080/"
    },
    "id": "jqhlpZgIKJGI",
    "outputId": "5a23b757-f11e-4ef9-ef2f-ed9feb5e3f25"
   },
   "outputs": [
    {
     "name": "stdout",
     "output_type": "stream",
     "text": [
      "[111215.66068219]\n"
     ]
    }
   ],
   "source": [
    "print(regRidge.intercept_)"
   ]
  },
  {
   "cell_type": "code",
   "execution_count": null,
   "metadata": {
    "id": "vwYqQMs7Ns1I"
   },
   "outputs": [],
   "source": [
    "# Prever valores para o dataset de testex\n",
    "predYReg = pd.concat([yTest, pd.DataFrame(regRidge.predict(xTest.drop(['Intercept', 'ca'], axis = 1)))], axis = 1)"
   ]
  },
  {
   "cell_type": "code",
   "execution_count": null,
   "metadata": {
    "colab": {
     "base_uri": "https://localhost:8080/",
     "height": 206
    },
    "id": "oEQjMZRJOC2N",
    "outputId": "2f5f2862-11dd-42a7-9f3b-48b4ba891be3"
   },
   "outputs": [
    {
     "data": {
      "text/html": [
       "<div>\n",
       "<style scoped>\n",
       "    .dataframe tbody tr th:only-of-type {\n",
       "        vertical-align: middle;\n",
       "    }\n",
       "\n",
       "    .dataframe tbody tr th {\n",
       "        vertical-align: top;\n",
       "    }\n",
       "\n",
       "    .dataframe thead th {\n",
       "        text-align: right;\n",
       "    }\n",
       "</style>\n",
       "<table border=\"1\" class=\"dataframe\">\n",
       "  <thead>\n",
       "    <tr style=\"text-align: right;\">\n",
       "      <th></th>\n",
       "      <th>Profit</th>\n",
       "      <th>0</th>\n",
       "    </tr>\n",
       "  </thead>\n",
       "  <tbody>\n",
       "    <tr>\n",
       "      <th>0</th>\n",
       "      <td>103282.38</td>\n",
       "      <td>101523.476025</td>\n",
       "    </tr>\n",
       "    <tr>\n",
       "      <th>1</th>\n",
       "      <td>144259.40</td>\n",
       "      <td>133141.110375</td>\n",
       "    </tr>\n",
       "    <tr>\n",
       "      <th>2</th>\n",
       "      <td>146121.95</td>\n",
       "      <td>132416.399246</td>\n",
       "    </tr>\n",
       "    <tr>\n",
       "      <th>3</th>\n",
       "      <td>77798.83</td>\n",
       "      <td>72754.571035</td>\n",
       "    </tr>\n",
       "    <tr>\n",
       "      <th>4</th>\n",
       "      <td>191050.39</td>\n",
       "      <td>178164.745985</td>\n",
       "    </tr>\n",
       "  </tbody>\n",
       "</table>\n",
       "</div>"
      ],
      "text/plain": [
       "      Profit              0\n",
       "0  103282.38  101523.476025\n",
       "1  144259.40  133141.110375\n",
       "2  146121.95  132416.399246\n",
       "3   77798.83   72754.571035\n",
       "4  191050.39  178164.745985"
      ]
     },
     "execution_count": 240,
     "metadata": {
      "tags": []
     },
     "output_type": "execute_result"
    }
   ],
   "source": [
    "predYReg"
   ]
  },
  {
   "cell_type": "code",
   "execution_count": null,
   "metadata": {
    "id": "tSP7m7_EOSOK"
   },
   "outputs": [],
   "source": [
    "predYReg.columns = ['Profit', 'predProfit']"
   ]
  },
  {
   "cell_type": "code",
   "execution_count": null,
   "metadata": {
    "colab": {
     "base_uri": "https://localhost:8080/"
    },
    "id": "uYvlVqSxOfWV",
    "outputId": "31ed9f13-b377-4a7f-a68d-7d3dd63df960"
   },
   "outputs": [
    {
     "name": "stdout",
     "output_type": "stream",
     "text": [
      "Rquadrado 0.9333976274210263\n",
      "Raiz do erro quadrado médio 10060.184879396556\n"
     ]
    }
   ],
   "source": [
    "print('Rquadrado', metrics.r2_score(predYReg['Profit'], predYReg['predProfit']))\n",
    "print('Raiz do erro quadrado médio', \n",
    "      np.sqrt(metrics.mean_squared_error(predYReg['Profit'], predYReg['predProfit'])))"
   ]
  }
 ],
 "metadata": {
  "colab": {
   "collapsed_sections": [],
   "name": "Resolução_Exercício_Estatística",
   "provenance": []
  },
  "kernelspec": {
   "display_name": "Python 3",
   "language": "python",
   "name": "python3"
  },
  "language_info": {
   "codemirror_mode": {
    "name": "ipython",
    "version": 3
   },
   "file_extension": ".py",
   "mimetype": "text/x-python",
   "name": "python",
   "nbconvert_exporter": "python",
   "pygments_lexer": "ipython3",
   "version": "3.8.8"
  }
 },
 "nbformat": 4,
 "nbformat_minor": 1
}
