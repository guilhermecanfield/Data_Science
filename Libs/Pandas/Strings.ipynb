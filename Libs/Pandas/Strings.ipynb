{
 "cells": [
  {
   "cell_type": "code",
   "execution_count": 2,
   "id": "9f23a7b5",
   "metadata": {},
   "outputs": [],
   "source": [
    "import pandas as pd\n",
    "import numpy as np"
   ]
  },
  {
   "cell_type": "code",
   "execution_count": 3,
   "id": "d2e35b47",
   "metadata": {},
   "outputs": [
    {
     "data": {
      "text/plain": [
       "'1.2.4'"
      ]
     },
     "execution_count": 3,
     "metadata": {},
     "output_type": "execute_result"
    }
   ],
   "source": [
    "pd.__version__"
   ]
  },
  {
   "cell_type": "code",
   "execution_count": 4,
   "id": "406ebbcc",
   "metadata": {},
   "outputs": [],
   "source": [
    "def convert_fahrenheit(celsius_temp):\n",
    "    converted = celsius_temp * 1.8\n",
    "    return converted + 32"
   ]
  },
  {
   "cell_type": "code",
   "execution_count": 5,
   "id": "a0f6d41e",
   "metadata": {},
   "outputs": [
    {
     "data": {
      "text/plain": [
       "57.2"
      ]
     },
     "execution_count": 5,
     "metadata": {},
     "output_type": "execute_result"
    }
   ],
   "source": [
    "convert_fahrenheit(14)"
   ]
  },
  {
   "cell_type": "code",
   "execution_count": 6,
   "id": "f827b64e",
   "metadata": {},
   "outputs": [
    {
     "data": {
      "text/plain": [
       "'Once Upon A Time'"
      ]
     },
     "execution_count": 6,
     "metadata": {},
     "output_type": "execute_result"
    }
   ],
   "source": [
    "'once upon a time'.title()"
   ]
  },
  {
   "cell_type": "code",
   "execution_count": 7,
   "id": "fbfb2006",
   "metadata": {},
   "outputs": [
    {
     "data": {
      "text/plain": [
       "'Once upon a time'"
      ]
     },
     "execution_count": 7,
     "metadata": {},
     "output_type": "execute_result"
    }
   ],
   "source": [
    "'once upon a time'.capitalize()"
   ]
  },
  {
   "cell_type": "code",
   "execution_count": 8,
   "id": "cb0d34c2",
   "metadata": {},
   "outputs": [],
   "source": [
    "profession = '       Developer                 '"
   ]
  },
  {
   "cell_type": "code",
   "execution_count": 9,
   "id": "30cf03ca",
   "metadata": {},
   "outputs": [
    {
     "data": {
      "text/plain": [
       "'Developer                 '"
      ]
     },
     "execution_count": 9,
     "metadata": {},
     "output_type": "execute_result"
    }
   ],
   "source": [
    "profession.lstrip()"
   ]
  },
  {
   "cell_type": "code",
   "execution_count": 10,
   "id": "fa18e109",
   "metadata": {},
   "outputs": [
    {
     "data": {
      "text/plain": [
       "'       Developer'"
      ]
     },
     "execution_count": 10,
     "metadata": {},
     "output_type": "execute_result"
    }
   ],
   "source": [
    "profession.rstrip()"
   ]
  },
  {
   "cell_type": "code",
   "execution_count": 11,
   "id": "dc8c99ba",
   "metadata": {},
   "outputs": [
    {
     "data": {
      "text/plain": [
       "'Developer'"
      ]
     },
     "execution_count": 11,
     "metadata": {},
     "output_type": "execute_result"
    }
   ],
   "source": [
    "profession.strip()"
   ]
  },
  {
   "cell_type": "code",
   "execution_count": 12,
   "id": "a28388bc",
   "metadata": {},
   "outputs": [
    {
     "data": {
      "text/plain": [
       "'once unon'"
      ]
     },
     "execution_count": 12,
     "metadata": {},
     "output_type": "execute_result"
    }
   ],
   "source": [
    "'    once unon    '.strip()"
   ]
  },
  {
   "cell_type": "code",
   "execution_count": 13,
   "id": "448ffbad",
   "metadata": {},
   "outputs": [
    {
     "data": {
      "text/plain": [
       "'D*v*lop*r'"
      ]
     },
     "execution_count": 13,
     "metadata": {},
     "output_type": "execute_result"
    }
   ],
   "source": [
    "profession.replace('e', '*').strip()"
   ]
  },
  {
   "cell_type": "code",
   "execution_count": 14,
   "id": "d971c2f1",
   "metadata": {},
   "outputs": [],
   "source": [
    "animal = 'rhinoceros'"
   ]
  },
  {
   "cell_type": "code",
   "execution_count": 15,
   "id": "f7e01568",
   "metadata": {},
   "outputs": [
    {
     "data": {
      "text/plain": [
       "True"
      ]
     },
     "execution_count": 15,
     "metadata": {},
     "output_type": "execute_result"
    }
   ],
   "source": [
    "animal.startswith('rhino')"
   ]
  },
  {
   "cell_type": "code",
   "execution_count": 16,
   "id": "116d5c97",
   "metadata": {},
   "outputs": [
    {
     "data": {
      "text/plain": [
       "False"
      ]
     },
     "execution_count": 16,
     "metadata": {},
     "output_type": "execute_result"
    }
   ],
   "source": [
    "animal.startswith('jhas')"
   ]
  },
  {
   "cell_type": "code",
   "execution_count": 17,
   "id": "4c9fa721",
   "metadata": {},
   "outputs": [
    {
     "data": {
      "text/plain": [
       "True"
      ]
     },
     "execution_count": 17,
     "metadata": {},
     "output_type": "execute_result"
    }
   ],
   "source": [
    "animal.startswith('r')"
   ]
  },
  {
   "cell_type": "code",
   "execution_count": 18,
   "id": "832771e4",
   "metadata": {},
   "outputs": [
    {
     "data": {
      "text/plain": [
       "False"
      ]
     },
     "execution_count": 18,
     "metadata": {},
     "output_type": "execute_result"
    }
   ],
   "source": [
    "animal.startswith('R')"
   ]
  },
  {
   "cell_type": "code",
   "execution_count": 19,
   "id": "8133cf29",
   "metadata": {},
   "outputs": [
    {
     "data": {
      "text/plain": [
       "True"
      ]
     },
     "execution_count": 19,
     "metadata": {},
     "output_type": "execute_result"
    }
   ],
   "source": [
    "animal.endswith('ros')"
   ]
  },
  {
   "cell_type": "code",
   "execution_count": 20,
   "id": "ab0ac296",
   "metadata": {},
   "outputs": [
    {
     "data": {
      "text/plain": [
       "True"
      ]
     },
     "execution_count": 20,
     "metadata": {},
     "output_type": "execute_result"
    }
   ],
   "source": [
    "'r' in animal"
   ]
  },
  {
   "cell_type": "code",
   "execution_count": 21,
   "id": "ef1ecb1b",
   "metadata": {},
   "outputs": [
    {
     "data": {
      "text/plain": [
       "False"
      ]
     },
     "execution_count": 21,
     "metadata": {},
     "output_type": "execute_result"
    }
   ],
   "source": [
    "'R' in animal"
   ]
  },
  {
   "cell_type": "code",
   "execution_count": 22,
   "id": "eeec350a",
   "metadata": {},
   "outputs": [
    {
     "data": {
      "text/plain": [
       "True"
      ]
     },
     "execution_count": 22,
     "metadata": {},
     "output_type": "execute_result"
    }
   ],
   "source": [
    "'rhino' in animal"
   ]
  },
  {
   "cell_type": "code",
   "execution_count": 23,
   "id": "2ad96f0d",
   "metadata": {},
   "outputs": [
    {
     "data": {
      "text/plain": [
       "False"
      ]
     },
     "execution_count": 23,
     "metadata": {},
     "output_type": "execute_result"
    }
   ],
   "source": [
    "'rhino' not in animal"
   ]
  },
  {
   "cell_type": "code",
   "execution_count": 24,
   "id": "246b7b4a",
   "metadata": {},
   "outputs": [
    {
     "data": {
      "text/plain": [
       "False"
      ]
     },
     "execution_count": 24,
     "metadata": {},
     "output_type": "execute_result"
    }
   ],
   "source": [
    "animal.endswith('rhino')"
   ]
  },
  {
   "cell_type": "markdown",
   "id": "2a7941aa",
   "metadata": {},
   "source": [
    "# Listas:"
   ]
  },
  {
   "cell_type": "code",
   "execution_count": null,
   "id": "6360675e",
   "metadata": {},
   "outputs": [],
   "source": []
  },
  {
   "cell_type": "code",
   "execution_count": null,
   "id": "189737be",
   "metadata": {},
   "outputs": [],
   "source": []
  }
 ],
 "metadata": {
  "kernelspec": {
   "display_name": "Python 3",
   "language": "python",
   "name": "python3"
  },
  "language_info": {
   "codemirror_mode": {
    "name": "ipython",
    "version": 3
   },
   "file_extension": ".py",
   "mimetype": "text/x-python",
   "name": "python",
   "nbconvert_exporter": "python",
   "pygments_lexer": "ipython3",
   "version": "3.8.8"
  }
 },
 "nbformat": 4,
 "nbformat_minor": 5
}
