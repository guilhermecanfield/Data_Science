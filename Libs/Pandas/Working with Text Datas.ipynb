{
 "cells": [
  {
   "cell_type": "code",
   "execution_count": 1,
   "id": "f06fe1bf",
   "metadata": {},
   "outputs": [],
   "source": [
    "import pandas as pd"
   ]
  },
  {
   "cell_type": "code",
   "execution_count": 2,
   "id": "78935168",
   "metadata": {},
   "outputs": [
    {
     "data": {
      "text/html": [
       "<div>\n",
       "<style scoped>\n",
       "    .dataframe tbody tr th:only-of-type {\n",
       "        vertical-align: middle;\n",
       "    }\n",
       "\n",
       "    .dataframe tbody tr th {\n",
       "        vertical-align: top;\n",
       "    }\n",
       "\n",
       "    .dataframe thead th {\n",
       "        text-align: right;\n",
       "    }\n",
       "</style>\n",
       "<table border=\"1\" class=\"dataframe\">\n",
       "  <thead>\n",
       "    <tr style=\"text-align: right;\">\n",
       "      <th></th>\n",
       "      <th>Name</th>\n",
       "      <th>Position Title</th>\n",
       "      <th>Department</th>\n",
       "      <th>Employee Annual Salary</th>\n",
       "    </tr>\n",
       "  </thead>\n",
       "  <tbody>\n",
       "    <tr>\n",
       "      <th>0</th>\n",
       "      <td>AARON,  ELVIA J</td>\n",
       "      <td>WATER RATE TAKER</td>\n",
       "      <td>WATER MGMNT</td>\n",
       "      <td>$90744.00</td>\n",
       "    </tr>\n",
       "    <tr>\n",
       "      <th>1</th>\n",
       "      <td>AARON,  JEFFERY M</td>\n",
       "      <td>POLICE OFFICER</td>\n",
       "      <td>POLICE</td>\n",
       "      <td>$84450.00</td>\n",
       "    </tr>\n",
       "    <tr>\n",
       "      <th>2</th>\n",
       "      <td>AARON,  KARINA</td>\n",
       "      <td>POLICE OFFICER</td>\n",
       "      <td>POLICE</td>\n",
       "      <td>$84450.00</td>\n",
       "    </tr>\n",
       "  </tbody>\n",
       "</table>\n",
       "</div>"
      ],
      "text/plain": [
       "                Name    Position Title   Department Employee Annual Salary\n",
       "0    AARON,  ELVIA J  WATER RATE TAKER  WATER MGMNT              $90744.00\n",
       "1  AARON,  JEFFERY M    POLICE OFFICER       POLICE              $84450.00\n",
       "2     AARON,  KARINA    POLICE OFFICER       POLICE              $84450.00"
      ]
     },
     "execution_count": 2,
     "metadata": {},
     "output_type": "execute_result"
    }
   ],
   "source": [
    "chicago = pd.read_csv('chicago.csv')\n",
    "chicago.head(3)"
   ]
  },
  {
   "cell_type": "code",
   "execution_count": 3,
   "id": "5ac63f1d",
   "metadata": {},
   "outputs": [
    {
     "name": "stdout",
     "output_type": "stream",
     "text": [
      "<class 'pandas.core.frame.DataFrame'>\n",
      "RangeIndex: 32063 entries, 0 to 32062\n",
      "Data columns (total 4 columns):\n",
      " #   Column                  Non-Null Count  Dtype \n",
      "---  ------                  --------------  ----- \n",
      " 0   Name                    32062 non-null  object\n",
      " 1   Position Title          32062 non-null  object\n",
      " 2   Department              32062 non-null  object\n",
      " 3   Employee Annual Salary  32062 non-null  object\n",
      "dtypes: object(4)\n",
      "memory usage: 1002.1+ KB\n"
     ]
    }
   ],
   "source": [
    "chicago.info()"
   ]
  },
  {
   "cell_type": "code",
   "execution_count": 5,
   "id": "13d12456",
   "metadata": {},
   "outputs": [
    {
     "data": {
      "text/plain": [
       "35"
      ]
     },
     "execution_count": 5,
     "metadata": {},
     "output_type": "execute_result"
    }
   ],
   "source": [
    "chicago['Department'].nunique()"
   ]
  },
  {
   "cell_type": "code",
   "execution_count": 4,
   "id": "e2cc8fcf",
   "metadata": {},
   "outputs": [
    {
     "data": {
      "text/plain": [
       "Name                      31776\n",
       "Position Title             1093\n",
       "Department                   35\n",
       "Employee Annual Salary     1156\n",
       "dtype: int64"
      ]
     },
     "execution_count": 4,
     "metadata": {},
     "output_type": "execute_result"
    }
   ],
   "source": [
    "chicago.nunique()"
   ]
  },
  {
   "cell_type": "code",
   "execution_count": 7,
   "id": "7fc061b1",
   "metadata": {},
   "outputs": [],
   "source": [
    "chicago['Department'] = chicago['Department'].astype('category')"
   ]
  },
  {
   "cell_type": "code",
   "execution_count": 8,
   "id": "632011a3",
   "metadata": {},
   "outputs": [
    {
     "name": "stdout",
     "output_type": "stream",
     "text": [
      "<class 'pandas.core.frame.DataFrame'>\n",
      "RangeIndex: 32063 entries, 0 to 32062\n",
      "Data columns (total 4 columns):\n",
      " #   Column                  Non-Null Count  Dtype   \n",
      "---  ------                  --------------  -----   \n",
      " 0   Name                    32062 non-null  object  \n",
      " 1   Position Title          32062 non-null  object  \n",
      " 2   Department              32062 non-null  category\n",
      " 3   Employee Annual Salary  32062 non-null  object  \n",
      "dtypes: category(1), object(3)\n",
      "memory usage: 784.2+ KB\n"
     ]
    }
   ],
   "source": [
    "chicago.info()"
   ]
  },
  {
   "cell_type": "markdown",
   "id": "ee8ce029",
   "metadata": {},
   "source": [
    "# Common String Methods - .lower() | .upper() | .title() | .len()"
   ]
  },
  {
   "cell_type": "code",
   "execution_count": 19,
   "id": "8d054d4a",
   "metadata": {},
   "outputs": [
    {
     "data": {
      "text/html": [
       "<div>\n",
       "<style scoped>\n",
       "    .dataframe tbody tr th:only-of-type {\n",
       "        vertical-align: middle;\n",
       "    }\n",
       "\n",
       "    .dataframe tbody tr th {\n",
       "        vertical-align: top;\n",
       "    }\n",
       "\n",
       "    .dataframe thead th {\n",
       "        text-align: right;\n",
       "    }\n",
       "</style>\n",
       "<table border=\"1\" class=\"dataframe\">\n",
       "  <thead>\n",
       "    <tr style=\"text-align: right;\">\n",
       "      <th></th>\n",
       "      <th>Name</th>\n",
       "      <th>Position Title</th>\n",
       "      <th>Department</th>\n",
       "      <th>Employee Annual Salary</th>\n",
       "    </tr>\n",
       "  </thead>\n",
       "  <tbody>\n",
       "    <tr>\n",
       "      <th>0</th>\n",
       "      <td>AARON,  ELVIA J</td>\n",
       "      <td>WATER RATE TAKER</td>\n",
       "      <td>WATER MGMNT</td>\n",
       "      <td>$90744.00</td>\n",
       "    </tr>\n",
       "    <tr>\n",
       "      <th>1</th>\n",
       "      <td>AARON,  JEFFERY M</td>\n",
       "      <td>POLICE OFFICER</td>\n",
       "      <td>POLICE</td>\n",
       "      <td>$84450.00</td>\n",
       "    </tr>\n",
       "    <tr>\n",
       "      <th>2</th>\n",
       "      <td>AARON,  KARINA</td>\n",
       "      <td>POLICE OFFICER</td>\n",
       "      <td>POLICE</td>\n",
       "      <td>$84450.00</td>\n",
       "    </tr>\n",
       "  </tbody>\n",
       "</table>\n",
       "</div>"
      ],
      "text/plain": [
       "                Name    Position Title   Department Employee Annual Salary\n",
       "0    AARON,  ELVIA J  WATER RATE TAKER  WATER MGMNT              $90744.00\n",
       "1  AARON,  JEFFERY M    POLICE OFFICER       POLICE              $84450.00\n",
       "2     AARON,  KARINA    POLICE OFFICER       POLICE              $84450.00"
      ]
     },
     "execution_count": 19,
     "metadata": {},
     "output_type": "execute_result"
    }
   ],
   "source": [
    "chicago = pd.read_csv('chicago.csv').dropna(how = 'all')\n",
    "chicago['Department'] = chicago['Department'].astype('category')\n",
    "chicago.head(3)"
   ]
  },
  {
   "cell_type": "code",
   "execution_count": 20,
   "id": "1fd490d8",
   "metadata": {},
   "outputs": [
    {
     "data": {
      "text/plain": [
       "0            aaron,  elvia j\n",
       "1          aaron,  jeffery m\n",
       "2             aaron,  karina\n",
       "3        aaron,  kimberlei r\n",
       "4        abad jr,  vicente m\n",
       "                ...         \n",
       "32057    zygadlo,  michael j\n",
       "32058     zygowicz,  peter j\n",
       "32059      zymantas,  mark e\n",
       "32060    zyrkowski,  carlo e\n",
       "32061    zyskowski,  dariusz\n",
       "Name: Name, Length: 32062, dtype: object"
      ]
     },
     "execution_count": 20,
     "metadata": {},
     "output_type": "execute_result"
    }
   ],
   "source": [
    "# Para evocar um método para manipulação de string no Df é necessario a utilização do sufixo .str\n",
    "chicago['Name'].str.lower()"
   ]
  },
  {
   "cell_type": "code",
   "execution_count": 21,
   "id": "3544c4f0",
   "metadata": {},
   "outputs": [
    {
     "data": {
      "text/html": [
       "<div>\n",
       "<style scoped>\n",
       "    .dataframe tbody tr th:only-of-type {\n",
       "        vertical-align: middle;\n",
       "    }\n",
       "\n",
       "    .dataframe tbody tr th {\n",
       "        vertical-align: top;\n",
       "    }\n",
       "\n",
       "    .dataframe thead th {\n",
       "        text-align: right;\n",
       "    }\n",
       "</style>\n",
       "<table border=\"1\" class=\"dataframe\">\n",
       "  <thead>\n",
       "    <tr style=\"text-align: right;\">\n",
       "      <th></th>\n",
       "      <th>Name</th>\n",
       "      <th>Position Title</th>\n",
       "      <th>Department</th>\n",
       "      <th>Employee Annual Salary</th>\n",
       "    </tr>\n",
       "  </thead>\n",
       "  <tbody>\n",
       "    <tr>\n",
       "      <th>0</th>\n",
       "      <td>Aaron,  Elvia J</td>\n",
       "      <td>Water Rate Taker</td>\n",
       "      <td>WATER MGMNT</td>\n",
       "      <td>$90744.00</td>\n",
       "    </tr>\n",
       "    <tr>\n",
       "      <th>1</th>\n",
       "      <td>Aaron,  Jeffery M</td>\n",
       "      <td>Police Officer</td>\n",
       "      <td>POLICE</td>\n",
       "      <td>$84450.00</td>\n",
       "    </tr>\n",
       "    <tr>\n",
       "      <th>2</th>\n",
       "      <td>Aaron,  Karina</td>\n",
       "      <td>Police Officer</td>\n",
       "      <td>POLICE</td>\n",
       "      <td>$84450.00</td>\n",
       "    </tr>\n",
       "  </tbody>\n",
       "</table>\n",
       "</div>"
      ],
      "text/plain": [
       "                Name    Position Title   Department Employee Annual Salary\n",
       "0    Aaron,  Elvia J  Water Rate Taker  WATER MGMNT              $90744.00\n",
       "1  Aaron,  Jeffery M    Police Officer       POLICE              $84450.00\n",
       "2     Aaron,  Karina    Police Officer       POLICE              $84450.00"
      ]
     },
     "execution_count": 21,
     "metadata": {},
     "output_type": "execute_result"
    }
   ],
   "source": [
    "chicago['Name'] = chicago['Name'].str.title()\n",
    "chicago['Position Title'] = chicago['Position Title'].str.title()\n",
    "chicago.head(3)"
   ]
  },
  {
   "cell_type": "code",
   "execution_count": 22,
   "id": "9f96f480",
   "metadata": {},
   "outputs": [
    {
     "data": {
      "text/plain": [
       "0        11\n",
       "1         6\n",
       "2         6\n",
       "3        16\n",
       "4        11\n",
       "         ..\n",
       "32057    16\n",
       "32058     6\n",
       "32059     6\n",
       "32060     6\n",
       "32061     4\n",
       "Name: Department, Length: 32062, dtype: int64"
      ]
     },
     "execution_count": 22,
     "metadata": {},
     "output_type": "execute_result"
    }
   ],
   "source": [
    "chicago['Department'].str.len()"
   ]
  },
  {
   "cell_type": "markdown",
   "id": "6122d219",
   "metadata": {},
   "source": [
    "# The .str.replace() Method"
   ]
  },
  {
   "cell_type": "code",
   "execution_count": 23,
   "id": "e9834988",
   "metadata": {},
   "outputs": [
    {
     "data": {
      "text/plain": [
       "'He!!o Wor!d'"
      ]
     },
     "execution_count": 23,
     "metadata": {},
     "output_type": "execute_result"
    }
   ],
   "source": [
    "'Hello World'.replace('l', '!')"
   ]
  },
  {
   "cell_type": "code",
   "execution_count": 27,
   "id": "5acb416a",
   "metadata": {},
   "outputs": [
    {
     "data": {
      "text/html": [
       "<div>\n",
       "<style scoped>\n",
       "    .dataframe tbody tr th:only-of-type {\n",
       "        vertical-align: middle;\n",
       "    }\n",
       "\n",
       "    .dataframe tbody tr th {\n",
       "        vertical-align: top;\n",
       "    }\n",
       "\n",
       "    .dataframe thead th {\n",
       "        text-align: right;\n",
       "    }\n",
       "</style>\n",
       "<table border=\"1\" class=\"dataframe\">\n",
       "  <thead>\n",
       "    <tr style=\"text-align: right;\">\n",
       "      <th></th>\n",
       "      <th>Name</th>\n",
       "      <th>Position Title</th>\n",
       "      <th>Department</th>\n",
       "      <th>Employee Annual Salary</th>\n",
       "    </tr>\n",
       "  </thead>\n",
       "  <tbody>\n",
       "    <tr>\n",
       "      <th>0</th>\n",
       "      <td>Aaron,  Elvia J</td>\n",
       "      <td>Water Rate Taker</td>\n",
       "      <td>WATER MANAGEMENT</td>\n",
       "      <td>$90744.00</td>\n",
       "    </tr>\n",
       "    <tr>\n",
       "      <th>1</th>\n",
       "      <td>Aaron,  Jeffery M</td>\n",
       "      <td>Police Officer</td>\n",
       "      <td>POLICE</td>\n",
       "      <td>$84450.00</td>\n",
       "    </tr>\n",
       "    <tr>\n",
       "      <th>2</th>\n",
       "      <td>Aaron,  Karina</td>\n",
       "      <td>Police Officer</td>\n",
       "      <td>POLICE</td>\n",
       "      <td>$84450.00</td>\n",
       "    </tr>\n",
       "  </tbody>\n",
       "</table>\n",
       "</div>"
      ],
      "text/plain": [
       "                Name    Position Title        Department  \\\n",
       "0    Aaron,  Elvia J  Water Rate Taker  WATER MANAGEMENT   \n",
       "1  Aaron,  Jeffery M    Police Officer            POLICE   \n",
       "2     Aaron,  Karina    Police Officer            POLICE   \n",
       "\n",
       "  Employee Annual Salary  \n",
       "0              $90744.00  \n",
       "1              $84450.00  \n",
       "2              $84450.00  "
      ]
     },
     "execution_count": 27,
     "metadata": {},
     "output_type": "execute_result"
    }
   ],
   "source": [
    "chicago['Department'] = chicago['Department'].str.replace('MGMNT', 'MANAGEMENT')\n",
    "chicago.head(3)"
   ]
  },
  {
   "cell_type": "code",
   "execution_count": 30,
   "id": "db9faf5f",
   "metadata": {},
   "outputs": [
    {
     "name": "stderr",
     "output_type": "stream",
     "text": [
      "<ipython-input-30-4d8c77f68965>:1: FutureWarning: The default value of regex will change from True to False in a future version. In addition, single character regular expressions will*not* be treated as literal strings when regex=True.\n",
      "  chicago['Employee Annual Salary'] = chicago['Employee Annual Salary'].str.replace('$','').astype(float)\n"
     ]
    }
   ],
   "source": [
    "chicago['Employee Annual Salary'] = chicago['Employee Annual Salary'].str.replace('$','').astype(float)"
   ]
  },
  {
   "cell_type": "code",
   "execution_count": 48,
   "id": "ad300b45",
   "metadata": {},
   "outputs": [
    {
     "data": {
      "text/plain": [
       "15102       0.96\n",
       "12       2756.00\n",
       "27       2756.00\n",
       "47       2756.00\n",
       "295      2756.00\n",
       "380      2756.00\n",
       "686      2756.00\n",
       "751      2756.00\n",
       "959      2756.00\n",
       "1093     2756.00\n",
       "Name: Employee Annual Salary, dtype: float64"
      ]
     },
     "execution_count": 48,
     "metadata": {},
     "output_type": "execute_result"
    }
   ],
   "source": [
    "chicago['Employee Annual Salary'].sum()\n",
    "chicago['Employee Annual Salary'].mean()\n",
    "chicago['Employee Annual Salary'].mode()\n",
    "chicago['Employee Annual Salary'].median()\n",
    "chicago['Employee Annual Salary'].std() #Standard Deviation (Desvio Padrão)\n",
    "chicago['Employee Annual Salary'].nlargest(10)\n",
    "chicago['Employee Annual Salary'].nsmallest(10)"
   ]
  },
  {
   "cell_type": "code",
   "execution_count": 51,
   "id": "5409067e",
   "metadata": {},
   "outputs": [
    {
     "data": {
      "text/plain": [
       "Name                                 Koch,  Steven\n",
       "Position Title            Administrative Secretary\n",
       "Department                          MAYOR'S OFFICE\n",
       "Employee Annual Salary                        0.96\n",
       "Name: 15102, dtype: object"
      ]
     },
     "execution_count": 51,
     "metadata": {},
     "output_type": "execute_result"
    }
   ],
   "source": [
    "chicago.iloc[15102]"
   ]
  },
  {
   "cell_type": "markdown",
   "id": "d58136d9",
   "metadata": {},
   "source": [
    "# Filtering with String Methods"
   ]
  },
  {
   "cell_type": "code",
   "execution_count": 53,
   "id": "4d51540f",
   "metadata": {},
   "outputs": [
    {
     "data": {
      "text/html": [
       "<div>\n",
       "<style scoped>\n",
       "    .dataframe tbody tr th:only-of-type {\n",
       "        vertical-align: middle;\n",
       "    }\n",
       "\n",
       "    .dataframe tbody tr th {\n",
       "        vertical-align: top;\n",
       "    }\n",
       "\n",
       "    .dataframe thead th {\n",
       "        text-align: right;\n",
       "    }\n",
       "</style>\n",
       "<table border=\"1\" class=\"dataframe\">\n",
       "  <thead>\n",
       "    <tr style=\"text-align: right;\">\n",
       "      <th></th>\n",
       "      <th>Name</th>\n",
       "      <th>Position Title</th>\n",
       "      <th>Department</th>\n",
       "      <th>Employee Annual Salary</th>\n",
       "    </tr>\n",
       "  </thead>\n",
       "  <tbody>\n",
       "    <tr>\n",
       "      <th>0</th>\n",
       "      <td>Aaron,  Elvia J</td>\n",
       "      <td>Water Rate Taker</td>\n",
       "      <td>WATER MANAGEMENT</td>\n",
       "      <td>90744.0</td>\n",
       "    </tr>\n",
       "    <tr>\n",
       "      <th>554</th>\n",
       "      <td>Aluise,  Vincent G</td>\n",
       "      <td>Foreman Of Water Pipe Construction</td>\n",
       "      <td>WATER MANAGEMENT</td>\n",
       "      <td>102440.0</td>\n",
       "    </tr>\n",
       "    <tr>\n",
       "      <th>671</th>\n",
       "      <td>Ander,  Perry A</td>\n",
       "      <td>Water Chemist Ii</td>\n",
       "      <td>WATER MANAGEMENT</td>\n",
       "      <td>82044.0</td>\n",
       "    </tr>\n",
       "    <tr>\n",
       "      <th>685</th>\n",
       "      <td>Anderson,  Andrew J</td>\n",
       "      <td>District Superintendent Of Water Distribution</td>\n",
       "      <td>WATER MANAGEMENT</td>\n",
       "      <td>109272.0</td>\n",
       "    </tr>\n",
       "    <tr>\n",
       "      <th>702</th>\n",
       "      <td>Anderson,  Donald</td>\n",
       "      <td>Foreman Of Water Pipe Construction</td>\n",
       "      <td>WATER MANAGEMENT</td>\n",
       "      <td>102440.0</td>\n",
       "    </tr>\n",
       "    <tr>\n",
       "      <th>...</th>\n",
       "      <td>...</td>\n",
       "      <td>...</td>\n",
       "      <td>...</td>\n",
       "      <td>...</td>\n",
       "    </tr>\n",
       "    <tr>\n",
       "      <th>29669</th>\n",
       "      <td>Verma,  Anupam</td>\n",
       "      <td>Managing Engineer - Water Management</td>\n",
       "      <td>WATER MANAGEMENT</td>\n",
       "      <td>111192.0</td>\n",
       "    </tr>\n",
       "    <tr>\n",
       "      <th>30239</th>\n",
       "      <td>Washington,  Joseph</td>\n",
       "      <td>Water Chemist Iii</td>\n",
       "      <td>WATER MANAGEMENT</td>\n",
       "      <td>89676.0</td>\n",
       "    </tr>\n",
       "    <tr>\n",
       "      <th>30544</th>\n",
       "      <td>West,  Thomas R</td>\n",
       "      <td>Gen Supt Of Water Management</td>\n",
       "      <td>WATER MANAGEMENT</td>\n",
       "      <td>115704.0</td>\n",
       "    </tr>\n",
       "    <tr>\n",
       "      <th>30991</th>\n",
       "      <td>Williams,  Matthew</td>\n",
       "      <td>Foreman Of Water Pipe Construction</td>\n",
       "      <td>WATER MANAGEMENT</td>\n",
       "      <td>102440.0</td>\n",
       "    </tr>\n",
       "    <tr>\n",
       "      <th>31405</th>\n",
       "      <td>Woodridge,  Robert L</td>\n",
       "      <td>Foreman Of Water Pipe Construction</td>\n",
       "      <td>WATER MANAGEMENT</td>\n",
       "      <td>102440.0</td>\n",
       "    </tr>\n",
       "  </tbody>\n",
       "</table>\n",
       "<p>111 rows × 4 columns</p>\n",
       "</div>"
      ],
      "text/plain": [
       "                       Name                                 Position Title  \\\n",
       "0           Aaron,  Elvia J                               Water Rate Taker   \n",
       "554      Aluise,  Vincent G             Foreman Of Water Pipe Construction   \n",
       "671         Ander,  Perry A                               Water Chemist Ii   \n",
       "685     Anderson,  Andrew J  District Superintendent Of Water Distribution   \n",
       "702       Anderson,  Donald             Foreman Of Water Pipe Construction   \n",
       "...                     ...                                            ...   \n",
       "29669        Verma,  Anupam           Managing Engineer - Water Management   \n",
       "30239   Washington,  Joseph                              Water Chemist Iii   \n",
       "30544       West,  Thomas R                   Gen Supt Of Water Management   \n",
       "30991    Williams,  Matthew             Foreman Of Water Pipe Construction   \n",
       "31405  Woodridge,  Robert L             Foreman Of Water Pipe Construction   \n",
       "\n",
       "             Department  Employee Annual Salary  \n",
       "0      WATER MANAGEMENT                 90744.0  \n",
       "554    WATER MANAGEMENT                102440.0  \n",
       "671    WATER MANAGEMENT                 82044.0  \n",
       "685    WATER MANAGEMENT                109272.0  \n",
       "702    WATER MANAGEMENT                102440.0  \n",
       "...                 ...                     ...  \n",
       "29669  WATER MANAGEMENT                111192.0  \n",
       "30239  WATER MANAGEMENT                 89676.0  \n",
       "30544  WATER MANAGEMENT                115704.0  \n",
       "30991  WATER MANAGEMENT                102440.0  \n",
       "31405  WATER MANAGEMENT                102440.0  \n",
       "\n",
       "[111 rows x 4 columns]"
      ]
     },
     "execution_count": 53,
     "metadata": {},
     "output_type": "execute_result"
    }
   ],
   "source": [
    "mask = chicago['Position Title'].str.lower().str.contains('water')\n",
    "chicago[mask]"
   ]
  },
  {
   "cell_type": "code",
   "execution_count": 54,
   "id": "998bfbe6",
   "metadata": {},
   "outputs": [
    {
     "data": {
      "text/html": [
       "<div>\n",
       "<style scoped>\n",
       "    .dataframe tbody tr th:only-of-type {\n",
       "        vertical-align: middle;\n",
       "    }\n",
       "\n",
       "    .dataframe tbody tr th {\n",
       "        vertical-align: top;\n",
       "    }\n",
       "\n",
       "    .dataframe thead th {\n",
       "        text-align: right;\n",
       "    }\n",
       "</style>\n",
       "<table border=\"1\" class=\"dataframe\">\n",
       "  <thead>\n",
       "    <tr style=\"text-align: right;\">\n",
       "      <th></th>\n",
       "      <th>Name</th>\n",
       "      <th>Position Title</th>\n",
       "      <th>Department</th>\n",
       "      <th>Employee Annual Salary</th>\n",
       "    </tr>\n",
       "  </thead>\n",
       "  <tbody>\n",
       "    <tr>\n",
       "      <th>0</th>\n",
       "      <td>Aaron,  Elvia J</td>\n",
       "      <td>Water Rate Taker</td>\n",
       "      <td>WATER MANAGEMENT</td>\n",
       "      <td>90744.0</td>\n",
       "    </tr>\n",
       "    <tr>\n",
       "      <th>671</th>\n",
       "      <td>Ander,  Perry A</td>\n",
       "      <td>Water Chemist Ii</td>\n",
       "      <td>WATER MANAGEMENT</td>\n",
       "      <td>82044.0</td>\n",
       "    </tr>\n",
       "    <tr>\n",
       "      <th>1054</th>\n",
       "      <td>Ashley,  Karma T</td>\n",
       "      <td>Water Chemist Ii</td>\n",
       "      <td>WATER MANAGEMENT</td>\n",
       "      <td>82044.0</td>\n",
       "    </tr>\n",
       "    <tr>\n",
       "      <th>1079</th>\n",
       "      <td>Atkins,  Joanna M</td>\n",
       "      <td>Water Chemist Ii</td>\n",
       "      <td>WATER MANAGEMENT</td>\n",
       "      <td>82044.0</td>\n",
       "    </tr>\n",
       "    <tr>\n",
       "      <th>1181</th>\n",
       "      <td>Azeem,  Mohammed A</td>\n",
       "      <td>Water Chemist Ii</td>\n",
       "      <td>WATER MANAGEMENT</td>\n",
       "      <td>53172.0</td>\n",
       "    </tr>\n",
       "    <tr>\n",
       "      <th>...</th>\n",
       "      <td>...</td>\n",
       "      <td>...</td>\n",
       "      <td>...</td>\n",
       "      <td>...</td>\n",
       "    </tr>\n",
       "    <tr>\n",
       "      <th>28574</th>\n",
       "      <td>Threatt,  Denise R</td>\n",
       "      <td>Water Quality Inspector</td>\n",
       "      <td>WATER MANAGEMENT</td>\n",
       "      <td>62004.0</td>\n",
       "    </tr>\n",
       "    <tr>\n",
       "      <th>28602</th>\n",
       "      <td>Tignor,  Darryl B</td>\n",
       "      <td>Water Rate Taker</td>\n",
       "      <td>WATER MANAGEMENT</td>\n",
       "      <td>78948.0</td>\n",
       "    </tr>\n",
       "    <tr>\n",
       "      <th>28955</th>\n",
       "      <td>Travis Cook,  Leslie R</td>\n",
       "      <td>Water Rate Taker</td>\n",
       "      <td>WATER MANAGEMENT</td>\n",
       "      <td>78948.0</td>\n",
       "    </tr>\n",
       "    <tr>\n",
       "      <th>29584</th>\n",
       "      <td>Velazquez,  John</td>\n",
       "      <td>Water Rate Taker</td>\n",
       "      <td>WATER MANAGEMENT</td>\n",
       "      <td>78948.0</td>\n",
       "    </tr>\n",
       "    <tr>\n",
       "      <th>30239</th>\n",
       "      <td>Washington,  Joseph</td>\n",
       "      <td>Water Chemist Iii</td>\n",
       "      <td>WATER MANAGEMENT</td>\n",
       "      <td>89676.0</td>\n",
       "    </tr>\n",
       "  </tbody>\n",
       "</table>\n",
       "<p>75 rows × 4 columns</p>\n",
       "</div>"
      ],
      "text/plain": [
       "                         Name           Position Title        Department  \\\n",
       "0             Aaron,  Elvia J         Water Rate Taker  WATER MANAGEMENT   \n",
       "671           Ander,  Perry A         Water Chemist Ii  WATER MANAGEMENT   \n",
       "1054         Ashley,  Karma T         Water Chemist Ii  WATER MANAGEMENT   \n",
       "1079        Atkins,  Joanna M         Water Chemist Ii  WATER MANAGEMENT   \n",
       "1181       Azeem,  Mohammed A         Water Chemist Ii  WATER MANAGEMENT   \n",
       "...                       ...                      ...               ...   \n",
       "28574      Threatt,  Denise R  Water Quality Inspector  WATER MANAGEMENT   \n",
       "28602       Tignor,  Darryl B         Water Rate Taker  WATER MANAGEMENT   \n",
       "28955  Travis Cook,  Leslie R         Water Rate Taker  WATER MANAGEMENT   \n",
       "29584        Velazquez,  John         Water Rate Taker  WATER MANAGEMENT   \n",
       "30239     Washington,  Joseph        Water Chemist Iii  WATER MANAGEMENT   \n",
       "\n",
       "       Employee Annual Salary  \n",
       "0                     90744.0  \n",
       "671                   82044.0  \n",
       "1054                  82044.0  \n",
       "1079                  82044.0  \n",
       "1181                  53172.0  \n",
       "...                       ...  \n",
       "28574                 62004.0  \n",
       "28602                 78948.0  \n",
       "28955                 78948.0  \n",
       "29584                 78948.0  \n",
       "30239                 89676.0  \n",
       "\n",
       "[75 rows x 4 columns]"
      ]
     },
     "execution_count": 54,
     "metadata": {},
     "output_type": "execute_result"
    }
   ],
   "source": [
    "mask1 = chicago['Position Title'].str.lower().str.startswith('water')\n",
    "chicago[mask1]"
   ]
  },
  {
   "cell_type": "code",
   "execution_count": 56,
   "id": "36a152cb",
   "metadata": {},
   "outputs": [
    {
     "data": {
      "text/html": [
       "<div>\n",
       "<style scoped>\n",
       "    .dataframe tbody tr th:only-of-type {\n",
       "        vertical-align: middle;\n",
       "    }\n",
       "\n",
       "    .dataframe tbody tr th {\n",
       "        vertical-align: top;\n",
       "    }\n",
       "\n",
       "    .dataframe thead th {\n",
       "        text-align: right;\n",
       "    }\n",
       "</style>\n",
       "<table border=\"1\" class=\"dataframe\">\n",
       "  <thead>\n",
       "    <tr style=\"text-align: right;\">\n",
       "      <th></th>\n",
       "      <th>Name</th>\n",
       "      <th>Position Title</th>\n",
       "      <th>Department</th>\n",
       "      <th>Employee Annual Salary</th>\n",
       "    </tr>\n",
       "  </thead>\n",
       "  <tbody>\n",
       "    <tr>\n",
       "      <th>184</th>\n",
       "      <td>Afroz,  Nayyar</td>\n",
       "      <td>Psychiatrist</td>\n",
       "      <td>HEALTH</td>\n",
       "      <td>99840.0</td>\n",
       "    </tr>\n",
       "    <tr>\n",
       "      <th>308</th>\n",
       "      <td>Alarcon,  Luis J</td>\n",
       "      <td>Loan Processing Specialist</td>\n",
       "      <td>COMMUNITY DEVELOPMENT</td>\n",
       "      <td>81948.0</td>\n",
       "    </tr>\n",
       "    <tr>\n",
       "      <th>422</th>\n",
       "      <td>Allain,  Carolyn</td>\n",
       "      <td>Senior Telecommunications Specialist</td>\n",
       "      <td>DoIT</td>\n",
       "      <td>89880.0</td>\n",
       "    </tr>\n",
       "    <tr>\n",
       "      <th>472</th>\n",
       "      <td>Allen,  Robert</td>\n",
       "      <td>Machinist</td>\n",
       "      <td>WATER MANAGEMENT</td>\n",
       "      <td>94328.0</td>\n",
       "    </tr>\n",
       "    <tr>\n",
       "      <th>705</th>\n",
       "      <td>Anderson,  Edward M</td>\n",
       "      <td>Sr Procurement Specialist</td>\n",
       "      <td>PROCUREMENT</td>\n",
       "      <td>91476.0</td>\n",
       "    </tr>\n",
       "    <tr>\n",
       "      <th>...</th>\n",
       "      <td>...</td>\n",
       "      <td>...</td>\n",
       "      <td>...</td>\n",
       "      <td>...</td>\n",
       "    </tr>\n",
       "    <tr>\n",
       "      <th>31667</th>\n",
       "      <td>Yoder,  Teresa G</td>\n",
       "      <td>Archival Specialist</td>\n",
       "      <td>PUBLIC LIBRARY</td>\n",
       "      <td>74304.0</td>\n",
       "    </tr>\n",
       "    <tr>\n",
       "      <th>31688</th>\n",
       "      <td>Youngbloom,  Laurence G</td>\n",
       "      <td>Crimes Surveillance Specialist</td>\n",
       "      <td>OEMC</td>\n",
       "      <td>19676.8</td>\n",
       "    </tr>\n",
       "    <tr>\n",
       "      <th>31717</th>\n",
       "      <td>Young,  Kimberly M</td>\n",
       "      <td>Sr Procurement Specialist</td>\n",
       "      <td>PROCUREMENT</td>\n",
       "      <td>68556.0</td>\n",
       "    </tr>\n",
       "    <tr>\n",
       "      <th>31837</th>\n",
       "      <td>Zapata,  Hugo</td>\n",
       "      <td>Sr Procurement Specialist</td>\n",
       "      <td>PROCUREMENT</td>\n",
       "      <td>87324.0</td>\n",
       "    </tr>\n",
       "    <tr>\n",
       "      <th>31918</th>\n",
       "      <td>Zemke,  Richard P</td>\n",
       "      <td>Machinist</td>\n",
       "      <td>AVIATION</td>\n",
       "      <td>94328.0</td>\n",
       "    </tr>\n",
       "  </tbody>\n",
       "</table>\n",
       "<p>172 rows × 4 columns</p>\n",
       "</div>"
      ],
      "text/plain": [
       "                          Name                        Position Title  \\\n",
       "184             Afroz,  Nayyar                          Psychiatrist   \n",
       "308           Alarcon,  Luis J            Loan Processing Specialist   \n",
       "422           Allain,  Carolyn  Senior Telecommunications Specialist   \n",
       "472             Allen,  Robert                             Machinist   \n",
       "705        Anderson,  Edward M             Sr Procurement Specialist   \n",
       "...                        ...                                   ...   \n",
       "31667         Yoder,  Teresa G                   Archival Specialist   \n",
       "31688  Youngbloom,  Laurence G        Crimes Surveillance Specialist   \n",
       "31717       Young,  Kimberly M             Sr Procurement Specialist   \n",
       "31837            Zapata,  Hugo             Sr Procurement Specialist   \n",
       "31918        Zemke,  Richard P                             Machinist   \n",
       "\n",
       "                  Department  Employee Annual Salary  \n",
       "184                   HEALTH                 99840.0  \n",
       "308    COMMUNITY DEVELOPMENT                 81948.0  \n",
       "422                     DoIT                 89880.0  \n",
       "472         WATER MANAGEMENT                 94328.0  \n",
       "705              PROCUREMENT                 91476.0  \n",
       "...                      ...                     ...  \n",
       "31667         PUBLIC LIBRARY                 74304.0  \n",
       "31688                   OEMC                 19676.8  \n",
       "31717            PROCUREMENT                 68556.0  \n",
       "31837            PROCUREMENT                 87324.0  \n",
       "31918               AVIATION                 94328.0  \n",
       "\n",
       "[172 rows x 4 columns]"
      ]
     },
     "execution_count": 56,
     "metadata": {},
     "output_type": "execute_result"
    }
   ],
   "source": [
    "chicago[chicago['Position Title'].str.lower().str.endswith('ist')]"
   ]
  },
  {
   "cell_type": "markdown",
   "id": "839e4128",
   "metadata": {},
   "source": [
    "# More String Methods - .strip() , .lstrip() , .rstrip()"
   ]
  },
  {
   "cell_type": "code",
   "execution_count": 57,
   "id": "7c9cd737",
   "metadata": {},
   "outputs": [
    {
     "data": {
      "text/plain": [
       "'Hello World          '"
      ]
     },
     "execution_count": 57,
     "metadata": {},
     "output_type": "execute_result"
    }
   ],
   "source": [
    "'          Hello World          '.lstrip()"
   ]
  },
  {
   "cell_type": "code",
   "execution_count": 58,
   "id": "48976692",
   "metadata": {},
   "outputs": [
    {
     "data": {
      "text/plain": [
       "'          Hello World'"
      ]
     },
     "execution_count": 58,
     "metadata": {},
     "output_type": "execute_result"
    }
   ],
   "source": [
    "'          Hello World          '.rstrip()"
   ]
  },
  {
   "cell_type": "code",
   "execution_count": 59,
   "id": "10e7b3ce",
   "metadata": {},
   "outputs": [
    {
     "data": {
      "text/plain": [
       "'Hello World'"
      ]
     },
     "execution_count": 59,
     "metadata": {},
     "output_type": "execute_result"
    }
   ],
   "source": [
    "'          Hello World          '.strip()"
   ]
  },
  {
   "cell_type": "code",
   "execution_count": 61,
   "id": "72bee9a1",
   "metadata": {},
   "outputs": [],
   "source": [
    "chicago['Name'] = chicago['Name'].str.rstrip().str.lstrip()"
   ]
  },
  {
   "cell_type": "code",
   "execution_count": 63,
   "id": "89030e5c",
   "metadata": {},
   "outputs": [],
   "source": [
    "chicago['Position Title'] = chicago['Position Title'].str.strip()"
   ]
  },
  {
   "cell_type": "markdown",
   "id": "6f3f15dc",
   "metadata": {},
   "source": [
    "# String Methods on Index and Columns"
   ]
  },
  {
   "cell_type": "code",
   "execution_count": 65,
   "id": "a29ed90a",
   "metadata": {},
   "outputs": [
    {
     "data": {
      "text/html": [
       "<div>\n",
       "<style scoped>\n",
       "    .dataframe tbody tr th:only-of-type {\n",
       "        vertical-align: middle;\n",
       "    }\n",
       "\n",
       "    .dataframe tbody tr th {\n",
       "        vertical-align: top;\n",
       "    }\n",
       "\n",
       "    .dataframe thead th {\n",
       "        text-align: right;\n",
       "    }\n",
       "</style>\n",
       "<table border=\"1\" class=\"dataframe\">\n",
       "  <thead>\n",
       "    <tr style=\"text-align: right;\">\n",
       "      <th></th>\n",
       "      <th>Position Title</th>\n",
       "      <th>Department</th>\n",
       "      <th>Employee Annual Salary</th>\n",
       "    </tr>\n",
       "    <tr>\n",
       "      <th>Name</th>\n",
       "      <th></th>\n",
       "      <th></th>\n",
       "      <th></th>\n",
       "    </tr>\n",
       "  </thead>\n",
       "  <tbody>\n",
       "    <tr>\n",
       "      <th>ZYMANTAS,  MARK E</th>\n",
       "      <td>POLICE OFFICER</td>\n",
       "      <td>POLICE</td>\n",
       "      <td>$84450.00</td>\n",
       "    </tr>\n",
       "    <tr>\n",
       "      <th>ZYRKOWSKI,  CARLO E</th>\n",
       "      <td>POLICE OFFICER</td>\n",
       "      <td>POLICE</td>\n",
       "      <td>$87384.00</td>\n",
       "    </tr>\n",
       "    <tr>\n",
       "      <th>ZYSKOWSKI,  DARIUSZ</th>\n",
       "      <td>CHIEF DATA BASE ANALYST</td>\n",
       "      <td>DoIT</td>\n",
       "      <td>$113664.00</td>\n",
       "    </tr>\n",
       "  </tbody>\n",
       "</table>\n",
       "</div>"
      ],
      "text/plain": [
       "                              Position Title Department Employee Annual Salary\n",
       "Name                                                                          \n",
       "ZYMANTAS,  MARK E             POLICE OFFICER     POLICE              $84450.00\n",
       "ZYRKOWSKI,  CARLO E           POLICE OFFICER     POLICE              $87384.00\n",
       "ZYSKOWSKI,  DARIUSZ  CHIEF DATA BASE ANALYST       DoIT             $113664.00"
      ]
     },
     "execution_count": 65,
     "metadata": {},
     "output_type": "execute_result"
    }
   ],
   "source": [
    "chicago1 = pd.read_csv('chicago.csv', index_col='Name').dropna(how = 'all')\n",
    "chicago1['Department'] = chicago1['Department'].astype('category')\n",
    "chicago1.tail(3)"
   ]
  },
  {
   "cell_type": "code",
   "execution_count": 68,
   "id": "6cf9677e",
   "metadata": {},
   "outputs": [
    {
     "data": {
      "text/html": [
       "<div>\n",
       "<style scoped>\n",
       "    .dataframe tbody tr th:only-of-type {\n",
       "        vertical-align: middle;\n",
       "    }\n",
       "\n",
       "    .dataframe tbody tr th {\n",
       "        vertical-align: top;\n",
       "    }\n",
       "\n",
       "    .dataframe thead th {\n",
       "        text-align: right;\n",
       "    }\n",
       "</style>\n",
       "<table border=\"1\" class=\"dataframe\">\n",
       "  <thead>\n",
       "    <tr style=\"text-align: right;\">\n",
       "      <th></th>\n",
       "      <th>Name</th>\n",
       "      <th>Position Title</th>\n",
       "      <th>Department</th>\n",
       "      <th>Employee Annual Salary</th>\n",
       "    </tr>\n",
       "  </thead>\n",
       "  <tbody>\n",
       "    <tr>\n",
       "      <th>0</th>\n",
       "      <td>Aaron,  Elvia J</td>\n",
       "      <td>Water Rate Taker</td>\n",
       "      <td>WATER MANAGEMENT</td>\n",
       "      <td>90744.0</td>\n",
       "    </tr>\n",
       "    <tr>\n",
       "      <th>1</th>\n",
       "      <td>Aaron,  Jeffery M</td>\n",
       "      <td>Police Officer</td>\n",
       "      <td>POLICE</td>\n",
       "      <td>84450.0</td>\n",
       "    </tr>\n",
       "    <tr>\n",
       "      <th>2</th>\n",
       "      <td>Aaron,  Karina</td>\n",
       "      <td>Police Officer</td>\n",
       "      <td>POLICE</td>\n",
       "      <td>84450.0</td>\n",
       "    </tr>\n",
       "  </tbody>\n",
       "</table>\n",
       "</div>"
      ],
      "text/plain": [
       "                Name    Position Title        Department  \\\n",
       "0    Aaron,  Elvia J  Water Rate Taker  WATER MANAGEMENT   \n",
       "1  Aaron,  Jeffery M    Police Officer            POLICE   \n",
       "2     Aaron,  Karina    Police Officer            POLICE   \n",
       "\n",
       "   Employee Annual Salary  \n",
       "0                 90744.0  \n",
       "1                 84450.0  \n",
       "2                 84450.0  "
      ]
     },
     "execution_count": 68,
     "metadata": {},
     "output_type": "execute_result"
    }
   ],
   "source": [
    "chicago1.index = chicago1.index.str.strip().str.title()\n",
    "chicago.head(3)"
   ]
  },
  {
   "cell_type": "code",
   "execution_count": 70,
   "id": "99fd3edb",
   "metadata": {},
   "outputs": [],
   "source": [
    "chicago1.columns = chicago1.columns.str.upper()"
   ]
  },
  {
   "cell_type": "code",
   "execution_count": 72,
   "id": "74bda3e4",
   "metadata": {},
   "outputs": [
    {
     "data": {
      "text/html": [
       "<div>\n",
       "<style scoped>\n",
       "    .dataframe tbody tr th:only-of-type {\n",
       "        vertical-align: middle;\n",
       "    }\n",
       "\n",
       "    .dataframe tbody tr th {\n",
       "        vertical-align: top;\n",
       "    }\n",
       "\n",
       "    .dataframe thead th {\n",
       "        text-align: right;\n",
       "    }\n",
       "</style>\n",
       "<table border=\"1\" class=\"dataframe\">\n",
       "  <thead>\n",
       "    <tr style=\"text-align: right;\">\n",
       "      <th></th>\n",
       "      <th>POSITION TITLE</th>\n",
       "      <th>DEPARTMENT</th>\n",
       "      <th>EMPLOYEE ANNUAL SALARY</th>\n",
       "    </tr>\n",
       "    <tr>\n",
       "      <th>Name</th>\n",
       "      <th></th>\n",
       "      <th></th>\n",
       "      <th></th>\n",
       "    </tr>\n",
       "  </thead>\n",
       "  <tbody>\n",
       "    <tr>\n",
       "      <th>Aaron,  Elvia J</th>\n",
       "      <td>WATER RATE TAKER</td>\n",
       "      <td>WATER MGMNT</td>\n",
       "      <td>$90744.00</td>\n",
       "    </tr>\n",
       "    <tr>\n",
       "      <th>Aaron,  Jeffery M</th>\n",
       "      <td>POLICE OFFICER</td>\n",
       "      <td>POLICE</td>\n",
       "      <td>$84450.00</td>\n",
       "    </tr>\n",
       "    <tr>\n",
       "      <th>Aaron,  Karina</th>\n",
       "      <td>POLICE OFFICER</td>\n",
       "      <td>POLICE</td>\n",
       "      <td>$84450.00</td>\n",
       "    </tr>\n",
       "  </tbody>\n",
       "</table>\n",
       "</div>"
      ],
      "text/plain": [
       "                     POSITION TITLE   DEPARTMENT EMPLOYEE ANNUAL SALARY\n",
       "Name                                                                   \n",
       "Aaron,  Elvia J    WATER RATE TAKER  WATER MGMNT              $90744.00\n",
       "Aaron,  Jeffery M    POLICE OFFICER       POLICE              $84450.00\n",
       "Aaron,  Karina       POLICE OFFICER       POLICE              $84450.00"
      ]
     },
     "execution_count": 72,
     "metadata": {},
     "output_type": "execute_result"
    }
   ],
   "source": [
    "chicago1.head(3)"
   ]
  },
  {
   "cell_type": "markdown",
   "id": "05906d89",
   "metadata": {},
   "source": [
    "# Split Strings by Characters with .str.split() Method"
   ]
  },
  {
   "cell_type": "code",
   "execution_count": 79,
   "id": "1684efdd",
   "metadata": {},
   "outputs": [
    {
     "data": {
      "text/plain": [
       "['Hello', 'my', 'name', 'is', 'Boris']"
      ]
     },
     "execution_count": 79,
     "metadata": {},
     "output_type": "execute_result"
    }
   ],
   "source": [
    "'Hello my name is Boris'.split(' ')"
   ]
  },
  {
   "cell_type": "code",
   "execution_count": 87,
   "id": "de67e1bd",
   "metadata": {},
   "outputs": [
    {
     "data": {
      "text/plain": [
       "Williams      293\n",
       "Johnson       244\n",
       "Smith         241\n",
       "Brown         185\n",
       "Jones         183\n",
       "             ... \n",
       "Talpos          1\n",
       "Hubbird         1\n",
       "Elarde          1\n",
       "Bakopoulos      1\n",
       "Ferreira        1\n",
       "Name: Name, Length: 13829, dtype: int64"
      ]
     },
     "execution_count": 87,
     "metadata": {},
     "output_type": "execute_result"
    }
   ],
   "source": [
    "chicago['Name'].str.split(',').str.get(0).str.title().value_counts()"
   ]
  },
  {
   "cell_type": "code",
   "execution_count": 90,
   "id": "12c3906d",
   "metadata": {},
   "outputs": [
    {
     "data": {
      "text/plain": [
       "Police              10856\n",
       "Firefighter-Emt      1509\n",
       "Sergeant             1186\n",
       "Pool                  918\n",
       "Firefighter           810\n",
       "                    ...  \n",
       "Offset                  1\n",
       "Superintendent'S        1\n",
       "Equal                   1\n",
       "Volunteer               1\n",
       "Analyst                 1\n",
       "Name: Position Title, Length: 320, dtype: int64"
      ]
     },
     "execution_count": 90,
     "metadata": {},
     "output_type": "execute_result"
    }
   ],
   "source": [
    "chicago['Position Title'].str.split(' ').str.get(0).value_counts()"
   ]
  },
  {
   "cell_type": "markdown",
   "id": "ef317076",
   "metadata": {},
   "source": [
    "# More Practice with Splits"
   ]
  },
  {
   "cell_type": "code",
   "execution_count": 147,
   "id": "f65cc823",
   "metadata": {},
   "outputs": [
    {
     "data": {
      "text/html": [
       "<div>\n",
       "<style scoped>\n",
       "    .dataframe tbody tr th:only-of-type {\n",
       "        vertical-align: middle;\n",
       "    }\n",
       "\n",
       "    .dataframe tbody tr th {\n",
       "        vertical-align: top;\n",
       "    }\n",
       "\n",
       "    .dataframe thead th {\n",
       "        text-align: right;\n",
       "    }\n",
       "</style>\n",
       "<table border=\"1\" class=\"dataframe\">\n",
       "  <thead>\n",
       "    <tr style=\"text-align: right;\">\n",
       "      <th></th>\n",
       "      <th>Name</th>\n",
       "      <th>Position Title</th>\n",
       "      <th>Department</th>\n",
       "      <th>Employee Annual Salary</th>\n",
       "    </tr>\n",
       "  </thead>\n",
       "  <tbody>\n",
       "    <tr>\n",
       "      <th>0</th>\n",
       "      <td>AARON,  ELVIA J</td>\n",
       "      <td>WATER RATE TAKER</td>\n",
       "      <td>WATER MGMNT</td>\n",
       "      <td>$90744.00</td>\n",
       "    </tr>\n",
       "    <tr>\n",
       "      <th>1</th>\n",
       "      <td>AARON,  JEFFERY M</td>\n",
       "      <td>POLICE OFFICER</td>\n",
       "      <td>POLICE</td>\n",
       "      <td>$84450.00</td>\n",
       "    </tr>\n",
       "    <tr>\n",
       "      <th>2</th>\n",
       "      <td>AARON,  KARINA</td>\n",
       "      <td>POLICE OFFICER</td>\n",
       "      <td>POLICE</td>\n",
       "      <td>$84450.00</td>\n",
       "    </tr>\n",
       "    <tr>\n",
       "      <th>3</th>\n",
       "      <td>AARON,  KIMBERLEI R</td>\n",
       "      <td>CHIEF CONTRACT EXPEDITER</td>\n",
       "      <td>GENERAL SERVICES</td>\n",
       "      <td>$89880.00</td>\n",
       "    </tr>\n",
       "    <tr>\n",
       "      <th>4</th>\n",
       "      <td>ABAD JR,  VICENTE M</td>\n",
       "      <td>CIVIL ENGINEER IV</td>\n",
       "      <td>WATER MGMNT</td>\n",
       "      <td>$106836.00</td>\n",
       "    </tr>\n",
       "  </tbody>\n",
       "</table>\n",
       "</div>"
      ],
      "text/plain": [
       "                  Name            Position Title        Department  \\\n",
       "0      AARON,  ELVIA J          WATER RATE TAKER       WATER MGMNT   \n",
       "1    AARON,  JEFFERY M            POLICE OFFICER            POLICE   \n",
       "2       AARON,  KARINA            POLICE OFFICER            POLICE   \n",
       "3  AARON,  KIMBERLEI R  CHIEF CONTRACT EXPEDITER  GENERAL SERVICES   \n",
       "4  ABAD JR,  VICENTE M         CIVIL ENGINEER IV       WATER MGMNT   \n",
       "\n",
       "  Employee Annual Salary  \n",
       "0              $90744.00  \n",
       "1              $84450.00  \n",
       "2              $84450.00  \n",
       "3              $89880.00  \n",
       "4             $106836.00  "
      ]
     },
     "execution_count": 147,
     "metadata": {},
     "output_type": "execute_result"
    }
   ],
   "source": [
    "chicago1 = pd.read_csv('chicago.csv').dropna(how = 'all')\n",
    "chicago1['Department'] = chicago1['Department'].astype('category')\n",
    "chicago1.head()"
   ]
  },
  {
   "cell_type": "code",
   "execution_count": 148,
   "id": "2321c7fc",
   "metadata": {},
   "outputs": [
    {
     "data": {
      "text/plain": [
       "MICHAEL    1153\n",
       "JOHN        899\n",
       "JAMES       676\n",
       "ROBERT      622\n",
       "JOSEPH      537\n",
       "Name: Name, dtype: int64"
      ]
     },
     "execution_count": 148,
     "metadata": {},
     "output_type": "execute_result"
    }
   ],
   "source": [
    "chicago1['Name'].str.split(',').str.get(-1).str.strip().str.split(' ').str.get(0).value_counts().nlargest(5)"
   ]
  },
  {
   "cell_type": "code",
   "execution_count": 149,
   "id": "1c446729",
   "metadata": {},
   "outputs": [
    {
     "data": {
      "text/plain": [
       "MICHAEL    1153\n",
       "JOHN        899\n",
       "JAMES       676\n",
       "ROBERT      622\n",
       "JOSEPH      537\n",
       "Name: Name, dtype: int64"
      ]
     },
     "execution_count": 149,
     "metadata": {},
     "output_type": "execute_result"
    }
   ],
   "source": [
    "chicago1['Name'].str.split(', ').str.get(-1).str.strip().str.split(' ').str.get(0).value_counts().nlargest(5)"
   ]
  },
  {
   "cell_type": "markdown",
   "id": "8fe83290",
   "metadata": {},
   "source": [
    "# The expand and the n Paramaters of the str.split() Method"
   ]
  },
  {
   "cell_type": "code",
   "execution_count": 150,
   "id": "67a8ea6e",
   "metadata": {},
   "outputs": [],
   "source": [
    "chicago1[['First Name', 'Last Name']] = chicago1['Name'].str.split(',' , expand = True)\n",
    "chicago1.columns = ['First Name', 'Last Name', 'Name', 'Position Title', 'Department', 'Employee Annual Salary']"
   ]
  },
  {
   "cell_type": "code",
   "execution_count": 160,
   "id": "7e3657c4",
   "metadata": {},
   "outputs": [],
   "source": [
    "chicago1.drop(columns = 'Name', inplace = True)"
   ]
  },
  {
   "cell_type": "code",
   "execution_count": 161,
   "id": "191bbd9b",
   "metadata": {},
   "outputs": [
    {
     "data": {
      "text/html": [
       "<div>\n",
       "<style scoped>\n",
       "    .dataframe tbody tr th:only-of-type {\n",
       "        vertical-align: middle;\n",
       "    }\n",
       "\n",
       "    .dataframe tbody tr th {\n",
       "        vertical-align: top;\n",
       "    }\n",
       "\n",
       "    .dataframe thead th {\n",
       "        text-align: right;\n",
       "    }\n",
       "</style>\n",
       "<table border=\"1\" class=\"dataframe\">\n",
       "  <thead>\n",
       "    <tr style=\"text-align: right;\">\n",
       "      <th></th>\n",
       "      <th>First Name</th>\n",
       "      <th>Last Name</th>\n",
       "      <th>Position Title</th>\n",
       "      <th>Department</th>\n",
       "      <th>Employee Annual Salary</th>\n",
       "    </tr>\n",
       "  </thead>\n",
       "  <tbody>\n",
       "    <tr>\n",
       "      <th>0</th>\n",
       "      <td>AARON,  ELVIA J</td>\n",
       "      <td>WATER RATE TAKER</td>\n",
       "      <td>$90744.00</td>\n",
       "      <td>AARON</td>\n",
       "      <td>ELVIA J</td>\n",
       "    </tr>\n",
       "    <tr>\n",
       "      <th>1</th>\n",
       "      <td>AARON,  JEFFERY M</td>\n",
       "      <td>POLICE OFFICER</td>\n",
       "      <td>$84450.00</td>\n",
       "      <td>AARON</td>\n",
       "      <td>JEFFERY M</td>\n",
       "    </tr>\n",
       "    <tr>\n",
       "      <th>2</th>\n",
       "      <td>AARON,  KARINA</td>\n",
       "      <td>POLICE OFFICER</td>\n",
       "      <td>$84450.00</td>\n",
       "      <td>AARON</td>\n",
       "      <td>KARINA</td>\n",
       "    </tr>\n",
       "    <tr>\n",
       "      <th>3</th>\n",
       "      <td>AARON,  KIMBERLEI R</td>\n",
       "      <td>CHIEF CONTRACT EXPEDITER</td>\n",
       "      <td>$89880.00</td>\n",
       "      <td>AARON</td>\n",
       "      <td>KIMBERLEI R</td>\n",
       "    </tr>\n",
       "    <tr>\n",
       "      <th>4</th>\n",
       "      <td>ABAD JR,  VICENTE M</td>\n",
       "      <td>CIVIL ENGINEER IV</td>\n",
       "      <td>$106836.00</td>\n",
       "      <td>ABAD JR</td>\n",
       "      <td>VICENTE M</td>\n",
       "    </tr>\n",
       "  </tbody>\n",
       "</table>\n",
       "</div>"
      ],
      "text/plain": [
       "            First Name                 Last Name Position Title Department  \\\n",
       "0      AARON,  ELVIA J          WATER RATE TAKER      $90744.00      AARON   \n",
       "1    AARON,  JEFFERY M            POLICE OFFICER      $84450.00      AARON   \n",
       "2       AARON,  KARINA            POLICE OFFICER      $84450.00      AARON   \n",
       "3  AARON,  KIMBERLEI R  CHIEF CONTRACT EXPEDITER      $89880.00      AARON   \n",
       "4  ABAD JR,  VICENTE M         CIVIL ENGINEER IV     $106836.00    ABAD JR   \n",
       "\n",
       "  Employee Annual Salary  \n",
       "0                ELVIA J  \n",
       "1              JEFFERY M  \n",
       "2                 KARINA  \n",
       "3            KIMBERLEI R  \n",
       "4              VICENTE M  "
      ]
     },
     "execution_count": 161,
     "metadata": {},
     "output_type": "execute_result"
    }
   ],
   "source": [
    "chicago1.head()"
   ]
  },
  {
   "cell_type": "code",
   "execution_count": 119,
   "id": "bf37a6b8",
   "metadata": {},
   "outputs": [
    {
     "data": {
      "text/html": [
       "<div>\n",
       "<style scoped>\n",
       "    .dataframe tbody tr th:only-of-type {\n",
       "        vertical-align: middle;\n",
       "    }\n",
       "\n",
       "    .dataframe tbody tr th {\n",
       "        vertical-align: top;\n",
       "    }\n",
       "\n",
       "    .dataframe thead th {\n",
       "        text-align: right;\n",
       "    }\n",
       "</style>\n",
       "<table border=\"1\" class=\"dataframe\">\n",
       "  <thead>\n",
       "    <tr style=\"text-align: right;\">\n",
       "      <th></th>\n",
       "      <th>0</th>\n",
       "      <th>1</th>\n",
       "      <th>2</th>\n",
       "      <th>3</th>\n",
       "      <th>4</th>\n",
       "      <th>5</th>\n",
       "      <th>6</th>\n",
       "      <th>7</th>\n",
       "      <th>8</th>\n",
       "    </tr>\n",
       "  </thead>\n",
       "  <tbody>\n",
       "    <tr>\n",
       "      <th>0</th>\n",
       "      <td>WATER</td>\n",
       "      <td>RATE</td>\n",
       "      <td>TAKER</td>\n",
       "      <td>None</td>\n",
       "      <td>None</td>\n",
       "      <td>None</td>\n",
       "      <td>None</td>\n",
       "      <td>None</td>\n",
       "      <td>None</td>\n",
       "    </tr>\n",
       "    <tr>\n",
       "      <th>1</th>\n",
       "      <td>POLICE</td>\n",
       "      <td>OFFICER</td>\n",
       "      <td>None</td>\n",
       "      <td>None</td>\n",
       "      <td>None</td>\n",
       "      <td>None</td>\n",
       "      <td>None</td>\n",
       "      <td>None</td>\n",
       "      <td>None</td>\n",
       "    </tr>\n",
       "    <tr>\n",
       "      <th>2</th>\n",
       "      <td>POLICE</td>\n",
       "      <td>OFFICER</td>\n",
       "      <td>None</td>\n",
       "      <td>None</td>\n",
       "      <td>None</td>\n",
       "      <td>None</td>\n",
       "      <td>None</td>\n",
       "      <td>None</td>\n",
       "      <td>None</td>\n",
       "    </tr>\n",
       "    <tr>\n",
       "      <th>3</th>\n",
       "      <td>CHIEF</td>\n",
       "      <td>CONTRACT</td>\n",
       "      <td>EXPEDITER</td>\n",
       "      <td>None</td>\n",
       "      <td>None</td>\n",
       "      <td>None</td>\n",
       "      <td>None</td>\n",
       "      <td>None</td>\n",
       "      <td>None</td>\n",
       "    </tr>\n",
       "    <tr>\n",
       "      <th>4</th>\n",
       "      <td>CIVIL</td>\n",
       "      <td>ENGINEER</td>\n",
       "      <td>IV</td>\n",
       "      <td>None</td>\n",
       "      <td>None</td>\n",
       "      <td>None</td>\n",
       "      <td>None</td>\n",
       "      <td>None</td>\n",
       "      <td>None</td>\n",
       "    </tr>\n",
       "    <tr>\n",
       "      <th>...</th>\n",
       "      <td>...</td>\n",
       "      <td>...</td>\n",
       "      <td>...</td>\n",
       "      <td>...</td>\n",
       "      <td>...</td>\n",
       "      <td>...</td>\n",
       "      <td>...</td>\n",
       "      <td>...</td>\n",
       "      <td>...</td>\n",
       "    </tr>\n",
       "    <tr>\n",
       "      <th>32057</th>\n",
       "      <td>FRM</td>\n",
       "      <td>OF</td>\n",
       "      <td>MACHINISTS</td>\n",
       "      <td>-</td>\n",
       "      <td>AUTOMOTIVE</td>\n",
       "      <td>None</td>\n",
       "      <td>None</td>\n",
       "      <td>None</td>\n",
       "      <td>None</td>\n",
       "    </tr>\n",
       "    <tr>\n",
       "      <th>32058</th>\n",
       "      <td>POLICE</td>\n",
       "      <td>OFFICER</td>\n",
       "      <td>None</td>\n",
       "      <td>None</td>\n",
       "      <td>None</td>\n",
       "      <td>None</td>\n",
       "      <td>None</td>\n",
       "      <td>None</td>\n",
       "      <td>None</td>\n",
       "    </tr>\n",
       "    <tr>\n",
       "      <th>32059</th>\n",
       "      <td>POLICE</td>\n",
       "      <td>OFFICER</td>\n",
       "      <td>None</td>\n",
       "      <td>None</td>\n",
       "      <td>None</td>\n",
       "      <td>None</td>\n",
       "      <td>None</td>\n",
       "      <td>None</td>\n",
       "      <td>None</td>\n",
       "    </tr>\n",
       "    <tr>\n",
       "      <th>32060</th>\n",
       "      <td>POLICE</td>\n",
       "      <td>OFFICER</td>\n",
       "      <td>None</td>\n",
       "      <td>None</td>\n",
       "      <td>None</td>\n",
       "      <td>None</td>\n",
       "      <td>None</td>\n",
       "      <td>None</td>\n",
       "      <td>None</td>\n",
       "    </tr>\n",
       "    <tr>\n",
       "      <th>32061</th>\n",
       "      <td>CHIEF</td>\n",
       "      <td>DATA</td>\n",
       "      <td>BASE</td>\n",
       "      <td>ANALYST</td>\n",
       "      <td>None</td>\n",
       "      <td>None</td>\n",
       "      <td>None</td>\n",
       "      <td>None</td>\n",
       "      <td>None</td>\n",
       "    </tr>\n",
       "  </tbody>\n",
       "</table>\n",
       "<p>32062 rows × 9 columns</p>\n",
       "</div>"
      ],
      "text/plain": [
       "            0         1           2        3           4     5     6     7  \\\n",
       "0       WATER      RATE       TAKER     None        None  None  None  None   \n",
       "1      POLICE   OFFICER        None     None        None  None  None  None   \n",
       "2      POLICE   OFFICER        None     None        None  None  None  None   \n",
       "3       CHIEF  CONTRACT   EXPEDITER     None        None  None  None  None   \n",
       "4       CIVIL  ENGINEER          IV     None        None  None  None  None   \n",
       "...       ...       ...         ...      ...         ...   ...   ...   ...   \n",
       "32057     FRM        OF  MACHINISTS        -  AUTOMOTIVE  None  None  None   \n",
       "32058  POLICE   OFFICER        None     None        None  None  None  None   \n",
       "32059  POLICE   OFFICER        None     None        None  None  None  None   \n",
       "32060  POLICE   OFFICER        None     None        None  None  None  None   \n",
       "32061   CHIEF      DATA        BASE  ANALYST        None  None  None  None   \n",
       "\n",
       "          8  \n",
       "0      None  \n",
       "1      None  \n",
       "2      None  \n",
       "3      None  \n",
       "4      None  \n",
       "...     ...  \n",
       "32057  None  \n",
       "32058  None  \n",
       "32059  None  \n",
       "32060  None  \n",
       "32061  None  \n",
       "\n",
       "[32062 rows x 9 columns]"
      ]
     },
     "execution_count": 119,
     "metadata": {},
     "output_type": "execute_result"
    }
   ],
   "source": [
    "chicago1['Position Title'].str.split(' ', expand = True)"
   ]
  },
  {
   "cell_type": "code",
   "execution_count": 121,
   "id": "535d5d41",
   "metadata": {},
   "outputs": [
    {
     "data": {
      "text/html": [
       "<div>\n",
       "<style scoped>\n",
       "    .dataframe tbody tr th:only-of-type {\n",
       "        vertical-align: middle;\n",
       "    }\n",
       "\n",
       "    .dataframe tbody tr th {\n",
       "        vertical-align: top;\n",
       "    }\n",
       "\n",
       "    .dataframe thead th {\n",
       "        text-align: right;\n",
       "    }\n",
       "</style>\n",
       "<table border=\"1\" class=\"dataframe\">\n",
       "  <thead>\n",
       "    <tr style=\"text-align: right;\">\n",
       "      <th></th>\n",
       "      <th>0</th>\n",
       "      <th>1</th>\n",
       "    </tr>\n",
       "  </thead>\n",
       "  <tbody>\n",
       "    <tr>\n",
       "      <th>0</th>\n",
       "      <td>WATER</td>\n",
       "      <td>RATE TAKER</td>\n",
       "    </tr>\n",
       "    <tr>\n",
       "      <th>1</th>\n",
       "      <td>POLICE</td>\n",
       "      <td>OFFICER</td>\n",
       "    </tr>\n",
       "    <tr>\n",
       "      <th>2</th>\n",
       "      <td>POLICE</td>\n",
       "      <td>OFFICER</td>\n",
       "    </tr>\n",
       "    <tr>\n",
       "      <th>3</th>\n",
       "      <td>CHIEF</td>\n",
       "      <td>CONTRACT EXPEDITER</td>\n",
       "    </tr>\n",
       "    <tr>\n",
       "      <th>4</th>\n",
       "      <td>CIVIL</td>\n",
       "      <td>ENGINEER IV</td>\n",
       "    </tr>\n",
       "    <tr>\n",
       "      <th>...</th>\n",
       "      <td>...</td>\n",
       "      <td>...</td>\n",
       "    </tr>\n",
       "    <tr>\n",
       "      <th>32057</th>\n",
       "      <td>FRM</td>\n",
       "      <td>OF MACHINISTS - AUTOMOTIVE</td>\n",
       "    </tr>\n",
       "    <tr>\n",
       "      <th>32058</th>\n",
       "      <td>POLICE</td>\n",
       "      <td>OFFICER</td>\n",
       "    </tr>\n",
       "    <tr>\n",
       "      <th>32059</th>\n",
       "      <td>POLICE</td>\n",
       "      <td>OFFICER</td>\n",
       "    </tr>\n",
       "    <tr>\n",
       "      <th>32060</th>\n",
       "      <td>POLICE</td>\n",
       "      <td>OFFICER</td>\n",
       "    </tr>\n",
       "    <tr>\n",
       "      <th>32061</th>\n",
       "      <td>CHIEF</td>\n",
       "      <td>DATA BASE ANALYST</td>\n",
       "    </tr>\n",
       "  </tbody>\n",
       "</table>\n",
       "<p>32062 rows × 2 columns</p>\n",
       "</div>"
      ],
      "text/plain": [
       "            0                           1\n",
       "0       WATER                  RATE TAKER\n",
       "1      POLICE                     OFFICER\n",
       "2      POLICE                     OFFICER\n",
       "3       CHIEF          CONTRACT EXPEDITER\n",
       "4       CIVIL                 ENGINEER IV\n",
       "...       ...                         ...\n",
       "32057     FRM  OF MACHINISTS - AUTOMOTIVE\n",
       "32058  POLICE                     OFFICER\n",
       "32059  POLICE                     OFFICER\n",
       "32060  POLICE                     OFFICER\n",
       "32061   CHIEF           DATA BASE ANALYST\n",
       "\n",
       "[32062 rows x 2 columns]"
      ]
     },
     "execution_count": 121,
     "metadata": {},
     "output_type": "execute_result"
    }
   ],
   "source": [
    "chicago1['Position Title'].str.split(' ', expand = True, n = 1) #the n argument reffers to the number of splits"
   ]
  },
  {
   "cell_type": "code",
   "execution_count": null,
   "id": "9c43f859",
   "metadata": {},
   "outputs": [],
   "source": []
  },
  {
   "cell_type": "code",
   "execution_count": null,
   "id": "be20177d",
   "metadata": {},
   "outputs": [],
   "source": []
  },
  {
   "cell_type": "code",
   "execution_count": null,
   "id": "a88a9a1a",
   "metadata": {},
   "outputs": [],
   "source": []
  },
  {
   "cell_type": "code",
   "execution_count": null,
   "id": "78b5483d",
   "metadata": {},
   "outputs": [],
   "source": []
  },
  {
   "cell_type": "code",
   "execution_count": null,
   "id": "3ddbe9ca",
   "metadata": {},
   "outputs": [],
   "source": []
  },
  {
   "cell_type": "code",
   "execution_count": null,
   "id": "bfae36de",
   "metadata": {},
   "outputs": [],
   "source": []
  },
  {
   "cell_type": "code",
   "execution_count": null,
   "id": "1b542186",
   "metadata": {},
   "outputs": [],
   "source": []
  },
  {
   "cell_type": "code",
   "execution_count": null,
   "id": "d2ea0855",
   "metadata": {},
   "outputs": [],
   "source": []
  },
  {
   "cell_type": "code",
   "execution_count": null,
   "id": "58ce3a83",
   "metadata": {},
   "outputs": [],
   "source": []
  },
  {
   "cell_type": "code",
   "execution_count": null,
   "id": "8fdee0b1",
   "metadata": {},
   "outputs": [],
   "source": []
  },
  {
   "cell_type": "code",
   "execution_count": null,
   "id": "19d0f9e6",
   "metadata": {},
   "outputs": [],
   "source": []
  },
  {
   "cell_type": "code",
   "execution_count": null,
   "id": "3b33fc13",
   "metadata": {},
   "outputs": [],
   "source": []
  },
  {
   "cell_type": "code",
   "execution_count": null,
   "id": "0d8fe0d0",
   "metadata": {},
   "outputs": [],
   "source": []
  },
  {
   "cell_type": "code",
   "execution_count": null,
   "id": "f48e7c36",
   "metadata": {},
   "outputs": [],
   "source": []
  },
  {
   "cell_type": "code",
   "execution_count": null,
   "id": "4dd52e0e",
   "metadata": {},
   "outputs": [],
   "source": []
  },
  {
   "cell_type": "code",
   "execution_count": null,
   "id": "97da6912",
   "metadata": {},
   "outputs": [],
   "source": []
  },
  {
   "cell_type": "code",
   "execution_count": null,
   "id": "902c13bd",
   "metadata": {},
   "outputs": [],
   "source": []
  },
  {
   "cell_type": "code",
   "execution_count": null,
   "id": "c42bfdfe",
   "metadata": {},
   "outputs": [],
   "source": []
  },
  {
   "cell_type": "code",
   "execution_count": null,
   "id": "5958c700",
   "metadata": {},
   "outputs": [],
   "source": []
  },
  {
   "cell_type": "code",
   "execution_count": null,
   "id": "3d4a3037",
   "metadata": {},
   "outputs": [],
   "source": []
  },
  {
   "cell_type": "code",
   "execution_count": null,
   "id": "6bf58e31",
   "metadata": {},
   "outputs": [],
   "source": []
  },
  {
   "cell_type": "code",
   "execution_count": null,
   "id": "674afec6",
   "metadata": {},
   "outputs": [],
   "source": []
  },
  {
   "cell_type": "code",
   "execution_count": null,
   "id": "e3970daf",
   "metadata": {},
   "outputs": [],
   "source": []
  },
  {
   "cell_type": "code",
   "execution_count": null,
   "id": "8d9993e3",
   "metadata": {},
   "outputs": [],
   "source": []
  },
  {
   "cell_type": "code",
   "execution_count": null,
   "id": "80abc8af",
   "metadata": {},
   "outputs": [],
   "source": []
  },
  {
   "cell_type": "code",
   "execution_count": null,
   "id": "8f391c7e",
   "metadata": {},
   "outputs": [],
   "source": []
  },
  {
   "cell_type": "code",
   "execution_count": null,
   "id": "316ce36a",
   "metadata": {},
   "outputs": [],
   "source": []
  },
  {
   "cell_type": "code",
   "execution_count": null,
   "id": "f1988e32",
   "metadata": {},
   "outputs": [],
   "source": []
  },
  {
   "cell_type": "code",
   "execution_count": null,
   "id": "965f8ea0",
   "metadata": {},
   "outputs": [],
   "source": []
  },
  {
   "cell_type": "code",
   "execution_count": null,
   "id": "5bf186b1",
   "metadata": {},
   "outputs": [],
   "source": []
  },
  {
   "cell_type": "code",
   "execution_count": null,
   "id": "29484bd4",
   "metadata": {},
   "outputs": [],
   "source": []
  },
  {
   "cell_type": "code",
   "execution_count": null,
   "id": "fb9e3f50",
   "metadata": {},
   "outputs": [],
   "source": []
  },
  {
   "cell_type": "code",
   "execution_count": null,
   "id": "d776fe46",
   "metadata": {},
   "outputs": [],
   "source": []
  },
  {
   "cell_type": "code",
   "execution_count": null,
   "id": "d385e382",
   "metadata": {},
   "outputs": [],
   "source": []
  },
  {
   "cell_type": "code",
   "execution_count": null,
   "id": "d593c013",
   "metadata": {},
   "outputs": [],
   "source": []
  },
  {
   "cell_type": "code",
   "execution_count": null,
   "id": "d8121233",
   "metadata": {},
   "outputs": [],
   "source": []
  },
  {
   "cell_type": "code",
   "execution_count": null,
   "id": "6ad52eff",
   "metadata": {},
   "outputs": [],
   "source": []
  },
  {
   "cell_type": "code",
   "execution_count": null,
   "id": "c3a80c36",
   "metadata": {},
   "outputs": [],
   "source": []
  },
  {
   "cell_type": "code",
   "execution_count": null,
   "id": "488554ab",
   "metadata": {},
   "outputs": [],
   "source": []
  },
  {
   "cell_type": "code",
   "execution_count": null,
   "id": "76863be0",
   "metadata": {},
   "outputs": [],
   "source": []
  }
 ],
 "metadata": {
  "kernelspec": {
   "display_name": "Python 3",
   "language": "python",
   "name": "python3"
  },
  "language_info": {
   "codemirror_mode": {
    "name": "ipython",
    "version": 3
   },
   "file_extension": ".py",
   "mimetype": "text/x-python",
   "name": "python",
   "nbconvert_exporter": "python",
   "pygments_lexer": "ipython3",
   "version": "3.8.8"
  }
 },
 "nbformat": 4,
 "nbformat_minor": 5
}
